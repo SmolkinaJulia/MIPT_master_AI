{
  "nbformat": 4,
  "nbformat_minor": 0,
  "metadata": {
    "kernelspec": {
      "display_name": "Python 3",
      "language": "python",
      "name": "python3"
    },
    "language_info": {
      "codemirror_mode": {
        "name": "ipython",
        "version": 3
      },
      "file_extension": ".py",
      "mimetype": "text/x-python",
      "name": "python",
      "nbconvert_exporter": "python",
      "pygments_lexer": "ipython3",
      "version": "3.6.9"
    },
    "colab": {
      "name": "sem9.ipynb",
      "provenance": []
    }
  },
  "cells": [
    {
      "cell_type": "markdown",
      "metadata": {
        "id": "pf0JjRx_SzDS"
      },
      "source": [
        "## Вступление\n",
        "\n",
        "Всем привет! На сегодняшнем семинаре мы познакомимся с библиотекой **pytorch**. Он очень похож на numpy, с одним лишь отличием (на самом деле их больше, но сейчас мы поговорим про самое главное) -- pytorch может считать градиенты за вас. Таким образом вам не надо будет руками писать обратный проход в нейросетях. \n",
        "\n",
        "#### Семинар построен следующим образом:\n",
        "\n",
        "1. Вспоминаем numpy и сравниваем операции в pytorch\n",
        "2. Создаем тензоры в pytorch\n",
        "3. Работаем с градиентами руками\n",
        "4. Моя первая нейросеть "
      ]
    },
    {
      "cell_type": "markdown",
      "metadata": {
        "id": "xk1E0d76SzDV"
      },
      "source": [
        "### 1. Вспоминаем numpy и сравниваем операции в pytorch\n",
        "\n",
        "Мы можем создавать матрицы, перемножать их, складывать, транспонировать и в целом совершать любые матричные операции"
      ]
    },
    {
      "cell_type": "code",
      "metadata": {
        "id": "qTHK4PBtSzDW"
      },
      "source": [
        "import numpy as np \n",
        "import torch\n",
        "import torchvision\n",
        "import matplotlib.pyplot as plt\n",
        "import torch.nn as nn\n",
        "import torch.nn.functional as F\n",
        "\n",
        "from sklearn.datasets import load_boston\n",
        "from tqdm.notebook import tqdm\n",
        "\n",
        "%matplotlib inline"
      ],
      "execution_count": 1,
      "outputs": []
    },
    {
      "cell_type": "code",
      "metadata": {
        "id": "ld1vzRoxSzDY"
      },
      "source": [
        "a = np.random.rand(5, 3) # создали случайную матрицу \n",
        "a"
      ],
      "execution_count": null,
      "outputs": []
    },
    {
      "cell_type": "code",
      "metadata": {
        "id": "6slO6Nd4SzDZ"
      },
      "source": [
        "print(\"Проверили размеры : %s\\n\" % (a.shape,))"
      ],
      "execution_count": null,
      "outputs": []
    },
    {
      "cell_type": "code",
      "metadata": {
        "id": "tmKjmemzSzDZ"
      },
      "source": [
        "print(\"Добавили 5 :\\n%s\\n\" % (a + 5))"
      ],
      "execution_count": null,
      "outputs": []
    },
    {
      "cell_type": "code",
      "metadata": {
        "id": "-eXL1UPwSzDa"
      },
      "source": [
        "print(\"X*X^T  :\\n%s\\n\" % np.dot(a, a.T))"
      ],
      "execution_count": null,
      "outputs": []
    },
    {
      "cell_type": "code",
      "metadata": {
        "id": "JYyeIthaSzDb"
      },
      "source": [
        "print(\"Среднее по колонкам :\\n%s\\n\" % (a.mean(axis=-1)))"
      ],
      "execution_count": null,
      "outputs": []
    },
    {
      "cell_type": "code",
      "metadata": {
        "id": "G5Ay1LBrSzDb"
      },
      "source": [
        "print(\"Изменили размеры :\\n%s\\n\" % (a.reshape(3, 5).shape,))"
      ],
      "execution_count": null,
      "outputs": []
    },
    {
      "cell_type": "markdown",
      "metadata": {
        "id": "mZ1GRR3MSzDb"
      },
      "source": [
        "#### Разминка.\n",
        "\n",
        "При помощи numpy посчитайте сумму квадратов натуральных чисел от 1 до 10000."
      ]
    },
    {
      "cell_type": "code",
      "metadata": {
        "id": "URCbGqB8SzDc"
      },
      "source": [
        "# YOUR CODE"
      ],
      "execution_count": null,
      "outputs": []
    },
    {
      "cell_type": "markdown",
      "metadata": {
        "id": "NDQT3H9BSzDc"
      },
      "source": [
        "Аналогичные операции в **pytorch** выглядят следующим образом, синтаксис отличается, но совсем немного:"
      ]
    },
    {
      "cell_type": "code",
      "metadata": {
        "id": "vFgL3jgzSzDc"
      },
      "source": [
        "x = torch.rand(5, 3)\n",
        "x"
      ],
      "execution_count": null,
      "outputs": []
    },
    {
      "cell_type": "code",
      "metadata": {
        "id": "I1Ar_QI4SzDd"
      },
      "source": [
        "print(\"Проверили размеры : %s\\n\" % (x.shape,))"
      ],
      "execution_count": null,
      "outputs": []
    },
    {
      "cell_type": "code",
      "metadata": {
        "id": "P2bL8KrLSzDd"
      },
      "source": [
        "print(\"Добавили 5 :\\n%s\\n\" % (x + 5))"
      ],
      "execution_count": null,
      "outputs": []
    },
    {
      "cell_type": "code",
      "metadata": {
        "id": "VLbgGvLaSzDd"
      },
      "source": [
        "print(\"X*X^T  (1):\\n%s\\n\" % (torch.matmul(x, x.transpose(1, 0))))\n",
        "print(\"X*X^T  (2):\\n%s\\n\" % (x.mm(x.t())))"
      ],
      "execution_count": null,
      "outputs": []
    },
    {
      "cell_type": "code",
      "metadata": {
        "id": "WXfeW7x1SzDe"
      },
      "source": [
        "print(\"Среднее по колонкам :\\n%s\\n\" % (x.mean(dim=-1)))"
      ],
      "execution_count": null,
      "outputs": []
    },
    {
      "cell_type": "code",
      "metadata": {
        "id": "PwtQcWZbSzDf"
      },
      "source": [
        "print(\"Изменили размеры :\\n%s\\n\" % (x.view([3, 5]).shape,))\n",
        "print(\"Изменили размеры :\\n%s\\n\" % (x.view_as(x.t()).shape,))"
      ],
      "execution_count": null,
      "outputs": []
    },
    {
      "cell_type": "markdown",
      "metadata": {
        "id": "-OCcUgv8SzDf"
      },
      "source": [
        "Небольшой пример того, как меняются операции:\n",
        "\n",
        "* `x.reshape([1,2,8]) -> x.view(1,2,8)`\n",
        "\n",
        "* `x.sum(axis=-1) -> x.sum(dim=-1)`\n",
        "\n",
        "* `x.astype('int64') -> x.type(torch.LongTensor)`\n",
        "\n",
        "Для помощи вам есть [таблица](https://github.com/torch/torch7/wiki/Torch-for-Numpy-users), которая поможет вам найти аналог операции в numpy\n"
      ]
    },
    {
      "cell_type": "markdown",
      "metadata": {
        "id": "pD-FHq1ZSzDg"
      },
      "source": [
        "#### Разминка на pytorch\n",
        "\n",
        "При помощи pytorch посчитайте сумму квадратов натуральных чисел от 1 до 10000."
      ]
    },
    {
      "cell_type": "code",
      "metadata": {
        "id": "CpyENfPUSzDh"
      },
      "source": [
        "# YOUR CODE"
      ],
      "execution_count": null,
      "outputs": []
    },
    {
      "cell_type": "markdown",
      "metadata": {
        "id": "MCYo5dB0SzDh"
      },
      "source": [
        "### 2. Создаем тензоры в pytorch и снова изучаем базовые операции"
      ]
    },
    {
      "cell_type": "code",
      "metadata": {
        "id": "aZhLor-mSzDh"
      },
      "source": [
        "x = torch.empty(5, 3) # пустой тензор\n",
        "print(x)"
      ],
      "execution_count": null,
      "outputs": []
    },
    {
      "cell_type": "code",
      "metadata": {
        "id": "_0OcvuIKSzDi"
      },
      "source": [
        "x = torch.rand(5, 3) # тензор со случайными числами\n",
        "print(x)"
      ],
      "execution_count": null,
      "outputs": []
    },
    {
      "cell_type": "code",
      "metadata": {
        "id": "UrfG0GHYSzDi"
      },
      "source": [
        "x = torch.zeros(5, 3, dtype=torch.long) # тензор с нулями и указанием типов чисел\n",
        "print(x)"
      ],
      "execution_count": null,
      "outputs": []
    },
    {
      "cell_type": "code",
      "metadata": {
        "id": "YWvwXRrKSzDj"
      },
      "source": [
        "x = torch.tensor([5.5, 3]) # конструируем тензор из питоновского листа\n",
        "print(x)"
      ],
      "execution_count": null,
      "outputs": []
    },
    {
      "cell_type": "code",
      "metadata": {
        "id": "Qg6fFj2kSzDk"
      },
      "source": [
        "x = x.new_ones(5, 3, dtype=torch.double) # используем уже созданный тензор для создания тензора из единичек\n",
        "print(x, x.size()) "
      ],
      "execution_count": null,
      "outputs": []
    },
    {
      "cell_type": "code",
      "metadata": {
        "id": "9tjAYJVrSzDk"
      },
      "source": [
        "x = torch.randn_like(x, dtype=torch.float) # создаем матрицу с размерами как у x\n",
        "print(x, x.size())"
      ],
      "execution_count": null,
      "outputs": []
    },
    {
      "cell_type": "code",
      "metadata": {
        "id": "kV_EMT-tSzDl"
      },
      "source": [
        "y = torch.rand(5, 3)\n",
        "print(x + y) # операция сложение"
      ],
      "execution_count": null,
      "outputs": []
    },
    {
      "cell_type": "code",
      "metadata": {
        "id": "-eHsa-s3SzDl"
      },
      "source": [
        "z = torch.add(x, y) # очередная операция сложения\n",
        "print(z)"
      ],
      "execution_count": null,
      "outputs": []
    },
    {
      "cell_type": "code",
      "metadata": {
        "id": "dqat-rhjSzDm"
      },
      "source": [
        "torch.add(x, y, out=z) # и наконец последний вид\n",
        "print(z)"
      ],
      "execution_count": null,
      "outputs": []
    },
    {
      "cell_type": "code",
      "metadata": {
        "id": "Fu1dy3c3SzDm"
      },
      "source": [
        "print(x * y) # поэлементное умножение"
      ],
      "execution_count": null,
      "outputs": []
    },
    {
      "cell_type": "code",
      "metadata": {
        "id": "ej7NBzZISzDn"
      },
      "source": [
        "print(x @ y.t()) # матричное умножение"
      ],
      "execution_count": null,
      "outputs": []
    },
    {
      "cell_type": "code",
      "metadata": {
        "id": "sGHv5iM7SzDn"
      },
      "source": [
        "print(x.mm(y.t())) # и опять матричное умножение"
      ],
      "execution_count": null,
      "outputs": []
    },
    {
      "cell_type": "code",
      "metadata": {
        "id": "FhPasyo4SzDo"
      },
      "source": [
        "print(x.unsqueeze(0).shape) # добавили измерение в начало, аналог броадкастинга "
      ],
      "execution_count": null,
      "outputs": []
    },
    {
      "cell_type": "code",
      "metadata": {
        "id": "SheU-d8xSzDo"
      },
      "source": [
        "print(x.unsqueeze(0).squeeze(0).shape) # убрали измерение в начале, аналог броадкастинга "
      ],
      "execution_count": null,
      "outputs": []
    },
    {
      "cell_type": "markdown",
      "metadata": {
        "id": "VvrkyhcWSzDo"
      },
      "source": [
        "Мы также можем делать обычные срезы и переводить матрицы назад в numpy:"
      ]
    },
    {
      "cell_type": "code",
      "metadata": {
        "colab": {
          "base_uri": "https://localhost:8080/"
        },
        "id": "1JNtk5H6SzDp",
        "outputId": "2e29504c-75e6-4a16-9edc-b8536e122744"
      },
      "source": [
        "a = np.ones((3, 5))\n",
        "x = torch.ones((3, 5))\n",
        "print(np.allclose(x.numpy(), a))\n",
        "print(np.allclose(x.numpy()[:, 1], a[:, 1]))"
      ],
      "execution_count": 4,
      "outputs": [
        {
          "output_type": "stream",
          "name": "stdout",
          "text": [
            "True\n",
            "True\n"
          ]
        }
      ]
    },
    {
      "cell_type": "markdown",
      "metadata": {
        "id": "BLEDRaMcSzDp"
      },
      "source": [
        "### 3. Работаем с градиентами руками"
      ]
    },
    {
      "cell_type": "code",
      "metadata": {
        "colab": {
          "base_uri": "https://localhost:8080/",
          "height": 282
        },
        "id": "jZDtS_aeSzDq",
        "outputId": "7701813a-ea93-4101-880a-92e879c088b4"
      },
      "source": [
        "boston = load_boston()\n",
        "plt.scatter(boston.data[:, -1], boston.target)"
      ],
      "execution_count": 5,
      "outputs": [
        {
          "output_type": "execute_result",
          "data": {
            "text/plain": [
              "<matplotlib.collections.PathCollection at 0x7fa2e1496f10>"
            ]
          },
          "metadata": {},
          "execution_count": 5
        },
        {
          "output_type": "display_data",
          "data": {
            "image/png": "[encoded data removed]",
            "text/plain": [
              "<Figure size 432x288 with 1 Axes>"
            ]
          },
          "metadata": {
            "needs_background": "light"
          }
        }
      ]
    },
    {
      "cell_type": "markdown",
      "metadata": {
        "id": "gICF1CjNSzDq"
      },
      "source": [
        "В pytorch есть возможность при создании тензора указывать нужно ли считать по нему градиент или нет, с помощью параметра `requires_grad`. Когда `requires_grad=True` мы сообщаем фреймворку, о том, что мы хотим следить за всеми тензорами, которые получаются из созданного. Иными словами, у любого тензора, у которого указан данный параметр, будет доступ к цепочке операций и преобразований совершенными с ними. Если эти функции дифференцируемые, то у тензора появляется параметр `.grad`, в котором хранится значение градиента."
      ]
    },
    {
      "cell_type": "markdown",
      "metadata": {
        "id": "eqf7456DSzDq"
      },
      "source": [
        "![torch_grad.png](attachment:torch_grad.png)"
      ]
    },
    {
      "cell_type": "markdown",
      "metadata": {
        "id": "9Lchd4UFSzDq"
      },
      "source": [
        "Если к результирующему тензору применить метод `.backward()`, то фреймворк посчитает по цепочке градиенту для всех тензоров, у которых `requires_grad=True`."
      ]
    },
    {
      "cell_type": "code",
      "metadata": {
        "id": "M9Ed-XqZSzDr"
      },
      "source": [
        "w = torch.rand(1, requires_grad=True)\n",
        "b = torch.rand(1, requires_grad=True)\n",
        "\n",
        "x = torch.tensor(boston.data[:, -1] / boston.data[:, -1].max(), dtype=torch.float32)\n",
        "y = torch.tensor(boston.target, dtype=torch.float32)\n",
        "\n",
        "assert w.grad is None # только создали тензоры и в них нет градиентов\n",
        "assert b.grad is None"
      ],
      "execution_count": 6,
      "outputs": []
    },
    {
      "cell_type": "code",
      "metadata": {
        "id": "42s_VLDzSzDr"
      },
      "source": [
        "y_pred = w * x + b                 # и опять совершаем операции с тензорами\n",
        "loss = torch.mean((y_pred - y)**2) # совершаем операции с тензорами\n",
        "loss.backward()                    # считаем градиенты"
      ],
      "execution_count": 7,
      "outputs": []
    },
    {
      "cell_type": "code",
      "metadata": {
        "colab": {
          "base_uri": "https://localhost:8080/"
        },
        "id": "7-9YKiUSSzDs",
        "outputId": "78830c55-70a6-4b34-f95d-e840a7440386"
      },
      "source": [
        "assert w.grad is not None # сделали операции и посчитали градиенты, значение должно было появится\n",
        "assert b.grad is not None\n",
        "\n",
        "print(\"dL/dw = \\n\", w.grad)\n",
        "print(\"dL/db = \\n\", b.grad)"
      ],
      "execution_count": 8,
      "outputs": [
        {
          "output_type": "stream",
          "name": "stdout",
          "text": [
            "dL/dw = \n",
            " tensor([-12.0335])\n",
            "dL/db = \n",
            " tensor([-43.8109])\n"
          ]
        }
      ]
    },
    {
      "cell_type": "markdown",
      "metadata": {
        "id": "23yrt86kSzDt"
      },
      "source": [
        "__Ремарка__. Для доступа к значениям в тензоре используйте атрибут `.data`:"
      ]
    },
    {
      "cell_type": "code",
      "metadata": {
        "colab": {
          "base_uri": "https://localhost:8080/"
        },
        "id": "whfw8oWxSzDt",
        "outputId": "5ed002f8-cc5a-444c-dd07-b08e538d9b30"
      },
      "source": [
        "w.data"
      ],
      "execution_count": 10,
      "outputs": [
        {
          "output_type": "execute_result",
          "data": {
            "text/plain": [
              "tensor([0.2705])"
            ]
          },
          "metadata": {},
          "execution_count": 10
        }
      ]
    },
    {
      "cell_type": "code",
      "metadata": {
        "colab": {
          "base_uri": "https://localhost:8080/",
          "height": 282
        },
        "id": "CXK4aomZSzDu",
        "outputId": "6904db0c-a5fb-4c46-a885-82acbebea143"
      },
      "source": [
        "from IPython.display import clear_output\n",
        "\n",
        "for i in range(100):\n",
        "\n",
        "    y_pred = w * x + b\n",
        "    # попробуйте сделать полиномиальную регрессию в данном предсказании и посчитать градиенты после\n",
        "    loss = torch.mean((y_pred - y)**2)\n",
        "    loss.backward()\n",
        "\n",
        "    # делаем шаг градиентного спуска с lr = .05\n",
        "    w.data -= 0.05*w.grad\n",
        "    b.data -= 0.05*b.grad\n",
        "\n",
        "    # обнуляем градиенты, чтобы на следующем шаге опять посчитать и не аккумулировать их\n",
        "    w.grad.data.zero_()\n",
        "    b.grad.data.zero_()\n",
        "\n",
        "    # рисуем картинки\n",
        "    if (i+1) % 5 == 0:\n",
        "        clear_output(True)\n",
        "        plt.scatter(x.data.numpy(), y.data.numpy())\n",
        "        plt.scatter(x.data.numpy(), y_pred.data.numpy(),\n",
        "                    color='orange', linewidth=5)\n",
        "        plt.show()\n",
        "\n",
        "        print(\"loss = \", loss.data.numpy())\n",
        "        if loss.data.numpy() < 0.5:\n",
        "            print(\"Done!\")\n",
        "            break\n"
      ],
      "execution_count": 11,
      "outputs": [
        {
          "output_type": "display_data",
          "data": {
            "image/png": "[encoded data removed]",
            "text/plain": [
              "<Figure size 432x288 with 1 Axes>"
            ]
          },
          "metadata": {
            "needs_background": "light"
          }
        },
        {
          "output_type": "stream",
          "name": "stdout",
          "text": [
            "loss =  73.148476\n"
          ]
        }
      ]
    },
    {
      "cell_type": "markdown",
      "metadata": {
        "id": "z_GC_A3bSzDu"
      },
      "source": [
        "### 4. Моя первая нейросеть"
      ]
    },
    {
      "cell_type": "markdown",
      "metadata": {
        "id": "Gy0ZygOiSzDu"
      },
      "source": [
        "Для того, чтобы разобраться как обучать нейросите в pytorch, нужно освоить три вещи: \n",
        "\n",
        "1. Как формировать батчи и пихать их в сетку\n",
        "2. Как сделать сетку\n",
        "3. Как написать цикл обучения и отслеживать метрики"
      ]
    },
    {
      "cell_type": "markdown",
      "metadata": {
        "id": "f8I7PNHeSzDu"
      },
      "source": [
        "#### Как формировать батчи и пихать их в сетку\n",
        "\n",
        "Чтобы в данном фреймворке иметь возможность итерироваться по данным и применять к ним преобразования, например, аугментации, о которых вы узнаете позже -- нужно создать свой класс унаследованный от `torch.utils.data.Dataset`.\n",
        "\n",
        "Вот пример из документации:\n",
        "\n",
        "```\n",
        "class FaceLandmarksDataset(torch.utils.data.Dataset):\n",
        "    \"\"\"Face Landmarks dataset.\"\"\"\n",
        "\n",
        "    def __init__(self, csv_file, root_dir, transform=None):\n",
        "        \"\"\"\n",
        "        Args:\n",
        "            csv_file (string): Path to the csv file with annotations.\n",
        "            root_dir (string): Directory with all the images.\n",
        "            transform (callable, optional): Optional transform to be applied\n",
        "                on a sample.\n",
        "        \"\"\"\n",
        "        self.landmarks_frame = pd.read_csv(csv_file)\n",
        "        self.root_dir = root_dir\n",
        "        self.transform = transform\n",
        "\n",
        "    def __len__(self):\n",
        "        return len(self.landmarks_frame)\n",
        "\n",
        "    def __getitem__(self, idx):\n",
        "        if torch.is_tensor(idx):\n",
        "            idx = idx.tolist()\n",
        "\n",
        "        img_name = os.path.join(self.root_dir,\n",
        "                                self.landmarks_frame.iloc[idx, 0])\n",
        "        image = io.imread(img_name)\n",
        "        landmarks = self.landmarks_frame.iloc[idx, 1:]\n",
        "        landmarks = np.array([landmarks])\n",
        "        landmarks = landmarks.astype('float').reshape(-1, 2)\n",
        "        sample = {'image': image, 'landmarks': landmarks}\n",
        "\n",
        "        if self.transform:\n",
        "            sample = self.transform(sample)\n",
        "\n",
        "        return sample\n",
        "```\n",
        "\n",
        "Как вы видите, у такого класса **должно быть** два метода: \n",
        "\n",
        "* `__len__` -- возвращает информацию о том, сколько объектов у нас в датасете\n",
        "* `__getitem__` -- возвращает семпл и таргет к нему\n",
        "\n",
        "\n",
        "Теперь давайте напишем такой сами, в качестве датасета сгенерируем рандомные данные."
      ]
    },
    {
      "cell_type": "code",
      "metadata": {
        "id": "IWreUO9YSzDv"
      },
      "source": [
        "class RandomDataset(torch.utils.data.Dataset):\n",
        "    \"\"\"Our random dataset\"\"\"\n",
        "    \n",
        "    def __init__(self, x, y):\n",
        "        self.x=x\n",
        "        self.y=y\n",
        "        \n",
        "    def __len__(self):\n",
        "        return len(self.x)\n",
        "    \n",
        "    def __getitem__(self, idx):\n",
        "        return {'sample': torch.tensor(x[idx, :], dtype=torch.float), 'target': y[idx]}"
      ],
      "execution_count": null,
      "outputs": []
    },
    {
      "cell_type": "code",
      "metadata": {
        "id": "wCb7FdcCSzDv"
      },
      "source": [
        "x = np.random.rand(1000, 5)\n",
        "y = np.random.rand(1000)"
      ],
      "execution_count": null,
      "outputs": []
    },
    {
      "cell_type": "code",
      "metadata": {
        "id": "2QTevyraSzDv"
      },
      "source": [
        "our_dataset = RandomDataset(x, y)"
      ],
      "execution_count": null,
      "outputs": []
    },
    {
      "cell_type": "code",
      "metadata": {
        "id": "M0ss43ZSSzDv"
      },
      "source": [
        "our_dataset.__getitem__(1)"
      ],
      "execution_count": null,
      "outputs": []
    },
    {
      "cell_type": "markdown",
      "metadata": {
        "id": "vvTXBNY2SzDv"
      },
      "source": [
        "Для того, чтобы из данных получать батчи в pytorch используется такая сущность как даталоадер, который принимает на вход класс унаследованный от `torch.utils.data.Dataset`. Сейчас посмотрим на пример:"
      ]
    },
    {
      "cell_type": "code",
      "metadata": {
        "id": "si7Xyn6wSzDw"
      },
      "source": [
        "dataloader = torch.utils.data.DataLoader(our_dataset, batch_size=4)"
      ],
      "execution_count": null,
      "outputs": []
    },
    {
      "cell_type": "markdown",
      "metadata": {
        "id": "7UZF40awSzDw"
      },
      "source": [
        "Работают с ним следующим образом:"
      ]
    },
    {
      "cell_type": "code",
      "metadata": {
        "id": "BFT81h5OSzDw"
      },
      "source": [
        "for batch in dataloader:\n",
        "    batch_x = batch['sample']\n",
        "    batch_y = batch['target']\n",
        "    break\n",
        "print('Sample:', batch_x)\n",
        "print('Target:', batch_y)"
      ],
      "execution_count": null,
      "outputs": []
    },
    {
      "cell_type": "markdown",
      "metadata": {
        "id": "2R0koXd0SzDx"
      },
      "source": [
        "#### Как сделать сетку"
      ]
    },
    {
      "cell_type": "markdown",
      "metadata": {
        "id": "ZZr9DTT7SzDx"
      },
      "source": [
        "Для того, чтобы в high-level pytorch создавать нейросети используется модуль `nn`. Нейросеть должна быть унаследована от класса `nn.Module`. Пример как это может выглядеть:\n",
        "\n",
        "```\n",
        "class Model(nn.Module):\n",
        "    def __init__(self):\n",
        "        super(Model, self).__init__()\n",
        "        self.conv1 = nn.Conv2d(1, 20, 5)\n",
        "        self.conv2 = nn.Conv2d(20, 20, 5)\n",
        "\n",
        "    def forward(self, x):\n",
        "       x = F.relu(self.conv1(x))\n",
        "       return F.relu(self.conv2(x))\n",
        "```\n",
        "\n",
        "Как мы видим на данном примере, у данного класса должно быть метод `forward`, который определяет прямой проход нейросети. Также из класса выше видно, что модуль `nn` содержит в себе реализацию большинства слоев, а модуль `nn.functional` -- функций активаций.\n",
        "\n",
        "Есть еще один способ создать нейросеть и давайте его разберем на практике:"
      ]
    },
    {
      "cell_type": "code",
      "metadata": {
        "id": "qHhS90PUSzDx"
      },
      "source": [
        "model = nn.Sequential()                 # создаем пустую модель, в которую будем добавлять слои\n",
        "model.add_module('l1', nn.Linear(5, 3)) # добавили слой с 5-ю нейронами на вход и 3-мя на выход\n",
        "model.add_module('l2', nn.ReLU())       # добавили функцию активации\n",
        "model.add_module('l3', nn.Linear(3, 1)) # добавили слой с 3-мя нейронами на вход и 5-ю на выход"
      ],
      "execution_count": null,
      "outputs": []
    },
    {
      "cell_type": "code",
      "metadata": {
        "id": "kdCnwgVCSzDx"
      },
      "source": [
        "y_pred = model(batch_x) # получили предсказания модели"
      ],
      "execution_count": null,
      "outputs": []
    },
    {
      "cell_type": "markdown",
      "metadata": {
        "id": "8q24YdNKSzDx"
      },
      "source": [
        "#### Как написать цикл обучения и отслеживать метрики\n",
        " \n",
        "Давайте теперь соберем теперь загрузку данных, создание модели и обучим на уже созданном для нас датасете MNIST"
      ]
    },
    {
      "cell_type": "code",
      "metadata": {
        "id": "bhCWbPGMSzDy"
      },
      "source": [
        "mnist_train = torchvision.datasets.MNIST(\n",
        "    './mnist/', train=True, download=True, \n",
        "    transform=torchvision.transforms.ToTensor()\n",
        ") # используем готовый класс от торча для загрузки данных для тренировки\n",
        "mnist_val = torchvision.datasets.MNIST(\n",
        "    './mnist/', train=False, download=True,\n",
        "    transform=torchvision.transforms.ToTensor()\n",
        ") # используем готовый класс от торча для загрузки данных для валидации\n",
        "\n",
        "train_dataloader = torch.utils.data.DataLoader(\n",
        "    mnist_train, batch_size=4, shuffle=True, num_workers=1\n",
        ") # так как это уже унаследованный от Dataset класс, его можно сразу пихать в даталоадер\n",
        "\n",
        "val_dataloader = torch.utils.data.DataLoader(\n",
        "    mnist_val, batch_size=4, shuffle=True, num_workers=1\n",
        ") # так как это уже унаследованный от Dataset класс, его можно сразу пихать в даталоадер"
      ],
      "execution_count": null,
      "outputs": []
    },
    {
      "cell_type": "code",
      "metadata": {
        "id": "vyqkH9NeSzDy"
      },
      "source": [
        "for i in [0, 1]:\n",
        "    plt.subplot(1, 2, i + 1)\n",
        "    plt.imshow(mnist_train[i][0].squeeze(0).numpy().reshape([28, 28]))\n",
        "    plt.title(str(mnist_train[i][1]))\n",
        "plt.show()"
      ],
      "execution_count": null,
      "outputs": []
    },
    {
      "cell_type": "code",
      "metadata": {
        "id": "Cp4TAxokSzDy"
      },
      "source": [
        "model = nn.Sequential(\n",
        "    nn.Flatten(),        # превращаем картинку 28х28 в вектор размером 784\n",
        "    nn.Linear(784, 128), # входной слой размером 784 нейронов с выходом в 128 нейронов\n",
        "    nn.ReLU(),           # функция активации релу\n",
        "    nn.Linear(128, 10),  # последний слой размером 128 нейронов с выходом 10 нейронов\n",
        "    nn.Softmax(dim=-1)   # софтмакс для получения вероятностного распределения над метками класса\n",
        ")\n",
        "\n",
        "optimizer = torch.optim.SGD(model.parameters(), lr=0.05) # создаем оптимизатор и передаем туда параметры модели"
      ],
      "execution_count": null,
      "outputs": []
    },
    {
      "cell_type": "markdown",
      "metadata": {
        "id": "DM443tgESzDy"
      },
      "source": [
        "Веса моделей хранятся в виде матриц и выглядят так:"
      ]
    },
    {
      "cell_type": "code",
      "metadata": {
        "scrolled": true,
        "id": "kRTbs3ejSzDz"
      },
      "source": [
        "[x for x in model.named_parameters()] "
      ],
      "execution_count": null,
      "outputs": []
    },
    {
      "cell_type": "markdown",
      "metadata": {
        "id": "OZG9WZ41SzDz"
      },
      "source": [
        "_Красиво_ трекать метрики в полуавтоматическом режиме мы будем в [wandb](https://wandb.ai). Для этого регистрируемся на сайте, устанавливаем и логинимся(это того стоит):"
      ]
    },
    {
      "cell_type": "code",
      "metadata": {
        "id": "rx9v3HWCSzDz"
      },
      "source": [
        "!pip install wandb --upgrade --quiet\n",
        "import wandb\n",
        "\n",
        "wandb.login()"
      ],
      "execution_count": null,
      "outputs": []
    },
    {
      "cell_type": "code",
      "metadata": {
        "id": "UGnNY3O2SzDz"
      },
      "source": [
        "wandb.init(project=\"pytorch-demo\")  # инициализируем проект\n",
        "wandb.watch(model)                  # сохраняем параметры сетки в wandb + просим следить за градиентами сетки\n",
        "print()"
      ],
      "execution_count": null,
      "outputs": []
    },
    {
      "cell_type": "markdown",
      "metadata": {
        "id": "qZlKRjaUSzDz"
      },
      "source": [
        "Можно перейти по ссылке и следить за нашей моделью прямо во время обучения!"
      ]
    },
    {
      "cell_type": "code",
      "metadata": {
        "id": "kEyh2G2ESzD0"
      },
      "source": [
        "for epoch in range(11): # всего у нас будет 10 эпох (10 раз подряд пройдемся по всем батчам из трейна)\n",
        "    for x_train, y_train in tqdm(train_dataloader): # берем батч из трейн лоадера\n",
        "        y_pred = model(x_train)                       # делаем предсказания\n",
        "        loss = F.cross_entropy(y_pred, y_train)       # считаем лосс\n",
        "        loss.backward()                               # считаем градиенты обратным проходом\n",
        "        optimizer.step()                              # обновляем параметры сети\n",
        "        optimizer.zero_grad()                         # обнуляем посчитанные градиенты параметров\n",
        "    \n",
        "    if epoch % 2 == 0:\n",
        "        val_loss = []      # сюда будем складывать **средний по бачу** лосс\n",
        "        val_accuracy = []\n",
        "        with torch.no_grad(): # мы считаем качество, поэтому мы запрещаем фреймворку считать градиенты по параметрам\n",
        "            for x_val, y_val in tqdm(val_dataloader):       # берем батч из вал лоадера\n",
        "                y_pred = model(x_val)                       # делаем предсказания\n",
        "                loss = F.cross_entropy(y_pred, y_val)       # считаем лосс\n",
        "                val_loss.append(loss.numpy())               # добавляем в массив \n",
        "                val_accuracy.extend((torch.argmax(y_pred, dim=-1) == y_val).numpy().tolist())\n",
        "          \n",
        "        # скидываем метрики на wandb и автоматом смотрим на графики\n",
        "        wandb.log({\"mean val loss\": np.mean(val_loss),\n",
        "                   \"mean val accuracy\": np.mean(val_accuracy)})\n",
        "        # печатаем метрики\n",
        "        print('Epoch: {epoch}, loss: {loss}, accuracy: {accuracy}'.format(\n",
        "                epoch=epoch, loss=np.mean(val_loss), accuracy=np.mean(val_accuracy)\n",
        "        ))"
      ],
      "execution_count": null,
      "outputs": []
    },
    {
      "cell_type": "markdown",
      "metadata": {
        "id": "MrAgYiKVSzD0"
      },
      "source": [
        "### Дополнительные материалы:\n",
        "\n",
        "* [PyTroch на простейшем примере с пояснениями](https://github.com/Kaixhin/grokking-pytorch)\n",
        "* [Хорошая книга про pytorch](https://pytorch.org/assets/deep-learning/Deep-Learning-with-PyTorch.pdf)\n",
        "* [Использование pytorch на GPU](https://pytorch.org/docs/master/notes/cuda.html)\n",
        "* [Pytorch за 60 минут](http://pytorch.org/tutorials/beginner/deep_learning_60min_blitz.html)\n",
        "* [Как устроено автоматическое дифференцирование в pytorch](http://videolectures.net/site/normal_dl/tag=1129745/deeplearning2017_johnson_automatic_differentiation_01.pdf)"
      ]
    }
  ]
}