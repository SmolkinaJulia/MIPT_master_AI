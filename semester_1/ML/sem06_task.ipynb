{
  "nbformat": 4,
  "nbformat_minor": 0,
  "metadata": {
    "kernelspec": {
      "display_name": "Python 3",
      "language": "python",
      "name": "python3"
    },
    "language_info": {
      "codemirror_mode": {
        "name": "ipython",
        "version": 3
      },
      "file_extension": ".py",
      "mimetype": "text/x-python",
      "name": "python",
      "nbconvert_exporter": "python",
      "pygments_lexer": "ipython3",
      "version": "3.8.3"
    },
    "colab": {
      "name": "sem06_task.ipynb",
      "provenance": [],
      "collapsed_sections": [
        "LnFf4rWFRCZf"
      ]
    }
  },
  "cells": [
    {
      "cell_type": "markdown",
      "metadata": {
        "id": "3jzBLAfORCZT"
      },
      "source": [
        "<center>\n",
        "    \n",
        "# [Методы искусственного интеллекта в анализе данных](http://rairi.ru/wiki/index.php/%D0%9C%D0%B5%D1%82%D0%BE%D0%B4%D1%8B_%D0%B8%D1%81%D0%BA%D1%83%D1%81%D1%81%D1%82%D0%B2%D0%B5%D0%BD%D0%BD%D0%BE%D0%B3%D0%BE_%D0%B8%D0%BD%D1%82%D0%B5%D0%BB%D0%BB%D0%B5%D0%BA%D1%82%D0%B0_%D0%B2_%D0%B0%D0%BD%D0%B0%D0%BB%D0%B8%D0%B7%D0%B5_%D0%B4%D0%B0%D0%BD%D0%BD%D1%8B%D1%85)\n",
        "\n",
        "## <center> Семинар 6\n",
        "    \n",
        "***"
      ]
    },
    {
      "cell_type": "markdown",
      "metadata": {
        "id": "pMD5_Rz1RCZV"
      },
      "source": [
        "## План семинара\n",
        "1. [Функции для расчета энтропии и прироста информации](#2.-Функции-для-расчета-энтропии-и-прироста-информации)\n",
        "2. [Набор данных \"Adult\"](#3.-Набор-данных-\"Adult\")\n",
        "    - 2.1. [Дерево решений без настройки параметров](#3.1.-Дерево-решений-без-настройки-параметров)\n",
        "    - 2.2. [Дерево решений с настройкой параметров](#3.2.-Дерево-решений-с-настройкой-параметров)\n",
        "    - 2.3. [Случайный лес без настройки параметров](#3.3.-Случайный-лес-без-настройки-параметров)\n",
        "    - 2.4. [Случайный лес с настройкой параметров](#3.4.-Случайный-лес-с-настройкой-параметров)\n",
        "3. [Критерий останова построения дерева](#4.-Критерий-останова-построения-дерева)\n",
        "    - 3.1. [Визуализация](#4.1.-Визуализация)\n",
        "    - 3.2. [Неустойчивость решающих деревьев](#4.2.-Неустойчивость-решающих-деревьев)\n",
        "    - 3.3. [Подбор параметров](#4.3.-Подбор-параметров)\n",
        "4. [Логрег и случайный лес в задаче кредитного скоринга](#5.-Логрег-и-случайный-лес-в-задаче-кредитного-скоринга)\n",
        "    - 4.1. [Подбор параметров для модели логистической регрессии ](#5.1.-Подбор-параметров-для-модели-логистической-регрессии)\n",
        "    - 4.2. [Определение влияния признаков](#5.2.-Определение-влияния-признаков)\n",
        "    - 4.3. [Случайный лес](#5.3.-Случайный-лес)\n",
        "\n",
        "5. [Бэггинг](#6.-Бэггинг)"
      ]
    },
    {
      "cell_type": "code",
      "metadata": {
        "id": "6z4Ja3MURCZW"
      },
      "source": [
        "%matplotlib inline\n",
        "from matplotlib import pyplot as plt\n",
        "plt.rcParams['figure.figsize'] = (10, 8)\n",
        "import seaborn as sns\n",
        "sns.set(style='whitegrid')\n",
        "\n",
        "import numpy as np\n",
        "import pandas as pd\n",
        "import collections\n",
        "\n",
        "from sklearn.preprocessing import LabelEncoder\n",
        "from sklearn.model_selection import GridSearchCV, KFold, cross_val_score, StratifiedKFold\n",
        "from sklearn import preprocessing\n",
        "from sklearn.tree import DecisionTreeClassifier, export_graphviz, DecisionTreeRegressor, plot_tree\n",
        "from sklearn.ensemble import RandomForestClassifier\n",
        "from sklearn.metrics import accuracy_score\n",
        "\n",
        "import warnings\n",
        "warnings.filterwarnings('ignore')"
      ],
      "execution_count": 1,
      "outputs": []
    },
    {
      "cell_type": "markdown",
      "metadata": {
        "id": "iYAxOCT0RCZd"
      },
      "source": [
        "## 1. Функции для расчета энтропии и прироста информации"
      ]
    },
    {
      "cell_type": "markdown",
      "metadata": {
        "id": "GSplD-S6RCZd"
      },
      "source": [
        "Примердля проверки: 9 синих шариков и 11 желтых. Пусть шарик находится в состоянии \"1\", если он синий и \"0\" – если он желтый."
      ]
    },
    {
      "cell_type": "code",
      "metadata": {
        "id": "fLVxJ0V1RCZd"
      },
      "source": [
        "balls = [1 for i in range(9)] + [0 for i in range(11)]"
      ],
      "execution_count": 8,
      "outputs": []
    },
    {
      "cell_type": "markdown",
      "metadata": {
        "id": "px-BZCUzRCZd"
      },
      "source": [
        "![png](s6_img/decision_tree1.png)"
      ]
    },
    {
      "cell_type": "code",
      "metadata": {
        "colab": {
          "base_uri": "https://localhost:8080/"
        },
        "id": "5GcgGk-iRCZe",
        "outputId": "61aeedaa-6b89-4a24-9d26-ac7ba08ded05"
      },
      "source": [
        "balls"
      ],
      "execution_count": 9,
      "outputs": [
        {
          "output_type": "execute_result",
          "data": {
            "text/plain": [
              "[1, 1, 1, 1, 1, 1, 1, 1, 1, 0, 0, 0, 0, 0, 0, 0, 0, 0, 0, 0]"
            ]
          },
          "metadata": {},
          "execution_count": 9
        }
      ]
    },
    {
      "cell_type": "markdown",
      "metadata": {
        "id": "RHquwWrJRCZe"
      },
      "source": [
        "Дальше пусть шарики разбиваются на 2 группы\n",
        "![png](s6_img/decision_tree2.png)"
      ]
    },
    {
      "cell_type": "code",
      "metadata": {
        "id": "2iodSURdRCZe"
      },
      "source": [
        "# две группы\n",
        "balls_left  = [1 for i in range(8)] + [0 for i in range(5)] # 8 синих и 5 желтых\n",
        "balls_right = [1 for i in range(1)] + [0 for i in range(6)] # 1 синий и 6 желтых"
      ],
      "execution_count": null,
      "outputs": []
    },
    {
      "cell_type": "markdown",
      "metadata": {
        "id": "_A4X3L70RCZe"
      },
      "source": [
        "**Реализуйте функцию для расчета [энтропии Шеннона](https://ru.wikipedia.org/wiki/%D0%98%D0%BD%D1%84%D0%BE%D1%80%D0%BC%D0%B0%D1%86%D0%B8%D0%BE%D0%BD%D0%BD%D0%B0%D1%8F_%D1%8D%D0%BD%D1%82%D1%80%D0%BE%D0%BF%D0%B8%D1%8F).**"
      ]
    },
    {
      "cell_type": "code",
      "metadata": {
        "id": "0Ee_LcmARCZe"
      },
      "source": [
        "def entropy(a_list):\n",
        "    \n",
        "    # Ваш код здесь\n",
        "    pass"
      ],
      "execution_count": 10,
      "outputs": []
    },
    {
      "cell_type": "markdown",
      "metadata": {
        "id": "gyobu4pbRCZe"
      },
      "source": [
        "Проверка"
      ]
    },
    {
      "cell_type": "code",
      "metadata": {
        "id": "7b1QEABURCZe"
      },
      "source": [
        "print(entropy(balls)) # 9 синих и 11 желтых\n",
        "print(entropy(balls_left)) # 8 синих и 5 желтых\n",
        "print(entropy(balls_right)) # 1 синий и 6 желтых\n",
        "print(entropy([1,2,3,4,5,6])) # энтропия игральной кости с несмещенным центром тяжести"
      ],
      "execution_count": null,
      "outputs": []
    },
    {
      "cell_type": "markdown",
      "metadata": {
        "id": "LnFf4rWFRCZf"
      },
      "source": [
        "#### 1.1\n",
        "Чему равна энтропия состояния, заданного списком `balls_left`?"
      ]
    },
    {
      "cell_type": "markdown",
      "metadata": {
        "id": "V-whOSaBRCZf"
      },
      "source": [
        "#### 1.2\n",
        "\n",
        "Чему равна энтропия игральной кости с несмещенным центром тяжести?"
      ]
    },
    {
      "cell_type": "code",
      "metadata": {
        "id": "Pf-WgrpvRCZf"
      },
      "source": [
        "# расчет прироста информации\n",
        "\n",
        "def information_gain(root, left, right):\n",
        "    ''' root - изначальный набор данных, left и right два разбиения изначального набора'''\n",
        "    \n",
        "    # Ваш код здесь\n",
        "    pass"
      ],
      "execution_count": null,
      "outputs": []
    },
    {
      "cell_type": "markdown",
      "metadata": {
        "id": "RuZgoMsRRCZf"
      },
      "source": [
        "#### 1.3\n",
        "Каков прирост информации при разделении выборки на balls_left и balls_right?"
      ]
    },
    {
      "cell_type": "code",
      "metadata": {
        "id": "xtNqmZdvRCZf"
      },
      "source": [
        "print(information_gain(balls, balls_left, balls_right))"
      ],
      "execution_count": null,
      "outputs": []
    },
    {
      "cell_type": "markdown",
      "metadata": {
        "id": "rSDo3cp6RCZf"
      },
      "source": [
        "## 2. Набор данных \"Adult\""
      ]
    },
    {
      "cell_type": "markdown",
      "metadata": {
        "id": "C-T1pNwXRCZf"
      },
      "source": [
        "**Описание набора:**"
      ]
    },
    {
      "cell_type": "markdown",
      "metadata": {
        "id": "XcEmLut4RCZg"
      },
      "source": [
        "**[Набор](http://archive.ics.uci.edu/ml/machine-learning-databases/adult) данных UCI Adult** (качать не надо, все есть в репозитории): классификация людей с помощью демографических данных для прогнозирования, зарабатывает ли человек более \\$ 50 000 в год.\n",
        "\n",
        "Описание признаков: \n",
        "\n",
        "**Age** – возраст, количественный признак  \n",
        "**Workclass** – тип работодателя, количественный признак  \n",
        "**fnlwgt** – итоговый вес обьекта, количественный признак    \n",
        "**Education** – уровень образования, качественный признак  \n",
        "**Education_Num** – количество лет обучения, количественный признак  \n",
        "**Martial_Status** – семейное положение, категориальный признак  \n",
        "**Occupation** – профессия, категориальный признак  \n",
        "**Relationship** – тип семейных отношений, категориальный признак    \n",
        "**Race** – раса, категориальный признак  \n",
        "**Sex** – пол, качественный признак  \n",
        "**Capital_Gain** – прирост капитала, количественный признак  \n",
        "**Capital_Loss** – потери капитала, количественный признак  \n",
        "**Hours_per_week** – количество часов работы в неделю, количественный признак  \n",
        "**Country** – страна, категориальный признак  \n",
        "   \n",
        "Целевая переменная: **Target** – уровень заработка, категориальный (бинарный) признак "
      ]
    },
    {
      "cell_type": "markdown",
      "metadata": {
        "id": "y7GHjyPvRCZg"
      },
      "source": [
        "**Считываем обучающую и тестовую выборки.**"
      ]
    },
    {
      "cell_type": "code",
      "metadata": {
        "id": "NnmvA3n0RCZg"
      },
      "source": [
        "data_train = pd.read_csv('adult_train.csv', sep=';') "
      ],
      "execution_count": null,
      "outputs": []
    },
    {
      "cell_type": "code",
      "metadata": {
        "id": "IscsrkZbRCZg"
      },
      "source": [
        "data_train.tail()"
      ],
      "execution_count": null,
      "outputs": []
    },
    {
      "cell_type": "code",
      "metadata": {
        "id": "nCAvr2_FRCZg"
      },
      "source": [
        "data_test = pd.read_csv('adult_test.csv', sep=';') "
      ],
      "execution_count": null,
      "outputs": []
    },
    {
      "cell_type": "code",
      "metadata": {
        "id": "1mNCor7cRCZg"
      },
      "source": [
        "data_test.tail()"
      ],
      "execution_count": null,
      "outputs": []
    },
    {
      "cell_type": "code",
      "metadata": {
        "id": "7KEyq3BsRCZg"
      },
      "source": [
        "# необходимо убрать строки с неправильными метками в тестовой выборке\n",
        "data_test = data_test[(data_test['Target'] == ' >50K.') \n",
        "                      | (data_test['Target']==' <=50K.')]\n",
        "\n",
        "# перекодируем target в числовое поле\n",
        "data_train.at[data_train['Target'] == ' <=50K', 'Target'] = 0\n",
        "data_train.at[data_train['Target'] == ' >50K', 'Target'] = 1\n",
        "\n",
        "data_test.at[data_test['Target'] == ' <=50K.', 'Target'] = 0\n",
        "data_test.at[data_test['Target'] == ' >50K.', 'Target'] = 1"
      ],
      "execution_count": null,
      "outputs": []
    },
    {
      "cell_type": "markdown",
      "metadata": {
        "id": "4Ad46ZMGRCZg"
      },
      "source": [
        "**Первичный анализ данных.**"
      ]
    },
    {
      "cell_type": "code",
      "metadata": {
        "id": "OEba2WfxRCZh"
      },
      "source": [
        "data_test.describe(include='all').T"
      ],
      "execution_count": null,
      "outputs": []
    },
    {
      "cell_type": "code",
      "metadata": {
        "id": "_IpL7oR9RCZh"
      },
      "source": [
        "data_train['Target'].value_counts()"
      ],
      "execution_count": null,
      "outputs": []
    },
    {
      "cell_type": "code",
      "metadata": {
        "id": "yx1jgbc8RCZh"
      },
      "source": [
        "fig = plt.figure(figsize=(25, 15))\n",
        "cols = 5\n",
        "rows = np.ceil(float(data_train.shape[1]) / cols)\n",
        "for i, column in enumerate(data_train.columns):\n",
        "    ax = fig.add_subplot(rows, cols, i + 1)\n",
        "    ax.set_title(column)\n",
        "    if data_train.dtypes[column] == np.object:\n",
        "        data_train[column].value_counts().plot(kind=\"bar\", axes=ax)\n",
        "    else:\n",
        "        data_train[column].hist(axes=ax)\n",
        "        plt.xticks(rotation=\"vertical\")\n",
        "plt.subplots_adjust(hspace=0.7, wspace=0.2)"
      ],
      "execution_count": null,
      "outputs": []
    },
    {
      "cell_type": "markdown",
      "metadata": {
        "id": "xiaJ2YAARCZh"
      },
      "source": [
        "**Проверяем типы данных**"
      ]
    },
    {
      "cell_type": "code",
      "metadata": {
        "id": "Xs_ZuVCMRCZh"
      },
      "source": [
        "data_train.dtypes"
      ],
      "execution_count": null,
      "outputs": []
    },
    {
      "cell_type": "code",
      "metadata": {
        "id": "VYTE-bWkRCZh"
      },
      "source": [
        "data_test.dtypes"
      ],
      "execution_count": null,
      "outputs": []
    },
    {
      "cell_type": "markdown",
      "metadata": {
        "id": "G2nRf2_qRCZh"
      },
      "source": [
        "Выяснилось, что в тесте возраст отнесен к типу `object`, необходимо это исправить."
      ]
    },
    {
      "cell_type": "code",
      "metadata": {
        "id": "PHI2Fm-tRCZi"
      },
      "source": [
        "data_test['Age'] = data_test['Age'].astype(int)"
      ],
      "execution_count": null,
      "outputs": []
    },
    {
      "cell_type": "markdown",
      "metadata": {
        "id": "r9vC_Y65RCZi"
      },
      "source": [
        "Также приведем показатели типа `float` в `int` для соответствия `train` и `test` выборок."
      ]
    },
    {
      "cell_type": "code",
      "metadata": {
        "id": "Zv3oqe-1RCZi"
      },
      "source": [
        "data_test['fnlwgt'] = data_test['fnlwgt'].astype(int)\n",
        "data_test['Education_Num'] = data_test['Education_Num'].astype(int)\n",
        "data_test['Capital_Gain'] = data_test['Capital_Gain'].astype(int)\n",
        "data_test['Capital_Loss'] = data_test['Capital_Loss'].astype(int)\n",
        "data_test['Hours_per_week'] = data_test['Hours_per_week'].astype(int)"
      ],
      "execution_count": null,
      "outputs": []
    },
    {
      "cell_type": "markdown",
      "metadata": {
        "id": "Ou0qZVM7RCZi"
      },
      "source": [
        "**Заполним пропуски в количественных полях медианными значениями, а в категориальных – наиболее часто встречающимся значением**"
      ]
    },
    {
      "cell_type": "code",
      "metadata": {
        "id": "ziSstjlgRCZi"
      },
      "source": [
        "# выделим в выборках категориальные и числовые поля\n",
        "\n",
        "categorical_columns_train = [c for c in data_train.columns \n",
        "                             if data_train[c].dtype.name == 'object']\n",
        "numerical_columns_train = [c for c in data_train.columns \n",
        "                           if data_train[c].dtype.name != 'object']\n",
        "\n",
        "categorical_columns_test = [c for c in data_test.columns \n",
        "                            if data_test[c].dtype.name == 'object']\n",
        "numerical_columns_test = [c for c in data_test.columns \n",
        "                          if data_test[c].dtype.name != 'object']\n",
        "\n",
        "print('categorical_columns_test:', categorical_columns_test)\n",
        "print('categorical_columns_train:', categorical_columns_train)\n",
        "print('numerical_columns_test:', numerical_columns_test)\n",
        "print('numerical_columns_train:', numerical_columns_train)"
      ],
      "execution_count": null,
      "outputs": []
    },
    {
      "cell_type": "code",
      "metadata": {
        "id": "fPfn9d9gRCZi"
      },
      "source": [
        "# заполним пропуски\n",
        "\n",
        "for c in categorical_columns_train:\n",
        "    data_train[c] = data_train[c].fillna(data_train[c].mode())\n",
        "for c in categorical_columns_test:\n",
        "    data_test[c] = data_test[c].fillna(data_train[c].mode())\n",
        "    \n",
        "for c in numerical_columns_train:\n",
        "    data_train[c] = data_train[c].fillna(data_train[c].median())\n",
        "for c in numerical_columns_test:\n",
        "    data_test[c] = data_test[c].fillna(data_train[c].median()) "
      ],
      "execution_count": null,
      "outputs": []
    },
    {
      "cell_type": "markdown",
      "metadata": {
        "id": "BojmyaYWRCZi"
      },
      "source": [
        "**Кодируем категориальные признаки 'Workclass', 'Education', 'Martial_Status', 'Occupation', 'Relationship', 'Race', 'Sex', 'Country'. Это можно сделать с помощью метода `pandas get_dummies`.**"
      ]
    },
    {
      "cell_type": "code",
      "metadata": {
        "id": "nKmqoEZ7RCZj"
      },
      "source": [
        "data_train = pd.concat([data_train, pd.get_dummies(data_train['Workclass'], \n",
        "                                                   prefix=\"Workclass\"),\n",
        "                      pd.get_dummies(data_train['Education'], prefix=\"Education\"),\n",
        "                      pd.get_dummies(data_train['Martial_Status'], prefix=\"Martial_Status\"),\n",
        "                      pd.get_dummies(data_train['Occupation'], prefix=\"Occupation\"),\n",
        "                      pd.get_dummies(data_train['Relationship'], prefix=\"Relationship\"),\n",
        "                      pd.get_dummies(data_train['Race'], prefix=\"Race\"),\n",
        "                      pd.get_dummies(data_train['Sex'], prefix=\"Sex\"),\n",
        "                      pd.get_dummies(data_train['Country'], prefix=\"Country\")],\n",
        "                     axis=1)\n",
        "\n",
        "data_test = pd.concat([data_test, pd.get_dummies(data_test['Workclass'], prefix=\"Workclass\"),\n",
        "                      pd.get_dummies(data_test['Education'], prefix=\"Education\"),\n",
        "                      pd.get_dummies(data_test['Martial_Status'], prefix=\"Martial_Status\"),\n",
        "                      pd.get_dummies(data_test['Occupation'], prefix=\"Occupation\"),\n",
        "                      pd.get_dummies(data_test['Relationship'], prefix=\"Relationship\"),\n",
        "                      pd.get_dummies(data_test['Race'], prefix=\"Race\"),\n",
        "                      pd.get_dummies(data_test['Sex'], prefix=\"Sex\"),\n",
        "                      pd.get_dummies(data_test['Country'], prefix=\"Country\")],\n",
        "                     axis=1)"
      ],
      "execution_count": null,
      "outputs": []
    },
    {
      "cell_type": "code",
      "metadata": {
        "id": "dWv7w8zHRCZj"
      },
      "source": [
        "data_train.drop(['Workclass', 'Education', 'Martial_Status',\n",
        "                 'Occupation', 'Relationship', 'Race', 'Sex', 'Country'],\n",
        "                axis=1, inplace=True)\n",
        "data_test.drop(['Workclass', 'Education', 'Martial_Status', 'Occupation', \n",
        "                'Relationship', 'Race', 'Sex', 'Country'],\n",
        "               axis=1, inplace=True)"
      ],
      "execution_count": null,
      "outputs": []
    },
    {
      "cell_type": "code",
      "metadata": {
        "id": "1oiqTnNeRCZj"
      },
      "source": [
        "data_test.describe(include='all').T"
      ],
      "execution_count": null,
      "outputs": []
    },
    {
      "cell_type": "code",
      "metadata": {
        "id": "O4ZRQaGuRCZj"
      },
      "source": [
        "set(data_train.columns) - set(data_test.columns)"
      ],
      "execution_count": null,
      "outputs": []
    },
    {
      "cell_type": "code",
      "metadata": {
        "id": "tf1UhI0xRCZj"
      },
      "source": [
        "data_train.shape, data_test.shape"
      ],
      "execution_count": null,
      "outputs": []
    },
    {
      "cell_type": "markdown",
      "metadata": {
        "id": "ul48WSvMRCZj"
      },
      "source": [
        "**В тестовой выборке не оказалось Голландии. Заведем необходимый признак из нулей.**"
      ]
    },
    {
      "cell_type": "code",
      "metadata": {
        "id": "g-KCpZovRCZj"
      },
      "source": [
        "data_test['Country_ Holand-Netherlands'] = np.zeros([data_test.shape[0], 1])"
      ],
      "execution_count": null,
      "outputs": []
    },
    {
      "cell_type": "code",
      "metadata": {
        "id": "qSEnKruORCZk"
      },
      "source": [
        "set(data_train.columns) - set(data_test.columns)"
      ],
      "execution_count": null,
      "outputs": []
    },
    {
      "cell_type": "code",
      "metadata": {
        "id": "0_dpaOmeRCZk"
      },
      "source": [
        "data_train.head(2)"
      ],
      "execution_count": null,
      "outputs": []
    },
    {
      "cell_type": "code",
      "metadata": {
        "id": "ENt9DFHyRCZk"
      },
      "source": [
        "data_test.head(2)"
      ],
      "execution_count": null,
      "outputs": []
    },
    {
      "cell_type": "code",
      "metadata": {
        "id": "OYVT4COkRCZk"
      },
      "source": [
        "X_train=data_train.drop(['Target'], axis=1)\n",
        "y_train = data_train['Target']\n",
        "\n",
        "X_test=data_test.drop(['Target'], axis=1)\n",
        "y_test = data_test['Target']"
      ],
      "execution_count": null,
      "outputs": []
    },
    {
      "cell_type": "markdown",
      "metadata": {
        "id": "kwHVJJtlRCZk"
      },
      "source": [
        "### 2.1. Дерево решений без настройки параметров "
      ]
    },
    {
      "cell_type": "markdown",
      "metadata": {
        "id": "2nHNNJqXRCZk"
      },
      "source": [
        "**Обучите на имеющейся выборке дерево решений (`DecisionTreeClassifier`) максимальной глубины 3 и получите качество на тесте. Используйте параметр `random_state` = 17 для воспроизводимости результатов.**"
      ]
    },
    {
      "cell_type": "code",
      "metadata": {
        "id": "FrBaBsh5RCZk"
      },
      "source": [
        "tree = # Ваш код здесь\n",
        "tree.fit # Ваш код здесь"
      ],
      "execution_count": null,
      "outputs": []
    },
    {
      "cell_type": "markdown",
      "metadata": {
        "id": "qx7vAreBRCZk"
      },
      "source": [
        "**Сделайте с помощью полученной модели прогноз для тестовой выборки.**"
      ]
    },
    {
      "cell_type": "code",
      "metadata": {
        "id": "dRbV1A2gRCZk"
      },
      "source": [
        "tree_predictions = tree.predict # Ваш код здесь"
      ],
      "execution_count": null,
      "outputs": []
    },
    {
      "cell_type": "code",
      "metadata": {
        "id": "qKSUHGhlRCZl"
      },
      "source": [
        "accuracy_score # Ваш код здесь"
      ],
      "execution_count": null,
      "outputs": []
    },
    {
      "cell_type": "markdown",
      "metadata": {
        "id": "vjb83ktZRCZl"
      },
      "source": [
        "Какова доля правильных ответов дерева решений на тестовой выборке при максимальной глубине дерева = 3 и random_state = 17?"
      ]
    },
    {
      "cell_type": "markdown",
      "metadata": {
        "id": "q6XS56xdRCZl"
      },
      "source": [
        "### 2.2. Дерево решений с настройкой параметров "
      ]
    },
    {
      "cell_type": "markdown",
      "metadata": {
        "id": "UdWu7K8ORCZl"
      },
      "source": [
        "**Обучите на имеющейся выборке дерево решений (`DecisionTreeClassifier`, опять `random_state` = 17 ). Максимальную глубину настройте на кросс-валидации с помощью `GridSearchCV`. Проведите 5-кратную кросс-валидацию**"
      ]
    },
    {
      "cell_type": "code",
      "metadata": {
        "id": "C-Fh-zVrRCZl"
      },
      "source": [
        "tree_params = {'max_depth': range(2,11)}\n",
        "\n",
        "locally_best_tree = GridSearchCV # Ваш код здесь                      \n",
        "\n",
        "locally_best_tree.fit # Ваш код здесь"
      ],
      "execution_count": null,
      "outputs": []
    },
    {
      "cell_type": "code",
      "metadata": {
        "id": "xyvn0k7XRCZo"
      },
      "source": [
        "print(\"Best params:\", locally_best_tree.best_params_)\n",
        "print(\"Best cross validaton score\", locally_best_tree.best_score_)"
      ],
      "execution_count": null,
      "outputs": []
    },
    {
      "cell_type": "markdown",
      "metadata": {
        "id": "XFFDa0opRCZo"
      },
      "source": [
        "**Обучите на имеющейся выборке дерево решений максимальной глубины 9 (это лучшее значение `max_depth` в моем случае) и   оцените долю правильных ответов на тесте. Используйте параметр random_state = 17 для воспроизводимости результатов.**"
      ]
    },
    {
      "cell_type": "code",
      "metadata": {
        "id": "bM-8y_M0RCZo"
      },
      "source": [
        "tuned_tree = # Ваш код здесь\n",
        "tuned_tree.fit # Ваш код здесь\n",
        "tuned_tree_predictions = tuned_tree.predict # Ваш код здесь\n",
        "accuracy_score # Ваш код здесь"
      ],
      "execution_count": null,
      "outputs": []
    },
    {
      "cell_type": "markdown",
      "metadata": {
        "id": "lTsAUpFbRCZo"
      },
      "source": [
        "Какова доля правильных ответов дерева решений на тестовой выборке при максимальной глубине дерева = 9 и random_state = 17?"
      ]
    },
    {
      "cell_type": "markdown",
      "metadata": {
        "id": "NUXLLEt8RCZo"
      },
      "source": [
        "### 2.3. Случайный лес без настройки параметров"
      ]
    },
    {
      "cell_type": "markdown",
      "metadata": {
        "id": "yUHNcZKORCZo"
      },
      "source": [
        "**Обучите на имеющейся выборке случайный лес (`RandomForestClassifier`), число деревьев сделайте равным ста, а `random_state` = 17.**"
      ]
    },
    {
      "cell_type": "code",
      "metadata": {
        "id": "KeH2XYVBRCZo"
      },
      "source": [
        "rf = # Ваш код здесь\n",
        "rf.fit # Ваш код здесь"
      ],
      "execution_count": null,
      "outputs": []
    },
    {
      "cell_type": "markdown",
      "metadata": {
        "id": "XWnxzw-3RCZo"
      },
      "source": [
        "**Сделайте с помощью полученной модели прогноз для тестовой выборки.**"
      ]
    },
    {
      "cell_type": "code",
      "metadata": {
        "id": "LbhxHJldRCZp"
      },
      "source": [
        "forest_predictions = rf.predict # Ваш код здесь"
      ],
      "execution_count": null,
      "outputs": []
    },
    {
      "cell_type": "code",
      "metadata": {
        "id": "4yojOwk8RCZp"
      },
      "source": [
        "accuracy_score # Ваш код здесь"
      ],
      "execution_count": null,
      "outputs": []
    },
    {
      "cell_type": "markdown",
      "metadata": {
        "id": "N1ODVGTJRCZp"
      },
      "source": [
        "### 2.4. Случайный лес с настройкой параметров"
      ]
    },
    {
      "cell_type": "markdown",
      "metadata": {
        "id": "N7wiw2wXRCZp"
      },
      "source": [
        "**Обучите на имеющейся выборке случайный лес (`RandomForestClassifier`). Максимальную глубину и максимальное число признаков для каждого дерева настройте с помощью GridSearchCV.**"
      ]
    },
    {
      "cell_type": "code",
      "metadata": {
        "id": "WxLPjD4MRCZp"
      },
      "source": [
        "forest_params = {'max_depth': range(10, 21),\n",
        "                'max_features': range(5, 105, 10)}\n",
        "\n",
        "locally_best_forest = GridSearchCV # Ваш код здесь\n",
        "\n",
        "locally_best_forest.fit # Ваш код здесь"
      ],
      "execution_count": null,
      "outputs": []
    },
    {
      "cell_type": "code",
      "metadata": {
        "id": "HEgYyZ9wRCZp"
      },
      "source": [
        "print(\"Best params:\", locally_best_forest.best_params_)\n",
        "print(\"Best cross validaton score\", locally_best_forest.best_score_)"
      ],
      "execution_count": null,
      "outputs": []
    },
    {
      "cell_type": "markdown",
      "metadata": {
        "id": "6xUbSzvjRCZp"
      },
      "source": [
        "**Сделайте с помощью полученной модели прогноз для тестовой выборки.**"
      ]
    },
    {
      "cell_type": "code",
      "metadata": {
        "id": "A7QAO0AwRCZp"
      },
      "source": [
        "tuned_forest_predictions = locally_best_forest.predict # Ваш код здесь\n",
        "accuracy_score # Ваш код здесь"
      ],
      "execution_count": null,
      "outputs": []
    },
    {
      "cell_type": "markdown",
      "metadata": {
        "id": "RqE1i-TiRCZq"
      },
      "source": [
        "## 3. Критерий останова построения дерева"
      ]
    },
    {
      "cell_type": "markdown",
      "metadata": {
        "id": "bcOkZUMmRCZr"
      },
      "source": [
        "Для любой непротиворечивой обучающей выборки можно построить решающее дерево, которое имеет нулевую ошибку на данной выборке. Если мы рассмотрим объекты, как точки в пространстве признаков, то каждую эту точку можно ограничить n-мерным кубом, который не будет содержать других точек. n-мерный куб прекрасно можно задать деревом."
      ]
    },
    {
      "cell_type": "markdown",
      "metadata": {
        "id": "3WjtcePURCZr"
      },
      "source": [
        "Однако в этом случае имеет место **переобучение**. \n",
        "\n",
        "В связи с этим встаёт вопрос: в каком случае вершину следует объявить листовой?"
      ]
    },
    {
      "cell_type": "markdown",
      "metadata": {
        "id": "Fy8uARInRCZr"
      },
      "source": [
        "Рассмотрим модельную задачу регрессии. Объектами будут являться точки на плоскости (т.е. каждый объект описывается 2 признаками), целевой переменной — расстояние от объекта до точки (0, 0)."
      ]
    },
    {
      "cell_type": "code",
      "metadata": {
        "id": "4AyXEOclRCZr"
      },
      "source": [
        "def get_grid(data):\n",
        "    x_min, x_max = data[:, 0].min() - 1, data[:, 0].max() + 1\n",
        "    y_min, y_max = data[:, 1].min() - 1, data[:, 1].max() + 1\n",
        "    return np.meshgrid(np.arange(x_min, x_max, 0.01),\n",
        "                         np.arange(y_min, y_max, 0.01))"
      ],
      "execution_count": null,
      "outputs": []
    },
    {
      "cell_type": "code",
      "metadata": {
        "id": "03kHyIiGRCZr"
      },
      "source": [
        "np.random.seed(42)\n",
        "data_x = np.random.normal(size=(100, 2))\n",
        "data_y = (data_x[:, 0] ** 2 + data_x[:, 1] ** 2) ** 0.5 # \n",
        "plt.figure(figsize=(8, 8))\n",
        "plt.scatter(data_x[:, 0], data_x[:, 1], c=data_y, s=100, cmap='spring')"
      ],
      "execution_count": null,
      "outputs": []
    },
    {
      "cell_type": "code",
      "metadata": {
        "id": "x5X2Bk1ZRCZr"
      },
      "source": [
        "clf = DecisionTreeRegressor(random_state=42)\n",
        "clf.fit(data_x, data_y)\n",
        "\n",
        "xx, yy = get_grid(data_x)\n",
        "\n",
        "predicted = clf.predict(np.c_[xx.ravel(), yy.ravel()]).reshape(xx.shape)\n",
        "\n",
        "plt.figure(figsize=(8, 8))\n",
        "plt.pcolormesh(xx, yy, predicted, cmap='spring')\n",
        "plt.scatter(data_x[:, 0], data_x[:, 1], c=data_y, s=100, cmap='spring', edgecolor='k')"
      ],
      "execution_count": null,
      "outputs": []
    },
    {
      "cell_type": "markdown",
      "metadata": {
        "id": "Y6I2Tw-qRCZr"
      },
      "source": [
        "Посмотрим как будет выглядить разделение плоскости в зависимости от \n",
        "- минимального количества объектов в листе\n",
        "- максимальной глубины дерева"
      ]
    },
    {
      "cell_type": "code",
      "metadata": {
        "id": "4ARIinq5RCZr"
      },
      "source": [
        "plt.figure(figsize=(14, 14))\n",
        "for i, max_depth in enumerate([2, 4, None]):\n",
        "    for j, min_samples_leaf in enumerate([15, 5, 1]):\n",
        "        clf = DecisionTreeRegressor(max_depth=max_depth, min_samples_leaf=min_samples_leaf)\n",
        "        clf.fit(data_x, data_y)\n",
        "        xx, yy = get_grid(data_x)\n",
        "        predicted = clf.predict(np.c_[xx.ravel(), yy.ravel()]).reshape(xx.shape)\n",
        "        \n",
        "        plt.subplot2grid((3, 3), (i, j))\n",
        "        plt.pcolormesh(xx, yy, predicted, cmap='spring')\n",
        "        plt.scatter(data_x[:, 0], data_x[:, 1], c=data_y, s=30, cmap='spring', edgecolor='k')\n",
        "        plt.title('max_depth=' + str(max_depth) + ' | min_samples_leaf=' + str(min_samples_leaf))"
      ],
      "execution_count": null,
      "outputs": []
    },
    {
      "cell_type": "markdown",
      "metadata": {
        "id": "U8KENUSfRCZr"
      },
      "source": [
        "- Увеличение максимальной глубины и/или уменьшение минимального количества объектов выборки в листе приводит к увеличению качества на обучающей выборке и переобучению."
      ]
    },
    {
      "cell_type": "markdown",
      "metadata": {
        "id": "AMS9Q5oERCZs"
      },
      "source": [
        "### 3.1. Визуализация"
      ]
    },
    {
      "cell_type": "markdown",
      "metadata": {
        "id": "4EkXzy5qxVEx"
      },
      "source": [
        "Можно использовать `pydot` или [webgraphviz](http://www.webgraphviz.com/)"
      ]
    },
    {
      "cell_type": "code",
      "metadata": {
        "id": "v0aG7obBRCZs"
      },
      "source": [
        "import os\n",
        "path_to_graphviz = 'C:\\\\Program Files (x86)\\\\Graphviz2.38\\\\bin\\\\' # your path to graphviz \n",
        "os.environ[\"PATH\"] += os.pathsep + path_to_graphviz"
      ],
      "execution_count": null,
      "outputs": []
    },
    {
      "cell_type": "code",
      "metadata": {
        "id": "eOi6YY5yRCZs"
      },
      "source": [
        "# conda install python-graphviz\n",
        "import graphviz\n",
        "from sklearn import tree\n",
        "\n",
        "clf = DecisionTreeRegressor(max_depth=4)\n",
        "clf.fit(data_x, data_y)\n",
        "\n",
        "dot_data = tree.export_graphviz(clf, out_file=None) \n",
        "graph = graphviz.Source(dot_data) \n",
        "graph.render(\"iris\")\n",
        "\n",
        "dot_data = tree.export_graphviz(clf, out_file=None, \n",
        "                                filled=True, rounded=True,  \n",
        "                                special_characters=True)  \n",
        "graph = graphviz.Source(dot_data)  \n",
        "graph "
      ],
      "execution_count": null,
      "outputs": []
    },
    {
      "cell_type": "code",
      "metadata": {
        "id": "WsYW7zTyRCZs"
      },
      "source": [
        "xx, yy = get_grid(data_x)\n",
        "\n",
        "predicted = clf.predict(np.c_[xx.ravel(), yy.ravel()]).reshape(xx.shape)\n",
        "\n",
        "plt.figure(figsize=(5, 5))\n",
        "plt.title('max_depth=4 | min_samples_leaf=10')\n",
        "plt.pcolormesh(xx, yy, predicted, cmap='spring')\n",
        "plt.scatter(data_x[:, 0], data_x[:, 1], c=data_y, s=100, cmap='spring', edgecolor='k')"
      ],
      "execution_count": null,
      "outputs": []
    },
    {
      "cell_type": "markdown",
      "metadata": {
        "id": "678JhUbORCZs"
      },
      "source": [
        "### 3.2. Неустойчивость решающих деревьев\n",
        "\n",
        "Решающие деревья — это алгоритмы, неустойчивые к изменениям обучающей выборки, т.е. при малейших её изменениях итоговый классификатор может радикально измениться.\n",
        "Посмотрим, как будет меняться структура дерева при обучении на разных 90%-х подвыборках."
      ]
    },
    {
      "cell_type": "code",
      "metadata": {
        "id": "B0Gb2R7cRCZs"
      },
      "source": [
        "plt.figure(figsize=(20, 6))\n",
        "for i in range(3):\n",
        "    clf = DecisionTreeRegressor(random_state=42)\n",
        "\n",
        "    indecies = np.random.randint(data_x.shape[0], size=int(data_x.shape[0] * 0.9))\n",
        "    clf.fit(data_x[indecies], data_y[indecies])\n",
        "    xx, yy = get_grid(data_x)\n",
        "    predicted = clf.predict(np.c_[xx.ravel(), yy.ravel()]).reshape(xx.shape)\n",
        "\n",
        "    plt.subplot2grid((1, 3), (0, i))\n",
        "    plt.pcolormesh(xx, yy, predicted, cmap='winter')\n",
        "    plt.scatter(data_x[:, 0], data_x[:, 1], c=data_y, s=30, cmap='winter', edgecolor='k')"
      ],
      "execution_count": null,
      "outputs": []
    },
    {
      "cell_type": "markdown",
      "metadata": {
        "id": "0XSigm6mRCZs"
      },
      "source": [
        "### 3.3. Подбор параметров"
      ]
    },
    {
      "cell_type": "markdown",
      "metadata": {
        "id": "metMgLcCRCZt"
      },
      "source": [
        "Посмотрим на качество дерева в зависимости от параметров на одном из стандартных наборов данных - Бостонском датасете."
      ]
    },
    {
      "cell_type": "markdown",
      "metadata": {
        "id": "z6B_sI11RCZt"
      },
      "source": [
        "Загрузим датасет и посмотрим на него."
      ]
    },
    {
      "cell_type": "code",
      "metadata": {
        "id": "xuid2ivpRCZt"
      },
      "source": [
        "from sklearn.datasets import load_boston\n",
        "\n",
        "data = load_boston()\n",
        "X = data.data\n",
        "y = data.target"
      ],
      "execution_count": null,
      "outputs": []
    },
    {
      "cell_type": "markdown",
      "metadata": {
        "id": "LAp9QLKSRCZt"
      },
      "source": [
        "Сделаем разбиения для кросс-валидации"
      ]
    },
    {
      "cell_type": "code",
      "metadata": {
        "id": "eV3rLr84RCZt"
      },
      "source": [
        "cv = KFold(shuffle=True, random_state=241)"
      ],
      "execution_count": null,
      "outputs": []
    },
    {
      "cell_type": "markdown",
      "metadata": {
        "id": "WHSC1VvfRCZt"
      },
      "source": [
        "Обучим обычное дерево"
      ]
    },
    {
      "cell_type": "code",
      "metadata": {
        "id": "IxaPRksARCZt"
      },
      "source": [
        "from sklearn.tree import DecisionTreeRegressor\n",
        "regr = DecisionTreeRegressor(random_state=241)\n",
        "-cross_val_score(regr, X, y, cv=cv, \n",
        "                 scoring='neg_mean_squared_error').mean()"
      ],
      "execution_count": null,
      "outputs": []
    },
    {
      "cell_type": "code",
      "metadata": {
        "id": "0q3qO2PJRCZt"
      },
      "source": [
        "regr.fit(X, y)\n",
        "regr.tree_"
      ],
      "execution_count": null,
      "outputs": []
    },
    {
      "cell_type": "code",
      "metadata": {
        "id": "MLE6gO9KRCZt"
      },
      "source": [
        "regr = DecisionTreeRegressor(random_state=241)\n",
        "cross_val_score(regr, X, y, cv=cv, \n",
        "                scoring='r2').mean()"
      ],
      "execution_count": null,
      "outputs": []
    },
    {
      "cell_type": "markdown",
      "metadata": {
        "id": "1Nn3htkqRCZu"
      },
      "source": [
        "Теперь переберем разные параметры для дерева"
      ]
    },
    {
      "cell_type": "code",
      "metadata": {
        "id": "YVM2mlRNRCZu"
      },
      "source": [
        "gs = GridSearchCV(DecisionTreeRegressor(random_state=241),\n",
        "                  param_grid={\n",
        "                      'max_features': ['auto', 'log2', 'sqrt'], # the number of features to consider when looking for the best split\n",
        "                      'max_depth': [2, 4, 6, 8, 10, 20, 50],\n",
        "                      'min_samples_leaf': [1, 4, 8, 32],\n",
        "                  },\n",
        "                  cv=cv,\n",
        "                  scoring='r2')\n",
        "gs.fit(X, y)"
      ],
      "execution_count": null,
      "outputs": []
    },
    {
      "cell_type": "code",
      "metadata": {
        "id": "NMISXKEKRCZu"
      },
      "source": [
        "cv_grid = pd.DataFrame(gs.cv_results_['params'])\n",
        "\n",
        "cv_grid['mean_test_score'] = gs.cv_results_['mean_test_score']"
      ],
      "execution_count": null,
      "outputs": []
    },
    {
      "cell_type": "code",
      "metadata": {
        "id": "C6GljXIQRCZu"
      },
      "source": [
        "cv_grid.head()"
      ],
      "execution_count": null,
      "outputs": []
    },
    {
      "cell_type": "code",
      "metadata": {
        "id": "y6hAqDEPRCZu"
      },
      "source": [
        "sns.catplot(x='max_depth', y='mean_test_score', data=cv_grid,\n",
        "            col='min_samples_leaf', hue='max_features',\n",
        "            kind='point')"
      ],
      "execution_count": null,
      "outputs": []
    },
    {
      "cell_type": "markdown",
      "metadata": {
        "id": "PZ1XaicARCZu"
      },
      "source": [
        "* предположите почему при увеличении параметра `min_samples_leaf` дерево перестает переобучаться при росте `max_depth` ?"
      ]
    },
    {
      "cell_type": "code",
      "metadata": {
        "id": "zTB23QYkRCZu"
      },
      "source": [
        "gs.best_score_"
      ],
      "execution_count": null,
      "outputs": []
    },
    {
      "cell_type": "code",
      "metadata": {
        "id": "oe6XB3V4RCZu"
      },
      "source": [
        "gs.best_params_"
      ],
      "execution_count": null,
      "outputs": []
    },
    {
      "cell_type": "markdown",
      "metadata": {
        "id": "W1NzwvhLRCZu"
      },
      "source": [
        "## 4. Логрег и случайный лес в задаче кредитного скоринга"
      ]
    },
    {
      "cell_type": "markdown",
      "metadata": {
        "id": "owoP9fbhRCZv"
      },
      "source": [
        "В зале суда есть 5 присяжных, каждый из них по отдельности с вероятностью 70% может правильно определить, виновен подсудимый или нет. С какой вероятностью они все вместе вынесут правильный вердикт, если решение принимается большинством голосов?"
      ]
    },
    {
      "cell_type": "markdown",
      "metadata": {
        "id": "NGhnjgtaRCZv"
      },
      "source": [
        "#### Данные представлены следующим образом:\n",
        "\n",
        "##### Прогнозируемая  переменная\n",
        "* SeriousDlqin2yrs\t      – Человек не выплатил данный кредит в течение 90 дней; возможные значения  1/0 \n",
        "\n",
        "##### Независимые признаки\n",
        "* age\t                          –  Возраст заёмщика кредитных средств; тип - integer\n",
        "* NumberOfTime30-59DaysPastDueNotWorse\t – Количество раз, когда человек имел просрочку выплаты других кредитов более 30-59 дней, но не больше в течение последних двух лет; тип -\tinteger\n",
        "* DebtRatio  – \tЕжемесячный отчисления на задолжености(кредиты,алименты и т.д.)  / совокупный месячный доход \tpercentage; тип -\treal\n",
        "* MonthlyIncome\t – Месячный доход в долларах; тип -\treal\n",
        "* NumberOfTimes90DaysLate  – Количество раз, когда человек имел просрочку выплаты других кредитов более 90 дней; тип -\tinteger\n",
        "* NumberOfTime60-89DaysPastDueNotWorse – \tКоличество раз, когда человек имел просрочку выплаты других кредитов более 60-89 дней, но не больше в течение последних двух лет; тип -\tinteger\n",
        "* NumberOfDependents  – Число человек в семье кредитозаёмщика; тип -\tinteger"
      ]
    },
    {
      "cell_type": "code",
      "metadata": {
        "id": "JFmr5nrdRCZv"
      },
      "source": [
        "# Сделаем функцию, которая будет заменять NaN значения на медиану в каждом столбце таблицы \n",
        "def delete_nan(table):\n",
        "    for col in table.columns:\n",
        "        table[col]= table[col].fillna(table[col].median())\n",
        "    return table   "
      ],
      "execution_count": null,
      "outputs": []
    },
    {
      "cell_type": "code",
      "metadata": {
        "id": "7jqXt-w9RCZv"
      },
      "source": [
        "# Считываем данные\n",
        "data = pd.read_csv('credit_scoring_sample.csv', sep =';')\n",
        "data.head()"
      ],
      "execution_count": null,
      "outputs": []
    },
    {
      "cell_type": "code",
      "metadata": {
        "id": "rBof0RJyRCZv"
      },
      "source": [
        "# Рассмотрим типы считанных данных\n",
        "data.dtypes"
      ],
      "execution_count": null,
      "outputs": []
    },
    {
      "cell_type": "code",
      "metadata": {
        "id": "EadC9RnYRCZv"
      },
      "source": [
        "# Посмотрим на распределение классов в зависимой переменной\n",
        "\n",
        "ax =data['SeriousDlqin2yrs'].hist(orientation='horizontal', color='red')\n",
        "ax.set_xlabel(\"number_of_observations\")\n",
        "ax.set_ylabel(\"unique_value\")\n",
        "ax.set_title(\"Target distribution\")\n",
        "\n",
        "print('Distribution of target')\n",
        "data['SeriousDlqin2yrs'].value_counts()/data.shape[0]"
      ],
      "execution_count": null,
      "outputs": []
    },
    {
      "cell_type": "code",
      "metadata": {
        "id": "nN-ovZWiRCZv"
      },
      "source": [
        "# Выберем названия всех признаков из таблицы, кроме прогнозируемого\n",
        "\n",
        "independent_columns_names = data.columns.values\n",
        "independent_columns_names = [x for x in data if x != 'SeriousDlqin2yrs']\n",
        "independent_columns_names"
      ],
      "execution_count": null,
      "outputs": []
    },
    {
      "cell_type": "code",
      "metadata": {
        "id": "yZAdVffhRCZw"
      },
      "source": [
        "# Применяем функцию, заменяющую все NaN значения на медианное значение соответствующего столбца\n",
        "table =delete_nan(data)"
      ],
      "execution_count": null,
      "outputs": []
    },
    {
      "cell_type": "code",
      "metadata": {
        "id": "V-O94EEdRCZw"
      },
      "source": [
        "#Разделяем таргет и признаки \n",
        "X =table[independent_columns_names]\n",
        "y = table['SeriousDlqin2yrs']"
      ],
      "execution_count": null,
      "outputs": []
    },
    {
      "cell_type": "markdown",
      "metadata": {
        "id": "3UT7cXuzRCZw"
      },
      "source": [
        "### 4.1. Подбор параметров для модели логистической регрессии "
      ]
    },
    {
      "cell_type": "markdown",
      "metadata": {
        "id": "yzAzQA3aRCZw"
      },
      "source": [
        "#### Одной из важных метрик качества модели является значение площади под ROC-кривой. Значение ROC-AUC лежит от 0  до 1.   Чем ближе начение метрики ROC-AUC к 1, тем качественнее происходит классификация моделью."
      ]
    },
    {
      "cell_type": "code",
      "metadata": {
        "id": "2AZ1BCKLRCZw"
      },
      "source": [
        "from sklearn.linear_model import LogisticRegression\n",
        "\n",
        "## Используем модуль LogisticRegression для построения логистической регрессии.\n",
        "## Из-за несбалансированности классов  в таргете добавляем параметр балансировки.\n",
        "## Используем также параметр random_state=5 для воспроизводимости результатов\n",
        "lr = LogisticRegression(random_state=5, class_weight= 'balanced')\n",
        "\n",
        "## Попробуем подобрать лучший коэффициент регуляризации (коэффициент C в логистической регрессии) для модели лог.регрессии.\n",
        "## Этот параметр необходим для того, чтобы подобрать оптимальную модель, которая не будет переобучена, с одной стороны, \n",
        "## и будет хорошо предсказывать значения таргета, с другой.\n",
        "## Остальные параметры оставляем по умолчанию.\n",
        "parameters = {'C': (0.0001, 0.001, 0.01, 0.1, 1, 10)}\n",
        "\n",
        "## Для того, чтобы подобрать коэффициент регуляризации, попробуем для каждого его возможного значения посмотреть \n",
        "## значения roc-auc на стрэтифайд кросс-валидации из 5 фолдов с помощью функции StratifiedKFold\n",
        "\n",
        "skf = StratifiedKFold(n_splits=5, shuffle=True, random_state=5)"
      ],
      "execution_count": null,
      "outputs": []
    },
    {
      "cell_type": "markdown",
      "metadata": {
        "id": "G8N4173mRCZw"
      },
      "source": [
        "Сделайте GridSearch с метрикой \"roc-auc\" по параметру C. Какое оптимальное значение параметра С?"
      ]
    },
    {
      "cell_type": "code",
      "metadata": {
        "id": "D1N1b3iNRCZw"
      },
      "source": [
        ""
      ],
      "execution_count": null,
      "outputs": []
    },
    {
      "cell_type": "markdown",
      "metadata": {
        "id": "pQYhqKv0RCZw"
      },
      "source": [
        "Можно ли считать лучшую модель устойчивой? (модель считаем устойчивой, если стандартное отклонение на валидации меньше 0.5%)"
      ]
    },
    {
      "cell_type": "code",
      "metadata": {
        "id": "3ISko7h6RCZw"
      },
      "source": [
        ""
      ],
      "execution_count": null,
      "outputs": []
    },
    {
      "cell_type": "markdown",
      "metadata": {
        "id": "hw_588hYRCZw"
      },
      "source": [
        "### 4.2. Определение влияния признаков"
      ]
    },
    {
      "cell_type": "markdown",
      "metadata": {
        "id": "runPavIFRCZw"
      },
      "source": [
        "Определите самый важный признак. Важность признака определяется абсолютным значением его коэффициента. Так же нужно нормализировать все признаки, что бы можно их было корректно сравнить."
      ]
    },
    {
      "cell_type": "code",
      "metadata": {
        "id": "V2oR2v3TRCZx"
      },
      "source": [
        ""
      ],
      "execution_count": null,
      "outputs": []
    },
    {
      "cell_type": "markdown",
      "metadata": {
        "id": "Y79ysQSORCZx"
      },
      "source": [
        "Посчитайте долю влияния DebtRatio на предсказание. (Воспользуйтесь функцией [softmax](https://en.wikipedia.org/wiki/Softmax_function))"
      ]
    },
    {
      "cell_type": "code",
      "metadata": {
        "id": "f7emOB6RRCZx"
      },
      "source": [
        ""
      ],
      "execution_count": null,
      "outputs": []
    },
    {
      "cell_type": "markdown",
      "metadata": {
        "id": "KqaM9excRCZx"
      },
      "source": [
        "Давайте посмотрим как можно интерпретировать влияние наших признаков. Для этого заного оценим логистическую регрессию в абсолютных величинах. После этого посчитайте во сколько раз увеличатся шансы, что клиент не выплатит кредит, если увеличить возраст на 20 лет при всех остальных равных значениях признаков. (теоретический расчет можно посмотреть [здесь](https://www.unm.edu/~schrader/biostat/bio2/Spr06/lec11.pdf))"
      ]
    },
    {
      "cell_type": "code",
      "metadata": {
        "id": "9ZUMrCbORCZx"
      },
      "source": [
        ""
      ],
      "execution_count": null,
      "outputs": []
    },
    {
      "cell_type": "markdown",
      "metadata": {
        "id": "3EBPZd1MRCZx"
      },
      "source": [
        "### 4.3. Случайный лес"
      ]
    },
    {
      "cell_type": "code",
      "metadata": {
        "id": "RP3y5WIzRCZx"
      },
      "source": [
        "# Инициализируем случайный лес с 100 деревьями и сбалансированными классами \n",
        "rf = RandomForestClassifier(n_estimators=100, n_jobs=-1, \n",
        "                            random_state=42, oob_score=True, \n",
        "                            class_weight='balanced')\n",
        "\n",
        "## Будем искать лучшие параметры среди следующего набора\n",
        "parameters = {'max_features': [1, 2, 4], \n",
        "              'min_samples_leaf': [3, 5, 7, 9], \n",
        "              'max_depth': [5,10,15]}\n",
        "\n",
        "## Делаем опять же стрэтифайд k-fold валидацию. Инициализация которой должна у вас продолжать храниться в skf"
      ],
      "execution_count": null,
      "outputs": []
    },
    {
      "cell_type": "markdown",
      "metadata": {
        "id": "1Vp6GcTORCZx"
      },
      "source": [
        "На сколько точность лучшей модели случайного леса выше точности логистической регрессии на валидации?"
      ]
    },
    {
      "cell_type": "code",
      "metadata": {
        "id": "1ptZqrZ4RCZx"
      },
      "source": [
        ""
      ],
      "execution_count": null,
      "outputs": []
    },
    {
      "cell_type": "markdown",
      "metadata": {
        "id": "UzsgPCFaRCZy"
      },
      "source": [
        "Определите какой признак имеет самое слабое влияние"
      ]
    },
    {
      "cell_type": "code",
      "metadata": {
        "id": "6ODfrISQRCZy"
      },
      "source": [
        ""
      ],
      "execution_count": null,
      "outputs": []
    },
    {
      "cell_type": "markdown",
      "metadata": {
        "id": "QfOKrQ1NRCZy"
      },
      "source": [
        "## 5. Бэггинг"
      ]
    },
    {
      "cell_type": "code",
      "metadata": {
        "id": "k8rR5NbnRCZy"
      },
      "source": [
        "from sklearn.ensemble import BaggingClassifier\n",
        "from sklearn.model_selection import RandomizedSearchCV\n",
        "\n",
        "parameters = {'max_features': [2, 3, 4], 'max_samples': [0.5, 0.7, 0.9], \n",
        "              \"base_estimator__C\": [0.0001, 0.001, 0.01, 1, 10, 100]}"
      ],
      "execution_count": null,
      "outputs": []
    },
    {
      "cell_type": "markdown",
      "metadata": {
        "id": "JzwXKhpTRCZy"
      },
      "source": [
        "Следующая задача обучить бэггинг классификатор (`random_state`=42). В качестве базовых классификаторов возьмите 100 логистических регрессий и на этот раз используйте не `GridSearchCV`, а `RandomizedSearchCV`. Так как перебирать все 54 варианта комбинаций долго, то поставьте максимальное число итераций 20 для `RandomizedSearchCV`. Также не забудьте передать параметр валидации `cv` и `random_state=1`. Какая лучшая точность получилась?"
      ]
    },
    {
      "cell_type": "code",
      "metadata": {
        "id": "uYWgFruIRCZz"
      },
      "source": [
        ""
      ],
      "execution_count": null,
      "outputs": []
    }
  ]
}