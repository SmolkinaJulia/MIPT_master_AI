{
  "nbformat": 4,
  "nbformat_minor": 0,
  "metadata": {
    "kernelspec": {
      "display_name": "Python 3",
      "language": "python",
      "name": "python3"
    },
    "language_info": {
      "codemirror_mode": {
        "name": "ipython",
        "version": 3
      },
      "file_extension": ".py",
      "mimetype": "text/x-python",
      "name": "python",
      "nbconvert_exporter": "python",
      "pygments_lexer": "ipython3",
      "version": "3.8.5"
    },
    "colab": {
      "name": "Копия блокнота \"МТИИ графы домашнее задание 2.ipynb\"",
      "provenance": []
    }
  },
  "cells": [
    {
      "cell_type": "markdown",
      "metadata": {
        "id": "Swyrb0m3EYor"
      },
      "source": [
        "# Домашнее задание по курсу «Графы и сети» (МТИИ, осень 2021)"
      ]
    },
    {
      "cell_type": "markdown",
      "metadata": {
        "id": "OgjDx3uYFvHR"
      },
      "source": [
        "Для выполнения домашнего задания создайте дубликат этого файла прямо в Google Colab, заполните в нужных местах своим кодом, расшарьте по ссылке доступ для аккаунта dainiak@gmail.com, а саму ссылку на файл пришлите в соответствующей форме."
      ]
    },
    {
      "cell_type": "code",
      "metadata": {
        "id": "YX0nqZyeEYou"
      },
      "source": [
        "import networkx as nx"
      ],
      "execution_count": null,
      "outputs": []
    },
    {
      "cell_type": "markdown",
      "metadata": {
        "id": "6I7OY22uEYoy"
      },
      "source": [
        "### Задание 1\n",
        "Построив соответствующую сеть и решив для неё задачу о максимальном потоке любым из [имеющихся в networkx алгоритмов](https://networkx.org/documentation/stable/reference/algorithms/flow.html), найдите паросочетание максимального размера в заданном неориентированном двудольном графе $G$ ниже. Убедитесь, что Ваш код проходит тест ниже."
      ]
    },
    {
      "cell_type": "code",
      "metadata": {
        "id": "ylFz7rNcEYoy"
      },
      "source": [
        "k = 5\n",
        "n = 20\n",
        "G = nx.Graph()\n",
        "G.add_nodes_from(range(2*n))\n",
        "G.add_edges_from(\n",
        "    (a, b + n) \n",
        "    for a,b in nx.random_regular_graph(k, n, 2020).edges()\n",
        ")\n",
        "# Построенный выше тестовый граф G — двудольный\n",
        "# с номерами вершин в одной доле от 0 до n-1\n",
        "# и в другой доле от n до 2*n-1"
      ],
      "execution_count": null,
      "outputs": []
    },
    {
      "cell_type": "code",
      "metadata": {
        "id": "FQ6dGhfdEYoz"
      },
      "source": [
        "# В переменную M сохраните множество рёбер \n",
        "# наибольшего паросочетания в графе G\n",
        "# Ребро — это tuple или set или frozenset,\n",
        "# содержащее соответствующую пару вершин\n",
        "# В переменную M сохраните множество рёбер \n",
        "# наибольшего паросочетания в графе G\n",
        "# Ребро — это tuple или set или frozenset,\n",
        "# содержащее соответствующую пару вершин\n",
        "\n",
        "D = G.copy()\n",
        "left = set()\n",
        "right = set()\n",
        "G.add_node(2*n)\n",
        "G.add_node(2*n+1)\n",
        "G = nx.DiGraph()\n",
        "for i in D.nodes:\n",
        "  if (i <= n ):\n",
        "    left.add(i)\n",
        "  else:\n",
        "    right.add(i)\n",
        "new_nodes = set()\n",
        "new_nodes.update(left)\n",
        "new_nodes.update(right)\n",
        "G.add_edges_from([(2*n,a) for a in range(n)])\n",
        "G.add_edges_from([(b,2*n+1) for b in range(n,2*n)])\n",
        "G.add_edges_from([(i, j) for i, j in zip(left, right)])\n",
        "\n",
        "for i, j in zip(left, right):\n",
        "  nx.set_edge_attributes(D, {(i, j): {\"capacity\": 1.0}})\n",
        "for nd in G.edges():\n",
        "   G[nd[0]][nd[1]]['capacity'] = 1.0\n",
        "\n",
        "flow_value, flow_dict = nx.maximum_flow(G, 2*n, 2*n+1, capacity='capacity')\n",
        "sorted_flow = sorted(flow_dict.items(), key = lambda x: len(x[1]))\n",
        "\n",
        "M = set()\n",
        "used = set()\n",
        "matched = set()\n",
        "for node in [x[0] for x in sorted_flow]:\n",
        "  if node < n:\n",
        "    for el in flow_dict[node]:\n",
        "      if el not in used and el != n and el != 2*n+1:\n",
        "        used.add(el)\n",
        "        M.add((node,el))\n",
        "        matched.add(node)\n",
        "        break\n",
        "# Ваш код тут."
      ],
      "execution_count": null,
      "outputs": []
    },
    {
      "cell_type": "code",
      "metadata": {
        "colab": {
          "base_uri": "https://localhost:8080/"
        },
        "id": "5oJF0z93jHxs",
        "outputId": "4b28219a-f637-4916-8523-e6cd6b7b7f83"
      },
      "source": [
        "2*n in G\n",
        "2*n+1 in G"
      ],
      "execution_count": null,
      "outputs": [
        {
          "output_type": "execute_result",
          "data": {
            "text/plain": [
              "True"
            ]
          },
          "metadata": {},
          "execution_count": 5
        }
      ]
    },
    {
      "cell_type": "code",
      "metadata": {
        "id": "Rr0cL4EYFxsX"
      },
      "source": [
        "''' D = G.copy()\n",
        "left = set()\n",
        "right = set()\n",
        "M = set()\n",
        "G.add_node(-1)\n",
        "G.add_node(-2)\n",
        "D = nx.DiGraph()\n",
        "for i in D.nodes:\n",
        "  if (i <= n-1 and i >=0 or i == -1 ):\n",
        "    left.add(i)\n",
        "  else:\n",
        "    right.add(i)\n",
        "new_nodes = set()\n",
        "new_nodes.update(left)\n",
        "new_nodes.update(right)\n",
        "D.add_nodes_from(new_nodes)\n",
        "#D.add_edges_from([(i, j) for i, j in zip(left, right)])\n",
        "for i, j in zip(left, right):\n",
        "  nx.set_edge_attributes(D, {(i, j): {\"capacity\": 1.0}})\n",
        "G.add_nodes_from([2*n, 2*n+1])\n",
        "G.add_edges_from([(2*n,a) for a in range(n)])\n",
        "G.add_edges_from([(b,2*n+1) for b in range(n,2*n)])\n",
        "for e in G.edges():\n",
        "    G[e[0]][e[1]]['weight'] = 1\n",
        "flow_value, flow_dict = nx.maximum_flow(G, 2*n, 2*n+1, capacity='weight') '''\n",
        " '''"
      ],
      "execution_count": null,
      "outputs": []
    },
    {
      "cell_type": "code",
      "metadata": {
        "id": "bkVY_rZFEYo0",
        "colab": {
          "base_uri": "https://localhost:8080/"
        },
        "outputId": "7d0f86f7-d379-4a7e-ed34-f17987527c94"
      },
      "source": [
        "# Это простая проверка того, что M образует паросочетание,\n",
        "# и что его размер совпадает с эталонным\n",
        "from functools import reduce\n",
        "print(1 == len({\n",
        "    2*len(M),\n",
        "    len(reduce(lambda e1, e2: set(e1) | set(e2), M)),\n",
        "    len(nx.bipartite.maximum_matching(G, range(n)))\n",
        "}))"
      ],
      "execution_count": null,
      "outputs": [
        {
          "output_type": "stream",
          "name": "stdout",
          "text": [
            "True\n"
          ]
        }
      ]
    },
    {
      "cell_type": "markdown",
      "metadata": {
        "id": "neS1iFI0EYo1"
      },
      "source": [
        "### Задание 2\n",
        "Построив соответствующую сеть и решив для неё задачу о максимальном потоке, найдите максимально возможное количество не пересекающихся по внутренним **вершинам** путей между вершинами $s$ и $t$ в заданном неориентированном графе $G$. Убедитесь, что Ваш код проходит тест ниже."
      ]
    },
    {
      "cell_type": "code",
      "metadata": {
        "id": "JUbYkU1eEYo1"
      },
      "source": [
        "\n",
        "def num_disjoint_paths(G, s, t):\n",
        "    for nd in G.edges():\n",
        "      G[nd[0]][nd[1]]['capacity'] = 1\n",
        "    flow_value, flow_dict = nx.maximum_flow(G, s, t, capacity='capacity')\n",
        "    return flow_value\n",
        "    \n",
        "\n",
        "    # Ваш код тут."
      ],
      "execution_count": null,
      "outputs": []
    },
    {
      "cell_type": "code",
      "metadata": {
        "id": "32c8DtO-EYo1",
        "colab": {
          "base_uri": "https://localhost:8080/"
        },
        "outputId": "11dd34fc-0c96-44d1-b755-591355398ff7"
      },
      "source": [
        "# Простой тест, он должен проходиться при запуске непосредственно после предыдущей ячейки\n",
        "G = nx.mycielski_graph(10)\n",
        "s = 7\n",
        "t = 700\n",
        "print(\n",
        "    num_disjoint_paths(G, s, t) \n",
        "    == \n",
        "    nx.node_connectivity(G, s, t)\n",
        ")"
      ],
      "execution_count": null,
      "outputs": [
        {
          "output_type": "stream",
          "name": "stdout",
          "text": [
            "True\n"
          ]
        }
      ]
    },
    {
      "cell_type": "markdown",
      "metadata": {
        "id": "zUCWG1-aEYo2"
      },
      "source": [
        "### Задание 3\n",
        "Построив поток в соответствующей сети, выберите из данного множества задач `tasks` такое подмножество, суммарная выгода выполнения задач которого максимальна. \n",
        "\n",
        "Словарь `prerequisites` содержит для каждой задачи перечень других задач, которые требуется решить перед началом её выполнения (если таковые есть). \n",
        "\n",
        "Словарь `profit` содержит информацию о выгоде решения каждой из задач. Выгоды — целочисленные, могут быть как положительные, так и отрицательные, и нулевые.\n",
        "\n",
        "Также задано множество `compulsory` задач, которые нужно решить в обязательном порядке. Подумайте, и опишите в комментириях, как с минимальными усилиями интегрировать это в рассказанный на лекции алгоритм. Убедитесь, что Ваш код проходит тест ниже."
      ]
    },
    {
      "cell_type": "code",
      "metadata": {
        "id": "hfuq4eJZEYo2"
      },
      "source": [
        "# Ниже приведён алгоритм решения задачи полным перебором,\n",
        "# результат работы которого можно считать эталонным\n",
        "from itertools import combinations\n",
        "\n",
        "def brute_force_selection(tasks, prerequisites, profit, compulsory):\n",
        "    best_profit = 0\n",
        "    best_selection = set()\n",
        "    for ss in range(1, len(tasks)):\n",
        "        for c in combinations(tasks, ss):\n",
        "            if any(t not in c for t in compulsory):\n",
        "                continue\n",
        "            for t in c:\n",
        "                if t in prerequisites:\n",
        "                    for p in prerequisites[t]:\n",
        "                        if p not in c:\n",
        "                            break\n",
        "                    else:\n",
        "                        continue\n",
        "                    break\n",
        "            else:\n",
        "                current_profit = sum(profit[t] for t in c)\n",
        "                if current_profit > best_profit:\n",
        "                    best_profit = current_profit\n",
        "                    best_selection = set(c)\n",
        "    return best_selection"
      ],
      "execution_count": null,
      "outputs": []
    },
    {
      "cell_type": "code",
      "metadata": {
        "id": "EZUTFdnJEYo3"
      },
      "source": [
        "import numpy as np\n",
        "\n",
        "def flow_based_selection(tasks, prerequisites, profit, compulsory):\n",
        "  G = nx.DiGraph()\n",
        "  #best_profit = 0\n",
        "  #best_selection = set()\n",
        "  G.add_nodes_from(tasks)\n",
        "  G.add_nodes_from(['s','t'])\n",
        "  G.add_edges_from([(u,v) for u in prerequisites for v in prerequisites[u]])\n",
        "  \n",
        "  for u in compulsory:\n",
        "     G.add_edge('s',u)\n",
        "\n",
        "  for u in profit:\n",
        "    if profit[u] <=0:\n",
        "      G.add_edge(u,'t',capacity=-profit[u])\n",
        "#     elif u in compulsory:\n",
        "#        continue \n",
        "    else:\n",
        "        G.add_edge('s',u,capacity=profit[u])\n",
        "# обязательные задачки с большой капасити\n",
        "  for u in compulsory:\n",
        "    G.add_edge('s',u,capacity=np.inf)\n",
        "\n",
        "  cut_v,par = nx.minimum_cut(G,'s','t')\n",
        "  return par[0] - {'s'}\n",
        "\n",
        "    # Ваш код тут."
      ],
      "execution_count": null,
      "outputs": []
    },
    {
      "cell_type": "code",
      "metadata": {
        "id": "tP4UG199Zymy",
        "colab": {
          "base_uri": "https://localhost:8080/"
        },
        "outputId": "6c0418d4-c0c7-432d-ba89-2bac59352af2"
      },
      "source": [
        "flow_based_selection(tasks, prerequisites, profit, compulsory)"
      ],
      "execution_count": null,
      "outputs": [
        {
          "output_type": "execute_result",
          "data": {
            "text/plain": [
              "{2, 4, 5, 6, 7, 8, 9, 13, 15, 16, 17, 18, 19, 20, 21}"
            ]
          },
          "metadata": {},
          "execution_count": 47
        }
      ]
    },
    {
      "cell_type": "code",
      "metadata": {
        "id": "oN4WYlfgEYo3",
        "colab": {
          "base_uri": "https://localhost:8080/"
        },
        "outputId": "fe7fab10-a549-44ac-e777-0904d4e950eb"
      },
      "source": [
        "# Простой тест, он должен проходиться при запуске непосредственно после выполнения предыдущей ячейки\n",
        "import random\n",
        "random.seed(2020)\n",
        "\n",
        "tasks = set(range(1, 22))\n",
        "\n",
        "ranges = [\n",
        "    (1, len(tasks) // 3), \n",
        "    (len(tasks) // 3, 2 * len(tasks) // 3), \n",
        "    (2 * len(tasks) // 3, len(tasks))\n",
        "]\n",
        "\n",
        "prerequisites = {}\n",
        "for ri, r in enumerate(ranges):\n",
        "    if ri == 0:\n",
        "        continue\n",
        "    for t in range(*r):\n",
        "        if random.randrange(1000)/1000 < 0.4:\n",
        "            prerequisites[t] = set(random.sample(range(*ranges[ri-1]), 4))\n",
        "\n",
        "profit = {\n",
        "    task: random.randrange(-7, 15)\n",
        "    for task in tasks\n",
        "}\n",
        "\n",
        "compulsory = set(random.sample(tasks, 2))\n",
        "\n",
        "print(1 == len(set(\n",
        "    sum(map(profit.get, \n",
        "        method(\n",
        "            tasks, \n",
        "            prerequisites, \n",
        "            profit, \n",
        "            compulsory\n",
        "        )\n",
        "    ))\n",
        "    for method in [\n",
        "        brute_force_selection, \n",
        "        flow_based_selection\n",
        "    ]\n",
        ")))"
      ],
      "execution_count": null,
      "outputs": [
        {
          "output_type": "stream",
          "name": "stdout",
          "text": [
            "True\n"
          ]
        }
      ]
    }
  ]
}