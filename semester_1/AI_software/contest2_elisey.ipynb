{
 "cells": [
  {
   "cell_type": "code",
   "execution_count": 2,
   "metadata": {},
   "outputs": [
    {
     "name": "stdout",
     "output_type": "stream",
     "text": [
      "2\n",
      "10\n",
      "3\n",
      "60\n"
     ]
    }
   ],
   "source": [
    "a = int(input())\n",
    "b = int(input())\n",
    "c = int(input())\n",
    "s1 = a*b*c\n",
    "s2 = (a+b)*c\n",
    "s3 = a*(b+c)\n",
    "s4 = a + b + c\n",
    "print(max(s1,s2,s3,s4))"
   ]
  },
  {
   "cell_type": "code",
   "execution_count": 4,
   "metadata": {},
   "outputs": [
    {
     "name": "stdout",
     "output_type": "stream",
     "text": [
      "WUBWEWUBAREWUBWUBTHEWUBCHAMPIONSWUBMYWUBFRIENDWUB\n",
      "WE ARE THE CHAMPIONS MY FRIEND\n"
     ]
    }
   ],
   "source": [
    "s = input()\n",
    "print(' '.join([x for x in s.replace('WUB',' ').split() if len(x) > 0]))"
   ]
  },
  {
   "cell_type": "code",
   "execution_count": 9,
   "metadata": {},
   "outputs": [
    {
     "name": "stdout",
     "output_type": "stream",
     "text": [
      "172\n",
      "G?ATG??G?TTT?ATA?GAAGCACTTGCT?AGC??AG??GTTCG?T?G??G?AC?TAGGGCT?TA?TTCTA?TTCAGGAA?GGAAATTGAAG?A?CT?GGTGAGTCTCT?AAACAGT??T??TCAGG?AGTG?TT?TAAT??GG?G?GCA???G?GGA?GACGAATACTCAA\n",
      "? G 40\n",
      "? G 41\n",
      "? G 42\n",
      "? G 43\n",
      "? A 39\n",
      "? A 40\n",
      "? A 41\n",
      "? A 42\n",
      "? A 43\n",
      "? T 37\n",
      "? T 38\n",
      "? T 39\n",
      "? T 40\n",
      "? T 41\n",
      "? T 42\n",
      "? T 43\n",
      "? C 19\n",
      "? C 20\n",
      "? C 21\n",
      "? C 22\n",
      "? C 23\n",
      "? C 24\n",
      "? C 25\n",
      "? C 26\n",
      "? C 27\n",
      "? C 28\n",
      "? C 29\n",
      "? C 30\n",
      "? C 31\n",
      "? C 32\n",
      "? C 33\n",
      "? C 34\n",
      "? C 35\n",
      "? C 36\n",
      "? C 37\n",
      "? C 38\n",
      "? C 39\n",
      "? C 40\n",
      "? C 41\n",
      "? C 42\n",
      "? C 43\n",
      "GGATGGGGGTTTAATAAGAAGCACTTGCTAAGCAAAGTTGTTCGTTTGTTGTACCTAGGGCTCTACTTCTACTTCAGGAACGGAAATTGAAGCACCTCGGTGAGTCTCTCAAACAGTCCTCCTCAGGCAGTGCTTCTAATCCGGCGCGCACCCGCGGACGACGAATACTCAA\n"
     ]
    }
   ],
   "source": [
    "from collections import Counter\n",
    "import copy\n",
    "n = int(input())\n",
    "s = input()\n",
    "if n == 0 or len(s) != n:\n",
    "    print('===')\n",
    "elif n % 4 != 0:\n",
    "    print('===')\n",
    "else:\n",
    "    c = dict(Counter(s))\n",
    "    if '?' in c.keys():\n",
    "        c.pop('?')\n",
    "    wrong = False\n",
    "    for key in c.keys():\n",
    "        if key!='?' and c[key] > n // 4:\n",
    "            wrong = True\n",
    "            break\n",
    "    if wrong:\n",
    "        print('===')\n",
    "    else:\n",
    "        for let in ['A', 'C', 'G', 'T']:\n",
    "            if let not in c.keys():\n",
    "                c[let] = 0\n",
    "        news = copy.deepcopy(s)\n",
    "        for i in range(len(s)):\n",
    "            if s[i] == '?':\n",
    "                for key in c.keys():\n",
    "                    if c[key] < n // 4:\n",
    "                        news = news[:i] + key + news[i+1:]\n",
    "                        c[key] += 1\n",
    "                        #print(s[i], key, c[key])\n",
    "                        break\n",
    "        print(news)"
   ]
  },
  {
   "cell_type": "code",
   "execution_count": 18,
   "metadata": {},
   "outputs": [
    {
     "name": "stdout",
     "output_type": "stream",
     "text": [
      "WBWBWBWB\n",
      "WBWBWBWB\n",
      "BBWBWWWB\n",
      "NO\n"
     ]
    }
   ],
   "source": [
    "s = []\n",
    "wrong = False\n",
    "for i in range(8):\n",
    "    s.append(input())\n",
    "for i in range(8):\n",
    "    prevs = s[i][0]\n",
    "    for j in range(1,8):\n",
    "        if s[i][j] == prevs:\n",
    "            wrong = True\n",
    "            break\n",
    "        else:\n",
    "            prevs = s[i][j]\n",
    "    if wrong:\n",
    "        break\n",
    "if wrong:\n",
    "    print('NO')\n",
    "else:\n",
    "    print('YES')"
   ]
  },
  {
   "cell_type": "code",
   "execution_count": 41,
   "metadata": {},
   "outputs": [
    {
     "name": "stdout",
     "output_type": "stream",
     "text": [
      "ftphttprururu\n",
      "ftp://httpruru.ru\n"
     ]
    }
   ],
   "source": [
    "s = input()\n",
    "if s[:3] == 'ftp':\n",
    "    bru = 'ru'.join(s[3:].split('ru')[:-1])\n",
    "    aru = '/' + s[3:].split('ru')[-1]\n",
    "    if aru == '/':\n",
    "        aru = ''\n",
    "    s = 'ftp://' + bru + '.ru' + aru\n",
    "elif s[:4] == 'http':\n",
    "    bru = 'ru'.join(s[4:].split('ru')[:-1])\n",
    "    aru = '/' + s[4:].split('ru')[-1]\n",
    "    if aru == '/':\n",
    "        aru = ''\n",
    "    s = 'http://' + bru + '.ru' + aru\n",
    "print(s)"
   ]
  },
  {
   "cell_type": "code",
   "execution_count": 48,
   "metadata": {},
   "outputs": [
    {
     "name": "stdout",
     "output_type": "stream",
     "text": [
      "6\n",
      "f\n",
      "f\n",
      "s\n",
      "s\n",
      "t\n",
      "t\n",
      "OK\n",
      "f1\n",
      "OK\n",
      "s1\n",
      "OK\n",
      "t1\n"
     ]
    }
   ],
   "source": [
    "n = int(input())\n",
    "s = []\n",
    "for i in range(n):\n",
    "    s.append(input())\n",
    "namesdict = {}\n",
    "for i in range(n):\n",
    "    if s[i] not in namesdict:\n",
    "        namesdict[s[i]] = 0\n",
    "        print('OK')\n",
    "    else:\n",
    "        namesdict[s[i]] = namesdict[s[i]] + 1\n",
    "        print(s[i] + str(namesdict[s[i]]))"
   ]
  },
  {
   "cell_type": "code",
   "execution_count": 59,
   "metadata": {},
   "outputs": [
    {
     "name": "stdout",
     "output_type": "stream",
     "text": [
      "11 4 2\n",
      "2 2 0 7 3 2 2 4 9 1 4\n",
      "6\n"
     ]
    }
   ],
   "source": [
    "n, t, c = [int(x) for x in input().split()]\n",
    "hs = [int(x) for x in input().split()]\n",
    "chl = 0\n",
    "choices = 0\n",
    "maxl = 0\n",
    "def fact(k):\n",
    "    res = 1\n",
    "    for i in range(2, k+1):\n",
    "        res *= i\n",
    "    return res\n",
    "\n",
    "def cnk(n,k):\n",
    "    chisl = 1\n",
    "    for i in range(k+1,n+1):\n",
    "        chisl *= i\n",
    "    return chisl/fact(n-k)\n",
    "\n",
    "for i in range(n):\n",
    "    if hs[i] <= t:\n",
    "        chl += 1\n",
    "        if chl >= c:\n",
    "            choices += 1\n",
    "    else:\n",
    "        chl = 0\n",
    "print(choices)"
   ]
  },
  {
   "cell_type": "code",
   "execution_count": 72,
   "metadata": {},
   "outputs": [
    {
     "name": "stdout",
     "output_type": "stream",
     "text": [
      "4 100\n",
      "3 4 5 4\n",
      "5\n"
     ]
    }
   ],
   "source": [
    "import copy\n",
    "n, m = [int(x) for x in input().split()]\n",
    "a = [int(x) for x in input().split()]\n",
    "s = sum(a)\n",
    "\n",
    "l = 2\n",
    "r = s + n\n",
    "while l < r:\n",
    "    z = l + r >> 1;\n",
    "    b = copy.deepcopy(a)\n",
    "    p = n - 1;\n",
    "    for i in range(m):\n",
    "        while p >= 0 and b[p] == 0:\n",
    "            p -= 1\n",
    "        t = z - p - 1;\n",
    "        if t <= 0:\n",
    "            break\n",
    "        while p >= 0 and b[p] <= t:\n",
    "            t -= b[p-1]\n",
    "            p-=1\n",
    "        if p >= 0:\n",
    "            b[p] -= t;\n",
    "    \n",
    "    if p < 0:\n",
    "        r = z\n",
    "    else:\n",
    "        l = z + 1\n",
    "print(r)"
   ]
  },
  {
   "cell_type": "code",
   "execution_count": null,
   "metadata": {},
   "outputs": [],
   "source": []
  }
 ],
 "metadata": {
  "kernelspec": {
   "display_name": "Python 3",
   "language": "python",
   "name": "python3"
  },
  "language_info": {
   "codemirror_mode": {
    "name": "ipython",
    "version": 3
   },
   "file_extension": ".py",
   "mimetype": "text/x-python",
   "name": "python",
   "nbconvert_exporter": "python",
   "pygments_lexer": "ipython3",
   "version": "3.7.9"
  }
 },
 "nbformat": 4,
 "nbformat_minor": 4
}
