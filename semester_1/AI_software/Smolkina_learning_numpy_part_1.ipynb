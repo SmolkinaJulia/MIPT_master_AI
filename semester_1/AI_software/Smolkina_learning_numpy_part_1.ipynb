{
 "cells": [
  {
   "cell_type": "markdown",
   "metadata": {
    "id": "dQ6TeLVrsbxV"
   },
   "source": [
    "## Learning Numpy. The Hard Way. \n",
    "\n",
    "Вам нужно выполнить упражнения по Numpy.\n"
   ]
  },
  {
   "cell_type": "markdown",
   "metadata": {
    "id": "c8xOTji2sbxY"
   },
   "source": [
    "#### Задание 1.\n",
    "```python\n",
    " # Q. Import numpy as np and print the version number.\n",
    "```"
   ]
  },
  {
   "cell_type": "code",
   "execution_count": 3,
   "metadata": {},
   "outputs": [
    {
     "name": "stdout",
     "output_type": "stream",
     "text": [
      "3.8.8\n"
     ]
    }
   ],
   "source": [
    "import numpy as np\n",
    "import platform\n",
    "print(platform.python_version())"
   ]
  },
  {
   "cell_type": "markdown",
   "metadata": {
    "id": "LPkaJQ6MsbxY"
   },
   "source": [
    "#### Задание 2.\n",
    "```python\n",
    "# Q. Create a 1D array of numbers from 0 to 9\n",
    "\n",
    "# Desired Output\n",
    "# > array([0, 1, 2, 3, 4, 5, 6, 7, 8, 9])\n",
    "```"
   ]
  },
  {
   "cell_type": "code",
   "execution_count": 17,
   "metadata": {},
   "outputs": [
    {
     "data": {
      "text/plain": [
       "array([0, 1, 2, 3, 4, 5, 6, 7, 8, 9])"
      ]
     },
     "execution_count": 17,
     "metadata": {},
     "output_type": "execute_result"
    }
   ],
   "source": [
    "np.arange(10)"
   ]
  },
  {
   "cell_type": "markdown",
   "metadata": {
    "id": "Tbm4ljXtsbxY"
   },
   "source": [
    "#### Задание 3.\n",
    "```python\n",
    " # Q. Create a 3×3 numpy array of all True’s\n",
    "```"
   ]
  },
  {
   "cell_type": "code",
   "execution_count": 27,
   "metadata": {},
   "outputs": [
    {
     "data": {
      "text/plain": [
       "array([[1, 1, 1],\n",
       "       [1, 1, 1],\n",
       "       [1, 1, 1]])"
      ]
     },
     "execution_count": 27,
     "metadata": {},
     "output_type": "execute_result"
    }
   ],
   "source": [
    "np.vander([True,True,True], 3)"
   ]
  },
  {
   "cell_type": "markdown",
   "metadata": {
    "id": "24NJr9D_sbxZ"
   },
   "source": [
    "#### Задание 4.\n",
    "```python\n",
    "# Q. Extract all odd numbers from arr\n",
    "# Input \n",
    "arr = np.array([0, 1, 2, 3, 4, 5, 6, 7, 8, 9])\n",
    "print(\"Input\")\n",
    "arr\n",
    "\n",
    "# Desired Output\n",
    "# > array([1, 3, 5, 7, 9])\n",
    "```"
   ]
  },
  {
   "cell_type": "code",
   "execution_count": 32,
   "metadata": {},
   "outputs": [
    {
     "name": "stdout",
     "output_type": "stream",
     "text": [
      "Input\n"
     ]
    },
    {
     "data": {
      "text/plain": [
       "array([1, 3, 5, 7, 9])"
      ]
     },
     "execution_count": 32,
     "metadata": {},
     "output_type": "execute_result"
    }
   ],
   "source": [
    "arr = np.array([0, 1, 2, 3, 4, 5, 6, 7, 8, 9])\n",
    "print(\"Input\")\n",
    "arr\n",
    "\n",
    "new_odd_array = arr[1::2]\n",
    "new_odd_array"
   ]
  },
  {
   "cell_type": "markdown",
   "metadata": {
    "id": "LFUETNZ2sbxZ"
   },
   "source": [
    "#### Задание 5.\n",
    "```python\n",
    "# Q. Replace all odd numbers in arr with -1\n",
    "# Input \n",
    "arr = np.array([0, 1, 2, 3, 4, 5, 6, 7, 8, 9])\n",
    "print(\"Input\")\n",
    "arr\n",
    "\n",
    "# Desired Output\n",
    "# >  array([ 0, -1,  2, -1,  4, -1,  6, -1,  8, -1])\n",
    "```"
   ]
  },
  {
   "cell_type": "code",
   "execution_count": 42,
   "metadata": {},
   "outputs": [
    {
     "data": {
      "text/plain": [
       "[0, -1, 2, -1, 4, -1, 6, -1, 8, -1]"
      ]
     },
     "execution_count": 42,
     "metadata": {},
     "output_type": "execute_result"
    }
   ],
   "source": [
    "arr = [-1 if x % 2 else x for x in arr]\n",
    "arr"
   ]
  },
  {
   "cell_type": "markdown",
   "metadata": {
    "id": "SnQ9cjWCsbxZ"
   },
   "source": [
    "#### Задание 6.\n",
    "```python\n",
    "# Q. Replace all odd numbers in arr with -1 without changing arr\n",
    "# Input \n",
    "arr = np.array([0, 1, 2, 3, 4, 5, 6, 7, 8, 9])\n",
    "print(\"Input\")\n",
    "arr\n",
    "\n",
    "# Desired Output\n",
    "# out #>  array([ 0, -1,  2, -1,  4, -1,  6, -1,  8, -1])\n",
    "# arr #>  array([0, 1, 2, 3, 4, 5, 6, 7, 8, 9])\n",
    "```"
   ]
  },
  {
   "cell_type": "code",
   "execution_count": 43,
   "metadata": {},
   "outputs": [
    {
     "name": "stdout",
     "output_type": "stream",
     "text": [
      "[0, -1, 2, -1, 4, -1, 6, -1, 8, -1] [0 1 2 3 4 5 6 7 8 9]\n"
     ]
    }
   ],
   "source": [
    "arr = np.array([0, 1, 2, 3, 4, 5, 6, 7, 8, 9])\n",
    "new_array = [-1 if x % 2 else x for x in arr]\n",
    "print(new_array,arr)"
   ]
  },
  {
   "cell_type": "markdown",
   "metadata": {
    "id": "rL83-6eUsbxa"
   },
   "source": [
    "#### Задание 7.\n",
    "```python\n",
    "# Q. Convert a 1D array to a 2D array with 2 rows\n",
    "# Input \n",
    "arr = np.arange(10)\n",
    "print(\"Input\")\n",
    "arr\n",
    "\n",
    "# Desired Output\n",
    "# > array([[0, 1, 2, 3, 4],\n",
    "# >        [5, 6, 7, 8, 9]])\n",
    "```"
   ]
  },
  {
   "cell_type": "code",
   "execution_count": 55,
   "metadata": {},
   "outputs": [
    {
     "data": {
      "text/plain": [
       "array([[0, 1, 2, 3, 4],\n",
       "       [5, 6, 7, 8, 9]])"
      ]
     },
     "execution_count": 55,
     "metadata": {},
     "output_type": "execute_result"
    }
   ],
   "source": [
    "arr = np.arange(10)\n",
    "arr = arr.reshape(2, -1)\n",
    "arr"
   ]
  },
  {
   "cell_type": "markdown",
   "metadata": {
    "id": "D24TiwVEsbxa"
   },
   "source": [
    "#### Задание 8.\n",
    "```python\n",
    "# Q. Stack arrays a and b vertically\n",
    "# Input\n",
    "print(\"Input\")\n",
    "a = np.arange(10).reshape(2,-1)\n",
    "b = np.repeat(1, 10).reshape(2,-1)\n",
    "a\n",
    "b\n",
    "\n",
    "# Desired Output\n",
    "#> array([[0, 1, 2, 3, 4],\n",
    "#>        [5, 6, 7, 8, 9],\n",
    "#>        [1, 1, 1, 1, 1],\n",
    "#>        [1, 1, 1, 1, 1]])\n",
    "```"
   ]
  },
  {
   "cell_type": "code",
   "execution_count": 60,
   "metadata": {},
   "outputs": [
    {
     "name": "stdout",
     "output_type": "stream",
     "text": [
      "[[0 1 2 3 4]\n",
      " [5 6 7 8 9]\n",
      " [1 1 1 1 1]\n",
      " [1 1 1 1 1]]\n"
     ]
    }
   ],
   "source": [
    "print(np.vstack([a, b]))"
   ]
  },
  {
   "cell_type": "markdown",
   "metadata": {
    "id": "Z3BVLI5Xsbxa"
   },
   "source": [
    "#### Задание 9.\n",
    "```python\n",
    "# Q. Stack the arrays a and b horizontally.\n",
    "# Input\n",
    "print(\"Input\")\n",
    "a = np.arange(10).reshape(2,-1)\n",
    "b = np.repeat(1, 10).reshape(2,-1)\n",
    "\n",
    "# Desired Output\n",
    "# > array([[0, 1, 2, 3, 4, 1, 1, 1, 1, 1],\n",
    "# >        [5, 6, 7, 8, 9, 1, 1, 1, 1, 1]])\n",
    "```"
   ]
  },
  {
   "cell_type": "code",
   "execution_count": 61,
   "metadata": {},
   "outputs": [
    {
     "name": "stdout",
     "output_type": "stream",
     "text": [
      "[[0 1 2 3 4 1 1 1 1 1]\n",
      " [5 6 7 8 9 1 1 1 1 1]]\n"
     ]
    }
   ],
   "source": [
    "print(np.hstack([a, b]))"
   ]
  },
  {
   "cell_type": "markdown",
   "metadata": {
    "id": "BxlfM9qssbxb"
   },
   "source": [
    "#### Задание 10.\n",
    "```python\n",
    "# Q. Create the following pattern without hardcoding. Use only numpy functions and the below input array a.\n",
    "\n",
    "# Input\n",
    "print(\"Input\")\n",
    "a = np.array([1,2,3])\n",
    "a\n",
    "\n",
    "# Desired Output\n",
    "# > array([1, 1, 1, 2, 2, 2, 3, 3, 3, 1, 2, 3, 1, 2, 3, 1, 2, 3])\n",
    "```"
   ]
  },
  {
   "cell_type": "code",
   "execution_count": 63,
   "metadata": {},
   "outputs": [
    {
     "data": {
      "text/plain": [
       "array([1, 1, 1, 2, 2, 2, 3, 3, 3, 1, 2, 3, 1, 2, 3, 1, 2, 3])"
      ]
     },
     "execution_count": 63,
     "metadata": {},
     "output_type": "execute_result"
    }
   ],
   "source": [
    "a = np.r_[np.repeat(a, 3), np.tile(a, 3)]\n",
    "a"
   ]
  },
  {
   "cell_type": "markdown",
   "metadata": {
    "id": "x6zS23dhsbxb"
   },
   "source": [
    "#### Задание 11.\n",
    "```python\n",
    "# Q. Get the common items between a and b\n",
    "\n",
    "# Input\n",
    "print(\"Input\")\n",
    "a = np.array([1,2,3,2,3,4,3,4,5,6])\n",
    "b = np.array([7,2,10,2,7,4,9,4,9,8])\n",
    "a\n",
    "b\n",
    "\n",
    "# Desired Output\n",
    "# array([2, 4])\n",
    "```"
   ]
  },
  {
   "cell_type": "code",
   "execution_count": 65,
   "metadata": {},
   "outputs": [
    {
     "data": {
      "text/plain": [
       "array([2, 4])"
      ]
     },
     "execution_count": 65,
     "metadata": {},
     "output_type": "execute_result"
    }
   ],
   "source": [
    "a = np.array([1,2,3,2,3,4,3,4,5,6])\n",
    "b = np.array([7,2,10,2,7,4,9,4,9,8])\n",
    "new = np.intersect1d(a,b)\n",
    "new"
   ]
  },
  {
   "cell_type": "markdown",
   "metadata": {
    "id": "WBvkV6ibsbxb"
   },
   "source": [
    "#### Задание 12.\n",
    "```python\n",
    "# Q. From array a remove all items present in array b\n",
    "\n",
    "# Input\n",
    "print(\"Input\")\n",
    "a = np.array([1,2,3,4,5])\n",
    "b = np.array([5,6,7,8,9])\n",
    "a\n",
    "b\n",
    "\n",
    "# Desired Output\n",
    "# array([1,2,3,4])\n",
    "```"
   ]
  },
  {
   "cell_type": "code",
   "execution_count": 67,
   "metadata": {},
   "outputs": [
    {
     "name": "stdout",
     "output_type": "stream",
     "text": [
      "[1 2 3 4]\n"
     ]
    }
   ],
   "source": [
    "a = np.array([1,2,3,4,5])\n",
    "b = np.array([5,6,7,8,9])\n",
    "print(np.setdiff1d(a,b))"
   ]
  },
  {
   "cell_type": "markdown",
   "metadata": {
    "id": "uEx6kucUsbxc"
   },
   "source": [
    "#### Задание 13.\n",
    "```python\n",
    "# Q. Get the positions where elements of a and b match\n",
    "\n",
    "# Input\n",
    "print(\"Input\")\n",
    "a = np.array([1,2,3,2,3,4,3,4,5,6])\n",
    "b = np.array([7,2,10,2,7,4,9,4,9,8])\n",
    "a\n",
    "b\n",
    "\n",
    "# Desired Output\n",
    "# > (array([1, 3, 5, 7]),)\n",
    "```"
   ]
  },
  {
   "cell_type": "code",
   "execution_count": 68,
   "metadata": {},
   "outputs": [
    {
     "data": {
      "text/plain": [
       "(array([1, 3, 5, 7], dtype=int64),)"
      ]
     },
     "execution_count": 68,
     "metadata": {},
     "output_type": "execute_result"
    }
   ],
   "source": [
    "a = np.array([1,2,3,2,3,4,3,4,5,6])\n",
    "b = np.array([7,2,10,2,7,4,9,4,9,8])\n",
    "new = np.where(a==b)\n",
    "new"
   ]
  },
  {
   "cell_type": "markdown",
   "metadata": {
    "id": "j8w1D0lLsbxc"
   },
   "source": [
    "#### Задание 14.\n",
    "```python\n",
    "# Q. Get all items between 5 and 10 from a.\n",
    "\n",
    "# Input\n",
    "print(\"Input\")\n",
    "a = np.array([2, 6, 1, 9, 10, 3, 27])\n",
    "a\n",
    "\n",
    "# Desired Output\n",
    "# (array([6, 9, 10]),)\n",
    "```"
   ]
  },
  {
   "cell_type": "code",
   "execution_count": 77,
   "metadata": {},
   "outputs": [
    {
     "data": {
      "text/plain": [
       "array([ 6,  9, 10])"
      ]
     },
     "execution_count": 77,
     "metadata": {},
     "output_type": "execute_result"
    }
   ],
   "source": [
    "a = np.array([2, 6, 1, 9, 10, 3, 27])\n",
    "index = np.where((a >= 5) & (a <= 10))\n",
    "a[index]"
   ]
  },
  {
   "cell_type": "markdown",
   "metadata": {
    "id": "VCzEXBBjsbxc"
   },
   "source": [
    "#### Задание 15.\n",
    "```python\n",
    "# Q. Convert the function maxx that works on two scalars, to work on two arrays.\n",
    "\n",
    "# Input\n",
    "\n",
    "def maxx(x, y):\n",
    "    \"\"\"\n",
    "    Get the maximum of two items\n",
    "    \"\"\"\n",
    "    \n",
    "    if x >= y:\n",
    "        return x\n",
    "    else:\n",
    "        return y\n",
    "print(\"Result of the maxx function\")\n",
    "maxx(1, 5)\n",
    "\n",
    "print(\"Input\")\n",
    "a = np.array([5, 7, 9, 8, 6, 4, 5])\n",
    "b = np.array([6, 3, 4, 8, 9, 7, 1])\n",
    "a\n",
    "b\n",
    "\n",
    "# Desired Output\n",
    "# pair_max(a, b)\n",
    "#> array([ 6.,  7.,  9.,  8.,  9.,  7.,  5.])\n",
    "```"
   ]
  },
  {
   "cell_type": "code",
   "execution_count": 71,
   "metadata": {},
   "outputs": [
    {
     "data": {
      "text/plain": [
       "array([6., 7., 9., 8., 9., 7., 5.])"
      ]
     },
     "execution_count": 71,
     "metadata": {},
     "output_type": "execute_result"
    }
   ],
   "source": [
    "a = np.array([5, 7, 9, 8, 6, 4, 5])\n",
    "b = np.array([6, 3, 4, 8, 9, 7, 1])\n",
    "max = np.vectorize(max, otypes=[int])\n",
    "max(a,b)\n",
    "max = np.vectorize(max, otypes=[float])\n",
    "max(a,b)"
   ]
  },
  {
   "cell_type": "markdown",
   "metadata": {
    "id": "gMq_g-Etsbxc"
   },
   "source": [
    "#### Задание 16.\n",
    "```python\n",
    "# Q. Swap columns 1 and 2 in the array arr.\n",
    "\n",
    "# Input\n",
    "print(\"Input\")\n",
    "arr = np.arange(9).reshape(3,3)\n",
    "arr\n",
    "```"
   ]
  },
  {
   "cell_type": "code",
   "execution_count": 82,
   "metadata": {},
   "outputs": [
    {
     "data": {
      "text/plain": [
       "array([[1, 0, 2],\n",
       "       [4, 3, 5],\n",
       "       [7, 6, 8]])"
      ]
     },
     "execution_count": 82,
     "metadata": {},
     "output_type": "execute_result"
    }
   ],
   "source": [
    "arr = np.arange(9).reshape(3,3)\n",
    "arr\n",
    "arr = arr[:, [1,0,2]]\n",
    "arr"
   ]
  },
  {
   "cell_type": "markdown",
   "metadata": {
    "id": "Z6yPEalTsbxd"
   },
   "source": [
    "#### Задание 17.\n",
    "```python\n",
    "# Q. Swap rows 1 and 2 in the array arr:\n",
    "\n",
    "# Input\n",
    "print(\"Input\")\n",
    "arr = np.arange(9).reshape(3,3)\n",
    "arr\n",
    "```"
   ]
  },
  {
   "cell_type": "code",
   "execution_count": 4,
   "metadata": {},
   "outputs": [
    {
     "data": {
      "text/plain": [
       "array([[3, 4, 5],\n",
       "       [0, 1, 2],\n",
       "       [6, 7, 8]])"
      ]
     },
     "execution_count": 4,
     "metadata": {},
     "output_type": "execute_result"
    }
   ],
   "source": [
    "\n",
    "arr = np.arange(9).reshape(3,3)\n",
    "arr\n",
    "arr = arr[ [1,0,2],:]\n",
    "arr"
   ]
  },
  {
   "cell_type": "markdown",
   "metadata": {
    "id": "xlShWYVBsbxd"
   },
   "source": [
    "#### Задание 18.\n",
    "```python\n",
    "# Q. Reverse the rows of a 2D array arr.\n",
    "\n",
    "# Input\n",
    "print(\"Input\")\n",
    "arr = np.arange(9).reshape(3,3)\n",
    "arr\n",
    "```"
   ]
  },
  {
   "cell_type": "code",
   "execution_count": 6,
   "metadata": {},
   "outputs": [
    {
     "data": {
      "text/plain": [
       "array([[6, 7, 8],\n",
       "       [3, 4, 5],\n",
       "       [0, 1, 2]])"
      ]
     },
     "execution_count": 6,
     "metadata": {},
     "output_type": "execute_result"
    }
   ],
   "source": [
    "arr = np.arange(9).reshape(3,3)\n",
    "arr[::-1]"
   ]
  },
  {
   "cell_type": "markdown",
   "metadata": {
    "id": "_Opyl7JXsbxd"
   },
   "source": [
    "#### Задание 19.\n",
    "```python\n",
    "# Q. Reverse the columns of a 2D array arr.\n",
    "\n",
    "# Input\n",
    "print(\"Input\")\n",
    "arr = np.arange(9).reshape(3,3)\n",
    "arr\n",
    "```"
   ]
  },
  {
   "cell_type": "code",
   "execution_count": 7,
   "metadata": {},
   "outputs": [
    {
     "data": {
      "text/plain": [
       "array([[2, 1, 0],\n",
       "       [5, 4, 3],\n",
       "       [8, 7, 6]])"
      ]
     },
     "execution_count": 7,
     "metadata": {},
     "output_type": "execute_result"
    }
   ],
   "source": [
    "arr = np.arange(9).reshape(3,3)\n",
    "arr[:,::-1]"
   ]
  },
  {
   "cell_type": "markdown",
   "metadata": {
    "id": "vwuTaK0qsbxd"
   },
   "source": [
    "#### Задание 20.\n",
    "```python\n",
    "# Q. Create a 2D array of shape 5x3 to contain random decimal numbers between 5 and 10.\n",
    "```"
   ]
  },
  {
   "cell_type": "code",
   "execution_count": 18,
   "metadata": {},
   "outputs": [
    {
     "data": {
      "text/plain": [
       "array([[8.39173715, 8.95426262, 7.98244743],\n",
       "       [9.66084582, 7.88686953, 6.47434012],\n",
       "       [8.14534578, 5.87290831, 5.72335165],\n",
       "       [7.64983064, 9.3641085 , 9.34715032],\n",
       "       [7.51668069, 7.6096357 , 6.75968871]])"
      ]
     },
     "execution_count": 18,
     "metadata": {},
     "output_type": "execute_result"
    }
   ],
   "source": [
    "arr = np.random.uniform(5,10, size=(5,3))\n",
    "arr"
   ]
  }
 ],
 "metadata": {
  "colab": {
   "collapsed_sections": [],
   "name": "Seminar-05.ipynb",
   "provenance": []
  },
  "kernelspec": {
   "display_name": "Python 3",
   "language": "python",
   "name": "python3"
  },
  "language_info": {
   "codemirror_mode": {
    "name": "ipython",
    "version": 3
   },
   "file_extension": ".py",
   "mimetype": "text/x-python",
   "name": "python",
   "nbconvert_exporter": "python",
   "pygments_lexer": "ipython3",
   "version": "3.8.8"
  }
 },
 "nbformat": 4,
 "nbformat_minor": 1
}
