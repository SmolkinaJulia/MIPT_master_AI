{
 "cells": [
  {
   "cell_type": "markdown",
   "id": "c421c4cb",
   "metadata": {},
   "source": [
    "## Learning Numpy. The Hard Way. Part 3.\n",
    "\n",
    "Вам нужно выполнить __последнюю часть__ упражнений по Numpy.\n"
   ]
  },
  {
   "cell_type": "code",
   "execution_count": 2,
   "id": "23c33bc1",
   "metadata": {},
   "outputs": [],
   "source": [
    "import numpy as np\n",
    "url = 'https://archive.ics.uci.edu/ml/machine-learning-databases/iris/iris.data'\n",
    "iris_2d = np.genfromtxt(url, delimiter=',', dtype='float', usecols=[0,1,2,3])\n",
    "names = ('sepallength', 'sepalwidth', 'petallength', 'petalwidth', 'species')\n",
    "np.set_printoptions(edgeitems=3,infstr='inf', linewidth=75, nanstr='nan', precision=3, suppress=False, threshold=1000, formatter=None)\n",
    "url = 'https://archive.ics.uci.edu/ml/machine-learning-databases/iris/iris.data'\n",
    "iris = np.genfromtxt(url, delimiter=',', dtype='object')"
   ]
  },
  {
   "cell_type": "markdown",
   "id": "00cdc834",
   "metadata": {
    "id": "1soqqrozsbxk"
   },
   "source": [
    "#### Задание 41.\n",
    "```python\n",
    "# Q. Create a new column for volume in iris_2d, where volume is (pi x petallength x sepal_length^2)/3\n",
    "\n",
    "# Input\n",
    "# Use the iris dataset provided\n",
    "print_files()\n",
    "\n",
    "# Use this if you are working on your local machine\n",
    "# url = 'https://archive.ics.uci.edu/ml/machine-learning-databases/iris/iris.data'\n",
    "# iris_2d = np.genfromtxt(url, delimiter=',', dtype='float', usecols=[0,1,2,3])\n",
    "# names = ('sepallength', 'sepalwidth', 'petallength', 'petalwidth', 'species')\n",
    "```"
   ]
  },
  {
   "cell_type": "code",
   "execution_count": 27,
   "id": "835f7f84",
   "metadata": {},
   "outputs": [
    {
     "name": "stdout",
     "output_type": "stream",
     "text": [
      "[[  5.1    3.5    1.4    0.2   38.13]\n",
      " [  4.9    3.     1.4    0.2   35.2 ]\n",
      " [  4.7    3.2    1.3    0.2   30.07]\n",
      " [  4.6    3.1    1.5    0.2   33.24]\n",
      " [  5.     3.6    1.4    0.2   36.65]\n",
      " [  5.4    3.9    1.7    0.4   51.91]\n",
      " [  4.6    3.4    1.4    0.3   31.02]\n",
      " [  5.     3.4    1.5    0.2   39.27]\n",
      " [  4.4    2.9    1.4    0.2   28.38]\n",
      " [  4.9    3.1    1.5    0.1   37.71]\n",
      " [  5.4    3.7    1.5    0.2   45.8 ]\n",
      " [  4.8    3.4    1.6    0.2   38.6 ]\n",
      " [  4.8    3.     1.4    0.1   33.78]\n",
      " [  4.3    3.     1.1    0.1   21.3 ]\n",
      " [  5.8    4.     1.2    0.2   42.27]\n",
      " [  5.7    4.4    1.5    0.4   51.04]\n",
      " [  5.4    3.9    1.3    0.4   39.7 ]\n",
      " [  5.1    3.5    1.4    0.3   38.13]\n",
      " [  5.7    3.8    1.7    0.3   57.84]\n",
      " [  5.1    3.8    1.5    0.3   40.86]\n",
      " [  5.4    3.4    1.7    0.2   51.91]\n",
      " [  5.1    3.7    1.5    0.4   40.86]\n",
      " [  4.6    3.6    1.     0.2   22.16]\n",
      " [  5.1    3.3    1.7    0.5   46.3 ]\n",
      " [  4.8    3.4    1.9    0.2   45.84]\n",
      " [  5.     3.     1.6    0.2   41.89]\n",
      " [  5.     3.4    1.6    0.4   41.89]\n",
      " [  5.2    3.5    1.5    0.2   42.47]\n",
      " [  5.2    3.4    1.4    0.2   39.64]\n",
      " [  4.7    3.2    1.6    0.2   37.01]\n",
      " [  4.8    3.1    1.6    0.2   38.6 ]\n",
      " [  5.4    3.4    1.5    0.4   45.8 ]\n",
      " [  5.2    4.1    1.5    0.1   42.47]\n",
      " [  5.5    4.2    1.4    0.2   44.35]\n",
      " [  4.9    3.1    1.5    0.1   37.71]\n",
      " [  5.     3.2    1.2    0.2   31.42]\n",
      " [  5.5    3.5    1.3    0.2   41.18]\n",
      " [  4.9    3.1    1.5    0.1   37.71]\n",
      " [  4.4    3.     1.3    0.2   26.36]\n",
      " [  5.1    3.4    1.5    0.2   40.86]\n",
      " [  5.     3.5    1.3    0.3   34.03]\n",
      " [  4.5    2.3    1.3    0.3   27.57]\n",
      " [  4.4    3.2    1.3    0.2   26.36]\n",
      " [  5.     3.5    1.6    0.6   41.89]\n",
      " [  5.1    3.8    1.9    0.4   51.75]\n",
      " [  4.8    3.     1.4    0.3   33.78]\n",
      " [  5.1    3.8    1.6    0.2   43.58]\n",
      " [  4.6    3.2    1.4    0.2   31.02]\n",
      " [  5.3    3.7    1.5    0.2   44.12]\n",
      " [  5.     3.3    1.4    0.2   36.65]\n",
      " [  7.     3.2    4.7    1.4  241.17]\n",
      " [  6.4    3.2    4.5    1.5  193.02]\n",
      " [  6.9    3.1    4.9    1.5  244.3 ]\n",
      " [  5.5    2.3    4.     1.3  126.71]\n",
      " [  6.5    2.8    4.6    1.5  203.52]\n",
      " [  5.7    2.8    4.5    1.3  153.11]\n",
      " [  6.3    3.3    4.7    1.6  195.35]\n",
      " [  4.9    2.4    3.3    1.    82.97]\n",
      " [  6.6    2.9    4.6    1.3  209.83]\n",
      " [  5.2    2.7    3.9    1.4  110.43]\n",
      " [  5.     2.     3.5    1.    91.63]\n",
      " [  5.9    3.     4.2    1.5  153.1 ]\n",
      " [  6.     2.2    4.     1.   150.8 ]\n",
      " [  6.1    2.9    4.7    1.4  183.14]\n",
      " [  5.6    2.9    3.6    1.3  118.22]\n",
      " [  6.7    3.1    4.4    1.4  206.84]\n",
      " [  5.6    3.     4.5    1.5  147.78]\n",
      " [  5.8    2.7    4.1    1.   144.43]\n",
      " [  6.2    2.2    4.5    1.5  181.14]\n",
      " [  5.6    2.5    3.9    1.1  128.08]\n",
      " [  5.9    3.2    4.8    1.8  174.97]\n",
      " [  6.1    2.8    4.     1.3  155.86]\n",
      " [  6.3    2.5    4.9    1.5  203.66]\n",
      " [  6.1    2.8    4.7    1.2  183.14]\n",
      " [  6.4    2.9    4.3    1.3  184.44]\n",
      " [  6.6    3.     4.4    1.4  200.71]\n",
      " [  6.8    2.8    4.8    1.4  232.43]\n",
      " [  6.7    3.     5.     1.7  235.04]\n",
      " [  6.     2.9    4.5    1.5  169.65]\n",
      " [  5.7    2.6    3.5    1.   119.08]\n",
      " [  5.5    2.4    3.8    1.1  120.38]\n",
      " [  5.5    2.4    3.7    1.   117.21]\n",
      " [  5.8    2.7    3.9    1.2  137.39]\n",
      " [  6.     2.7    5.1    1.6  192.27]\n",
      " [  5.4    3.     4.5    1.5  137.41]\n",
      " [  6.     3.4    4.5    1.6  169.65]\n",
      " [  6.7    3.1    4.7    1.5  220.94]\n",
      " [  6.3    2.3    4.4    1.3  182.88]\n",
      " [  5.6    3.     4.1    1.3  134.64]\n",
      " [  5.5    2.5    4.     1.3  126.71]\n",
      " [  5.5    2.6    4.4    1.2  139.38]\n",
      " [  6.1    3.     4.6    1.4  179.24]\n",
      " [  5.8    2.6    4.     1.2  140.91]\n",
      " [  5.     2.3    3.3    1.    86.39]\n",
      " [  5.6    2.7    4.2    1.3  137.93]\n",
      " [  5.7    3.     4.2    1.2  142.9 ]\n",
      " [  5.7    2.9    4.2    1.3  142.9 ]\n",
      " [  6.2    2.9    4.3    1.3  173.09]\n",
      " [  5.1    2.5    3.     1.1   81.71]\n",
      " [  5.7    2.8    4.1    1.3  139.5 ]\n",
      " [  6.3    3.3    6.     2.5  249.38]\n",
      " [  5.8    2.7    5.1    1.9  179.66]\n",
      " [  7.1    3.     5.9    2.1  311.46]\n",
      " [  6.3    2.9    5.6    1.8  232.75]\n",
      " [  6.5    3.     5.8    2.2  256.62]\n",
      " [  7.6    3.     6.6    2.1  399.21]\n",
      " [  4.9    2.5    4.5    1.7  113.14]\n",
      " [  7.3    2.9    6.3    1.8  351.57]\n",
      " [  6.7    2.5    5.8    1.8  272.65]\n",
      " [  7.2    3.6    6.1    2.5  331.15]\n",
      " [  6.5    3.2    5.1    2.   225.64]\n",
      " [  6.4    2.7    5.3    1.9  227.33]\n",
      " [  6.8    3.     5.5    2.1  266.32]\n",
      " [  5.7    2.5    5.     2.   170.12]\n",
      " [  5.8    2.8    5.1    2.4  179.66]\n",
      " [  6.4    3.2    5.3    2.3  227.33]\n",
      " [  6.5    3.     5.5    1.8  243.34]\n",
      " [  7.7    3.8    6.7    2.2  415.99]\n",
      " [  7.7    2.6    6.9    2.3  428.41]\n",
      " [  6.     2.2    5.     1.5  188.5 ]\n",
      " [  6.9    3.2    5.7    2.3  284.19]\n",
      " [  5.6    2.8    4.9    2.   160.92]\n",
      " [  7.7    2.8    6.7    2.   415.99]\n",
      " [  6.3    2.7    4.9    1.8  203.66]\n",
      " [  6.7    3.3    5.7    2.1  267.95]\n",
      " [  7.2    3.2    6.     1.8  325.72]\n",
      " [  6.2    2.8    4.8    1.8  193.22]\n",
      " [  6.1    3.     4.9    1.8  190.93]\n",
      " [  6.4    2.8    5.6    2.1  240.2 ]\n",
      " [  7.2    3.     5.8    1.6  314.86]\n",
      " [  7.4    2.8    6.1    1.9  349.8 ]\n",
      " [  7.9    3.8    6.4    2.   418.28]\n",
      " [  6.4    2.8    5.6    2.2  240.2 ]\n",
      " [  6.3    2.8    5.1    1.5  211.97]\n",
      " [  6.1    2.6    5.6    1.4  218.21]\n",
      " [  7.7    3.     6.1    2.3  378.74]\n",
      " [  6.3    3.4    5.6    2.4  232.75]\n",
      " [  6.4    3.1    5.5    1.8  235.91]\n",
      " [  6.     3.     4.8    1.8  180.96]\n",
      " [  6.9    3.1    5.4    2.1  269.23]\n",
      " [  6.7    3.1    5.6    2.4  263.25]\n",
      " [  6.9    3.1    5.1    2.3  254.27]\n",
      " [  5.8    2.7    5.1    1.9  179.66]\n",
      " [  6.8    3.2    5.9    2.3  285.69]\n",
      " [  6.7    3.3    5.7    2.5  267.95]\n",
      " [  6.7    3.     5.2    2.3  244.45]\n",
      " [  6.3    2.5    5.     1.9  207.82]\n",
      " [  6.5    3.     5.2    2.   230.07]\n",
      " [  6.2    3.4    5.4    2.3  217.37]\n",
      " [  5.9    3.     5.1    1.8  185.91]]\n"
     ]
    }
   ],
   "source": [
    "new_col_sepal_length = iris_2d[:, 0]\n",
    "new_col_petallength = iris_2d[:, 2]\n",
    "volume = (np.pi * new_col_petallength * (new_col_sepal_length**2))/3\n",
    "volume\n",
    "volume = volume[:, np.newaxis]\n",
    "volume\n",
    "new_volume = np.hstack([iris_2d, volume])\n",
    "print(np.array_str(new_volume, precision=2, suppress_small=True))"
   ]
  },
  {
   "cell_type": "markdown",
   "id": "e51be083",
   "metadata": {
    "id": "nfRw7sPCsbxk"
   },
   "source": [
    "#### Задание 42.\n",
    "```python\n",
    "# Q. Randomly sample iris's species such that setose is twice the number of versicolor and virginica\n",
    "\n",
    "# Input\n",
    "# Use the iris dataset provided\n",
    "print_files()\n",
    "\n",
    "# Use this if you are working on your local machine\n",
    "# url = 'https://archive.ics.uci.edu/ml/machine-learning-databases/iris/iris.data'\n",
    "# iris = np.genfromtxt(url, delimiter=',', dtype='object')\n",
    "```"
   ]
  },
  {
   "cell_type": "code",
   "execution_count": 36,
   "id": "a943aa4c",
   "metadata": {},
   "outputs": [
    {
     "data": {
      "text/plain": [
       "array(['Iris-versicolor', 'Iris-setosa', 'Iris-setosa', 'Iris-virginica',\n",
       "       'Iris-setosa', 'Iris-setosa', 'Iris-versicolor', 'Iris-virginica',\n",
       "       'Iris-setosa', 'Iris-versicolor', 'Iris-virginica', 'Iris-setosa',\n",
       "       'Iris-setosa', 'Iris-setosa', 'Iris-setosa', 'Iris-virginica',\n",
       "       'Iris-virginica', 'Iris-setosa', 'Iris-virginica', 'Iris-setosa',\n",
       "       'Iris-setosa', 'Iris-virginica', 'Iris-virginica', 'Iris-setosa',\n",
       "       'Iris-setosa', 'Iris-setosa', 'Iris-setosa', 'Iris-setosa',\n",
       "       'Iris-virginica', 'Iris-setosa', 'Iris-versicolor',\n",
       "       'Iris-versicolor', 'Iris-setosa', 'Iris-setosa', 'Iris-setosa',\n",
       "       'Iris-virginica', 'Iris-virginica', 'Iris-setosa',\n",
       "       'Iris-virginica', 'Iris-versicolor', 'Iris-versicolor',\n",
       "       'Iris-versicolor', 'Iris-versicolor', 'Iris-setosa', 'Iris-setosa',\n",
       "       'Iris-versicolor', 'Iris-virginica', 'Iris-setosa', 'Iris-setosa',\n",
       "       'Iris-virginica', 'Iris-virginica', 'Iris-virginica',\n",
       "       'Iris-setosa', 'Iris-versicolor', 'Iris-setosa', 'Iris-setosa',\n",
       "       'Iris-setosa', 'Iris-setosa', 'Iris-setosa', 'Iris-versicolor',\n",
       "       'Iris-setosa', 'Iris-versicolor', 'Iris-versicolor', 'Iris-setosa',\n",
       "       'Iris-virginica', 'Iris-virginica', 'Iris-versicolor',\n",
       "       'Iris-setosa', 'Iris-setosa', 'Iris-setosa', 'Iris-setosa',\n",
       "       'Iris-setosa', 'Iris-setosa', 'Iris-virginica', 'Iris-virginica',\n",
       "       'Iris-versicolor', 'Iris-versicolor', 'Iris-setosa', 'Iris-setosa',\n",
       "       'Iris-setosa', 'Iris-versicolor', 'Iris-setosa', 'Iris-versicolor',\n",
       "       'Iris-virginica', 'Iris-setosa', 'Iris-setosa', 'Iris-virginica',\n",
       "       'Iris-virginica', 'Iris-setosa', 'Iris-versicolor',\n",
       "       'Iris-versicolor', 'Iris-setosa', 'Iris-setosa', 'Iris-setosa',\n",
       "       'Iris-setosa', 'Iris-versicolor', 'Iris-setosa', 'Iris-versicolor',\n",
       "       'Iris-setosa', 'Iris-versicolor', 'Iris-virginica',\n",
       "       'Iris-virginica', 'Iris-versicolor', 'Iris-setosa',\n",
       "       'Iris-versicolor', 'Iris-virginica', 'Iris-versicolor',\n",
       "       'Iris-virginica', 'Iris-virginica', 'Iris-setosa', 'Iris-setosa',\n",
       "       'Iris-setosa', 'Iris-virginica', 'Iris-virginica', 'Iris-setosa',\n",
       "       'Iris-setosa', 'Iris-versicolor', 'Iris-setosa', 'Iris-setosa',\n",
       "       'Iris-versicolor', 'Iris-versicolor', 'Iris-versicolor',\n",
       "       'Iris-versicolor', 'Iris-setosa', 'Iris-setosa', 'Iris-setosa',\n",
       "       'Iris-setosa', 'Iris-setosa', 'Iris-versicolor', 'Iris-setosa',\n",
       "       'Iris-setosa', 'Iris-setosa', 'Iris-virginica', 'Iris-setosa',\n",
       "       'Iris-setosa', 'Iris-setosa', 'Iris-versicolor', 'Iris-virginica',\n",
       "       'Iris-virginica', 'Iris-virginica', 'Iris-setosa',\n",
       "       'Iris-versicolor', 'Iris-versicolor', 'Iris-setosa',\n",
       "       'Iris-virginica', 'Iris-setosa', 'Iris-virginica',\n",
       "       'Iris-versicolor', 'Iris-setosa', 'Iris-setosa'], dtype='<U15')"
      ]
     },
     "execution_count": 36,
     "metadata": {},
     "output_type": "execute_result"
    }
   ],
   "source": [
    "species = iris[:, 4]\n",
    "np.random.seed(100)\n",
    "all = np.array(['Iris-setosa', 'Iris-versicolor', 'Iris-virginica'])\n",
    "species_out = np.random.choice(all, iris.shape[0], p=[0.5, 0.25, 0.25])\n",
    "species_out"
   ]
  },
  {
   "cell_type": "markdown",
   "id": "3d5fe3f6",
   "metadata": {
    "id": "wlBDA3ALsbxk"
   },
   "source": [
    "#### Задание 43.\n",
    "```python\n",
    "# Q. What is the value of second longest petallength of species setosa\n",
    "\n",
    "# Input\n",
    "# Use the iris dataset provided\n",
    "print_files()\n",
    "\n",
    "# Use this if you are working on your local machine\n",
    "# url = 'https://archive.ics.uci.edu/ml/machine-learning-databases/iris/iris.data'\n",
    "# iris_2d = np.genfromtxt(url, delimiter=',', dtype='float', usecols=[0,1,2,3])\n",
    "# names = ('sepallength', 'sepalwidth', 'petallength', 'petalwidth', 'species')\n",
    "```"
   ]
  },
  {
   "cell_type": "code",
   "execution_count": 31,
   "id": "015984c0",
   "metadata": {},
   "outputs": [
    {
     "data": {
      "text/plain": [
       "1.7"
      ]
     },
     "execution_count": 31,
     "metadata": {},
     "output_type": "execute_result"
    }
   ],
   "source": [
    "second_longest_petallength = iris[iris[:, 4] == b'Iris-setosa', [2]].astype('float')\n",
    "np.unique(np.sort(second_longest_petallength ))[-2]"
   ]
  },
  {
   "cell_type": "markdown",
   "id": "8c45c5aa",
   "metadata": {
    "id": "zNPxF0dqsbxl"
   },
   "source": [
    "#### Задание 44.\n",
    "```python\n",
    "# Q. Sort the iris dataset based on sepallength column.\n",
    "\n",
    "# Input\n",
    "# Use the iris dataset provided\n",
    "print_files()\n",
    "\n",
    "# Use this if you are working on your local machine\n",
    "# url = 'https://archive.ics.uci.edu/ml/machine-learning-databases/iris/iris.data'\n",
    "# iris = np.genfromtxt(url, delimiter=',', dtype='object')\n",
    "# names = ('sepallength', 'sepalwidth', 'petallength', 'petalwidth', 'species')\n",
    "```"
   ]
  },
  {
   "cell_type": "code",
   "execution_count": 54,
   "id": "098cc3c3",
   "metadata": {},
   "outputs": [
    {
     "ename": "IndexError",
     "evalue": "arrays used as indices must be of integer (or boolean) type",
     "output_type": "error",
     "traceback": [
      "\u001b[1;31m---------------------------------------------------------------------------\u001b[0m",
      "\u001b[1;31mIndexError\u001b[0m                                Traceback (most recent call last)",
      "\u001b[1;32m<ipython-input-54-4fecb57c92fc>\u001b[0m in \u001b[0;36m<module>\u001b[1;34m\u001b[0m\n\u001b[0;32m      1\u001b[0m \u001b[1;31m#sepallength iris[:,0]\u001b[0m\u001b[1;33m\u001b[0m\u001b[1;33m\u001b[0m\u001b[1;33m\u001b[0m\u001b[0m\n\u001b[0;32m      2\u001b[0m \u001b[1;31m#print(iris[iris[:,0].argsort()][:10])\u001b[0m\u001b[1;33m\u001b[0m\u001b[1;33m\u001b[0m\u001b[1;33m\u001b[0m\u001b[0m\n\u001b[1;32m----> 3\u001b[1;33m \u001b[0mnp\u001b[0m\u001b[1;33m.\u001b[0m\u001b[0msort\u001b[0m\u001b[1;33m(\u001b[0m\u001b[0miris\u001b[0m\u001b[1;33m[\u001b[0m\u001b[0miris\u001b[0m\u001b[1;33m[\u001b[0m\u001b[1;33m:\u001b[0m\u001b[1;33m,\u001b[0m\u001b[1;36m0\u001b[0m\u001b[1;33m]\u001b[0m\u001b[1;33m]\u001b[0m\u001b[1;33m)\u001b[0m\u001b[1;33m\u001b[0m\u001b[1;33m\u001b[0m\u001b[0m\n\u001b[0m",
      "\u001b[1;31mIndexError\u001b[0m: arrays used as indices must be of integer (or boolean) type"
     ]
    }
   ],
   "source": [
    "#sepallength iris[:,0]\n",
    "print(iris[iris[:,0].argsort()][:10])\n",
    "#np.sort(iris[iris[:,0]])"
   ]
  },
  {
   "cell_type": "markdown",
   "id": "53032812",
   "metadata": {
    "id": "uFZYeEEysbxl"
   },
   "source": [
    "#### Задание 45.\n",
    "```python\n",
    "# Q. Find the most frequent value of petal length (3rd column) in iris dataset.\n",
    "\n",
    "# Input\n",
    "# Use the iris dataset provided\n",
    "print_files()\n",
    "\n",
    "# Use this if you are working on your local machine\n",
    "# url = 'https://archive.ics.uci.edu/ml/machine-learning-databases/iris/iris.data'\n",
    "# iris = np.genfromtxt(url, delimiter=',', dtype='object')\n",
    "# names = ('sepallength', 'sepalwidth', 'petallength', 'petalwidth', 'species')\n",
    "```"
   ]
  },
  {
   "cell_type": "code",
   "execution_count": 55,
   "id": "01912289",
   "metadata": {},
   "outputs": [
    {
     "name": "stdout",
     "output_type": "stream",
     "text": [
      "b'1.5'\n"
     ]
    }
   ],
   "source": [
    "vals, counts = np.unique(iris[:, 2], return_counts=True)\n",
    "print(vals[np.argmax(counts)])"
   ]
  },
  {
   "cell_type": "markdown",
   "id": "50a22ce8",
   "metadata": {
    "id": "iMeKkTq0sbxl"
   },
   "source": [
    "#### Задание 46.\n",
    "```python\n",
    "# Q. Find the position of the first occurrence of a value greater than 1.0 in petalwidth 4th column of iris dataset.\n",
    "\n",
    "# Input\n",
    "# Use the iris dataset provided\n",
    "print(\"Input\")\n",
    "print_files()\n",
    "\n",
    "# Use this if you are working on your local machine\n",
    "# url = 'https://archive.ics.uci.edu/ml/machine-learning-databases/iris/iris.data'\n",
    "# iris = np.genfromtxt(url, delimiter=',', dtype='object')\n",
    "```"
   ]
  },
  {
   "cell_type": "code",
   "execution_count": 58,
   "id": "08af3fe3",
   "metadata": {},
   "outputs": [
    {
     "data": {
      "text/plain": [
       "array([50], dtype=int64)"
      ]
     },
     "execution_count": 58,
     "metadata": {},
     "output_type": "execute_result"
    }
   ],
   "source": [
    "np.argwhere(iris[:, 3].astype('float') > 1.0)[0]"
   ]
  },
  {
   "cell_type": "markdown",
   "id": "3caf41ed",
   "metadata": {
    "id": "5Hl3fHmfsbxl"
   },
   "source": [
    "#### Задание 47.\n",
    "```python\n",
    "# Q. From the array a, replace all values greater than 30 to 30 and less than 10 to 10.\n",
    "# Input\n",
    "print(\"Input\")\n",
    "np.random.seed(100)\n",
    "a = np.random.uniform(1,50, 20)\n",
    "a\n",
    "\n",
    "```"
   ]
  },
  {
   "cell_type": "code",
   "execution_count": 59,
   "id": "671e8fa7",
   "metadata": {},
   "outputs": [
    {
     "name": "stdout",
     "output_type": "stream",
     "text": [
      "[27.627 14.64  21.801 30.    10.    10.    30.    30.    10.    29.18\n",
      " 30.    11.251 10.081 10.    11.765 30.    30.    10.    30.    14.43 ]\n"
     ]
    }
   ],
   "source": [
    "np.random.seed(100)\n",
    "a = np.random.uniform(1,50, 20)\n",
    "print(np.where(a < 10, 10, np.where(a > 30, 30, a)))"
   ]
  },
  {
   "cell_type": "markdown",
   "id": "fd8c3e12",
   "metadata": {
    "id": "jhmOvlmXsbxm"
   },
   "source": [
    "#### Задание 48.\n",
    "```python\n",
    "# Q. Get the positions of top 5 maximum values in a given array a.\n",
    "\n",
    "# Input\n",
    "print(\"Input\")\n",
    "np.random.seed(100)\n",
    "a = np.random.uniform(1,50, 20)\n",
    "a\n",
    "```"
   ]
  },
  {
   "cell_type": "code",
   "execution_count": 61,
   "id": "c090106e",
   "metadata": {},
   "outputs": [
    {
     "data": {
      "text/plain": [
       "array([37.382, 38.687, 42.767, 44.358, 48.775])"
      ]
     },
     "execution_count": 61,
     "metadata": {},
     "output_type": "execute_result"
    }
   ],
   "source": [
    "a = np.random.uniform(1,50, 20)\n",
    "np.sort(a)[-5:]"
   ]
  },
  {
   "cell_type": "markdown",
   "id": "3e8608b5",
   "metadata": {
    "id": "LhLrkWaQsbxm"
   },
   "source": [
    "#### Задание 49.\n",
    "```python\n",
    "# Q. Compute the counts of unique values row-wise.\n",
    "\n",
    "# Input\n",
    "print(\"Input\")\n",
    "np.random.seed(100)\n",
    "arr = np.random.randint(1,11,size=(6, 10))\n",
    "arr\n",
    "\n",
    "# Desired Output\n",
    "# > [[1, 0, 2, 1, 1, 1, 0, 2, 2, 0],\n",
    "# >  [2, 1, 3, 0, 1, 0, 1, 0, 1, 1],\n",
    "# >  [0, 3, 0, 2, 3, 1, 0, 1, 0, 0],\n",
    "# >  [1, 0, 2, 1, 0, 1, 0, 2, 1, 2],\n",
    "# >  [2, 2, 2, 0, 0, 1, 1, 1, 1, 0],\n",
    "# >  [1, 1, 1, 1, 1, 2, 0, 0, 2, 1]]\n",
    "\n",
    "# Output contains 10 columns representing numbers from 1 to 10. The values are the counts of the numbers in the respective rows.\n",
    "# For example, Cell(0,2) has the value 2, which means, the number 3 occurs exactly 2 times in the 1st row.\n",
    "```"
   ]
  },
  {
   "cell_type": "code",
   "execution_count": 63,
   "id": "e0ee67ca",
   "metadata": {},
   "outputs": [
    {
     "data": {
      "text/plain": [
       "[[0, 2, 2, 1, 2, 0, 1, 0, 2, 0],\n",
       " [1, 2, 2, 1, 0, 2, 0, 2, 0, 0],\n",
       " [0, 2, 2, 0, 1, 2, 2, 0, 0, 1],\n",
       " [1, 2, 1, 1, 0, 1, 1, 2, 0, 1],\n",
       " [1, 0, 0, 2, 1, 1, 3, 1, 1, 0],\n",
       " [3, 2, 1, 2, 0, 1, 1, 0, 0, 0]]"
      ]
     },
     "execution_count": 63,
     "metadata": {},
     "output_type": "execute_result"
    }
   ],
   "source": [
    "def counts_of_all_values_rowwise(arr):\n",
    "    num_counts_array = [np.unique(row, return_counts=True) for row in arr]\n",
    "    return([[int(b[a==i]) if i in a else 0 for i in np.unique(arr)] for a, b in num_counts_array])\n",
    "\n",
    "arr = np.random.randint(1,11,size=(6, 10))\n",
    "counts_of_all_values_rowwise(arr)"
   ]
  },
  {
   "cell_type": "markdown",
   "id": "1e66e7c6",
   "metadata": {
    "id": "UdqkHPg-sbxm"
   },
   "source": [
    "#### Задание 50.\n",
    "```python\n",
    "# Q. Convert array_of_arrays into a flat linear 1d array.\n",
    "\n",
    "# Input\n",
    "print(\"Input\")\n",
    "arr = np.arange(9).reshape(3,3)\n",
    "arr\n",
    "```"
   ]
  },
  {
   "cell_type": "code",
   "execution_count": 65,
   "id": "828b79af",
   "metadata": {},
   "outputs": [
    {
     "data": {
      "text/plain": [
       "array([[[0, 1, 2],\n",
       "        [3, 4, 5],\n",
       "        [6, 7, 8]],\n",
       "\n",
       "       [[0, 1, 2],\n",
       "        [3, 4, 5],\n",
       "        [6, 7, 8]],\n",
       "\n",
       "       [[0, 1, 2],\n",
       "        [3, 4, 5],\n",
       "        [6, 7, 8]]])"
      ]
     },
     "execution_count": 65,
     "metadata": {},
     "output_type": "execute_result"
    }
   ],
   "source": [
    "arr = np.arange(9).reshape(3,3)\n",
    "\n",
    "array_of_arrays = np.array([arr, arr, arr])\n",
    "array_of_arrays"
   ]
  },
  {
   "cell_type": "markdown",
   "id": "6ed458f5",
   "metadata": {
    "id": "LFJAb6XRsbxm"
   },
   "source": [
    "#### Задание 51.\n",
    "```python\n",
    "# Q. Compute the one-hot encodings (dummy binary variables for each unique value in the array)\n",
    "\n",
    "# Input\n",
    "print(\"Input\")\n",
    "np.random.seed(101) \n",
    "arr = np.random.randint(1,4, size=6)\n",
    "arr\n",
    "\n",
    "# Desired Output\n",
    "# > array([[ 0.,  1.,  0.],\n",
    "# >        [ 0.,  0.,  1.],\n",
    "# >        [ 0.,  1.,  0.],\n",
    "# >        [ 0.,  1.,  0.],\n",
    "# >        [ 0.,  1.,  0.],\n",
    "# >        [ 1.,  0.,  0.]])\n",
    "```"
   ]
  },
  {
   "cell_type": "code",
   "execution_count": 66,
   "id": "13df560b",
   "metadata": {},
   "outputs": [
    {
     "data": {
      "text/plain": [
       "array([[0., 1., 0.],\n",
       "       [0., 0., 1.],\n",
       "       [0., 1., 0.],\n",
       "       [0., 1., 0.],\n",
       "       [0., 1., 0.],\n",
       "       [1., 0., 0.]])"
      ]
     },
     "execution_count": 66,
     "metadata": {},
     "output_type": "execute_result"
    }
   ],
   "source": [
    "def one_hot_encodings(arr):\n",
    "    uniqs = np.unique(arr)\n",
    "    out = np.zeros((arr.shape[0], uniqs.shape[0]))\n",
    "    for i, k in enumerate(arr):\n",
    "        out[i, k-1] = 1\n",
    "    return out\n",
    "np.random.seed(101) \n",
    "arr = np.random.randint(1,4, size=6)\n",
    "one_hot_encodings(arr)"
   ]
  },
  {
   "cell_type": "markdown",
   "id": "20f912b3",
   "metadata": {
    "id": "UYY9_CDksbxn"
   },
   "source": [
    "#### Задание 52.\n",
    "```python\n",
    "# Q. Create row numbers grouped by a categorical variable. Use the following sample from iris species as input.\n",
    "\n",
    "# Input\n",
    "# Use the iris dataset provided\n",
    "print(\"Input\")\n",
    "print_files()\n",
    "\n",
    "# Use this if you are working on your local machine\n",
    "# species = np.genfromtxt(url, delimiter=',', dtype='str', usecols=4)\n",
    "# species_small = np.sort(np.random.choice(species, size=20))\n",
    "# species_small\n",
    "# > array(['Iris-setosa', 'Iris-setosa', 'Iris-setosa', 'Iris-setosa',\n",
    "# >        'Iris-setosa', 'Iris-setosa', 'Iris-versicolor', 'Iris-versicolor',\n",
    "# >        'Iris-versicolor', 'Iris-versicolor', 'Iris-versicolor',\n",
    "# >        'Iris-versicolor', 'Iris-virginica', 'Iris-virginica',\n",
    "# >        'Iris-virginica', 'Iris-virginica', 'Iris-virginica',\n",
    "# >        'Iris-virginica', 'Iris-virginica', 'Iris-virginica'],\n",
    "# >       dtype='<U15')\n",
    "\n",
    "\n",
    "# Desired Output\n",
    "# > [0, 1, 2, 3, 4, 5, 0, 1, 2, 3, 4, 5, 0, 1, 2, 3, 4, 5, 6, 7]\n",
    "```"
   ]
  },
  {
   "cell_type": "code",
   "execution_count": 3,
   "id": "b70b09ce",
   "metadata": {},
   "outputs": [
    {
     "name": "stdout",
     "output_type": "stream",
     "text": [
      "[0, 1, 2, 3, 4, 5, 6, 0, 1, 2, 3, 4, 5, 6, 7, 0, 1, 2, 3, 4]\n"
     ]
    }
   ],
   "source": [
    "species = np.genfromtxt(url, delimiter=',', dtype='str', usecols=4)\n",
    "species_small = np.sort(np.random.choice(species, size=20))\n",
    "species_small\n",
    "print([i for val in np.unique(species_small) for i, grp in enumerate(species_small[species_small==val])])"
   ]
  },
  {
   "cell_type": "markdown",
   "id": "9cf04d53",
   "metadata": {
    "id": "6Bv5rEIksbxn"
   },
   "source": [
    "#### Задание 53.\n",
    "```python\n",
    "# Q. Create group ids based on a given categorical variable. Use the following sample from iris species as input\n",
    "\n",
    "# Input\n",
    "# Use the iris dataset provided\n",
    "print(\"Input\")\n",
    "print_files()\n",
    "\n",
    "# Use this if you are working on your local machine\n",
    "# species = np.genfromtxt(url, delimiter=',', dtype='str', usecols=4)\n",
    "# species_small = np.sort(np.random.choice(species, size=20))\n",
    "# species_small\n",
    "# > array(['Iris-setosa', 'Iris-setosa', 'Iris-setosa', 'Iris-setosa',\n",
    "# >        'Iris-setosa', 'Iris-setosa', 'Iris-versicolor', 'Iris-versicolor',\n",
    "# >        'Iris-versicolor', 'Iris-versicolor', 'Iris-versicolor',\n",
    "# >        'Iris-versicolor', 'Iris-virginica', 'Iris-virginica',\n",
    "# >        'Iris-virginica', 'Iris-virginica', 'Iris-virginica',\n",
    "# >        'Iris-virginica', 'Iris-virginica', 'Iris-virginica'],\n",
    "# >       dtype='<U15')\n",
    "\n",
    "# Desired Output\n",
    "# > [0, 0, 0, 0, 0, 1, 1, 1, 1, 1, 1, 1, 1, 1, 2, 2, 2, 2, 2, 2]\n",
    "```"
   ]
  },
  {
   "cell_type": "code",
   "execution_count": 4,
   "id": "71e67b89",
   "metadata": {},
   "outputs": [
    {
     "name": "stdout",
     "output_type": "stream",
     "text": [
      "[0, 0, 0, 0, 0, 0, 0, 1, 1, 1, 1, 1, 1, 1, 1, 2, 2, 2, 2, 2]\n"
     ]
    }
   ],
   "source": [
    "output = []\n",
    "uniqs = np.unique(species_small)\n",
    "\n",
    "for val in uniqs: \n",
    "    for s in species_small[species_small==val]: \n",
    "        groupid = np.argwhere(uniqs == s).tolist()[0][0] \n",
    "        output.append(groupid)\n",
    "\n",
    "print(output)"
   ]
  },
  {
   "cell_type": "markdown",
   "id": "82b83672",
   "metadata": {
    "id": "eGTDqZPwsbxn"
   },
   "source": [
    "#### Задание 54.\n",
    "```python\n",
    "# Q. Create the ranks for the given numeric array a.\n",
    "\n",
    "# Input\n",
    "print(\"Input\")\n",
    "np.random.seed(10)\n",
    "a = np.random.randint(20, size=10)\n",
    "a\n",
    "\n",
    "# Desired Output\n",
    "# [4 2 6 0 8 7 9 3 5 1]\n",
    "```"
   ]
  },
  {
   "cell_type": "code",
   "execution_count": 5,
   "id": "65dc9dde",
   "metadata": {},
   "outputs": [
    {
     "name": "stdout",
     "output_type": "stream",
     "text": [
      "[4 2 6 0 8 7 9 3 5 1]\n"
     ]
    }
   ],
   "source": [
    "np.random.seed(10)\n",
    "a = np.random.randint(20, size=10)\n",
    "print(a.argsort().argsort())\n"
   ]
  },
  {
   "cell_type": "markdown",
   "id": "834764ee",
   "metadata": {
    "id": "_wj1SVQ5sbxn"
   },
   "source": [
    "#### Задание 55.\n",
    "```python\n",
    "# Q. Create a rank array of the same shape as a given numeric array a.\n",
    "\n",
    "# Input\n",
    "print(\"Input\")\n",
    "np.random.seed(10)\n",
    "a = np.random.randint(20, size=[2,5])\n",
    "a\n",
    "\n",
    "# Desired Output\n",
    "# > [[4 2 6 0 8]\n",
    "# >  [7 9 3 5 1]]\n",
    "```"
   ]
  },
  {
   "cell_type": "code",
   "execution_count": 11,
   "id": "8b07b7db",
   "metadata": {},
   "outputs": [
    {
     "name": "stdout",
     "output_type": "stream",
     "text": [
      "[[4 2 6 0 8]\n",
      " [7 9 3 5 1]]\n"
     ]
    }
   ],
   "source": [
    "np.random.seed(10)\n",
    "a = np.random.randint(20, size=10)\n",
    "\n",
    "print(a.ravel().argsort().argsort().reshape(2,5))\n"
   ]
  },
  {
   "cell_type": "markdown",
   "id": "8b6bae69",
   "metadata": {
    "id": "-XAlw228sbxo"
   },
   "source": [
    "#### Задание 56.\n",
    "```python\n",
    "# Q. Compute the maximum for each row in the given array.\n",
    "\n",
    "# Input\n",
    "print(\"Input\")\n",
    "np.random.seed(100)\n",
    "a = np.random.randint(1,10, [5,3])\n",
    "a\n",
    "```"
   ]
  },
  {
   "cell_type": "code",
   "execution_count": 12,
   "id": "b83bf3f9",
   "metadata": {},
   "outputs": [
    {
     "data": {
      "text/plain": [
       "array([9, 5, 9, 9, 7])"
      ]
     },
     "execution_count": 12,
     "metadata": {},
     "output_type": "execute_result"
    }
   ],
   "source": [
    "a = np.random.randint(1,10, [5,3])\n",
    "np.amax(a, axis=1)"
   ]
  },
  {
   "cell_type": "markdown",
   "id": "83c1c082",
   "metadata": {
    "id": "SjOHaejesbxo"
   },
   "source": [
    "#### Задание 57.\n",
    "```python\n",
    "# Q. Compute the min-by-max for each row for given 2d numpy array.\n",
    "\n",
    "# Input\n",
    "print(\"Input\")\n",
    "np.random.seed(100)\n",
    "a = np.random.randint(1,10, [5,3])\n",
    "a\n",
    "```"
   ]
  },
  {
   "cell_type": "code",
   "execution_count": 13,
   "id": "8be59cbb",
   "metadata": {},
   "outputs": [
    {
     "data": {
      "text/plain": [
       "array([0.444, 0.125, 0.5  , 1.   , 0.111])"
      ]
     },
     "execution_count": 13,
     "metadata": {},
     "output_type": "execute_result"
    }
   ],
   "source": [
    "np.random.seed(100)\n",
    "a = np.random.randint(1,10, [5,3])\n",
    "np.apply_along_axis(lambda x: np.min(x)/np.max(x), arr=a, axis=1)"
   ]
  },
  {
   "cell_type": "markdown",
   "id": "d061e03c",
   "metadata": {
    "id": "Kg09Ama9sbxo"
   },
   "source": [
    "#### Задание 58.\n",
    "```python\n",
    "# Q. Find the duplicate entries (2nd occurrence onwards) in the given numpy array and mark them as True. First time occurrences should be False.\n",
    "\n",
    "# Input\n",
    "print(\"Input\")\n",
    "np.random.seed(100)\n",
    "a = np.random.randint(0, 5, 10)\n",
    "a\n",
    "\n",
    "# Desired Output\n",
    "# > [False  True False  True False False  True  True  True  True]\n",
    "```"
   ]
  },
  {
   "cell_type": "code",
   "execution_count": 16,
   "id": "fe06b465",
   "metadata": {},
   "outputs": [
    {
     "name": "stdout",
     "output_type": "stream",
     "text": [
      "[False False False False  True  True  True  True  True  True]\n"
     ]
    }
   ],
   "source": [
    "a = np.random.randint(0, 5, 10)\n",
    "out = np.full(a.shape[0], True)\n",
    "unique_positions = np.unique(a, return_index=True)[1]\n",
    "out[unique_positions] = False\n",
    "\n",
    "print(out)"
   ]
  },
  {
   "cell_type": "markdown",
   "id": "f22b3c30",
   "metadata": {
    "id": "DXzlfakxsbxp"
   },
   "source": [
    "#### Задание 59.\n",
    "```python\n",
    "# Q. Find the mean of a numeric column grouped by a categorical column in a 2D numpy array\n",
    "\n",
    "# Input\n",
    "# Use the iris dataset provided\n",
    "print(\"Input\")\n",
    "print_files()\n",
    "\n",
    "# Use this if you are working on your local machine\n",
    "# url = 'https://archive.ics.uci.edu/ml/machine-learning-databases/iris/iris.data'\n",
    "# iris = np.genfromtxt(url, delimiter=',', dtype='object')\n",
    "# names = ('sepallength', 'sepalwidth', 'petallength', 'petalwidth', 'species')\n",
    "\n",
    "# Desired Output\n",
    "# > [[b'Iris-setosa', 3.418],\n",
    "# >  [b'Iris-versicolor', 2.770],\n",
    "# >  [b'Iris-virginica', 2.974]]\n",
    "```"
   ]
  },
  {
   "cell_type": "code",
   "execution_count": 18,
   "id": "18a56bd9",
   "metadata": {},
   "outputs": [
    {
     "data": {
      "text/plain": [
       "[[b'Iris-setosa', 3.418],\n",
       " [b'Iris-versicolor', 2.7700000000000005],\n",
       " [b'Iris-virginica', 2.974]]"
      ]
     },
     "execution_count": 18,
     "metadata": {},
     "output_type": "execute_result"
    }
   ],
   "source": [
    "numeric_column = iris[:, 1].astype('float') \n",
    "grouping_column = iris[:, 4] \n",
    "\n",
    "\n",
    "\n",
    "output = []\n",
    "for group_val in np.unique(grouping_column):\n",
    "    output.append([group_val, numeric_column[grouping_column==group_val].mean()])\n",
    "\n",
    "output"
   ]
  },
  {
   "cell_type": "markdown",
   "id": "c9ed4a1f",
   "metadata": {
    "id": "VSLP9gzLsbxp"
   },
   "source": [
    "#### Задание 60.\n",
    "```python\n",
    "# Q. Import the image from the following URL and convert it to a numpy array.\n",
    "\n",
    "# Input\n",
    "print(\"Input\")\n",
    "print_files()\n",
    "\n",
    "# Use this if you are working on your local machine\n",
    "# URL = 'https://upload.wikimedia.org/wikipedia/commons/8/8b/Denali_Mt_McKinley.jpg'\n",
    "```"
   ]
  },
  {
   "cell_type": "code",
   "execution_count": 20,
   "id": "f99f0990",
   "metadata": {},
   "outputs": [
    {
     "data": {
      "text/plain": [
       "array([[[  9,  72, 125],\n",
       "        [  9,  72, 125],\n",
       "        [  9,  72, 125],\n",
       "        ...,\n",
       "        [ 42, 103, 147],\n",
       "        [ 42, 103, 147],\n",
       "        [ 43, 104, 148]],\n",
       "\n",
       "       [[  9,  72, 125],\n",
       "        [  9,  72, 125],\n",
       "        [ 10,  73, 126],\n",
       "        ...,\n",
       "        [ 42, 103, 147],\n",
       "        [ 42, 103, 147],\n",
       "        [ 43, 104, 148]],\n",
       "\n",
       "       [[  9,  72, 125],\n",
       "        [ 10,  73, 126],\n",
       "        [ 10,  73, 126],\n",
       "        ...,\n",
       "        [ 44, 105, 150],\n",
       "        [ 45, 106, 151],\n",
       "        [ 45, 106, 151]],\n",
       "\n",
       "       ...,\n",
       "\n",
       "       [[ 21,  41,  50],\n",
       "        [ 29,  51,  64],\n",
       "        [ 28,  54,  69],\n",
       "        ...,\n",
       "        [ 27,  58,  79],\n",
       "        [ 22,  53,  74],\n",
       "        [ 19,  47,  69]],\n",
       "\n",
       "       [[ 27,  51,  63],\n",
       "        [ 29,  55,  68],\n",
       "        [ 27,  56,  72],\n",
       "        ...,\n",
       "        [ 33,  70,  97],\n",
       "        [ 27,  64,  91],\n",
       "        [ 22,  57,  85]],\n",
       "\n",
       "       [[ 18,  45,  56],\n",
       "        [ 20,  48,  62],\n",
       "        [ 21,  52,  70],\n",
       "        ...,\n",
       "        [ 15,  51,  77],\n",
       "        [ 12,  48,  74],\n",
       "        [ 11,  45,  72]]], dtype=uint8)"
      ]
     },
     "execution_count": 20,
     "metadata": {},
     "output_type": "execute_result"
    }
   ],
   "source": [
    "from io import BytesIO\n",
    "from PIL import Image\n",
    "import PIL, requests\n",
    "\n",
    "\n",
    "URL = 'https://upload.wikimedia.org/wikipedia/commons/8/8b/Denali_Mt_McKinley.jpg'\n",
    "response = requests.get(URL)\n",
    "\n",
    "I = Image.open(BytesIO(response.content))\n",
    "\n",
    "\n",
    "arr = np.asarray(I)\n",
    "arr\n"
   ]
  },
  {
   "cell_type": "markdown",
   "id": "8e982299",
   "metadata": {
    "id": "F97BLzK8sbxp"
   },
   "source": [
    "#### Задание 61.\n",
    "```python\n",
    "# Q. Drop all nan values from a 1D numpy array\n",
    "\n",
    "# Input\n",
    "print(\"Input\")\n",
    "a = np.array([1,2,3,np.nan,5,6,7,np.nan])\n",
    "a\n",
    "\n",
    "# Desired Output\n",
    "# array([ 1.,  2.,  3.,  5.,  6.,  7.])\n",
    "```"
   ]
  },
  {
   "cell_type": "code",
   "execution_count": 23,
   "id": "3ac03ac5",
   "metadata": {},
   "outputs": [
    {
     "data": {
      "text/plain": [
       "array([1., 2., 3., 5., 6., 7.])"
      ]
     },
     "execution_count": 23,
     "metadata": {},
     "output_type": "execute_result"
    }
   ],
   "source": [
    "a = np.array([1,2,3,np.nan,5,6,7,np.nan])\n",
    "a[~np.isnan(a)]\n",
    "#a.drop(np.isnan(a))\n"
   ]
  },
  {
   "cell_type": "markdown",
   "id": "3e919dbd",
   "metadata": {
    "id": "ufSRaCDjsbxp"
   },
   "source": [
    "#### Задание 62.\n",
    "```python\n",
    "# Q. Compute the euclidean distance between two arrays a and b.\n",
    "\n",
    "# Input\n",
    "print(\"Input\")\n",
    "a = np.array([1,2,3,4,5])\n",
    "b = np.array([4,5,6,7,8])\n",
    "a\n",
    "b\n",
    "```"
   ]
  },
  {
   "cell_type": "code",
   "execution_count": 24,
   "id": "726e21a7",
   "metadata": {},
   "outputs": [
    {
     "data": {
      "text/plain": [
       "6.708203932499369"
      ]
     },
     "execution_count": 24,
     "metadata": {},
     "output_type": "execute_result"
    }
   ],
   "source": [
    "a = np.array([1,2,3,4,5])\n",
    "b = np.array([4,5,6,7,8])\n",
    "dist = np.linalg.norm(a-b)\n",
    "dist"
   ]
  },
  {
   "cell_type": "markdown",
   "id": "d1366c8f",
   "metadata": {
    "id": "-sJMgHQRsbxq"
   },
   "source": [
    "#### Задание 63.\n",
    "```python\n",
    "# Q. Find all the peaks in a 1D numpy array a. Peaks are points surrounded by smaller values on both sides.\n",
    "\n",
    "# Input\n",
    "print(\"Input\")\n",
    "a = np.array([1, 3, 7, 1, 2, 6, 0, 1])\n",
    "a\n",
    "\n",
    "# Desired Output\n",
    "# > array([2, 5])\n",
    "# where, 2 and 5 are the positions of peak values 7 and 6.\n",
    "```"
   ]
  },
  {
   "cell_type": "code",
   "execution_count": 30,
   "id": "1380c84a",
   "metadata": {},
   "outputs": [
    {
     "data": {
      "text/plain": [
       "array([2, 5], dtype=int64)"
      ]
     },
     "execution_count": 30,
     "metadata": {},
     "output_type": "execute_result"
    }
   ],
   "source": [
    "a = np.array([1, 3, 7, 1, 2, 6, 0, 1])\n",
    "diff = np.diff(np.sign(np.diff(a)))\n",
    "peak_locations = np.where(diff == -2)[0] + 1\n",
    "peak_locations"
   ]
  },
  {
   "cell_type": "markdown",
   "id": "e60cd5dc",
   "metadata": {
    "id": "ZO174MmGsbxq"
   },
   "source": [
    "#### Задание 64.\n",
    "```python\n",
    "# Q. Subtract the 1d array b_1d from the 2d array a_2d, such that each item of b_1d subtracts from respective row of a_2d.\n",
    "\n",
    "# Input\n",
    "print(\"Input\")\n",
    "a_2d = np.array([[3,3,3],[4,4,4],[5,5,5]])\n",
    "b_1d = np.array([1,2,3])\n",
    "a_2d\n",
    "b_1d\n",
    "\n",
    "# Desired Output\n",
    "# > [[2 2 2]\n",
    "# >  [2 2 2]\n",
    "# >  [2 2 2]]\n",
    "```"
   ]
  },
  {
   "cell_type": "code",
   "execution_count": 34,
   "id": "7fbd2825",
   "metadata": {},
   "outputs": [
    {
     "name": "stdout",
     "output_type": "stream",
     "text": [
      "[[2 2 2]\n",
      " [2 2 2]\n",
      " [2 2 2]]\n"
     ]
    }
   ],
   "source": [
    "a_2d = np.array([[3,3,3],[4,4,4],[5,5,5]])\n",
    "b_1d = np.array([1,2,3])\n",
    "print(a_2d - b_1d[:,None])"
   ]
  },
  {
   "cell_type": "markdown",
   "id": "9d74904b",
   "metadata": {
    "id": "d0GZhKZ8sbxq"
   },
   "source": [
    "#### Задание 65.\n",
    "```python\n",
    "# Q. Find the index of 5th repetition of number 1 in x.\n",
    "\n",
    "# Input\n",
    "print(\"Input\")\n",
    "x = np.array([1, 2, 1, 1, 3, 4, 3, 1, 1, 2, 1, 1, 2])\n",
    "x\n",
    "```"
   ]
  },
  {
   "cell_type": "code",
   "execution_count": 35,
   "id": "6367c70e",
   "metadata": {},
   "outputs": [
    {
     "data": {
      "text/plain": [
       "8"
      ]
     },
     "execution_count": 35,
     "metadata": {},
     "output_type": "execute_result"
    }
   ],
   "source": [
    "x = np.array([1, 2, 1, 1, 3, 4, 3, 1, 1, 2, 1, 1, 2])\n",
    "n = 5\n",
    "\n",
    "np.where(x == 1)[0][n-1]"
   ]
  },
  {
   "cell_type": "markdown",
   "id": "28fb1c43",
   "metadata": {
    "id": "XIcgNz-fsbxq"
   },
   "source": [
    "#### Задание 66.\n",
    "```python\n",
    "# Q. Convert numpy's datetime64 object to datetime's datetime object\n",
    "\n",
    "# Input\n",
    "print(\"Input\")\n",
    "dt64 = np.datetime64('2018-02-25 22:10:10')\n",
    "dt64\n",
    "```"
   ]
  },
  {
   "cell_type": "code",
   "execution_count": 37,
   "id": "e18651f8",
   "metadata": {},
   "outputs": [
    {
     "data": {
      "text/plain": [
       "datetime.datetime(2018, 2, 25, 22, 10, 10)"
      ]
     },
     "execution_count": 37,
     "metadata": {},
     "output_type": "execute_result"
    }
   ],
   "source": [
    "dt64 = np.datetime64('2018-02-25 22:10:10')\n",
    "from datetime import datetime\n",
    "dt64.astype(datetime)"
   ]
  },
  {
   "cell_type": "markdown",
   "id": "dd771d04",
   "metadata": {
    "id": "IKBg-clusbxr"
   },
   "source": [
    "#### Задание 67.\n",
    "```python\n",
    "# Q. Compute the moving average of window size 3, for the given 1D array.\n",
    "\n",
    "# Input\n",
    "print(\"Input\")\n",
    "np.random.seed(100)\n",
    "a = np.random.randint(10, size=10)\n",
    "a\n",
    "```"
   ]
  },
  {
   "cell_type": "code",
   "execution_count": 38,
   "id": "6aaf501b",
   "metadata": {},
   "outputs": [
    {
     "data": {
      "text/plain": [
       "array([6.333, 6.   , 5.667, 4.667, 3.667, 2.   , 3.667, 3.   ])"
      ]
     },
     "execution_count": 38,
     "metadata": {},
     "output_type": "execute_result"
    }
   ],
   "source": [
    "np.random.seed(100)\n",
    "a = np.random.randint(10, size=10)\n",
    "np.convolve(a, np.ones(3)/3, mode='valid')"
   ]
  },
  {
   "cell_type": "markdown",
   "id": "0de945c6",
   "metadata": {
    "id": "c_T3rIdzsbxr"
   },
   "source": [
    "#### Задание 68.\n",
    "```python\n",
    "# Q. Create a numpy array of length 10, starting from 5 and has a step of 3 between consecutive numbers\n",
    "```"
   ]
  },
  {
   "cell_type": "code",
   "execution_count": 39,
   "id": "80f68965",
   "metadata": {},
   "outputs": [
    {
     "data": {
      "text/plain": [
       "array([ 5,  8, 11, 14, 17, 20, 23, 26, 29, 32])"
      ]
     },
     "execution_count": 39,
     "metadata": {},
     "output_type": "execute_result"
    }
   ],
   "source": [
    "length = 10\n",
    "start = 5\n",
    "step = 3\n",
    "\n",
    "def seq(start, length, step):\n",
    "    end = start + (step*length)\n",
    "    return np.arange(start, end, step)\n",
    "\n",
    "seq(start, length, step)"
   ]
  },
  {
   "cell_type": "markdown",
   "id": "c0642f13",
   "metadata": {
    "id": "tUCJ5vT7sbxs"
   },
   "source": [
    "#### Задание 69.\n",
    "```python\n",
    "# Q. Given an array of a non-continuous sequence of dates. Make it a continuous sequence of dates, by filling in the missing dates.\n",
    "\n",
    "# Input\n",
    "print(\"Input\")\n",
    "dates = np.arange(np.datetime64('2018-02-01'), np.datetime64('2018-02-25'), 2)\n",
    "dates\n",
    "```"
   ]
  },
  {
   "cell_type": "code",
   "execution_count": 9,
   "id": "02076c44",
   "metadata": {},
   "outputs": [
    {
     "name": "stdout",
     "output_type": "stream",
     "text": [
      "Input\n"
     ]
    },
    {
     "data": {
      "text/plain": [
       "array(['2018-02-01', '2018-02-02', '2018-02-03', '2018-02-04',\n",
       "       '2018-02-05', '2018-02-06', '2018-02-07', '2018-02-08',\n",
       "       '2018-02-09', '2018-02-10', '2018-02-11', '2018-02-12',\n",
       "       '2018-02-13', '2018-02-14', '2018-02-15', '2018-02-16',\n",
       "       '2018-02-17', '2018-02-18', '2018-02-19', '2018-02-20',\n",
       "       '2018-02-21', '2018-02-22', '2018-02-23'], dtype='datetime64[D]')"
      ]
     },
     "execution_count": 9,
     "metadata": {},
     "output_type": "execute_result"
    }
   ],
   "source": [
    "#69\n",
    "print(\"Input\")\n",
    "dates = np.arange(np.datetime64('2018-02-01'), np.datetime64('2018-02-25'), 2)\n",
    "dates\n",
    "\n",
    "outoutput = []\n",
    "for date, d in zip(dates, np.diff(dates)):\n",
    "    outoutput.append(np.arange(date, (date+d)))\n",
    "\n",
    "filled_in = np.array(outoutput).reshape(-1)\n",
    "\n",
    "output = np.hstack([filled_in, dates[-1]])\n",
    "output\n"
   ]
  },
  {
   "cell_type": "markdown",
   "id": "bb5284f5",
   "metadata": {
    "id": "n0RSiXC1sbxs"
   },
   "source": [
    "#### Задание 70.\n",
    "```python\n",
    "# Q. From the given 1d array arr, generate a 2d matrix using strides, with a window length of 4 and strides of 2, like [[0,1,2,3], [2,3,4,5], [4,5,6,7]..]\n",
    "\n",
    "# Input\n",
    "print(\"Input\")\n",
    "arr = np.arange(15) \n",
    "arr\n",
    "\n",
    "# Desired Output\n",
    "# > [[ 0  1  2  3]\n",
    "# >  [ 2  3  4  5]\n",
    "# >  [ 4  5  6  7]\n",
    "# >  [ 6  7  8  9]\n",
    "# >  [ 8  9 10 11]\n",
    "# >  [10 11 12 13]]\n",
    "```"
   ]
  },
  {
   "cell_type": "code",
   "execution_count": 7,
   "id": "1d651e85",
   "metadata": {},
   "outputs": [
    {
     "name": "stdout",
     "output_type": "stream",
     "text": [
      "[[ 0  1  2  3]\n",
      " [ 2  3  4  5]\n",
      " [ 4  5  6  7]\n",
      " [ 6  7  8  9]\n",
      " [ 8  9 10 11]\n",
      " [10 11 12 13]]\n"
     ]
    }
   ],
   "source": [
    "#70\n",
    "#print(\"Input\")\n",
    "array_given = np.arange(15) \n",
    "array_given\n",
    "def gen_using_met_strides(array_given, strides , length ):\n",
    "    n_strides = ((array_given.size-length)//strides) + 1\n",
    "    return np.array([array_given[s:(s+length)] for s in np.arange(0, n_strides*strides, strides)])\n",
    "\n",
    "print(gen_using_met_strides(np.arange(15), strides = 2, length = 4))"
   ]
  },
  {
   "cell_type": "code",
   "execution_count": null,
   "id": "ba7ad593",
   "metadata": {},
   "outputs": [],
   "source": []
  }
 ],
 "metadata": {
  "kernelspec": {
   "display_name": "Python 3",
   "language": "python",
   "name": "python3"
  },
  "language_info": {
   "codemirror_mode": {
    "name": "ipython",
    "version": 3
   },
   "file_extension": ".py",
   "mimetype": "text/x-python",
   "name": "python",
   "nbconvert_exporter": "python",
   "pygments_lexer": "ipython3",
   "version": "3.8.8"
  }
 },
 "nbformat": 4,
 "nbformat_minor": 5
}
