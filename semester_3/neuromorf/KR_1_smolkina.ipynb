{
 "cells": [
  {
   "cell_type": "markdown",
   "metadata": {
    "id": "kLYPzSpoyqmj"
   },
   "source": [
    "# Seminar 4. Patterns encoding: Brian2 realizations"
   ]
  },
  {
   "cell_type": "code",
   "execution_count": 1,
   "metadata": {
    "colab": {
     "base_uri": "https://localhost:8080/"
    },
    "id": "UB0yPJZw3wBX",
    "outputId": "63f396d4-1e5a-4984-8292-e57e7193c1f3"
   },
   "outputs": [
    {
     "name": "stdout",
     "output_type": "stream",
     "text": [
      "Requirement already satisfied: brian2 in /Users/mac-julia/opt/anaconda3/lib/python3.9/site-packages (2.5.1)\n",
      "Requirement already satisfied: sympy>=1.2 in /Users/mac-julia/opt/anaconda3/lib/python3.9/site-packages (from brian2) (1.10.1)\n",
      "Requirement already satisfied: numpy>=1.17 in /Users/mac-julia/opt/anaconda3/lib/python3.9/site-packages (from brian2) (1.23.4)\n",
      "Requirement already satisfied: cython>=0.29 in /Users/mac-julia/opt/anaconda3/lib/python3.9/site-packages (from brian2) (0.29.32)\n",
      "Requirement already satisfied: pyparsing in /Users/mac-julia/opt/anaconda3/lib/python3.9/site-packages (from brian2) (3.0.9)\n",
      "Requirement already satisfied: setuptools>=24.2 in /Users/mac-julia/opt/anaconda3/lib/python3.9/site-packages (from brian2) (63.4.1)\n",
      "Requirement already satisfied: jinja2>=2.7 in /Users/mac-julia/opt/anaconda3/lib/python3.9/site-packages (from brian2) (2.11.3)\n",
      "Requirement already satisfied: MarkupSafe>=0.23 in /Users/mac-julia/opt/anaconda3/lib/python3.9/site-packages (from jinja2>=2.7->brian2) (2.0.1)\n",
      "Requirement already satisfied: mpmath>=0.19 in /Users/mac-julia/opt/anaconda3/lib/python3.9/site-packages (from sympy>=1.2->brian2) (1.2.1)\n",
      "\n",
      "\u001b[1m[\u001b[0m\u001b[34;49mnotice\u001b[0m\u001b[1;39;49m]\u001b[0m\u001b[39;49m A new release of pip available: \u001b[0m\u001b[31;49m22.3\u001b[0m\u001b[39;49m -> \u001b[0m\u001b[32;49m22.3.1\u001b[0m\n",
      "\u001b[1m[\u001b[0m\u001b[34;49mnotice\u001b[0m\u001b[1;39;49m]\u001b[0m\u001b[39;49m To update, run: \u001b[0m\u001b[32;49mpip install --upgrade pip\u001b[0m\n",
      "Requirement already satisfied: numpy in /Users/mac-julia/opt/anaconda3/lib/python3.9/site-packages (1.23.4)\n",
      "\n",
      "\u001b[1m[\u001b[0m\u001b[34;49mnotice\u001b[0m\u001b[1;39;49m]\u001b[0m\u001b[39;49m A new release of pip available: \u001b[0m\u001b[31;49m22.3\u001b[0m\u001b[39;49m -> \u001b[0m\u001b[32;49m22.3.1\u001b[0m\n",
      "\u001b[1m[\u001b[0m\u001b[34;49mnotice\u001b[0m\u001b[1;39;49m]\u001b[0m\u001b[39;49m To update, run: \u001b[0m\u001b[32;49mpip install --upgrade pip\u001b[0m\n",
      "Requirement already satisfied: matplotlib in /Users/mac-julia/opt/anaconda3/lib/python3.9/site-packages (3.6.2)\n",
      "Requirement already satisfied: kiwisolver>=1.0.1 in /Users/mac-julia/opt/anaconda3/lib/python3.9/site-packages (from matplotlib) (1.4.2)\n",
      "Requirement already satisfied: contourpy>=1.0.1 in /Users/mac-julia/opt/anaconda3/lib/python3.9/site-packages (from matplotlib) (1.0.5)\n",
      "Requirement already satisfied: pillow>=6.2.0 in /Users/mac-julia/opt/anaconda3/lib/python3.9/site-packages (from matplotlib) (9.2.0)\n",
      "Requirement already satisfied: python-dateutil>=2.7 in /Users/mac-julia/opt/anaconda3/lib/python3.9/site-packages (from matplotlib) (2.8.2)\n",
      "Requirement already satisfied: fonttools>=4.22.0 in /Users/mac-julia/opt/anaconda3/lib/python3.9/site-packages (from matplotlib) (4.25.0)\n",
      "Requirement already satisfied: packaging>=20.0 in /Users/mac-julia/opt/anaconda3/lib/python3.9/site-packages (from matplotlib) (21.3)\n",
      "Requirement already satisfied: pyparsing>=2.2.1 in /Users/mac-julia/opt/anaconda3/lib/python3.9/site-packages (from matplotlib) (3.0.9)\n",
      "Requirement already satisfied: cycler>=0.10 in /Users/mac-julia/opt/anaconda3/lib/python3.9/site-packages (from matplotlib) (0.11.0)\n",
      "Requirement already satisfied: numpy>=1.19 in /Users/mac-julia/opt/anaconda3/lib/python3.9/site-packages (from matplotlib) (1.23.4)\n",
      "Requirement already satisfied: six>=1.5 in /Users/mac-julia/opt/anaconda3/lib/python3.9/site-packages (from python-dateutil>=2.7->matplotlib) (1.16.0)\n",
      "\n",
      "\u001b[1m[\u001b[0m\u001b[34;49mnotice\u001b[0m\u001b[1;39;49m]\u001b[0m\u001b[39;49m A new release of pip available: \u001b[0m\u001b[31;49m22.3\u001b[0m\u001b[39;49m -> \u001b[0m\u001b[32;49m22.3.1\u001b[0m\n",
      "\u001b[1m[\u001b[0m\u001b[34;49mnotice\u001b[0m\u001b[1;39;49m]\u001b[0m\u001b[39;49m To update, run: \u001b[0m\u001b[32;49mpip install --upgrade pip\u001b[0m\n"
     ]
    }
   ],
   "source": [
    "!pip install brian2\n",
    "!pip install --upgrade numpy\n",
    "!pip install --upgrade matplotlib"
   ]
  },
  {
   "cell_type": "code",
   "execution_count": 2,
   "metadata": {
    "id": "jKtMSxu1qkuj"
   },
   "outputs": [],
   "source": [
    "from brian2 import *\n",
    "import brian2.numpy_ as np\n",
    "import matplotlib.pyplot as plt\n",
    "from sklearn.ensemble import RandomForestClassifier\n",
    "from sklearn.metrics import accuracy_score, confusion_matrix"
   ]
  },
  {
   "cell_type": "code",
   "execution_count": 3,
   "metadata": {
    "id": "JYdO-PCiyqmm"
   },
   "outputs": [],
   "source": [
    "import numpy as np\n",
    "import brian2 as b2\n",
    "from matplotlib import pyplot as plt\n",
    "%matplotlib inline"
   ]
  },
  {
   "cell_type": "markdown",
   "metadata": {
    "id": "x8yZFh4KrcD-"
   },
   "source": [
    " # Добавления шума к картинке"
   ]
  },
  {
   "cell_type": "code",
   "execution_count": 29,
   "metadata": {
    "colab": {
     "base_uri": "https://localhost:8080/",
     "height": 244
    },
    "id": "NyKcqjqYrgm2",
    "outputId": "5d6bafef-2e02-408e-bc84-ca1e4e7ca985"
   },
   "outputs": [
    {
     "ename": "NameError",
     "evalue": "ignored",
     "output_type": "error",
     "traceback": [
      "\u001b[0;31m---------------------------------------------------------------------------\u001b[0m",
      "\u001b[0;31mNameError\u001b[0m                                 Traceback (most recent call last)",
      "\u001b[0;32m<ipython-input-29-44c841f80646>\u001b[0m in \u001b[0;36m<module>\u001b[0;34m\u001b[0m\n\u001b[1;32m      1\u001b[0m \u001b[0;32mimport\u001b[0m \u001b[0mnumpy\u001b[0m \u001b[0;32mas\u001b[0m \u001b[0mnp\u001b[0m\u001b[0;34m\u001b[0m\u001b[0;34m\u001b[0m\u001b[0m\n\u001b[1;32m      2\u001b[0m \u001b[0;32mimport\u001b[0m \u001b[0mcv2\u001b[0m\u001b[0;34m\u001b[0m\u001b[0;34m\u001b[0m\u001b[0m\n\u001b[0;32m----> 3\u001b[0;31m \u001b[0mimg\u001b[0m \u001b[0;34m=\u001b[0m \u001b[0mcv2\u001b[0m\u001b[0;34m.\u001b[0m\u001b[0mimread\u001b[0m\u001b[0;34m(\u001b[0m\u001b[0mimg_path\u001b[0m\u001b[0;34m)\u001b[0m\u001b[0;34m\u001b[0m\u001b[0;34m\u001b[0m\u001b[0m\n\u001b[0m\u001b[1;32m      4\u001b[0m \u001b[0mmean\u001b[0m \u001b[0;34m=\u001b[0m \u001b[0;36m0\u001b[0m\u001b[0;34m\u001b[0m\u001b[0;34m\u001b[0m\u001b[0m\n\u001b[1;32m      5\u001b[0m \u001b[0mvar\u001b[0m \u001b[0;34m=\u001b[0m \u001b[0;36m10\u001b[0m\u001b[0;34m\u001b[0m\u001b[0;34m\u001b[0m\u001b[0m\n",
      "\u001b[0;31mNameError\u001b[0m: name 'img_path' is not defined"
     ]
    }
   ],
   "source": [
    "import numpy as np\n",
    "import cv2\n",
    "img = cv2.imread(img_path)\n",
    "mean = 0\n",
    "var = 10\n",
    "sigma = var ** 0.2\n",
    "gaussian = np.random.normal(mean, sigma, (224, 224)) #  np.zeros((224, 224), np.float32)\n",
    "\n",
    "noisy_image = np.zeros(img.shape, np.float32)\n",
    "\n",
    "if len(img.shape) == 2:\n",
    "    noisy_image = img + gaussian\n",
    "else:\n",
    "    noisy_image[:, :, 0] = img[:, :, 0] + gaussian\n",
    "    noisy_image[:, :, 1] = img[:, :, 1] + gaussian\n",
    "    noisy_image[:, :, 2] = img[:, :, 2] + gaussian\n",
    "\n",
    "cv2.normalize(noisy_image, noisy_image, 0, 255, cv2.NORM_MINMAX, dtype=-1)\n",
    "noisy_image = noisy_image.astype(np.uint8)\n",
    "\n",
    "cv2.imshow(\"img\", img)\n",
    "cv2.imshow(\"gaussian\", gaussian)\n",
    "cv2.imshow(\"noisy\", noisy_image)\n",
    "\n",
    "cv2.waitKey(0)"
   ]
  },
  {
   "cell_type": "code",
   "execution_count": 5,
   "metadata": {
    "id": "D5YMCZhvrzsw"
   },
   "outputs": [
    {
     "ename": "IndentationError",
     "evalue": "unindent does not match any outer indentation level (<tokenize>, line 31)",
     "output_type": "error",
     "traceback": [
      "\u001b[0;36m  File \u001b[0;32m\"<tokenize>\"\u001b[0;36m, line \u001b[0;32m31\u001b[0m\n\u001b[0;31m    elif noise_typ == \"poisson\":\u001b[0m\n\u001b[0m    ^\u001b[0m\n\u001b[0;31mIndentationError\u001b[0m\u001b[0;31m:\u001b[0m unindent does not match any outer indentation level\n"
     ]
    }
   ],
   "source": [
    "import numpy as np\n",
    "import os\n",
    "import cv2\n",
    "def noisy(noise_typ,image):\n",
    "   if noise_typ == \"gauss\":\n",
    "      row,col,ch= image.shape\n",
    "      mean = 0\n",
    "      var = 0.1\n",
    "      sigma = var**0.5\n",
    "      gauss = np.random.normal(mean,sigma,(row,col,ch))\n",
    "      gauss = gauss.reshape(row,col,ch)\n",
    "      noisy = image + gauss\n",
    "      return noisy\n",
    "   elif noise_typ == \"s&p\":\n",
    "      row,col,ch = image.shape\n",
    "      s_vs_p = 0.5\n",
    "      amount = 0.004\n",
    "      out = np.copy(image)\n",
    "      # Salt mode\n",
    "      num_salt = np.ceil(amount * image.size * s_vs_p)\n",
    "      coords = [np.random.randint(0, i - 1, int(num_salt))\n",
    "              for i in image.shape]\n",
    "      out[coords] = 1\n",
    "\n",
    "      # Pepper mode\n",
    "      num_pepper = np.ceil(amount* image.size * (1. - s_vs_p))\n",
    "      coords = [np.random.randint(0, i - 1, int(num_pepper))\n",
    "              for i in image.shape]\n",
    "      out[coords] = 0\n",
    "      return out\n",
    "  elif noise_typ == \"poisson\":\n",
    "      vals = len(np.unique(image))\n",
    "      vals = 2 ** np.ceil(np.log2(vals))\n",
    "      noisy = np.random.poisson(image * vals) / float(vals)\n",
    "      return noisy\n",
    "  elif noise_typ ==\"speckle\":\n",
    "      row,col,ch = image.shape\n",
    "      gauss = np.random.randn(row,col,ch)\n",
    "      gauss = gauss.reshape(row,col,ch)        \n",
    "      noisy = image + image * gauss\n",
    "      return noisy\n",
    "      \n",
    "noise_img = sp_noise(image,0.05) cv2.imwrite('sp_noise.jpg', noise_img)"
   ]
  },
  {
   "cell_type": "markdown",
   "metadata": {
    "id": "7BxAdAUwyqmn"
   },
   "source": [
    "# Генерируем картинки"
   ]
  },
  {
   "cell_type": "code",
   "execution_count": 42,
   "metadata": {
    "colab": {
     "base_uri": "https://localhost:8080/"
    },
    "id": "Ouf6nmGVyqmn",
    "outputId": "3f93f231-5ac8-4c77-d1a4-fab100cac481"
   },
   "outputs": [
    {
     "name": "stdout",
     "output_type": "stream",
     "text": [
      "[0.  0.5 1. ]\n",
      "[1.  0.5 0. ]\n"
     ]
    }
   ],
   "source": [
    "max_intensity = 1\n",
    "min_intensity = 0\n",
    "ni = 3\n",
    "\n",
    "right_intensity = np.arange(ni) * max_intensity / (ni - 1)\n",
    "#right_intensity = np.array(0,1,0, 1,0,1, 0,1,0)\n",
    "print(right_intensity)\n",
    "\n",
    "left_intensity = np.arange(ni - 1, -1, -1) * max_intensity / (ni - 1)\n",
    "#left_intensity = np.array(1,1,1, 0,1,0,  0,1,0)\n",
    "print(left_intensity)"
   ]
  },
  {
   "cell_type": "code",
   "execution_count": 11,
   "metadata": {
    "id": "xJbwVM_svczF"
   },
   "outputs": [],
   "source": [
    "import numpy as np\n",
    "import os\n",
    "import math\n",
    "import random\n",
    "\n",
    "\n",
    "from PIL import Image, ImageFont, ImageDraw, ImageEnhance, ImageChops\n",
    "\n",
    "WIDTH   = 120\n",
    "MINSIZE = 20\n",
    "MAXSIZE = 40\n",
    "\n",
    "kandinsky_colors = ['black', 'white']\n",
    "kandinsky_numbers = ['zero', 'one','two', 'three', 'four', 'five', 'six', 'seven', 'eight', 'nine', 'ten']\n",
    "\n",
    "\n",
    "def square (d,cx,cy,s,f):\n",
    "  s = 0.7 * s\n",
    "  d.rectangle(((cx-s/2, cy-s/2), (cx+s/2, cy+s/2)), fill=f)"
   ]
  },
  {
   "cell_type": "code",
   "execution_count": 12,
   "metadata": {
    "id": "HiMlqnrzvnRI"
   },
   "outputs": [],
   "source": [
    "kandinsky_shapes = [square,square,square]"
   ]
  },
  {
   "cell_type": "code",
   "execution_count": 25,
   "metadata": {
    "id": "qdB5dM7uvrkY"
   },
   "outputs": [
    {
     "ename": "IndentationError",
     "evalue": "expected an indented block (3301208526.py, line 7)",
     "output_type": "error",
     "traceback": [
      "\u001b[0;36m  File \u001b[0;32m\"/var/folders/zn/n2d2qpcj7qb1lmqnh250v_6w0000gn/T/ipykernel_74107/3301208526.py\"\u001b[0;36m, line \u001b[0;32m7\u001b[0m\n\u001b[0;31m    image = image.resize( (WIDTH,WIDTH), Image.BICUBIC)\u001b[0m\n\u001b[0m    ^\u001b[0m\n\u001b[0;31mIndentationError\u001b[0m\u001b[0;31m:\u001b[0m expected an indented block\n"
     ]
    }
   ],
   "source": [
    "def kandinskyFigure (shapes, subsampling = 1):\n",
    "    image = Image.new(\"RGBA\", (subsampling*WIDTH,subsampling*WIDTH), (220,220,220,255))\n",
    "    d = ImageDraw.Draw(image)\n",
    "    for s in shapes:\n",
    "        s['shape']( d, subsampling*s['cx'], subsampling*s['cy'], subsampling*s['size'], s['color'] )\n",
    "    if subsampling>1:\n",
    "    image = image.resize( (WIDTH,WIDTH), Image.BICUBIC)\n",
    "    return image"
   ]
  },
  {
   "cell_type": "code",
   "execution_count": 26,
   "metadata": {
    "id": "qdB5dM7uvrkY"
   },
   "outputs": [
    {
     "ename": "IndentationError",
     "evalue": "expected an indented block (3202850945.py, line 7)",
     "output_type": "error",
     "traceback": [
      "\u001b[0;36m  File \u001b[0;32m\"/var/folders/zn/n2d2qpcj7qb1lmqnh250v_6w0000gn/T/ipykernel_74107/3202850945.py\"\u001b[0;36m, line \u001b[0;32m7\u001b[0m\n\u001b[0;31m    image      = Image.new(\"L\", (WIDTH,WIDTH), 0)\u001b[0m\n\u001b[0m    ^\u001b[0m\n\u001b[0;31mIndentationError\u001b[0m\u001b[0;31m:\u001b[0m expected an indented block\n"
     ]
    }
   ],
   "source": [
    "def overlaps (shapes):\n",
    "    image = Image.new(\"L\", (WIDTH,WIDTH), 0)\n",
    "    sumarray = np.array(image)\n",
    "    d = ImageDraw.Draw(image)\n",
    "\n",
    "    for s in shapes:\n",
    "    image      = Image.new(\"L\", (WIDTH,WIDTH), 0)\n",
    "    d = ImageDraw.Draw(image)\n",
    "    s['shape']( d, s['cx'], s['cy'], s['size'], 10 )\n",
    "    sumarray = sumarray + np.array(image)\n",
    "\n",
    "    sumimage = Image.fromarray (sumarray)\n",
    "    return sumimage.getextrema ()[1] > 10"
   ]
  },
  {
   "cell_type": "code",
   "execution_count": 27,
   "metadata": {
    "id": "qdB5dM7uvrkY"
   },
   "outputs": [
    {
     "ename": "IndentationError",
     "evalue": "expected an indented block (4055665729.py, line 4)",
     "output_type": "error",
     "traceback": [
      "\u001b[0;36m  File \u001b[0;32m\"/var/folders/zn/n2d2qpcj7qb1lmqnh250v_6w0000gn/T/ipykernel_74107/4055665729.py\"\u001b[0;36m, line \u001b[0;32m4\u001b[0m\n\u001b[0;31m    shapes = f()\u001b[0m\n\u001b[0m    ^\u001b[0m\n\u001b[0;31mIndentationError\u001b[0m\u001b[0;31m:\u001b[0m expected an indented block\n"
     ]
    }
   ],
   "source": [
    "def combineFigures (n, f):\n",
    "    images = []\n",
    "    for i in range (n):\n",
    "    shapes = f()\n",
    "    while overlaps (shapes):\n",
    "        shapes = f()\n",
    "    image = kandinskyFigure (shapes,4)    \n",
    "    images.append (image)\n",
    "\n",
    "    allimages = Image.new(\"RGBA\", (WIDTH*n+20*(n-1),WIDTH), (255,255,255,255))\n",
    "    for i in range (n):\n",
    "    allimages.paste ( images[i], ( WIDTH*i+20*(i), 0))\n",
    "    return allimages"
   ]
  },
  {
   "cell_type": "code",
   "execution_count": 22,
   "metadata": {},
   "outputs": [
    {
     "ename": "TypeError",
     "evalue": "'function' object is not iterable",
     "output_type": "error",
     "traceback": [
      "\u001b[0;31m---------------------------------------------------------------------------\u001b[0m",
      "\u001b[0;31mTypeError\u001b[0m                                 Traceback (most recent call last)",
      "\u001b[0;32m/var/folders/zn/n2d2qpcj7qb1lmqnh250v_6w0000gn/T/ipykernel_74107/3645655639.py\u001b[0m in \u001b[0;36m<module>\u001b[0;34m\u001b[0m\n\u001b[0;32m----> 1\u001b[0;31m \u001b[0mkandinskyFigure\u001b[0m\u001b[0;34m(\u001b[0m\u001b[0mshapes\u001b[0m \u001b[0;34m=\u001b[0m \u001b[0mkandinsky_shapes\u001b[0m\u001b[0;34m[\u001b[0m\u001b[0;36m0\u001b[0m\u001b[0;34m]\u001b[0m\u001b[0;34m)\u001b[0m\u001b[0;34m\u001b[0m\u001b[0;34m\u001b[0m\u001b[0m\n\u001b[0m",
      "\u001b[0;32m/var/folders/zn/n2d2qpcj7qb1lmqnh250v_6w0000gn/T/ipykernel_74107/3867562106.py\u001b[0m in \u001b[0;36mkandinskyFigure\u001b[0;34m(shapes, subsampling)\u001b[0m\n\u001b[1;32m      2\u001b[0m   \u001b[0mimage\u001b[0m \u001b[0;34m=\u001b[0m \u001b[0mImage\u001b[0m\u001b[0;34m.\u001b[0m\u001b[0mnew\u001b[0m\u001b[0;34m(\u001b[0m\u001b[0;34m\"RGBA\"\u001b[0m\u001b[0;34m,\u001b[0m \u001b[0;34m(\u001b[0m\u001b[0msubsampling\u001b[0m\u001b[0;34m*\u001b[0m\u001b[0mWIDTH\u001b[0m\u001b[0;34m,\u001b[0m\u001b[0msubsampling\u001b[0m\u001b[0;34m*\u001b[0m\u001b[0mWIDTH\u001b[0m\u001b[0;34m)\u001b[0m\u001b[0;34m,\u001b[0m \u001b[0;34m(\u001b[0m\u001b[0;36m220\u001b[0m\u001b[0;34m,\u001b[0m\u001b[0;36m220\u001b[0m\u001b[0;34m,\u001b[0m\u001b[0;36m220\u001b[0m\u001b[0;34m,\u001b[0m\u001b[0;36m255\u001b[0m\u001b[0;34m)\u001b[0m\u001b[0;34m)\u001b[0m\u001b[0;34m\u001b[0m\u001b[0;34m\u001b[0m\u001b[0m\n\u001b[1;32m      3\u001b[0m   \u001b[0md\u001b[0m \u001b[0;34m=\u001b[0m \u001b[0mImageDraw\u001b[0m\u001b[0;34m.\u001b[0m\u001b[0mDraw\u001b[0m\u001b[0;34m(\u001b[0m\u001b[0mimage\u001b[0m\u001b[0;34m)\u001b[0m\u001b[0;34m\u001b[0m\u001b[0;34m\u001b[0m\u001b[0m\n\u001b[0;32m----> 4\u001b[0;31m   \u001b[0;32mfor\u001b[0m \u001b[0ms\u001b[0m \u001b[0;32min\u001b[0m \u001b[0mshapes\u001b[0m\u001b[0;34m:\u001b[0m\u001b[0;34m\u001b[0m\u001b[0;34m\u001b[0m\u001b[0m\n\u001b[0m\u001b[1;32m      5\u001b[0m       \u001b[0ms\u001b[0m\u001b[0;34m[\u001b[0m\u001b[0;34m'shape'\u001b[0m\u001b[0;34m]\u001b[0m\u001b[0;34m(\u001b[0m \u001b[0md\u001b[0m\u001b[0;34m,\u001b[0m \u001b[0msubsampling\u001b[0m\u001b[0;34m*\u001b[0m\u001b[0ms\u001b[0m\u001b[0;34m[\u001b[0m\u001b[0;34m'cx'\u001b[0m\u001b[0;34m]\u001b[0m\u001b[0;34m,\u001b[0m \u001b[0msubsampling\u001b[0m\u001b[0;34m*\u001b[0m\u001b[0ms\u001b[0m\u001b[0;34m[\u001b[0m\u001b[0;34m'cy'\u001b[0m\u001b[0;34m]\u001b[0m\u001b[0;34m,\u001b[0m \u001b[0msubsampling\u001b[0m\u001b[0;34m*\u001b[0m\u001b[0ms\u001b[0m\u001b[0;34m[\u001b[0m\u001b[0;34m'size'\u001b[0m\u001b[0;34m]\u001b[0m\u001b[0;34m,\u001b[0m \u001b[0ms\u001b[0m\u001b[0;34m[\u001b[0m\u001b[0;34m'color'\u001b[0m\u001b[0;34m]\u001b[0m \u001b[0;34m)\u001b[0m\u001b[0;34m\u001b[0m\u001b[0;34m\u001b[0m\u001b[0m\n\u001b[1;32m      6\u001b[0m   \u001b[0;32mif\u001b[0m \u001b[0msubsampling\u001b[0m\u001b[0;34m>\u001b[0m\u001b[0;36m1\u001b[0m\u001b[0;34m:\u001b[0m\u001b[0;34m\u001b[0m\u001b[0;34m\u001b[0m\u001b[0m\n",
      "\u001b[0;31mTypeError\u001b[0m: 'function' object is not iterable"
     ]
    }
   ],
   "source": [
    "kandinskyFigure(shapes = kandinsky_shapes[0])"
   ]
  },
  {
   "cell_type": "code",
   "execution_count": 14,
   "metadata": {
    "id": "y_HcGVmAvyUT"
   },
   "outputs": [],
   "source": [
    "def randomShapes(min, max):\n",
    "  nshapes  = random.randint (min,max)\n",
    "  shapes = []\n",
    "  for i in range (nshapes):\n",
    "    cx = random.randint (MAXSIZE/2,WIDTH-MAXSIZE/2)\n",
    "    cy = random.randint (MAXSIZE/2,WIDTH-MAXSIZE/2)\n",
    "    size  = random.randint (MINSIZE,MAXSIZE)\n",
    "    col  = random.randint (0,2)\n",
    "    sha  = random.randint (0,2)\n",
    "    shape = {'shape':kandinsky_shapes[sha], 'cx':cx, 'cy':cy, 'size':size, 'color':kandinsky_colors[col]}\n",
    "    shapes.append (shape)\n",
    "  return shapes\n",
    "\n",
    "def onlyCircles (min, max):\n",
    "  nshapes  = random.randint (min,max)\n",
    "  shapes = []\n",
    "  for i in range (nshapes):\n",
    "    cx = random.randint (MAXSIZE/2,WIDTH-MAXSIZE/2)\n",
    "    cy = random.randint (MAXSIZE/2,WIDTH-MAXSIZE/2)\n",
    "    size  = random.randint (MINSIZE,MAXSIZE)\n",
    "    col  = random.randint (0,2)   \n",
    "    shape = {'shape':circle, 'cx':cx, 'cy':cy, 'size':size, 'color':kandinsky_colors[col]}\n",
    "    shapes.append (shape)\n",
    "  return shapes\n",
    "\n",
    "def shapesOnLine (min, max):\n",
    "  nshapes  = random.randint (min,max)\n",
    "  \n",
    "  dx =  math.cos (random.random()* math.pi * 2) * (WIDTH/2-MAXSIZE/2)\n",
    "  dy =  math.sin (random.random()* math.pi * 2) * (WIDTH/2-MAXSIZE/2)\n",
    "  sx = WIDTH/2  - dx  \n",
    "  sy = WIDTH/2  + dy  \n",
    "  ex = WIDTH/2  + dx  \n",
    "  ey = WIDTH/2  - dy  \n",
    "  dx =  ex-sx\n",
    "  dy =  ey-sy\n",
    "  shapes = []\n",
    "  for i in range (nshapes):\n",
    "    r = random.random() \n",
    "    cx = sx + r * dx\n",
    "    cy = sy + r * dy\n",
    "    size  = random.randint (MINSIZE,MAXSIZE)\n",
    "    col  = random.randint (0,2)\n",
    "    sha  = random.randint (0,2)\n",
    "    shape = {'shape':kandinsky_shapes[sha], 'cx':cx, 'cy':cy, 'size':size, 'color':kandinsky_colors[col]}\n",
    "    shapes.append (shape)\n",
    "\n",
    "  return shapes\n",
    "\n",
    "def shapesWithEqualArea(min, max):\n",
    "  nshapes  = random.randint (min,max)\n",
    "  shapes = []\n",
    "  size  = random.randint (MINSIZE,MAXSIZE)\n",
    "  for i in range (nshapes):\n",
    "    cx = random.randint (MAXSIZE/2,WIDTH-MAXSIZE/2)\n",
    "    cy = random.randint (MAXSIZE/2,WIDTH-MAXSIZE/2)\n",
    "    col  = random.randint (0,2)\n",
    "    sha  = random.randint (0,2)\n",
    "    shape = {'shape':kandinsky_shapes[sha], 'cx':cx, 'cy':cy, 'size':size, 'color':kandinsky_colors[col]}\n",
    "    shapes.append (shape)\n",
    "  return shapes\n",
    "\n",
    "def twoPairsOnlyOneWithSameColor():\n",
    "  shapes = []\n",
    "  size  = random.randint (MINSIZE,MAXSIZE)\n",
    "\n",
    "  sha  = random.randint (0,2)\n",
    "  col  = random.randint (0,2)\n",
    "  cx = random.randint (MAXSIZE/2,WIDTH-MAXSIZE/2)\n",
    "  cy = random.randint (MAXSIZE/2,WIDTH-MAXSIZE/2)\n",
    "  shape = {'shape':kandinsky_shapes[sha], 'cx':cx, 'cy':cy, 'size':size, 'color':kandinsky_colors[col]}\n",
    "  shapes.append (shape)\n",
    " \n",
    "  colOld =  col \n",
    "  while col == colOld:\n",
    "    col  = random.randint (0,2) \n",
    "  cx = random.randint (MAXSIZE/2,WIDTH-MAXSIZE/2)\n",
    "  cy = random.randint (MAXSIZE/2,WIDTH-MAXSIZE/2)\n",
    "  size  = random.randint (MINSIZE,MAXSIZE)\n",
    "  shape = {'shape':kandinsky_shapes[sha], 'cx':cx, 'cy':cy, 'size':size, 'color':kandinsky_colors[col]}\n",
    "  shapes.append (shape)\n",
    "  \n",
    "  shaOld =  sha \n",
    "  while sha == shaOld:\n",
    "     sha  = random.randint (0,2)\n",
    "      \n",
    "  col  = random.randint (0,2)\n",
    "  for i in range (2):\n",
    "    cx = random.randint (MAXSIZE/2,WIDTH-MAXSIZE/2)\n",
    "    cy = random.randint (MAXSIZE/2,WIDTH-MAXSIZE/2)\n",
    "    size  = random.randint (MINSIZE,MAXSIZE)\n",
    "    shape = {'shape':kandinsky_shapes[sha], 'cx':cx, 'cy':cy, 'size':size, 'color':kandinsky_colors[col]}\n",
    "    shapes.append (shape)    \n",
    "  return shapes"
   ]
  },
  {
   "cell_type": "code",
   "execution_count": 16,
   "metadata": {
    "colab": {
     "base_uri": "https://localhost:8080/",
     "height": 137
    },
    "id": "kCvZSJXZvyXU",
    "outputId": "8d209df9-c709-4894-9a3c-c1fcafb522b6"
   },
   "outputs": [
    {
     "name": "stderr",
     "output_type": "stream",
     "text": [
      "WARNING    /var/folders/zn/n2d2qpcj7qb1lmqnh250v_6w0000gn/T/ipykernel_74107/3867562106.py:7: DeprecationWarning: BICUBIC is deprecated and will be removed in Pillow 10 (2023-07-01). Use Resampling.BICUBIC instead.\n",
      "  image = image.resize( (WIDTH,WIDTH), Image.BICUBIC)\n",
      " [py.warnings]\n"
     ]
    },
    {
     "ename": "IndexError",
     "evalue": "list index out of range",
     "output_type": "error",
     "traceback": [
      "\u001b[0;31m---------------------------------------------------------------------------\u001b[0m",
      "\u001b[0;31mIndexError\u001b[0m                                Traceback (most recent call last)",
      "\u001b[0;32m/var/folders/zn/n2d2qpcj7qb1lmqnh250v_6w0000gn/T/ipykernel_74107/962007656.py\u001b[0m in \u001b[0;36m<module>\u001b[0;34m\u001b[0m\n\u001b[0;32m----> 1\u001b[0;31m \u001b[0mcombineFigures\u001b[0m \u001b[0;34m(\u001b[0m\u001b[0;36m6\u001b[0m\u001b[0;34m,\u001b[0m \u001b[0;32mlambda\u001b[0m\u001b[0;34m:\u001b[0m \u001b[0mrandomShapes\u001b[0m\u001b[0;34m(\u001b[0m\u001b[0;36m1\u001b[0m\u001b[0;34m,\u001b[0m\u001b[0;36m2\u001b[0m\u001b[0;34m)\u001b[0m\u001b[0;34m)\u001b[0m\u001b[0;34m\u001b[0m\u001b[0;34m\u001b[0m\u001b[0m\n\u001b[0m",
      "\u001b[0;32m/var/folders/zn/n2d2qpcj7qb1lmqnh250v_6w0000gn/T/ipykernel_74107/3867562106.py\u001b[0m in \u001b[0;36mcombineFigures\u001b[0;34m(n, f)\u001b[0m\n\u001b[1;32m     25\u001b[0m   \u001b[0mimages\u001b[0m \u001b[0;34m=\u001b[0m \u001b[0;34m[\u001b[0m\u001b[0;34m]\u001b[0m\u001b[0;34m\u001b[0m\u001b[0;34m\u001b[0m\u001b[0m\n\u001b[1;32m     26\u001b[0m   \u001b[0;32mfor\u001b[0m \u001b[0mi\u001b[0m \u001b[0;32min\u001b[0m \u001b[0mrange\u001b[0m \u001b[0;34m(\u001b[0m\u001b[0mn\u001b[0m\u001b[0;34m)\u001b[0m\u001b[0;34m:\u001b[0m\u001b[0;34m\u001b[0m\u001b[0;34m\u001b[0m\u001b[0m\n\u001b[0;32m---> 27\u001b[0;31m     \u001b[0mshapes\u001b[0m \u001b[0;34m=\u001b[0m \u001b[0mf\u001b[0m\u001b[0;34m(\u001b[0m\u001b[0;34m)\u001b[0m\u001b[0;34m\u001b[0m\u001b[0;34m\u001b[0m\u001b[0m\n\u001b[0m\u001b[1;32m     28\u001b[0m     \u001b[0;32mwhile\u001b[0m \u001b[0moverlaps\u001b[0m \u001b[0;34m(\u001b[0m\u001b[0mshapes\u001b[0m\u001b[0;34m)\u001b[0m\u001b[0;34m:\u001b[0m\u001b[0;34m\u001b[0m\u001b[0;34m\u001b[0m\u001b[0m\n\u001b[1;32m     29\u001b[0m       \u001b[0mshapes\u001b[0m \u001b[0;34m=\u001b[0m \u001b[0mf\u001b[0m\u001b[0;34m(\u001b[0m\u001b[0;34m)\u001b[0m\u001b[0;34m\u001b[0m\u001b[0;34m\u001b[0m\u001b[0m\n",
      "\u001b[0;32m/var/folders/zn/n2d2qpcj7qb1lmqnh250v_6w0000gn/T/ipykernel_74107/962007656.py\u001b[0m in \u001b[0;36m<lambda>\u001b[0;34m()\u001b[0m\n\u001b[0;32m----> 1\u001b[0;31m \u001b[0mcombineFigures\u001b[0m \u001b[0;34m(\u001b[0m\u001b[0;36m6\u001b[0m\u001b[0;34m,\u001b[0m \u001b[0;32mlambda\u001b[0m\u001b[0;34m:\u001b[0m \u001b[0mrandomShapes\u001b[0m\u001b[0;34m(\u001b[0m\u001b[0;36m1\u001b[0m\u001b[0;34m,\u001b[0m\u001b[0;36m2\u001b[0m\u001b[0;34m)\u001b[0m\u001b[0;34m)\u001b[0m\u001b[0;34m\u001b[0m\u001b[0;34m\u001b[0m\u001b[0m\n\u001b[0m",
      "\u001b[0;32m/var/folders/zn/n2d2qpcj7qb1lmqnh250v_6w0000gn/T/ipykernel_74107/3774243549.py\u001b[0m in \u001b[0;36mrandomShapes\u001b[0;34m(min, max)\u001b[0m\n\u001b[1;32m      8\u001b[0m     \u001b[0mcol\u001b[0m  \u001b[0;34m=\u001b[0m \u001b[0mrandom\u001b[0m\u001b[0;34m.\u001b[0m\u001b[0mrandint\u001b[0m \u001b[0;34m(\u001b[0m\u001b[0;36m0\u001b[0m\u001b[0;34m,\u001b[0m\u001b[0;36m2\u001b[0m\u001b[0;34m)\u001b[0m\u001b[0;34m\u001b[0m\u001b[0;34m\u001b[0m\u001b[0m\n\u001b[1;32m      9\u001b[0m     \u001b[0msha\u001b[0m  \u001b[0;34m=\u001b[0m \u001b[0mrandom\u001b[0m\u001b[0;34m.\u001b[0m\u001b[0mrandint\u001b[0m \u001b[0;34m(\u001b[0m\u001b[0;36m0\u001b[0m\u001b[0;34m,\u001b[0m\u001b[0;36m2\u001b[0m\u001b[0;34m)\u001b[0m\u001b[0;34m\u001b[0m\u001b[0;34m\u001b[0m\u001b[0m\n\u001b[0;32m---> 10\u001b[0;31m     \u001b[0mshape\u001b[0m \u001b[0;34m=\u001b[0m \u001b[0;34m{\u001b[0m\u001b[0;34m'shape'\u001b[0m\u001b[0;34m:\u001b[0m\u001b[0mkandinsky_shapes\u001b[0m\u001b[0;34m[\u001b[0m\u001b[0msha\u001b[0m\u001b[0;34m]\u001b[0m\u001b[0;34m,\u001b[0m \u001b[0;34m'cx'\u001b[0m\u001b[0;34m:\u001b[0m\u001b[0mcx\u001b[0m\u001b[0;34m,\u001b[0m \u001b[0;34m'cy'\u001b[0m\u001b[0;34m:\u001b[0m\u001b[0mcy\u001b[0m\u001b[0;34m,\u001b[0m \u001b[0;34m'size'\u001b[0m\u001b[0;34m:\u001b[0m\u001b[0msize\u001b[0m\u001b[0;34m,\u001b[0m \u001b[0;34m'color'\u001b[0m\u001b[0;34m:\u001b[0m\u001b[0mkandinsky_colors\u001b[0m\u001b[0;34m[\u001b[0m\u001b[0mcol\u001b[0m\u001b[0;34m]\u001b[0m\u001b[0;34m}\u001b[0m\u001b[0;34m\u001b[0m\u001b[0;34m\u001b[0m\u001b[0m\n\u001b[0m\u001b[1;32m     11\u001b[0m     \u001b[0mshapes\u001b[0m\u001b[0;34m.\u001b[0m\u001b[0mappend\u001b[0m \u001b[0;34m(\u001b[0m\u001b[0mshape\u001b[0m\u001b[0;34m)\u001b[0m\u001b[0;34m\u001b[0m\u001b[0;34m\u001b[0m\u001b[0m\n\u001b[1;32m     12\u001b[0m   \u001b[0;32mreturn\u001b[0m \u001b[0mshapes\u001b[0m\u001b[0;34m\u001b[0m\u001b[0;34m\u001b[0m\u001b[0m\n",
      "\u001b[0;31mIndexError\u001b[0m: list index out of range"
     ]
    }
   ],
   "source": [
    "combineFigures (6, lambda: randomShapes(1,2))"
   ]
  },
  {
   "cell_type": "code",
   "execution_count": 17,
   "metadata": {
    "colab": {
     "base_uri": "https://localhost:8080/",
     "height": 137
    },
    "id": "QmwApHkuvyam",
    "outputId": "14502dbf-1323-45aa-b634-4156e61358ce"
   },
   "outputs": [
    {
     "ename": "IndexError",
     "evalue": "list index out of range",
     "output_type": "error",
     "traceback": [
      "\u001b[0;31m---------------------------------------------------------------------------\u001b[0m",
      "\u001b[0;31mIndexError\u001b[0m                                Traceback (most recent call last)",
      "\u001b[0;32m/var/folders/zn/n2d2qpcj7qb1lmqnh250v_6w0000gn/T/ipykernel_74107/2097469259.py\u001b[0m in \u001b[0;36m<module>\u001b[0;34m\u001b[0m\n\u001b[0;32m----> 1\u001b[0;31m \u001b[0mcombineFigures\u001b[0m \u001b[0;34m(\u001b[0m\u001b[0;36m1\u001b[0m\u001b[0;34m,\u001b[0m \u001b[0;32mlambda\u001b[0m\u001b[0;34m:\u001b[0m \u001b[0mtwoPairsOnlyOneWithSameColor\u001b[0m\u001b[0;34m(\u001b[0m\u001b[0;34m)\u001b[0m\u001b[0;34m)\u001b[0m\u001b[0;34m\u001b[0m\u001b[0;34m\u001b[0m\u001b[0m\n\u001b[0m",
      "\u001b[0;32m/var/folders/zn/n2d2qpcj7qb1lmqnh250v_6w0000gn/T/ipykernel_74107/3867562106.py\u001b[0m in \u001b[0;36mcombineFigures\u001b[0;34m(n, f)\u001b[0m\n\u001b[1;32m     25\u001b[0m   \u001b[0mimages\u001b[0m \u001b[0;34m=\u001b[0m \u001b[0;34m[\u001b[0m\u001b[0;34m]\u001b[0m\u001b[0;34m\u001b[0m\u001b[0;34m\u001b[0m\u001b[0m\n\u001b[1;32m     26\u001b[0m   \u001b[0;32mfor\u001b[0m \u001b[0mi\u001b[0m \u001b[0;32min\u001b[0m \u001b[0mrange\u001b[0m \u001b[0;34m(\u001b[0m\u001b[0mn\u001b[0m\u001b[0;34m)\u001b[0m\u001b[0;34m:\u001b[0m\u001b[0;34m\u001b[0m\u001b[0;34m\u001b[0m\u001b[0m\n\u001b[0;32m---> 27\u001b[0;31m     \u001b[0mshapes\u001b[0m \u001b[0;34m=\u001b[0m \u001b[0mf\u001b[0m\u001b[0;34m(\u001b[0m\u001b[0;34m)\u001b[0m\u001b[0;34m\u001b[0m\u001b[0;34m\u001b[0m\u001b[0m\n\u001b[0m\u001b[1;32m     28\u001b[0m     \u001b[0;32mwhile\u001b[0m \u001b[0moverlaps\u001b[0m \u001b[0;34m(\u001b[0m\u001b[0mshapes\u001b[0m\u001b[0;34m)\u001b[0m\u001b[0;34m:\u001b[0m\u001b[0;34m\u001b[0m\u001b[0;34m\u001b[0m\u001b[0m\n\u001b[1;32m     29\u001b[0m       \u001b[0mshapes\u001b[0m \u001b[0;34m=\u001b[0m \u001b[0mf\u001b[0m\u001b[0;34m(\u001b[0m\u001b[0;34m)\u001b[0m\u001b[0;34m\u001b[0m\u001b[0;34m\u001b[0m\u001b[0m\n",
      "\u001b[0;32m/var/folders/zn/n2d2qpcj7qb1lmqnh250v_6w0000gn/T/ipykernel_74107/2097469259.py\u001b[0m in \u001b[0;36m<lambda>\u001b[0;34m()\u001b[0m\n\u001b[0;32m----> 1\u001b[0;31m \u001b[0mcombineFigures\u001b[0m \u001b[0;34m(\u001b[0m\u001b[0;36m1\u001b[0m\u001b[0;34m,\u001b[0m \u001b[0;32mlambda\u001b[0m\u001b[0;34m:\u001b[0m \u001b[0mtwoPairsOnlyOneWithSameColor\u001b[0m\u001b[0;34m(\u001b[0m\u001b[0;34m)\u001b[0m\u001b[0;34m)\u001b[0m\u001b[0;34m\u001b[0m\u001b[0;34m\u001b[0m\u001b[0m\n\u001b[0m",
      "\u001b[0;32m/var/folders/zn/n2d2qpcj7qb1lmqnh250v_6w0000gn/T/ipykernel_74107/3774243549.py\u001b[0m in \u001b[0;36mtwoPairsOnlyOneWithSameColor\u001b[0;34m()\u001b[0m\n\u001b[1;32m     78\u001b[0m   \u001b[0mcy\u001b[0m \u001b[0;34m=\u001b[0m \u001b[0mrandom\u001b[0m\u001b[0;34m.\u001b[0m\u001b[0mrandint\u001b[0m \u001b[0;34m(\u001b[0m\u001b[0mMAXSIZE\u001b[0m\u001b[0;34m/\u001b[0m\u001b[0;36m2\u001b[0m\u001b[0;34m,\u001b[0m\u001b[0mWIDTH\u001b[0m\u001b[0;34m-\u001b[0m\u001b[0mMAXSIZE\u001b[0m\u001b[0;34m/\u001b[0m\u001b[0;36m2\u001b[0m\u001b[0;34m)\u001b[0m\u001b[0;34m\u001b[0m\u001b[0;34m\u001b[0m\u001b[0m\n\u001b[1;32m     79\u001b[0m   \u001b[0msize\u001b[0m  \u001b[0;34m=\u001b[0m \u001b[0mrandom\u001b[0m\u001b[0;34m.\u001b[0m\u001b[0mrandint\u001b[0m \u001b[0;34m(\u001b[0m\u001b[0mMINSIZE\u001b[0m\u001b[0;34m,\u001b[0m\u001b[0mMAXSIZE\u001b[0m\u001b[0;34m)\u001b[0m\u001b[0;34m\u001b[0m\u001b[0;34m\u001b[0m\u001b[0m\n\u001b[0;32m---> 80\u001b[0;31m   \u001b[0mshape\u001b[0m \u001b[0;34m=\u001b[0m \u001b[0;34m{\u001b[0m\u001b[0;34m'shape'\u001b[0m\u001b[0;34m:\u001b[0m\u001b[0mkandinsky_shapes\u001b[0m\u001b[0;34m[\u001b[0m\u001b[0msha\u001b[0m\u001b[0;34m]\u001b[0m\u001b[0;34m,\u001b[0m \u001b[0;34m'cx'\u001b[0m\u001b[0;34m:\u001b[0m\u001b[0mcx\u001b[0m\u001b[0;34m,\u001b[0m \u001b[0;34m'cy'\u001b[0m\u001b[0;34m:\u001b[0m\u001b[0mcy\u001b[0m\u001b[0;34m,\u001b[0m \u001b[0;34m'size'\u001b[0m\u001b[0;34m:\u001b[0m\u001b[0msize\u001b[0m\u001b[0;34m,\u001b[0m \u001b[0;34m'color'\u001b[0m\u001b[0;34m:\u001b[0m\u001b[0mkandinsky_colors\u001b[0m\u001b[0;34m[\u001b[0m\u001b[0mcol\u001b[0m\u001b[0;34m]\u001b[0m\u001b[0;34m}\u001b[0m\u001b[0;34m\u001b[0m\u001b[0;34m\u001b[0m\u001b[0m\n\u001b[0m\u001b[1;32m     81\u001b[0m   \u001b[0mshapes\u001b[0m\u001b[0;34m.\u001b[0m\u001b[0mappend\u001b[0m \u001b[0;34m(\u001b[0m\u001b[0mshape\u001b[0m\u001b[0;34m)\u001b[0m\u001b[0;34m\u001b[0m\u001b[0;34m\u001b[0m\u001b[0m\n\u001b[1;32m     82\u001b[0m \u001b[0;34m\u001b[0m\u001b[0m\n",
      "\u001b[0;31mIndexError\u001b[0m: list index out of range"
     ]
    }
   ],
   "source": [
    "combineFigures (1, lambda: twoPairsOnlyOneWithSameColor())"
   ]
  },
  {
   "cell_type": "code",
   "execution_count": 29,
   "metadata": {
    "id": "e2laD_s-wMiB"
   },
   "outputs": [],
   "source": [
    "DELTASIZE = MAXSIZE - MINSIZE\n",
    "SMALLSIZECHECK = MINSIZE + DELTASIZE /3\n",
    "BIGSIZECHECK   = MAXSIZE - DELTASIZE /3\n",
    "\n",
    "\n",
    "def descColorShapeSize (shapes, prefix = ''):\n",
    "    descrition = prefix\n",
    "    multipleshape = False\n",
    "    for s in shapes:\n",
    "        if multipleshape: descrition = descrition + \" and \" + prefix \n",
    "        sizestring = ''\n",
    "        if s['size'] < SMALLSIZECHECK: sizestring = 'small'\n",
    "        if s['size'] > BIGSIZECHECK:   sizestring = 'big'\n",
    "        if len (sizestring) > 0:  descrition = descrition + sizestring +  \" \"\n",
    "        descrition = descrition  +  s['color'] +  \" \" +  s['shape'].__name__\n",
    "        multipleshape = True \n",
    "    return descrition\n",
    "  \n",
    "def descNumbers (shapes):  \n",
    "  descrition =  descColorShapeSize (shapes, 'one ')\n",
    "  #lets look if we find some patterns\n",
    "  ns = {}\n",
    "  nc = {}\n",
    "  for s in kandinsky_shapes: ns[s] = 0\n",
    "  for s in kandinsky_colors: nc[s] = 0\n",
    "  for s in shapes:\n",
    "      ns[s['shape']] += 1\n",
    "      nc[s['color']] += 1\n",
    "  maxcolor = ''\n",
    "  maxshape = ''\n",
    "  maxnumcolor = 0\n",
    "  maxnumshap  = 0\n",
    "  for c in kandinsky_colors: \n",
    "      if nc[c] > maxnumcolor:\n",
    "        maxnumcolor = nc[c]\n",
    "        maxcolor = c\n",
    "  for s in kandinsky_shapes: \n",
    "      if ns[s] > maxnumshap:\n",
    "        maxnumshap = ns[s]\n",
    "        maxshape = s.__name__\n",
    "\n",
    "  if maxnumcolor > 1 or maxnumshap > 1:\n",
    "    if maxnumcolor >= maxnumshap:\n",
    "        descrition = kandinsky_numbers[maxnumcolor] + \" \" + maxcolor + \" shapes\"\n",
    "    else:  \n",
    "        descrition = kandinsky_numbers[maxnumshap] + \" \" + maxshape + \"s\"\n",
    "  \n",
    "    if (maxnumcolor == maxnumshap) and (maxnumcolor == len(shapes)):\n",
    "        descrition = kandinsky_numbers[maxnumshap] + \" \" + maxcolor + \" \" + maxshape + \"s\"\n",
    "    \n",
    "  return descrition  \n",
    "  \n",
    "def descPairs (shapes):  \n",
    "  # thats not perfect, it e.g. does not describe two pairs, or a pair, if some other shape has 3 objects\n",
    "  descrition =  \"\"\n",
    "  ns = {}\n",
    "  for s in kandinsky_shapes: ns[s] = 0\n",
    "  for s in shapes:\n",
    "      ns[s['shape']] += 1\n",
    "  maxshape = ''\n",
    "  maxnumshap  = 0\n",
    "  for s in kandinsky_shapes: \n",
    "      if ns[s] > maxnumshap:\n",
    "        maxnumshap = ns[s]\n",
    "        maxshape = s.__name__\n",
    "  if maxnumshap ==  2:\n",
    "     descrition = \"a pair of \"+ maxshape + \"s\"    \n",
    "  return descrition  "
   ]
  },
  {
   "cell_type": "code",
   "execution_count": 30,
   "metadata": {
    "id": "WlZSMfZPwRwr"
   },
   "outputs": [
    {
     "ename": "IndexError",
     "evalue": "list index out of range",
     "output_type": "error",
     "traceback": [
      "\u001b[0;31m---------------------------------------------------------------------------\u001b[0m",
      "\u001b[0;31mIndexError\u001b[0m                                Traceback (most recent call last)",
      "\u001b[0;32m/var/folders/zn/n2d2qpcj7qb1lmqnh250v_6w0000gn/T/ipykernel_74107/435719752.py\u001b[0m in \u001b[0;36m<module>\u001b[0;34m\u001b[0m\n\u001b[1;32m      4\u001b[0m   \u001b[0mshapes\u001b[0m \u001b[0;34m=\u001b[0m \u001b[0mf\u001b[0m\u001b[0;34m(\u001b[0m\u001b[0;34m)\u001b[0m\u001b[0;34m\u001b[0m\u001b[0;34m\u001b[0m\u001b[0m\n\u001b[1;32m      5\u001b[0m   \u001b[0;32mwhile\u001b[0m \u001b[0moverlaps\u001b[0m \u001b[0;34m(\u001b[0m\u001b[0mshapes\u001b[0m\u001b[0;34m)\u001b[0m\u001b[0;34m:\u001b[0m\u001b[0;34m\u001b[0m\u001b[0;34m\u001b[0m\u001b[0m\n\u001b[0;32m----> 6\u001b[0;31m     \u001b[0mshapes\u001b[0m \u001b[0;34m=\u001b[0m \u001b[0mf\u001b[0m\u001b[0;34m(\u001b[0m\u001b[0;34m)\u001b[0m\u001b[0;34m\u001b[0m\u001b[0;34m\u001b[0m\u001b[0m\n\u001b[0m\u001b[1;32m      7\u001b[0m \u001b[0;34m\u001b[0m\u001b[0m\n\u001b[1;32m      8\u001b[0m   \u001b[0mdescrition\u001b[0m \u001b[0;34m=\u001b[0m \u001b[0mdescNumbers\u001b[0m \u001b[0;34m(\u001b[0m\u001b[0mshapes\u001b[0m\u001b[0;34m)\u001b[0m\u001b[0;34m\u001b[0m\u001b[0;34m\u001b[0m\u001b[0m\n",
      "\u001b[0;32m/var/folders/zn/n2d2qpcj7qb1lmqnh250v_6w0000gn/T/ipykernel_74107/435719752.py\u001b[0m in \u001b[0;36m<lambda>\u001b[0;34m()\u001b[0m\n\u001b[0;32m----> 1\u001b[0;31m \u001b[0mf\u001b[0m \u001b[0;34m=\u001b[0m  \u001b[0;32mlambda\u001b[0m\u001b[0;34m:\u001b[0m \u001b[0mrandomShapes\u001b[0m\u001b[0;34m(\u001b[0m\u001b[0;36m4\u001b[0m\u001b[0;34m,\u001b[0m\u001b[0;36m6\u001b[0m\u001b[0;34m)\u001b[0m\u001b[0;34m\u001b[0m\u001b[0;34m\u001b[0m\u001b[0m\n\u001b[0m\u001b[1;32m      2\u001b[0m \u001b[0mos\u001b[0m\u001b[0;34m.\u001b[0m\u001b[0mmakedirs\u001b[0m\u001b[0;34m(\u001b[0m\u001b[0;34m\"randomcaptions\"\u001b[0m\u001b[0;34m,\u001b[0m \u001b[0mexist_ok\u001b[0m\u001b[0;34m=\u001b[0m\u001b[0;32mTrue\u001b[0m\u001b[0;34m)\u001b[0m\u001b[0;34m\u001b[0m\u001b[0;34m\u001b[0m\u001b[0m\n\u001b[1;32m      3\u001b[0m \u001b[0;32mfor\u001b[0m \u001b[0mi\u001b[0m \u001b[0;32min\u001b[0m \u001b[0mrange\u001b[0m \u001b[0;34m(\u001b[0m\u001b[0;36m100\u001b[0m\u001b[0;34m)\u001b[0m\u001b[0;34m:\u001b[0m\u001b[0;34m\u001b[0m\u001b[0;34m\u001b[0m\u001b[0m\n\u001b[1;32m      4\u001b[0m   \u001b[0mshapes\u001b[0m \u001b[0;34m=\u001b[0m \u001b[0mf\u001b[0m\u001b[0;34m(\u001b[0m\u001b[0;34m)\u001b[0m\u001b[0;34m\u001b[0m\u001b[0;34m\u001b[0m\u001b[0m\n\u001b[1;32m      5\u001b[0m   \u001b[0;32mwhile\u001b[0m \u001b[0moverlaps\u001b[0m \u001b[0;34m(\u001b[0m\u001b[0mshapes\u001b[0m\u001b[0;34m)\u001b[0m\u001b[0;34m:\u001b[0m\u001b[0;34m\u001b[0m\u001b[0;34m\u001b[0m\u001b[0m\n",
      "\u001b[0;32m/var/folders/zn/n2d2qpcj7qb1lmqnh250v_6w0000gn/T/ipykernel_74107/3774243549.py\u001b[0m in \u001b[0;36mrandomShapes\u001b[0;34m(min, max)\u001b[0m\n\u001b[1;32m      8\u001b[0m     \u001b[0mcol\u001b[0m  \u001b[0;34m=\u001b[0m \u001b[0mrandom\u001b[0m\u001b[0;34m.\u001b[0m\u001b[0mrandint\u001b[0m \u001b[0;34m(\u001b[0m\u001b[0;36m0\u001b[0m\u001b[0;34m,\u001b[0m\u001b[0;36m2\u001b[0m\u001b[0;34m)\u001b[0m\u001b[0;34m\u001b[0m\u001b[0;34m\u001b[0m\u001b[0m\n\u001b[1;32m      9\u001b[0m     \u001b[0msha\u001b[0m  \u001b[0;34m=\u001b[0m \u001b[0mrandom\u001b[0m\u001b[0;34m.\u001b[0m\u001b[0mrandint\u001b[0m \u001b[0;34m(\u001b[0m\u001b[0;36m0\u001b[0m\u001b[0;34m,\u001b[0m\u001b[0;36m2\u001b[0m\u001b[0;34m)\u001b[0m\u001b[0;34m\u001b[0m\u001b[0;34m\u001b[0m\u001b[0m\n\u001b[0;32m---> 10\u001b[0;31m     \u001b[0mshape\u001b[0m \u001b[0;34m=\u001b[0m \u001b[0;34m{\u001b[0m\u001b[0;34m'shape'\u001b[0m\u001b[0;34m:\u001b[0m\u001b[0mkandinsky_shapes\u001b[0m\u001b[0;34m[\u001b[0m\u001b[0msha\u001b[0m\u001b[0;34m]\u001b[0m\u001b[0;34m,\u001b[0m \u001b[0;34m'cx'\u001b[0m\u001b[0;34m:\u001b[0m\u001b[0mcx\u001b[0m\u001b[0;34m,\u001b[0m \u001b[0;34m'cy'\u001b[0m\u001b[0;34m:\u001b[0m\u001b[0mcy\u001b[0m\u001b[0;34m,\u001b[0m \u001b[0;34m'size'\u001b[0m\u001b[0;34m:\u001b[0m\u001b[0msize\u001b[0m\u001b[0;34m,\u001b[0m \u001b[0;34m'color'\u001b[0m\u001b[0;34m:\u001b[0m\u001b[0mkandinsky_colors\u001b[0m\u001b[0;34m[\u001b[0m\u001b[0mcol\u001b[0m\u001b[0;34m]\u001b[0m\u001b[0;34m}\u001b[0m\u001b[0;34m\u001b[0m\u001b[0;34m\u001b[0m\u001b[0m\n\u001b[0m\u001b[1;32m     11\u001b[0m     \u001b[0mshapes\u001b[0m\u001b[0;34m.\u001b[0m\u001b[0mappend\u001b[0m \u001b[0;34m(\u001b[0m\u001b[0mshape\u001b[0m\u001b[0;34m)\u001b[0m\u001b[0;34m\u001b[0m\u001b[0;34m\u001b[0m\u001b[0m\n\u001b[1;32m     12\u001b[0m   \u001b[0;32mreturn\u001b[0m \u001b[0mshapes\u001b[0m\u001b[0;34m\u001b[0m\u001b[0;34m\u001b[0m\u001b[0m\n",
      "\u001b[0;31mIndexError\u001b[0m: list index out of range"
     ]
    }
   ],
   "source": [
    "f =  lambda: randomShapes(4,6)\n",
    "os.makedirs(\"randomcaptions\", exist_ok=True)\n",
    "for i in range (100):\n",
    "  shapes = f()\n",
    "  while overlaps (shapes):\n",
    "    shapes = f()\n",
    "  \n",
    "  descrition = descNumbers (shapes)\n",
    "  image = kandinskyFigure (shapes,4)  \n",
    "  filename = \"randomcaptions/%06d\" % i\n",
    "  image.save (filename+\".png\")\n",
    "  text_file = open(filename+\".txt\", \"w\")\n",
    "  text_file.write(descrition)\n",
    "  text_file.close()  "
   ]
  },
  {
   "cell_type": "code",
   "execution_count": 31,
   "metadata": {
    "id": "yxc6wmr4wapf"
   },
   "outputs": [
    {
     "ename": "IndexError",
     "evalue": "list index out of range",
     "output_type": "error",
     "traceback": [
      "\u001b[0;31m---------------------------------------------------------------------------\u001b[0m",
      "\u001b[0;31mIndexError\u001b[0m                                Traceback (most recent call last)",
      "\u001b[0;32m/var/folders/zn/n2d2qpcj7qb1lmqnh250v_6w0000gn/T/ipykernel_74107/2535140120.py\u001b[0m in \u001b[0;36m<module>\u001b[0;34m\u001b[0m\n\u001b[1;32m      1\u001b[0m \u001b[0mf\u001b[0m \u001b[0;34m=\u001b[0m  \u001b[0;32mlambda\u001b[0m\u001b[0;34m:\u001b[0m \u001b[0mrandomShapes\u001b[0m\u001b[0;34m(\u001b[0m\u001b[0;36m6\u001b[0m\u001b[0;34m,\u001b[0m\u001b[0;36m8\u001b[0m\u001b[0;34m)\u001b[0m\u001b[0;34m\u001b[0m\u001b[0;34m\u001b[0m\u001b[0m\n\u001b[0;32m----> 2\u001b[0;31m \u001b[0mshapes\u001b[0m \u001b[0;34m=\u001b[0m \u001b[0mf\u001b[0m\u001b[0;34m(\u001b[0m\u001b[0;34m)\u001b[0m\u001b[0;34m\u001b[0m\u001b[0;34m\u001b[0m\u001b[0m\n\u001b[0m\u001b[1;32m      3\u001b[0m \u001b[0;32mwhile\u001b[0m \u001b[0moverlaps\u001b[0m \u001b[0;34m(\u001b[0m\u001b[0mshapes\u001b[0m\u001b[0;34m)\u001b[0m \u001b[0;32mor\u001b[0m \u001b[0mlen\u001b[0m \u001b[0;34m(\u001b[0m\u001b[0mdescPairs\u001b[0m\u001b[0;34m(\u001b[0m\u001b[0mshapes\u001b[0m\u001b[0;34m)\u001b[0m\u001b[0;34m)\u001b[0m \u001b[0;34m==\u001b[0m \u001b[0;36m0\u001b[0m\u001b[0;34m:\u001b[0m\u001b[0;34m\u001b[0m\u001b[0;34m\u001b[0m\u001b[0m\n\u001b[1;32m      4\u001b[0m     \u001b[0mshapes\u001b[0m \u001b[0;34m=\u001b[0m \u001b[0mf\u001b[0m\u001b[0;34m(\u001b[0m\u001b[0;34m)\u001b[0m\u001b[0;34m\u001b[0m\u001b[0;34m\u001b[0m\u001b[0m\n\u001b[1;32m      5\u001b[0m \u001b[0;34m\u001b[0m\u001b[0m\n",
      "\u001b[0;32m/var/folders/zn/n2d2qpcj7qb1lmqnh250v_6w0000gn/T/ipykernel_74107/2535140120.py\u001b[0m in \u001b[0;36m<lambda>\u001b[0;34m()\u001b[0m\n\u001b[0;32m----> 1\u001b[0;31m \u001b[0mf\u001b[0m \u001b[0;34m=\u001b[0m  \u001b[0;32mlambda\u001b[0m\u001b[0;34m:\u001b[0m \u001b[0mrandomShapes\u001b[0m\u001b[0;34m(\u001b[0m\u001b[0;36m6\u001b[0m\u001b[0;34m,\u001b[0m\u001b[0;36m8\u001b[0m\u001b[0;34m)\u001b[0m\u001b[0;34m\u001b[0m\u001b[0;34m\u001b[0m\u001b[0m\n\u001b[0m\u001b[1;32m      2\u001b[0m \u001b[0mshapes\u001b[0m \u001b[0;34m=\u001b[0m \u001b[0mf\u001b[0m\u001b[0;34m(\u001b[0m\u001b[0;34m)\u001b[0m\u001b[0;34m\u001b[0m\u001b[0;34m\u001b[0m\u001b[0m\n\u001b[1;32m      3\u001b[0m \u001b[0;32mwhile\u001b[0m \u001b[0moverlaps\u001b[0m \u001b[0;34m(\u001b[0m\u001b[0mshapes\u001b[0m\u001b[0;34m)\u001b[0m \u001b[0;32mor\u001b[0m \u001b[0mlen\u001b[0m \u001b[0;34m(\u001b[0m\u001b[0mdescPairs\u001b[0m\u001b[0;34m(\u001b[0m\u001b[0mshapes\u001b[0m\u001b[0;34m)\u001b[0m\u001b[0;34m)\u001b[0m \u001b[0;34m==\u001b[0m \u001b[0;36m0\u001b[0m\u001b[0;34m:\u001b[0m\u001b[0;34m\u001b[0m\u001b[0;34m\u001b[0m\u001b[0m\n\u001b[1;32m      4\u001b[0m     \u001b[0mshapes\u001b[0m \u001b[0;34m=\u001b[0m \u001b[0mf\u001b[0m\u001b[0;34m(\u001b[0m\u001b[0;34m)\u001b[0m\u001b[0;34m\u001b[0m\u001b[0;34m\u001b[0m\u001b[0m\n\u001b[1;32m      5\u001b[0m \u001b[0;34m\u001b[0m\u001b[0m\n",
      "\u001b[0;32m/var/folders/zn/n2d2qpcj7qb1lmqnh250v_6w0000gn/T/ipykernel_74107/3774243549.py\u001b[0m in \u001b[0;36mrandomShapes\u001b[0;34m(min, max)\u001b[0m\n\u001b[1;32m      8\u001b[0m     \u001b[0mcol\u001b[0m  \u001b[0;34m=\u001b[0m \u001b[0mrandom\u001b[0m\u001b[0;34m.\u001b[0m\u001b[0mrandint\u001b[0m \u001b[0;34m(\u001b[0m\u001b[0;36m0\u001b[0m\u001b[0;34m,\u001b[0m\u001b[0;36m2\u001b[0m\u001b[0;34m)\u001b[0m\u001b[0;34m\u001b[0m\u001b[0;34m\u001b[0m\u001b[0m\n\u001b[1;32m      9\u001b[0m     \u001b[0msha\u001b[0m  \u001b[0;34m=\u001b[0m \u001b[0mrandom\u001b[0m\u001b[0;34m.\u001b[0m\u001b[0mrandint\u001b[0m \u001b[0;34m(\u001b[0m\u001b[0;36m0\u001b[0m\u001b[0;34m,\u001b[0m\u001b[0;36m2\u001b[0m\u001b[0;34m)\u001b[0m\u001b[0;34m\u001b[0m\u001b[0;34m\u001b[0m\u001b[0m\n\u001b[0;32m---> 10\u001b[0;31m     \u001b[0mshape\u001b[0m \u001b[0;34m=\u001b[0m \u001b[0;34m{\u001b[0m\u001b[0;34m'shape'\u001b[0m\u001b[0;34m:\u001b[0m\u001b[0mkandinsky_shapes\u001b[0m\u001b[0;34m[\u001b[0m\u001b[0msha\u001b[0m\u001b[0;34m]\u001b[0m\u001b[0;34m,\u001b[0m \u001b[0;34m'cx'\u001b[0m\u001b[0;34m:\u001b[0m\u001b[0mcx\u001b[0m\u001b[0;34m,\u001b[0m \u001b[0;34m'cy'\u001b[0m\u001b[0;34m:\u001b[0m\u001b[0mcy\u001b[0m\u001b[0;34m,\u001b[0m \u001b[0;34m'size'\u001b[0m\u001b[0;34m:\u001b[0m\u001b[0msize\u001b[0m\u001b[0;34m,\u001b[0m \u001b[0;34m'color'\u001b[0m\u001b[0;34m:\u001b[0m\u001b[0mkandinsky_colors\u001b[0m\u001b[0;34m[\u001b[0m\u001b[0mcol\u001b[0m\u001b[0;34m]\u001b[0m\u001b[0;34m}\u001b[0m\u001b[0;34m\u001b[0m\u001b[0;34m\u001b[0m\u001b[0m\n\u001b[0m\u001b[1;32m     11\u001b[0m     \u001b[0mshapes\u001b[0m\u001b[0;34m.\u001b[0m\u001b[0mappend\u001b[0m \u001b[0;34m(\u001b[0m\u001b[0mshape\u001b[0m\u001b[0;34m)\u001b[0m\u001b[0;34m\u001b[0m\u001b[0;34m\u001b[0m\u001b[0m\n\u001b[1;32m     12\u001b[0m   \u001b[0;32mreturn\u001b[0m \u001b[0mshapes\u001b[0m\u001b[0;34m\u001b[0m\u001b[0;34m\u001b[0m\u001b[0m\n",
      "\u001b[0;31mIndexError\u001b[0m: list index out of range"
     ]
    }
   ],
   "source": [
    "f =  lambda: randomShapes(6,8)\n",
    "shapes = f()\n",
    "while overlaps (shapes) or len (descPairs(shapes)) == 0:\n",
    "    shapes = f()\n",
    "  \n",
    "print (descColorShapeSize(shapes))\n",
    "print ( descNumbers(shapes))\n",
    "print ( descPairs(shapes))\n",
    "kandinskyFigure (shapes,4) \n",
    " "
   ]
  },
  {
   "cell_type": "markdown",
   "metadata": {
    "id": "-F8PQDWHwSt_"
   },
   "source": []
  },
  {
   "cell_type": "markdown",
   "metadata": {
    "id": "0T4yCNw2wS49"
   },
   "source": []
  },
  {
   "cell_type": "markdown",
   "metadata": {
    "id": "M1k4iYctwS_X"
   },
   "source": []
  },
  {
   "cell_type": "markdown",
   "metadata": {
    "id": "l4qEmJ4ywTDv"
   },
   "source": []
  },
  {
   "cell_type": "code",
   "execution_count": 32,
   "metadata": {
    "colab": {
     "base_uri": "https://localhost:8080/",
     "height": 356
    },
    "id": "yCQOMb3Vyqmo",
    "outputId": "1d9c3410-ac8c-4855-8622-5d9d0e3067d4"
   },
   "outputs": [
    {
     "ename": "NameError",
     "evalue": "name 'left_intensity' is not defined",
     "output_type": "error",
     "traceback": [
      "\u001b[0;31m---------------------------------------------------------------------------\u001b[0m",
      "\u001b[0;31mNameError\u001b[0m                                 Traceback (most recent call last)",
      "\u001b[0;32m/var/folders/zn/n2d2qpcj7qb1lmqnh250v_6w0000gn/T/ipykernel_74107/3822424595.py\u001b[0m in \u001b[0;36m<module>\u001b[0;34m\u001b[0m\n\u001b[1;32m     14\u001b[0m     \u001b[0mplt\u001b[0m\u001b[0;34m.\u001b[0m\u001b[0maxhline\u001b[0m\u001b[0;34m(\u001b[0m\u001b[0mk\u001b[0m\u001b[0;34m,\u001b[0m \u001b[0mls\u001b[0m\u001b[0;34m=\u001b[0m\u001b[0;34m'-'\u001b[0m\u001b[0;34m,\u001b[0m \u001b[0mc\u001b[0m\u001b[0;34m=\u001b[0m\u001b[0;34m'white'\u001b[0m\u001b[0;34m,\u001b[0m \u001b[0mlw\u001b[0m\u001b[0;34m=\u001b[0m\u001b[0;36m20\u001b[0m\u001b[0;34m)\u001b[0m \u001b[0;31m# white line between samples\u001b[0m\u001b[0;34m\u001b[0m\u001b[0;34m\u001b[0m\u001b[0m\n\u001b[1;32m     15\u001b[0m \u001b[0;34m\u001b[0m\u001b[0m\n\u001b[0;32m---> 16\u001b[0;31m \u001b[0mintensities\u001b[0m \u001b[0;34m=\u001b[0m \u001b[0mnp\u001b[0m\u001b[0;34m.\u001b[0m\u001b[0marray\u001b[0m\u001b[0;34m(\u001b[0m\u001b[0;34m[\u001b[0m\u001b[0mleft_intensity\u001b[0m\u001b[0;34m,\u001b[0m \u001b[0mright_intensity\u001b[0m\u001b[0;34m]\u001b[0m\u001b[0;34m)\u001b[0m\u001b[0;34m\u001b[0m\u001b[0;34m\u001b[0m\u001b[0m\n\u001b[0m\u001b[1;32m     17\u001b[0m \u001b[0mdraw_intensity\u001b[0m\u001b[0;34m(\u001b[0m\u001b[0mintensities\u001b[0m\u001b[0;34m,\u001b[0m \u001b[0mmin_intensity\u001b[0m\u001b[0;34m,\u001b[0m \u001b[0mmax_intensity\u001b[0m\u001b[0;34m)\u001b[0m\u001b[0;34m\u001b[0m\u001b[0;34m\u001b[0m\u001b[0m\n",
      "\u001b[0;31mNameError\u001b[0m: name 'left_intensity' is not defined"
     ]
    }
   ],
   "source": [
    "def draw_intensity(intensity_samples, minI, maxI):\n",
    "  x = np.arange(-0.5, ni, 1)\n",
    "  print(x)\n",
    "  y = np.arange(-0.5, 2, 1)\n",
    "  print(x)\n",
    "  fig, ax = plt.subplots(figsize=(10,5))\n",
    "  ax.set_xticks(range(ni))\n",
    "  ax.set_yticks([0, 1])\n",
    "  ax.set_yticklabels([\"Left\", \"Right\"])\n",
    "  ax.pcolormesh(x, y, intensity_samples, cmap='gray', vmin=minI, vmax=maxI)\n",
    "  for k in x:\n",
    "     plt.axvline(k, ls='-', c='w', lw=4) # white line between bars\n",
    "  for k in y:\n",
    "    plt.axhline(k, ls='-', c='white', lw=20) # white line between samples\n",
    "\n",
    "intensities = np.array([left_intensity, right_intensity])\n",
    "draw_intensity(intensities, min_intensity, max_intensity)"
   ]
  },
  {
   "cell_type": "code",
   "execution_count": 33,
   "metadata": {
    "colab": {
     "base_uri": "https://localhost:8080/",
     "height": 702
    },
    "id": "l-e8t9dosmss",
    "outputId": "d313d4b4-ddac-4389-cbca-a2a5c695fc89"
   },
   "outputs": [
    {
     "ename": "NameError",
     "evalue": "name 'min_intensity' is not defined",
     "output_type": "error",
     "traceback": [
      "\u001b[0;31m---------------------------------------------------------------------------\u001b[0m",
      "\u001b[0;31mNameError\u001b[0m                                 Traceback (most recent call last)",
      "\u001b[0;32m/var/folders/zn/n2d2qpcj7qb1lmqnh250v_6w0000gn/T/ipykernel_74107/4264093430.py\u001b[0m in \u001b[0;36m<module>\u001b[0;34m\u001b[0m\n\u001b[1;32m      2\u001b[0m \u001b[0my\u001b[0m \u001b[0;34m=\u001b[0m \u001b[0;34m(\u001b[0m\u001b[0;36m1\u001b[0m\u001b[0;34m,\u001b[0m\u001b[0;36m1\u001b[0m\u001b[0;34m,\u001b[0m\u001b[0;36m1\u001b[0m\u001b[0;34m,\u001b[0m \u001b[0;36m0\u001b[0m\u001b[0;34m,\u001b[0m\u001b[0;36m1\u001b[0m\u001b[0;34m,\u001b[0m\u001b[0;36m0\u001b[0m\u001b[0;34m,\u001b[0m \u001b[0;36m0\u001b[0m\u001b[0;34m,\u001b[0m\u001b[0;36m1\u001b[0m\u001b[0;34m,\u001b[0m\u001b[0;36m0\u001b[0m\u001b[0;34m)\u001b[0m\u001b[0;34m\u001b[0m\u001b[0;34m\u001b[0m\u001b[0m\n\u001b[1;32m      3\u001b[0m \u001b[0mintensities\u001b[0m \u001b[0;34m=\u001b[0m \u001b[0mnp\u001b[0m\u001b[0;34m.\u001b[0m\u001b[0marray\u001b[0m\u001b[0;34m(\u001b[0m\u001b[0;34m[\u001b[0m\u001b[0mx\u001b[0m\u001b[0;34m,\u001b[0m \u001b[0my\u001b[0m\u001b[0;34m]\u001b[0m\u001b[0;34m)\u001b[0m\u001b[0;34m\u001b[0m\u001b[0;34m\u001b[0m\u001b[0m\n\u001b[0;32m----> 4\u001b[0;31m \u001b[0mdraw_intensity\u001b[0m\u001b[0;34m(\u001b[0m\u001b[0mintensities\u001b[0m\u001b[0;34m,\u001b[0m \u001b[0mmin_intensity\u001b[0m\u001b[0;34m,\u001b[0m \u001b[0mmax_intensity\u001b[0m\u001b[0;34m)\u001b[0m\u001b[0;34m\u001b[0m\u001b[0;34m\u001b[0m\u001b[0m\n\u001b[0m",
      "\u001b[0;31mNameError\u001b[0m: name 'min_intensity' is not defined"
     ]
    }
   ],
   "source": [
    "x = (0,1,0 ,1,0,1 ,0,1,0)\n",
    "y = (1,1,1, 0,1,0, 0,1,0)\n",
    "intensities = np.array([x, y])\n",
    "draw_intensity(intensities, min_intensity, max_intensity)"
   ]
  },
  {
   "cell_type": "code",
   "execution_count": 34,
   "metadata": {
    "colab": {
     "base_uri": "https://localhost:8080/",
     "height": 569
    },
    "id": "FzwCYhIGrBb1",
    "outputId": "cdbae31a-caad-4431-cd67-00b90a6edb8b"
   },
   "outputs": [
    {
     "ename": "NameError",
     "evalue": "name 'ni' is not defined",
     "output_type": "error",
     "traceback": [
      "\u001b[0;31m---------------------------------------------------------------------------\u001b[0m",
      "\u001b[0;31mNameError\u001b[0m                                 Traceback (most recent call last)",
      "\u001b[0;32m/var/folders/zn/n2d2qpcj7qb1lmqnh250v_6w0000gn/T/ipykernel_74107/264191964.py\u001b[0m in \u001b[0;36m<module>\u001b[0;34m\u001b[0m\n\u001b[1;32m      1\u001b[0m \u001b[0mplt\u001b[0m\u001b[0;34m.\u001b[0m\u001b[0mfigure\u001b[0m\u001b[0;34m(\u001b[0m\u001b[0mfigsize\u001b[0m\u001b[0;34m=\u001b[0m\u001b[0;34m(\u001b[0m\u001b[0;36m16\u001b[0m\u001b[0;34m,\u001b[0m\u001b[0;36m8\u001b[0m\u001b[0;34m)\u001b[0m\u001b[0;34m)\u001b[0m\u001b[0;34m\u001b[0m\u001b[0;34m\u001b[0m\u001b[0m\n\u001b[1;32m      2\u001b[0m \u001b[0mfig\u001b[0m\u001b[0;34m,\u001b[0m \u001b[0max\u001b[0m \u001b[0;34m=\u001b[0m \u001b[0mplt\u001b[0m\u001b[0;34m.\u001b[0m\u001b[0msubplots\u001b[0m\u001b[0;34m(\u001b[0m\u001b[0mfigsize\u001b[0m\u001b[0;34m=\u001b[0m\u001b[0;34m(\u001b[0m\u001b[0;36m10\u001b[0m\u001b[0;34m,\u001b[0m\u001b[0;36m5\u001b[0m\u001b[0;34m)\u001b[0m\u001b[0;34m)\u001b[0m\u001b[0;34m\u001b[0m\u001b[0;34m\u001b[0m\u001b[0m\n\u001b[0;32m----> 3\u001b[0;31m \u001b[0max\u001b[0m\u001b[0;34m.\u001b[0m\u001b[0mset_xticks\u001b[0m\u001b[0;34m(\u001b[0m\u001b[0mrange\u001b[0m\u001b[0;34m(\u001b[0m\u001b[0mni\u001b[0m\u001b[0;34m)\u001b[0m\u001b[0;34m)\u001b[0m\u001b[0;34m\u001b[0m\u001b[0;34m\u001b[0m\u001b[0m\n\u001b[0m\u001b[1;32m      4\u001b[0m \u001b[0max\u001b[0m\u001b[0;34m.\u001b[0m\u001b[0mset_yticks\u001b[0m\u001b[0;34m(\u001b[0m\u001b[0;34m[\u001b[0m\u001b[0;36m0\u001b[0m\u001b[0;34m,\u001b[0m \u001b[0;36m1\u001b[0m\u001b[0;34m]\u001b[0m\u001b[0;34m)\u001b[0m\u001b[0;34m\u001b[0m\u001b[0;34m\u001b[0m\u001b[0m\n\u001b[1;32m      5\u001b[0m \u001b[0max\u001b[0m\u001b[0;34m.\u001b[0m\u001b[0mset_yticklabels\u001b[0m\u001b[0;34m(\u001b[0m\u001b[0;34m[\u001b[0m\u001b[0;34m\"Left\"\u001b[0m\u001b[0;34m,\u001b[0m \u001b[0;34m\"Right\"\u001b[0m\u001b[0;34m]\u001b[0m\u001b[0;34m)\u001b[0m\u001b[0;34m\u001b[0m\u001b[0;34m\u001b[0m\u001b[0m\n",
      "\u001b[0;31mNameError\u001b[0m: name 'ni' is not defined"
     ]
    },
    {
     "data": {
      "text/plain": [
       "<Figure size 1600x800 with 0 Axes>"
      ]
     },
     "metadata": {},
     "output_type": "display_data"
    },
    {
     "data": {
      "image/png": "[encoded data removed]",
      "text/plain": [
       "<Figure size 1000x500 with 1 Axes>"
      ]
     },
     "metadata": {},
     "output_type": "display_data"
    }
   ],
   "source": [
    "plt.figure(figsize=(16,8))\n",
    "fig, ax = plt.subplots(figsize=(10,5))\n",
    "ax.set_xticks(range(ni))\n",
    "ax.set_yticks([0, 1])\n",
    "ax.set_yticklabels([\"Left\", \"Right\"])\n",
    "ax.pcolormesh(x, y, intensity_samples, cmap='gray', vmin=minI, vmax=maxI)\n",
    "for k in x:\n",
    "    plt.axvline(k, ls='-', c='w', lw=4) # white line between bars\n",
    "for k in y:\n",
    "  plt.axhline(k, ls='-', c='white', lw=20) # white line between samples"
   ]
  },
  {
   "cell_type": "code",
   "execution_count": null,
   "metadata": {
    "id": "ZD8TPIetpCYy"
   },
   "outputs": [],
   "source": []
  },
  {
   "cell_type": "markdown",
   "metadata": {
    "id": "GR3L0opWyqmr"
   },
   "source": [
    "### Encode the patterns"
   ]
  },
  {
   "cell_type": "markdown",
   "metadata": {
    "id": "KmzBqmxxyqms"
   },
   "source": [
    "**Count Rate coding**"
   ]
  },
  {
   "cell_type": "code",
   "execution_count": 19,
   "metadata": {
    "colab": {
     "base_uri": "https://localhost:8080/"
    },
    "id": "II9DN0F9yqms",
    "outputId": "da19ca3e-4a63-46d3-81a6-229cba1ff5fb"
   },
   "outputs": [
    {
     "name": "stdout",
     "output_type": "stream",
     "text": [
      "[0.    0.125 0.25  0.375 0.5   0.625 0.75  0.875 1.   ] Hz\n"
     ]
    }
   ],
   "source": [
    "input_rates = right_intensity * b2.Hz # or left_intensity\n",
    "\n",
    "print(input_rates)"
   ]
  },
  {
   "cell_type": "code",
   "execution_count": 20,
   "metadata": {
    "collapsed": true,
    "id": "HwUOD3vxnmoi"
   },
   "outputs": [],
   "source": [
    "b2.start_scope()\n",
    "input_group = b2.PoissonGroup(ni, rates = input_rates)"
   ]
  },
  {
   "cell_type": "markdown",
   "metadata": {
    "id": "YeQ80BGwqKkB"
   },
   "source": [
    "Poisson distribution: \n",
    "$$ P\\{x = k\\} = \\dfrac{λ^ke^{-λ}}{k!} $$\n",
    "\n",
    "k -- the number of occurrences\n",
    "\n",
    "λ -- the expected rate of occurrences  "
   ]
  },
  {
   "cell_type": "markdown",
   "metadata": {
    "id": "gsHlYqAQoM7w"
   },
   "source": [
    "\n",
    "![Poisson_pmf.svg.png](data:image/png;base64,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)"
   ]
  },
  {
   "cell_type": "code",
   "execution_count": 21,
   "metadata": {
    "collapsed": true,
    "id": "GyfyJsD02y85"
   },
   "outputs": [],
   "source": [
    "model_n = '''\n",
    "dv/dt = (v_rest-v)/tau : volt\n",
    "v_rest : volt\n",
    "v_reset : volt\n",
    "vt : volt\n",
    "tau : second\n",
    "'''\n",
    "group_n = b2.NeuronGroup(4, model_n, threshold = 'v > vt', reset = 'v = v_reset', method = 'exact')\n",
    "group_n.v = -65 * b2.mV\n",
    "group_n.v_rest = -65 * b2.mV\n",
    "group_n.v_reset = -65 * b2.mV\n",
    "group_n.vt = -52 * b2.mV\n",
    "group_n.tau = 1 * b2.ms\n",
    "\n",
    "synapses_e = b2.Synapses(input_group, group_n, on_pre = 'v += 0.01 * volt')\n",
    "synapses_e.connect(condition = 'i == j')\n",
    "\n",
    "i_spike_mon = b2.SpikeMonitor(input_group)\n",
    "n_spike_mon = b2.SpikeMonitor(group_n)\n",
    "n_state_mon = b2.StateMonitor(group_n, ['v', 'vt'], record=True)\n",
    "\n",
    "b2.run(200 * b2.ms)"
   ]
  },
  {
   "cell_type": "code",
   "execution_count": 22,
   "metadata": {
    "colab": {
     "base_uri": "https://localhost:8080/"
    },
    "id": "angAngg1awM7",
    "outputId": "9f71d76d-2419-48ba-fd46-5aa0a4521a22"
   },
   "outputs": [
    {
     "name": "stdout",
     "output_type": "stream",
     "text": [
      "t of spikes from 0th input neuron [] s\n",
      "t of spikes from 1th input neuron [] s\n",
      "t of spikes from 2th input neuron [] s\n",
      "t of spikes from 3th input neuron [] s\n",
      "t of spikes from 4th input neuron [] s\n",
      "t of spikes from 5th input neuron [] s\n",
      "t of spikes from 6th input neuron [] s\n",
      "t of spikes from 7th input neuron [] s\n",
      "t of spikes from 8th input neuron [] s\n"
     ]
    }
   ],
   "source": [
    "for n in range(ni):\n",
    "  print(f\"t of spikes from {n}th input neuron\", i_spike_mon.spike_trains()[n])"
   ]
  },
  {
   "cell_type": "code",
   "execution_count": 24,
   "metadata": {
    "colab": {
     "base_uri": "https://localhost:8080/",
     "height": 1000
    },
    "id": "w_0aMYrUDbhs",
    "outputId": "bd7fb7ed-d44e-4c54-943b-955a9e5fa438"
   },
   "outputs": [
    {
     "ename": "IndexError",
     "evalue": "ignored",
     "output_type": "error",
     "traceback": [
      "\u001b[0;31m---------------------------------------------------------------------------\u001b[0m",
      "\u001b[0;31mIndexError\u001b[0m                                Traceback (most recent call last)",
      "\u001b[0;32m<ipython-input-24-fdbada20089c>\u001b[0m in \u001b[0;36m<module>\u001b[0;34m\u001b[0m\n\u001b[1;32m     13\u001b[0m         \u001b[0mplt\u001b[0m\u001b[0;34m.\u001b[0m\u001b[0mtitle\u001b[0m\u001b[0;34m(\u001b[0m\u001b[0;34mf\"synapse ({s+1}, {s+1})\"\u001b[0m\u001b[0;34m)\u001b[0m\u001b[0;34m\u001b[0m\u001b[0;34m\u001b[0m\u001b[0m\n\u001b[1;32m     14\u001b[0m \u001b[0;34m\u001b[0m\u001b[0m\n\u001b[0;32m---> 15\u001b[0;31m \u001b[0mshow_plots\u001b[0m\u001b[0;34m(\u001b[0m\u001b[0mi_spike_mon\u001b[0m\u001b[0;34m,\u001b[0m \u001b[0mn_spike_mon\u001b[0m\u001b[0;34m,\u001b[0m \u001b[0mn_state_mon\u001b[0m\u001b[0;34m)\u001b[0m\u001b[0;34m\u001b[0m\u001b[0;34m\u001b[0m\u001b[0m\n\u001b[0m\u001b[1;32m     16\u001b[0m \u001b[0mplt\u001b[0m\u001b[0;34m.\u001b[0m\u001b[0mplot\u001b[0m\u001b[0;34m(\u001b[0m\u001b[0mi_spike_mon\u001b[0m\u001b[0;34m.\u001b[0m\u001b[0mt\u001b[0m\u001b[0;34m/\u001b[0m\u001b[0mb2\u001b[0m\u001b[0;34m.\u001b[0m\u001b[0mms\u001b[0m\u001b[0;34m,\u001b[0m \u001b[0mi_spike_mon\u001b[0m\u001b[0;34m.\u001b[0m\u001b[0mi\u001b[0m\u001b[0;34m,\u001b[0m \u001b[0;34m'.k'\u001b[0m\u001b[0;34m)\u001b[0m\u001b[0;34m\u001b[0m\u001b[0;34m\u001b[0m\u001b[0m\n\u001b[1;32m     17\u001b[0m \u001b[0mplt\u001b[0m\u001b[0;34m.\u001b[0m\u001b[0mxlabel\u001b[0m\u001b[0;34m(\u001b[0m\u001b[0;34m'Time (ms)'\u001b[0m\u001b[0;34m)\u001b[0m\u001b[0;34m\u001b[0m\u001b[0;34m\u001b[0m\u001b[0m\n",
      "\u001b[0;32m<ipython-input-24-fdbada20089c>\u001b[0m in \u001b[0;36mshow_plots\u001b[0;34m(i_spike_mon, n_spike_mon, n_state_mon)\u001b[0m\n\u001b[1;32m      2\u001b[0m     \u001b[0;32mfor\u001b[0m \u001b[0ms\u001b[0m \u001b[0;32min\u001b[0m \u001b[0mrange\u001b[0m\u001b[0;34m(\u001b[0m\u001b[0mni\u001b[0m\u001b[0;34m)\u001b[0m\u001b[0;34m:\u001b[0m\u001b[0;34m\u001b[0m\u001b[0;34m\u001b[0m\u001b[0m\n\u001b[1;32m      3\u001b[0m         \u001b[0mplt\u001b[0m\u001b[0;34m.\u001b[0m\u001b[0mfigure\u001b[0m\u001b[0;34m(\u001b[0m\u001b[0mfigsize\u001b[0m\u001b[0;34m=\u001b[0m\u001b[0;34m(\u001b[0m\u001b[0;36m20\u001b[0m\u001b[0;34m,\u001b[0m\u001b[0;36m3\u001b[0m\u001b[0;34m)\u001b[0m\u001b[0;34m)\u001b[0m\u001b[0;34m\u001b[0m\u001b[0;34m\u001b[0m\u001b[0m\n\u001b[0;32m----> 4\u001b[0;31m         \u001b[0mplt\u001b[0m\u001b[0;34m.\u001b[0m\u001b[0mplot\u001b[0m\u001b[0;34m(\u001b[0m\u001b[0mn_state_mon\u001b[0m\u001b[0;34m.\u001b[0m\u001b[0mt\u001b[0m\u001b[0;34m/\u001b[0m\u001b[0mb2\u001b[0m\u001b[0;34m.\u001b[0m\u001b[0mms\u001b[0m\u001b[0;34m,\u001b[0m \u001b[0mn_state_mon\u001b[0m\u001b[0;34m.\u001b[0m\u001b[0mv\u001b[0m\u001b[0;34m[\u001b[0m\u001b[0ms\u001b[0m\u001b[0;34m]\u001b[0m\u001b[0;34m/\u001b[0m\u001b[0mb2\u001b[0m\u001b[0;34m.\u001b[0m\u001b[0mmV\u001b[0m\u001b[0;34m,\u001b[0m \u001b[0mlabel\u001b[0m \u001b[0;34m=\u001b[0m \u001b[0;34m'v'\u001b[0m\u001b[0;34m)\u001b[0m\u001b[0;34m\u001b[0m\u001b[0;34m\u001b[0m\u001b[0m\n\u001b[0m\u001b[1;32m      5\u001b[0m         \u001b[0mplt\u001b[0m\u001b[0;34m.\u001b[0m\u001b[0mplot\u001b[0m\u001b[0;34m(\u001b[0m\u001b[0mn_state_mon\u001b[0m\u001b[0;34m.\u001b[0m\u001b[0mt\u001b[0m\u001b[0;34m/\u001b[0m\u001b[0mb2\u001b[0m\u001b[0;34m.\u001b[0m\u001b[0mms\u001b[0m\u001b[0;34m,\u001b[0m \u001b[0mn_state_mon\u001b[0m\u001b[0;34m.\u001b[0m\u001b[0mvt\u001b[0m\u001b[0;34m[\u001b[0m\u001b[0ms\u001b[0m\u001b[0;34m]\u001b[0m\u001b[0;34m/\u001b[0m\u001b[0mb2\u001b[0m\u001b[0;34m.\u001b[0m\u001b[0mmV\u001b[0m \u001b[0;34m,\u001b[0m \u001b[0mlabel\u001b[0m \u001b[0;34m=\u001b[0m \u001b[0;34m'vt'\u001b[0m\u001b[0;34m)\u001b[0m\u001b[0;34m\u001b[0m\u001b[0;34m\u001b[0m\u001b[0m\n\u001b[1;32m      6\u001b[0m         \u001b[0;32mfor\u001b[0m \u001b[0mt\u001b[0m \u001b[0;32min\u001b[0m \u001b[0mi_spike_mon\u001b[0m\u001b[0;34m.\u001b[0m\u001b[0mspike_trains\u001b[0m\u001b[0;34m(\u001b[0m\u001b[0;34m)\u001b[0m\u001b[0;34m[\u001b[0m\u001b[0ms\u001b[0m\u001b[0;34m]\u001b[0m\u001b[0;34m:\u001b[0m\u001b[0;34m\u001b[0m\u001b[0;34m\u001b[0m\u001b[0m\n",
      "\u001b[0;32m/usr/local/lib/python3.7/dist-packages/brian2/units/fundamentalunits.py\u001b[0m in \u001b[0;36m__getitem__\u001b[0;34m(self, key)\u001b[0m\n\u001b[1;32m   1307\u001b[0m         single integer or a tuple of integers) retain their unit.\n\u001b[1;32m   1308\u001b[0m         \"\"\"\n\u001b[0;32m-> 1309\u001b[0;31m         \u001b[0;32mreturn\u001b[0m \u001b[0mQuantity\u001b[0m\u001b[0;34m(\u001b[0m\u001b[0mnp\u001b[0m\u001b[0;34m.\u001b[0m\u001b[0mndarray\u001b[0m\u001b[0;34m.\u001b[0m\u001b[0m__getitem__\u001b[0m\u001b[0;34m(\u001b[0m\u001b[0mself\u001b[0m\u001b[0;34m,\u001b[0m \u001b[0mkey\u001b[0m\u001b[0;34m)\u001b[0m\u001b[0;34m,\u001b[0m \u001b[0mself\u001b[0m\u001b[0;34m.\u001b[0m\u001b[0mdim\u001b[0m\u001b[0;34m)\u001b[0m\u001b[0;34m\u001b[0m\u001b[0;34m\u001b[0m\u001b[0m\n\u001b[0m\u001b[1;32m   1310\u001b[0m \u001b[0;34m\u001b[0m\u001b[0m\n\u001b[1;32m   1311\u001b[0m     \u001b[0;32mdef\u001b[0m \u001b[0m__setitem__\u001b[0m\u001b[0;34m(\u001b[0m\u001b[0mself\u001b[0m\u001b[0;34m,\u001b[0m \u001b[0mkey\u001b[0m\u001b[0;34m,\u001b[0m \u001b[0mvalue\u001b[0m\u001b[0;34m)\u001b[0m\u001b[0;34m:\u001b[0m\u001b[0;34m\u001b[0m\u001b[0;34m\u001b[0m\u001b[0m\n",
      "\u001b[0;31mIndexError\u001b[0m: index 4 is out of bounds for axis 0 with size 4"
     ]
    },
    {
     "data": {
      "image/png": "[encoded data removed]",
      "text/plain": [
       "<Figure size 1440x216 with 1 Axes>"
      ]
     },
     "metadata": {
      "needs_background": "light"
     },
     "output_type": "display_data"
    },
    {
     "data": {
      "image/png": "[encoded data removed]",
      "text/plain": [
       "<Figure size 1440x216 with 1 Axes>"
      ]
     },
     "metadata": {
      "needs_background": "light"
     },
     "output_type": "display_data"
    },
    {
     "data": {
      "image/png": "[encoded data removed]",
      "text/plain": [
       "<Figure size 1440x216 with 1 Axes>"
      ]
     },
     "metadata": {
      "needs_background": "light"
     },
     "output_type": "display_data"
    },
    {
     "data": {
      "image/png": "[encoded data removed]",
      "text/plain": [
       "<Figure size 1440x216 with 1 Axes>"
      ]
     },
     "metadata": {
      "needs_background": "light"
     },
     "output_type": "display_data"
    },
    {
     "data": {
      "text/plain": [
       "<Figure size 1440x216 with 0 Axes>"
      ]
     },
     "metadata": {},
     "output_type": "display_data"
    }
   ],
   "source": [
    "def show_plots(i_spike_mon, n_spike_mon, n_state_mon):\n",
    "    for s in range(ni):\n",
    "        plt.figure(figsize=(20,3))\n",
    "        plt.plot(n_state_mon.t/b2.ms, n_state_mon.v[s]/b2.mV, label = 'v')\n",
    "        plt.plot(n_state_mon.t/b2.ms, n_state_mon.vt[s]/b2.mV , label = 'vt')\n",
    "        for t in i_spike_mon.spike_trains()[s]:\n",
    "            plt.axvline(t/b2.ms, ls = '--', c = 'C1', lw = 0.8) # orange == pre\n",
    "        for t in n_spike_mon.spike_trains()[s]:\n",
    "            plt.axvline(t/b2.ms, ls = '--', c = 'C2', lw = 0.8) # green == post\n",
    "        plt.legend()\n",
    "        plt.xlabel(\"t, ms\")\n",
    "        plt.ylabel(\"v, mV\")\n",
    "        plt.title(f\"synapse ({s+1}, {s+1})\")\n",
    "        \n",
    "show_plots(i_spike_mon, n_spike_mon, n_state_mon)\n",
    "plt.plot(i_spike_mon.t/b2.ms, i_spike_mon.i, '.k')\n",
    "plt.xlabel('Time (ms)')\n",
    "plt.ylabel('Neuron index')\n",
    "plt.yticks(range(0,len(input_rates)))"
   ]
  },
  {
   "cell_type": "code",
   "execution_count": 11,
   "metadata": {
    "colab": {
     "base_uri": "https://localhost:8080/",
     "height": 297
    },
    "id": "j5QrVMQPbQE3",
    "outputId": "22a67c7b-ad4b-4782-db28-88b20a3b7bd0"
   },
   "outputs": [
    {
     "data": {
      "text/plain": [
       "Text(0.5, 0, 'Spike rate, Hz')"
      ]
     },
     "execution_count": 11,
     "metadata": {},
     "output_type": "execute_result"
    },
    {
     "data": {
      "image/png": "[encoded data removed]",
      "text/plain": [
       "<Figure size 432x288 with 1 Axes>"
      ]
     },
     "metadata": {
      "needs_background": "light"
     },
     "output_type": "display_data"
    }
   ],
   "source": [
    "rate = np.zeros((4,200))\n",
    "for n in range(4):\n",
    "  for t in range(1,200):\n",
    "    rate[n][t] = len([s for s in i_spike_mon.spike_trains()[n] if s<t*b2.ms])/t*1000\n",
    "  plt.plot(rate[n], label=f\"N{n}\")\n",
    "plt.legend()\n",
    "plt.xlabel(\"Time, ms\")\n",
    "plt.xlabel(\"Spike rate, Hz\")"
   ]
  },
  {
   "cell_type": "markdown",
   "metadata": {
    "id": "VgiPkO5Hyqmu"
   },
   "source": [
    "**TTFS coding**"
   ]
  },
  {
   "cell_type": "code",
   "execution_count": 12,
   "metadata": {
    "colab": {
     "base_uri": "https://localhost:8080/"
    },
    "id": "i2is5Cvsyqmv",
    "outputId": "bd4796f4-21ec-4703-acdf-f8b74d047f41"
   },
   "outputs": [
    {
     "name": "stdout",
     "output_type": "stream",
     "text": [
      "[0.         0.33333333 0.66666667 1.        ]\n",
      "[1.         0.66666667 0.33333333 0.        ]\n"
     ]
    }
   ],
   "source": [
    "right_intensity_norm = (right_intensity - min_intensity) / (max_intensity - min_intensity) \n",
    "left_intensity_norm = (left_intensity - min_intensity) / (max_intensity - min_intensity) \n",
    "\n",
    "print(right_intensity_norm)\n",
    "print(left_intensity_norm)"
   ]
  },
  {
   "cell_type": "code",
   "execution_count": 13,
   "metadata": {
    "collapsed": true,
    "id": "Gcb6laBPyqmu"
   },
   "outputs": [],
   "source": [
    "min_spike_time = 0\n",
    "max_spike_time = 3"
   ]
  },
  {
   "cell_type": "code",
   "execution_count": 14,
   "metadata": {
    "colab": {
     "base_uri": "https://localhost:8080/"
    },
    "id": "t7G5lWUFyqmv",
    "outputId": "90da8511-74b2-4fdb-d446-38f161929fed"
   },
   "outputs": [
    {
     "name": "stdout",
     "output_type": "stream",
     "text": [
      "[array([3., 2., 1., 0.]), array([3., 2., 1., 0.]), array([3., 2., 1., 0.]), array([3., 2., 1., 0.])]\n"
     ]
    }
   ],
   "source": [
    "input_times = [[],[],[],[]]\n",
    "for n in range(ni):\n",
    "  input_times[n] = - (max_spike_time - min_spike_time) * right_intensity_norm + max_spike_time  # or left_intensity_norm\n",
    "#input_times = - (max_spike_time - min_spike_time) * right_intensity_norm + max_spike_time  # or left_intensity_norm\n",
    "\n",
    "print(input_times)"
   ]
  },
  {
   "cell_type": "code",
   "execution_count": 15,
   "metadata": {
    "colab": {
     "base_uri": "https://localhost:8080/",
     "height": 395
    },
    "collapsed": true,
    "id": "ATCX4ow5yXls",
    "outputId": "abf53efd-2f78-4f5c-cf12-f361bcc732b7"
   },
   "outputs": [
    {
     "ename": "ValueError",
     "evalue": "ignored",
     "output_type": "error",
     "traceback": [
      "\u001b[0;31m---------------------------------------------------------------------------\u001b[0m",
      "\u001b[0;31mValueError\u001b[0m                                Traceback (most recent call last)",
      "\u001b[0;32m<ipython-input-15-f46f62859dcb>\u001b[0m in \u001b[0;36m<module>\u001b[0;34m\u001b[0m\n\u001b[1;32m      1\u001b[0m \u001b[0mb2\u001b[0m\u001b[0;34m.\u001b[0m\u001b[0mstart_scope\u001b[0m\u001b[0;34m(\u001b[0m\u001b[0;34m)\u001b[0m\u001b[0;34m\u001b[0m\u001b[0;34m\u001b[0m\u001b[0m\n\u001b[1;32m      2\u001b[0m \u001b[0;34m\u001b[0m\u001b[0m\n\u001b[0;32m----> 3\u001b[0;31m \u001b[0minput_group\u001b[0m \u001b[0;34m=\u001b[0m \u001b[0mb2\u001b[0m\u001b[0;34m.\u001b[0m\u001b[0mSpikeGeneratorGroup\u001b[0m\u001b[0;34m(\u001b[0m\u001b[0mni\u001b[0m\u001b[0;34m,\u001b[0m \u001b[0mindices\u001b[0m \u001b[0;34m=\u001b[0m \u001b[0mlist\u001b[0m\u001b[0;34m(\u001b[0m\u001b[0mrange\u001b[0m\u001b[0;34m(\u001b[0m\u001b[0mni\u001b[0m\u001b[0;34m)\u001b[0m\u001b[0;34m)\u001b[0m\u001b[0;34m,\u001b[0m \u001b[0mtimes\u001b[0m \u001b[0;34m=\u001b[0m \u001b[0minput_times\u001b[0m \u001b[0;34m*\u001b[0m \u001b[0mb2\u001b[0m\u001b[0;34m.\u001b[0m\u001b[0mms\u001b[0m\u001b[0;34m)\u001b[0m\u001b[0;34m\u001b[0m\u001b[0;34m\u001b[0m\u001b[0m\n\u001b[0m",
      "\u001b[0;32m/usr/local/lib/python3.7/dist-packages/brian2/units/fundamentalunits.py\u001b[0m in \u001b[0;36mnew_f\u001b[0;34m(*args, **kwds)\u001b[0m\n\u001b[1;32m   2460\u001b[0m                                                      get_dimensions(newkeyset[k]))\n\u001b[1;32m   2461\u001b[0m \u001b[0;34m\u001b[0m\u001b[0m\n\u001b[0;32m-> 2462\u001b[0;31m             \u001b[0mresult\u001b[0m \u001b[0;34m=\u001b[0m \u001b[0mf\u001b[0m\u001b[0;34m(\u001b[0m\u001b[0;34m*\u001b[0m\u001b[0margs\u001b[0m\u001b[0;34m,\u001b[0m \u001b[0;34m**\u001b[0m\u001b[0mkwds\u001b[0m\u001b[0;34m)\u001b[0m\u001b[0;34m\u001b[0m\u001b[0;34m\u001b[0m\u001b[0m\n\u001b[0m\u001b[1;32m   2463\u001b[0m             \u001b[0;32mif\u001b[0m \u001b[0;34m'result'\u001b[0m \u001b[0;32min\u001b[0m \u001b[0mau\u001b[0m\u001b[0;34m:\u001b[0m\u001b[0;34m\u001b[0m\u001b[0;34m\u001b[0m\u001b[0m\n\u001b[1;32m   2464\u001b[0m                 \u001b[0;32mif\u001b[0m \u001b[0misinstance\u001b[0m\u001b[0;34m(\u001b[0m\u001b[0mau\u001b[0m\u001b[0;34m[\u001b[0m\u001b[0;34m'result'\u001b[0m\u001b[0;34m]\u001b[0m\u001b[0;34m,\u001b[0m \u001b[0mCallable\u001b[0m\u001b[0;34m)\u001b[0m \u001b[0;32mand\u001b[0m \u001b[0mau\u001b[0m\u001b[0;34m[\u001b[0m\u001b[0;34m'result'\u001b[0m\u001b[0;34m]\u001b[0m \u001b[0;34m!=\u001b[0m \u001b[0mbool\u001b[0m\u001b[0;34m:\u001b[0m\u001b[0;34m\u001b[0m\u001b[0;34m\u001b[0m\u001b[0m\n",
      "\u001b[0;32m/usr/local/lib/python3.7/dist-packages/brian2/input/spikegeneratorgroup.py\u001b[0m in \u001b[0;36m__init__\u001b[0;34m(self, N, indices, times, dt, clock, period, when, order, sorted, name, codeobj_class)\u001b[0m\n\u001b[1;32m     97\u001b[0m \u001b[0;34m\u001b[0m\u001b[0m\n\u001b[1;32m     98\u001b[0m         indices, times = self._check_args(indices, times, period, N, sorted,\n\u001b[0;32m---> 99\u001b[0;31m                                           self._clock.dt)\n\u001b[0m\u001b[1;32m    100\u001b[0m \u001b[0;34m\u001b[0m\u001b[0m\n\u001b[1;32m    101\u001b[0m         \u001b[0mself\u001b[0m\u001b[0;34m.\u001b[0m\u001b[0mvariables\u001b[0m\u001b[0;34m.\u001b[0m\u001b[0madd_constant\u001b[0m\u001b[0;34m(\u001b[0m\u001b[0;34m'N'\u001b[0m\u001b[0;34m,\u001b[0m \u001b[0mvalue\u001b[0m\u001b[0;34m=\u001b[0m\u001b[0mN\u001b[0m\u001b[0;34m)\u001b[0m\u001b[0;34m\u001b[0m\u001b[0;34m\u001b[0m\u001b[0m\n",
      "\u001b[0;32m/usr/local/lib/python3.7/dist-packages/brian2/input/spikegeneratorgroup.py\u001b[0m in \u001b[0;36m_check_args\u001b[0;34m(self, indices, times, period, N, sorted, dt)\u001b[0m\n\u001b[1;32m    290\u001b[0m         \u001b[0;32mif\u001b[0m \u001b[0;32mnot\u001b[0m \u001b[0msorted\u001b[0m\u001b[0;34m:\u001b[0m\u001b[0;34m\u001b[0m\u001b[0;34m\u001b[0m\u001b[0m\n\u001b[1;32m    291\u001b[0m             \u001b[0;31m# sort times and indices first by time, then by indices\u001b[0m\u001b[0;34m\u001b[0m\u001b[0;34m\u001b[0m\u001b[0;34m\u001b[0m\u001b[0m\n\u001b[0;32m--> 292\u001b[0;31m             \u001b[0mI\u001b[0m \u001b[0;34m=\u001b[0m \u001b[0mnp\u001b[0m\u001b[0;34m.\u001b[0m\u001b[0mlexsort\u001b[0m\u001b[0;34m(\u001b[0m\u001b[0;34m(\u001b[0m\u001b[0mindices\u001b[0m\u001b[0;34m,\u001b[0m \u001b[0mtimes\u001b[0m\u001b[0;34m)\u001b[0m\u001b[0;34m)\u001b[0m\u001b[0;34m\u001b[0m\u001b[0;34m\u001b[0m\u001b[0m\n\u001b[0m\u001b[1;32m    293\u001b[0m             \u001b[0mindices\u001b[0m \u001b[0;34m=\u001b[0m \u001b[0mindices\u001b[0m\u001b[0;34m[\u001b[0m\u001b[0mI\u001b[0m\u001b[0;34m]\u001b[0m\u001b[0;34m\u001b[0m\u001b[0;34m\u001b[0m\u001b[0m\n\u001b[1;32m    294\u001b[0m             \u001b[0mtimes\u001b[0m \u001b[0;34m=\u001b[0m \u001b[0mtimes\u001b[0m\u001b[0;34m[\u001b[0m\u001b[0mI\u001b[0m\u001b[0;34m]\u001b[0m\u001b[0;34m\u001b[0m\u001b[0;34m\u001b[0m\u001b[0m\n",
      "\u001b[0;32m<__array_function__ internals>\u001b[0m in \u001b[0;36mlexsort\u001b[0;34m(*args, **kwargs)\u001b[0m\n",
      "\u001b[0;31mValueError\u001b[0m: all keys need to be the same shape"
     ]
    }
   ],
   "source": [
    "b2.start_scope()\n",
    "\n",
    "input_group = b2.SpikeGeneratorGroup(ni, indices = list(range(ni)), times = input_times * b2.ms)"
   ]
  },
  {
   "cell_type": "code",
   "execution_count": null,
   "metadata": {
    "colab": {
     "base_uri": "https://localhost:8080/"
    },
    "id": "Bplcbsr6yNIg",
    "outputId": "dfc67ce9-b9a3-4a1d-f24e-02c5b51b06b4"
   },
   "outputs": [
    {
     "name": "stderr",
     "output_type": "stream",
     "text": [
      "WARNING    'i' is an internal variable of group 'synapses', but also exists in the run namespace with the value 3. The internal variable will be used. [brian2.groups.group.Group.resolve.resolution_conflict]\n"
     ]
    }
   ],
   "source": [
    "model_n = '''\n",
    "dv/dt = (v_rest-v)/tau : volt\n",
    "v_rest : volt\n",
    "v_reset : volt\n",
    "vt : volt\n",
    "tau : second\n",
    "'''\n",
    "group_n = b2.NeuronGroup(4, model_n, threshold = 'v > vt', reset = 'v = v_reset', method = 'exact')\n",
    "group_n.v = -65 * b2.mV\n",
    "group_n.v_rest = -65 * b2.mV\n",
    "group_n.v_reset = -65 * b2.mV\n",
    "group_n.vt = -52 * b2.mV\n",
    "group_n.tau = 1 * b2.ms\n",
    "\n",
    "synapses_e = b2.Synapses(input_group, group_n, on_pre = 'v += 0.01 * volt')\n",
    "synapses_e.connect(condition = 'i == j')\n",
    "\n",
    "i_spike_mon = b2.SpikeMonitor(input_group)\n",
    "n_spike_mon = b2.SpikeMonitor(group_n)\n",
    "n_state_mon = b2.StateMonitor(group_n, ['v', 'vt'], record=True)\n",
    "\n",
    "b2.run(20 * b2.ms)"
   ]
  },
  {
   "cell_type": "code",
   "execution_count": null,
   "metadata": {
    "colab": {
     "base_uri": "https://localhost:8080/",
     "height": 439
    },
    "id": "dKhfnJ3q1koF",
    "outputId": "6d855ec0-b88e-4034-d546-a7cf11157e0d"
   },
   "outputs": [
    {
     "name": "stdout",
     "output_type": "stream",
     "text": [
      "t of spikes from 1 input neuron [3.] ms\n",
      "t of spikes from 2 input neuron [2.] ms\n",
      "t of spikes from 3 input neuron [1.] ms\n",
      "t of spikes from 4 input neuron [0.] s\n"
     ]
    },
    {
     "data": {
      "text/plain": [
       "([<matplotlib.axis.YTick at 0x7f63c0a54650>,\n",
       "  <matplotlib.axis.YTick at 0x7f63b4ba3e90>,\n",
       "  <matplotlib.axis.YTick at 0x7f63b5003a50>,\n",
       "  <matplotlib.axis.YTick at 0x7f63b3d4e610>],\n",
       " [Text(0, 0, ''), Text(0, 0, ''), Text(0, 0, ''), Text(0, 0, '')])"
      ]
     },
     "execution_count": 37,
     "metadata": {},
     "output_type": "execute_result"
    },
    {
     "data": {
      "image/png": "[encoded data removed]",
      "text/plain": [
       "<Figure size 432x288 with 1 Axes>"
      ]
     },
     "metadata": {
      "needs_background": "light"
     },
     "output_type": "display_data"
    }
   ],
   "source": [
    "for i in range(ni):\n",
    "  print(f\"t of spikes from {i+1} input neuron\", i_spike_mon.spike_trains()[i])\n",
    "\n",
    "plt.plot(i_spike_mon.t/b2.ms, i_spike_mon.i, '.k')\n",
    "plt.xlabel('Time (ms)')\n",
    "plt.ylabel('Neuron index')\n",
    "plt.yticks([0,1,2,3])"
   ]
  }
 ],
 "metadata": {
  "colab": {
   "collapsed_sections": [],
   "provenance": []
  },
  "kernelspec": {
   "display_name": "Python 3 (ipykernel)",
   "language": "python",
   "name": "python3"
  },
  "language_info": {
   "codemirror_mode": {
    "name": "ipython",
    "version": 3
   },
   "file_extension": ".py",
   "mimetype": "text/x-python",
   "name": "python",
   "nbconvert_exporter": "python",
   "pygments_lexer": "ipython3",
   "version": "3.9.13"
  },
  "vscode": {
   "interpreter": {
    "hash": "480c5501c43cd66134c976182e99c7c4bd4e8cd6c53e3bec4e55f87fcc4b57aa"
   }
  }
 },
 "nbformat": 4,
 "nbformat_minor": 1
}
