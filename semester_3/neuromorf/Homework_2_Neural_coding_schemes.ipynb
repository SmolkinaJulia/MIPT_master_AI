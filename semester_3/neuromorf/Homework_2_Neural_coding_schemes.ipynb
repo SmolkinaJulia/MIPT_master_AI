{
 "cells": [
  {
   "cell_type": "markdown",
   "id": "4hO_lNPZgiMB",
   "metadata": {
    "id": "4hO_lNPZgiMB"
   },
   "source": [
    "# Кодирование и обучение в спайковых нейронных сетях\n",
    "В этой домашней работе нужно сравнить две способа кодирования информации: частотный и временной.\n",
    "\n",
    "## Задание\n",
    "* Сгенерируйте обучающую и тестовую выборки простых изображений размером 3 на 3 пикселя\n",
    "* Реализуйте два типа кодирования: частотой спайков и временем до первого спайка (TTFS). Использовать ноутбук к семинару про кодирование.  \n",
    "* Обучите две сети по правилу STDP. Архитектуру сети можно взять из семинара по классификации. Вероятно, придется выбрать разные значения параметров для правила STDP.\n",
    "* Сравните качество классификации по метрикам accuracy и F-measure\n",
    "\n",
    "## References\n",
    "\n",
    "[1] Diehl, P. U., & Cook, M. (2015). Unsupervised learning of digit recognition using spike-timing-dependent plasticity. Frontiers in computational neuroscience, 9, 99 \n",
    "\n",
    "[2] https://www.kaggle.com/code/dlarionov/mnist-spiking-neural-network/notebook"
   ]
  },
  {
   "cell_type": "code",
   "execution_count": 1,
   "id": "xeArfJH-i5h4",
   "metadata": {
    "colab": {
     "base_uri": "https://localhost:8080/",
     "height": 798
    },
    "id": "xeArfJH-i5h4",
    "outputId": "5393abd0-a7d5-46f3-dfaf-831879cf3536"
   },
   "outputs": [
    {
     "name": "stdout",
     "output_type": "stream",
     "text": [
      "Collecting brian2\n",
      "  Downloading Brian2-2.5.1-cp39-cp39-macosx_10_9_x86_64.whl (966 kB)\n",
      "\u001b[2K     \u001b[90m━━━━━━━━━━━━━━━━━━━━━━━━━━━━━━━━━━━━━\u001b[0m \u001b[32m966.3/966.3 kB\u001b[0m \u001b[31m961.7 kB/s\u001b[0m eta \u001b[36m0:00:00\u001b[0m00:01\u001b[0m00:01\u001b[0m\n",
      "\u001b[?25hRequirement already satisfied: jinja2>=2.7 in /Users/mac-julia/opt/anaconda3/lib/python3.9/site-packages (from brian2) (2.11.3)\n",
      "Requirement already satisfied: pyparsing in /Users/mac-julia/opt/anaconda3/lib/python3.9/site-packages (from brian2) (3.0.9)\n",
      "Requirement already satisfied: numpy>=1.17 in /Users/mac-julia/opt/anaconda3/lib/python3.9/site-packages (from brian2) (1.21.5)\n",
      "Requirement already satisfied: cython>=0.29 in /Users/mac-julia/opt/anaconda3/lib/python3.9/site-packages (from brian2) (0.29.32)\n",
      "Requirement already satisfied: setuptools>=24.2 in /Users/mac-julia/opt/anaconda3/lib/python3.9/site-packages (from brian2) (63.4.1)\n",
      "Requirement already satisfied: sympy>=1.2 in /Users/mac-julia/opt/anaconda3/lib/python3.9/site-packages (from brian2) (1.10.1)\n",
      "Requirement already satisfied: MarkupSafe>=0.23 in /Users/mac-julia/opt/anaconda3/lib/python3.9/site-packages (from jinja2>=2.7->brian2) (2.0.1)\n",
      "Requirement already satisfied: mpmath>=0.19 in /Users/mac-julia/opt/anaconda3/lib/python3.9/site-packages (from sympy>=1.2->brian2) (1.2.1)\n",
      "Installing collected packages: brian2\n",
      "Successfully installed brian2-2.5.1\n",
      "Requirement already satisfied: numpy in /Users/mac-julia/opt/anaconda3/lib/python3.9/site-packages (1.21.5)\n",
      "Collecting numpy\n",
      "  Downloading numpy-1.23.4-cp39-cp39-macosx_10_9_x86_64.whl (18.1 MB)\n",
      "\u001b[2K     \u001b[90m━━━━━━━━━━━━━━━━━━━━━━━━━━━━━━━━━━━━━━━━\u001b[0m \u001b[32m18.1/18.1 MB\u001b[0m \u001b[31m1.1 MB/s\u001b[0m eta \u001b[36m0:00:00\u001b[0m00:01\u001b[0m00:01\u001b[0mm\n",
      "\u001b[?25hInstalling collected packages: numpy\n",
      "  Attempting uninstall: numpy\n",
      "    Found existing installation: numpy 1.21.5\n",
      "    Uninstalling numpy-1.21.5:\n",
      "      Successfully uninstalled numpy-1.21.5\n",
      "\u001b[31mERROR: pip's dependency resolver does not currently take into account all the packages that are installed. This behaviour is the source of the following dependency conflicts.\n",
      "daal4py 2021.6.0 requires daal==2021.4.0, which is not installed.\n",
      "numba 0.55.1 requires numpy<1.22,>=1.18, but you have numpy 1.23.4 which is incompatible.\u001b[0m\u001b[31m\n",
      "\u001b[0mSuccessfully installed numpy-1.23.4\n",
      "Requirement already satisfied: matplotlib in /Users/mac-julia/opt/anaconda3/lib/python3.9/site-packages (3.5.2)\n",
      "Collecting matplotlib\n",
      "  Downloading matplotlib-3.6.1-cp39-cp39-macosx_10_12_x86_64.whl (7.3 MB)\n",
      "\u001b[2K     \u001b[90m━━━━━━━━━━━━━━━━━━━━━━━━━━━━━━━━━━━━━━━━\u001b[0m \u001b[32m7.3/7.3 MB\u001b[0m \u001b[31m2.4 MB/s\u001b[0m eta \u001b[36m0:00:00\u001b[0m00:01\u001b[0m00:01\u001b[0m0m\n",
      "\u001b[?25hCollecting contourpy>=1.0.1\n",
      "  Downloading contourpy-1.0.5-cp39-cp39-macosx_10_9_x86_64.whl (241 kB)\n",
      "\u001b[2K     \u001b[90m━━━━━━━━━━━━━━━━━━━━━━━━━━━━━━━━━━━━━━━\u001b[0m \u001b[32m241.3/241.3 kB\u001b[0m \u001b[31m2.0 MB/s\u001b[0m eta \u001b[36m0:00:00\u001b[0ma \u001b[36m0:00:01\u001b[0m\n",
      "\u001b[?25hRequirement already satisfied: python-dateutil>=2.7 in /Users/mac-julia/opt/anaconda3/lib/python3.9/site-packages (from matplotlib) (2.8.2)\n",
      "Requirement already satisfied: cycler>=0.10 in /Users/mac-julia/opt/anaconda3/lib/python3.9/site-packages (from matplotlib) (0.11.0)\n",
      "Requirement already satisfied: fonttools>=4.22.0 in /Users/mac-julia/opt/anaconda3/lib/python3.9/site-packages (from matplotlib) (4.25.0)\n",
      "Requirement already satisfied: packaging>=20.0 in /Users/mac-julia/opt/anaconda3/lib/python3.9/site-packages (from matplotlib) (21.3)\n",
      "Requirement already satisfied: pyparsing>=2.2.1 in /Users/mac-julia/opt/anaconda3/lib/python3.9/site-packages (from matplotlib) (3.0.9)\n",
      "Requirement already satisfied: numpy>=1.19 in /Users/mac-julia/opt/anaconda3/lib/python3.9/site-packages (from matplotlib) (1.23.4)\n",
      "Requirement already satisfied: pillow>=6.2.0 in /Users/mac-julia/opt/anaconda3/lib/python3.9/site-packages (from matplotlib) (9.2.0)\n",
      "Requirement already satisfied: kiwisolver>=1.0.1 in /Users/mac-julia/opt/anaconda3/lib/python3.9/site-packages (from matplotlib) (1.4.2)\n",
      "Requirement already satisfied: six>=1.5 in /Users/mac-julia/opt/anaconda3/lib/python3.9/site-packages (from python-dateutil>=2.7->matplotlib) (1.16.0)\n",
      "Installing collected packages: contourpy, matplotlib\n",
      "  Attempting uninstall: matplotlib\n",
      "    Found existing installation: matplotlib 3.5.2\n",
      "    Uninstalling matplotlib-3.5.2:\n",
      "      Successfully uninstalled matplotlib-3.5.2\n",
      "Successfully installed contourpy-1.0.5 matplotlib-3.6.1\n"
     ]
    }
   ],
   "source": [
    "!pip install brian2\n",
    "!pip install --upgrade numpy\n",
    "!pip install --upgrade matplotlib"
   ]
  },
  {
   "cell_type": "markdown",
   "id": "aCOWDKM-ggSk",
   "metadata": {
    "id": "aCOWDKM-ggSk"
   },
   "source": []
  },
  {
   "cell_type": "code",
   "execution_count": 3,
   "id": "-ODzR8R12ReT",
   "metadata": {
    "id": "-ODzR8R12ReT"
   },
   "outputs": [],
   "source": [
    "import matplotlib.pyplot as plt\n",
    "import numpy as np\n",
    "import brian2 as b2\n",
    "from matplotlib import pyplot as plt\n",
    "%matplotlib inline"
   ]
  },
  {
   "cell_type": "markdown",
   "id": "lySIhI4oxiai",
   "metadata": {
    "id": "lySIhI4oxiai"
   },
   "source": [
    "## Генерация изображений\n"
   ]
  },
  {
   "cell_type": "code",
   "execution_count": null,
   "id": "5ad9d8d5",
   "metadata": {},
   "outputs": [],
   "source": []
  },
  {
   "cell_type": "markdown",
   "id": "Xgv5bKpFxqJr",
   "metadata": {
    "id": "Xgv5bKpFxqJr"
   },
   "source": [
    "## Генерация обучающей и тестовой выборки\n"
   ]
  },
  {
   "cell_type": "code",
   "execution_count": null,
   "id": "4wp1CLbvxuek",
   "metadata": {
    "id": "4wp1CLbvxuek"
   },
   "outputs": [],
   "source": []
  },
  {
   "cell_type": "markdown",
   "id": "98yXTS1gsGTQ",
   "metadata": {
    "id": "98yXTS1gsGTQ"
   },
   "source": [
    "# Частотное кодирование\n",
    "Яркость пикселя $r_i$ преобразуется в частоту спайков\n",
    "$$\n",
    "\\lambda_i=r_i\\lambda_{max}\n",
    "$$"
   ]
  },
  {
   "cell_type": "code",
   "execution_count": null,
   "id": "T1rsam5usb9E",
   "metadata": {
    "id": "T1rsam5usb9E"
   },
   "outputs": [],
   "source": []
  },
  {
   "cell_type": "markdown",
   "id": "258705b6",
   "metadata": {
    "id": "258705b6"
   },
   "source": [
    "# Временное кодирование TTFS\n",
    "Яркость пикселя $r_i$ преобразуется во время спайка по правилу\n",
    "\n",
    "$$\n",
    "t_i=1/r_i\n",
    "$$"
   ]
  }
 ],
 "metadata": {
  "colab": {
   "collapsed_sections": [],
   "provenance": []
  },
  "kernelspec": {
   "display_name": "Python 3 (ipykernel)",
   "language": "python",
   "name": "python3"
  },
  "language_info": {
   "codemirror_mode": {
    "name": "ipython",
    "version": 3
   },
   "file_extension": ".py",
   "mimetype": "text/x-python",
   "name": "python",
   "nbconvert_exporter": "python",
   "pygments_lexer": "ipython3",
   "version": "3.9.13"
  }
 },
 "nbformat": 4,
 "nbformat_minor": 5
}
