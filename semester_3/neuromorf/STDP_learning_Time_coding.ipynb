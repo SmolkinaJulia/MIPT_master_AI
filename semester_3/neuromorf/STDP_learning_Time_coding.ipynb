{
  "cells": [
    {
      "cell_type": "markdown",
      "source": [
        "# Временное кодирование спайковых нейронных сетях\n",
        "Здесь на простом примере показано, как работает обучение без учителя в сочетании с временным кодированием. \n",
        "* генерация обучающих примеров\n",
        "* создание сети\n",
        "* обучение сети по правилу STDP\n",
        "* назначение классов нейронам и оценка качества\n",
        "\n",
        "## Задание\n",
        "Дополнение в лабораторную работу №2:\n",
        "* Научить сеть распознавать три класса периодических сигналов на отрезке $x\\in[0,1]$:\n",
        "$$\n",
        "f_{k}(x)=a_{k}\\sin(b_kx)\n",
        "$$\n",
        "Дискретизация сигнала равна 20 точек на отрезке."
      ],
      "metadata": {
        "id": "4hO_lNPZgiMB"
      },
      "id": "4hO_lNPZgiMB"
    },
    {
      "cell_type": "code",
      "source": [
        "!pip install brian2\n",
        "!pip install --upgrade numpy\n",
        "!pip install --upgrade matplotlib"
      ],
      "metadata": {
        "id": "xeArfJH-i5h4",
        "colab": {
          "base_uri": "https://localhost:8080/",
          "height": 798
        },
        "outputId": "8fcfb81b-6711-4628-e0fe-7585f92bf2ba"
      },
      "id": "xeArfJH-i5h4",
      "execution_count": null,
      "outputs": [
        {
          "output_type": "stream",
          "name": "stdout",
          "text": [
            "Looking in indexes: https://pypi.org/simple, https://us-python.pkg.dev/colab-wheels/public/simple/\n",
            "Collecting brian2\n",
            "  Downloading Brian2-2.5.1-cp37-cp37m-manylinux_2_17_x86_64.manylinux2014_x86_64.whl (1.5 MB)\n",
            "\u001b[K     |████████████████████████████████| 1.5 MB 5.0 MB/s \n",
            "\u001b[?25hRequirement already satisfied: jinja2>=2.7 in /usr/local/lib/python3.7/dist-packages (from brian2) (2.11.3)\n",
            "Requirement already satisfied: setuptools>=24.2 in /usr/local/lib/python3.7/dist-packages (from brian2) (57.4.0)\n",
            "Requirement already satisfied: sympy>=1.2 in /usr/local/lib/python3.7/dist-packages (from brian2) (1.7.1)\n",
            "Requirement already satisfied: cython>=0.29 in /usr/local/lib/python3.7/dist-packages (from brian2) (0.29.32)\n",
            "Requirement already satisfied: pyparsing in /usr/local/lib/python3.7/dist-packages (from brian2) (3.0.9)\n",
            "Requirement already satisfied: numpy>=1.17 in /usr/local/lib/python3.7/dist-packages (from brian2) (1.21.6)\n",
            "Requirement already satisfied: MarkupSafe>=0.23 in /usr/local/lib/python3.7/dist-packages (from jinja2>=2.7->brian2) (2.0.1)\n",
            "Requirement already satisfied: mpmath>=0.19 in /usr/local/lib/python3.7/dist-packages (from sympy>=1.2->brian2) (1.2.1)\n",
            "Installing collected packages: brian2\n",
            "Successfully installed brian2-2.5.1\n",
            "Looking in indexes: https://pypi.org/simple, https://us-python.pkg.dev/colab-wheels/public/simple/\n",
            "Requirement already satisfied: numpy in /usr/local/lib/python3.7/dist-packages (1.21.6)\n",
            "Looking in indexes: https://pypi.org/simple, https://us-python.pkg.dev/colab-wheels/public/simple/\n",
            "Requirement already satisfied: matplotlib in /usr/local/lib/python3.7/dist-packages (3.2.2)\n",
            "Collecting matplotlib\n",
            "  Downloading matplotlib-3.5.3-cp37-cp37m-manylinux_2_5_x86_64.manylinux1_x86_64.whl (11.2 MB)\n",
            "\u001b[K     |████████████████████████████████| 11.2 MB 4.4 MB/s \n",
            "\u001b[?25hRequirement already satisfied: python-dateutil>=2.7 in /usr/local/lib/python3.7/dist-packages (from matplotlib) (2.8.2)\n",
            "Requirement already satisfied: cycler>=0.10 in /usr/local/lib/python3.7/dist-packages (from matplotlib) (0.11.0)\n",
            "Requirement already satisfied: pyparsing>=2.2.1 in /usr/local/lib/python3.7/dist-packages (from matplotlib) (3.0.9)\n",
            "Requirement already satisfied: numpy>=1.17 in /usr/local/lib/python3.7/dist-packages (from matplotlib) (1.21.6)\n",
            "Requirement already satisfied: kiwisolver>=1.0.1 in /usr/local/lib/python3.7/dist-packages (from matplotlib) (1.4.4)\n",
            "Requirement already satisfied: pillow>=6.2.0 in /usr/local/lib/python3.7/dist-packages (from matplotlib) (7.1.2)\n",
            "Requirement already satisfied: packaging>=20.0 in /usr/local/lib/python3.7/dist-packages (from matplotlib) (21.3)\n",
            "Collecting fonttools>=4.22.0\n",
            "  Downloading fonttools-4.38.0-py3-none-any.whl (965 kB)\n",
            "\u001b[K     |████████████████████████████████| 965 kB 36.2 MB/s \n",
            "\u001b[?25hRequirement already satisfied: typing-extensions in /usr/local/lib/python3.7/dist-packages (from kiwisolver>=1.0.1->matplotlib) (4.1.1)\n",
            "Requirement already satisfied: six>=1.5 in /usr/local/lib/python3.7/dist-packages (from python-dateutil>=2.7->matplotlib) (1.15.0)\n",
            "Installing collected packages: fonttools, matplotlib\n",
            "  Attempting uninstall: matplotlib\n",
            "    Found existing installation: matplotlib 3.2.2\n",
            "    Uninstalling matplotlib-3.2.2:\n",
            "      Successfully uninstalled matplotlib-3.2.2\n",
            "Successfully installed fonttools-4.38.0 matplotlib-3.5.3\n"
          ]
        },
        {
          "output_type": "display_data",
          "data": {
            "application/vnd.colab-display-data+json": {
              "pip_warning": {
                "packages": [
                  "matplotlib",
                  "mpl_toolkits"
                ]
              }
            }
          },
          "metadata": {}
        }
      ]
    },
    {
      "cell_type": "markdown",
      "source": [],
      "metadata": {
        "id": "aCOWDKM-ggSk"
      },
      "id": "aCOWDKM-ggSk"
    },
    {
      "cell_type": "code",
      "source": [
        "import matplotlib.pyplot as plt\n",
        "import numpy as np\n",
        "import brian2 as b2"
      ],
      "metadata": {
        "id": "-ODzR8R12ReT"
      },
      "id": "-ODzR8R12ReT",
      "execution_count": null,
      "outputs": []
    },
    {
      "cell_type": "markdown",
      "source": [
        "## Генерация данных\n",
        "* Сгенерируем эталонные картинки - образцы классов\n",
        "* Сгенерируем набор зашумленных картинок\n",
        "* Разобьем на обучающую и тестовую выборки"
      ],
      "metadata": {
        "id": "zuT_V8H-Q5Np"
      },
      "id": "zuT_V8H-Q5Np"
    },
    {
      "cell_type": "code",
      "source": [
        "def draw_patterns(patterns, figsize=(6,4)):\n",
        "  fig, ax = plt.subplots(nrows = 1, ncols = len(patterns), figsize=figsize)\n",
        "  for i,p in enumerate(patterns):\n",
        "    ax[i].imshow(patterns[i], cmap='Greys')\n",
        "    ax[i].tick_params(axis='both', labelbottom=False, labeltop=False, labelleft=False, labelright=False,\n",
        "                             bottom=False, top=False, left=False, right=False)\n",
        "plus = np.array([0, 1, 0,\n",
        "                 1, 1, 1,\n",
        "                 0, 1, 0]).reshape(3,3)\n",
        "cross = np.array([1, 0, 1,\n",
        "                  0, 1, 0,\n",
        "                  1, 0, 1]).reshape(3,3)\n",
        "patterns = [plus, cross]\n",
        "draw_patterns(patterns)"
      ],
      "metadata": {
        "colab": {
          "base_uri": "https://localhost:8080/",
          "height": 183
        },
        "id": "yeVdd7ShQ4dX",
        "outputId": "38246b2f-d1d1-4926-8dba-949485835b8c"
      },
      "id": "yeVdd7ShQ4dX",
      "execution_count": null,
      "outputs": [
        {
          "output_type": "display_data",
          "data": {
            "text/plain": [
              "<Figure size 432x288 with 2 Axes>"
            ],
            "image/png": "[encoded data removed]"
          },
          "metadata": {}
        }
      ]
    },
    {
      "cell_type": "code",
      "source": [
        "from sklearn.model_selection import train_test_split\n",
        "N_SAMPLE_CLASS = 30\n",
        "rng = np.random.default_rng()\n",
        "X,y = [],[]\n",
        "sigma = 0.15\n",
        "for i_p,p in enumerate(patterns):\n",
        "  for _ in range(N_SAMPLE_CLASS):\n",
        "    X += [np.clip(p + sigma*rng.standard_normal(p.shape),0,1)]\n",
        "    y += [i_p]\n",
        "X_train, X_test, y_train, y_test = train_test_split(X, y, test_size=0.2, shuffle=True)\n",
        "draw_patterns(X_train[-8:], figsize=(8,5))"
      ],
      "metadata": {
        "colab": {
          "base_uri": "https://localhost:8080/",
          "height": 78
        },
        "id": "F0LXI7DNRxaV",
        "outputId": "204017c5-ba77-468a-d1bc-69f0049a9497"
      },
      "id": "F0LXI7DNRxaV",
      "execution_count": null,
      "outputs": [
        {
          "output_type": "display_data",
          "data": {
            "text/plain": [
              "<Figure size 576x360 with 8 Axes>"
            ],
            "image/png": "[encoded data removed]"
          },
          "metadata": {}
        }
      ]
    },
    {
      "cell_type": "markdown",
      "source": [
        "# Временное кодирование\n",
        "Чем больше яркость пикселя $r_i$, тем быстрее наступит спайк\n",
        "1. Обратная зависимость\n",
        "$$t_i=1/r_i$$\n",
        "Если $r_i=0$, то этот нейрон не спайкует\n",
        "2. Линейное убывание от максимального значения на интервале $[t_{min}, t_{max}]$\n",
        "$$t_i=t_{max}-r_i\\frac{t_{min}}{t_{max}-t_{min}}$$"
      ],
      "metadata": {
        "id": "98yXTS1gsGTQ"
      },
      "id": "98yXTS1gsGTQ"
    },
    {
      "cell_type": "markdown",
      "source": [
        "## Создаем сеть\n",
        "* Входной слой, кол-во нейронов равно кол-ву пикселей\n",
        "* Выходной слой, кол-во нейронов должно быть не меньше кол-ва классов\n",
        "* STDP синапсы\n",
        "* Синапсы латерального торможения"
      ],
      "metadata": {
        "id": "dziN35mnBxRP"
      },
      "id": "dziN35mnBxRP"
    },
    {
      "cell_type": "code",
      "source": [
        "#These parameters must be in the global namespace area\n",
        "taum = 10*b2.ms\n",
        "taue = 5*b2.ms\n",
        "taui = 10*b2.ms\n",
        "v_rest = -74*b2.mV\n",
        "vt = -54*b2.mV\n",
        "vr = -60*b2.mV\n",
        "Ee = 0*b2.mV\n",
        "Ei = -100*b2.mV\n",
        "\n",
        "def create_input(size):\n",
        "  input_group = b2.SpikeGeneratorGroup(size, indices = [],\n",
        "                                       times=[]*b2.ms, name='SG')  \n",
        "  s_mon_inp = b2.SpikeMonitor(input_group)\n",
        "  return input_group, s_mon_inp\n",
        "\n",
        "def create_exc_neurons(size):\n",
        "  neuron_eq = '''\n",
        "            dv/dt = (v_rest - v + ge * (Ee - v) + gi * (Ei - v)) / taum : volt\n",
        "            dge/dt = -ge / taue : 1\n",
        "            dgi/dt = -gi / taui : 1\n",
        "            '''\n",
        "  neurons = b2.NeuronGroup(size, neuron_eq, threshold='v>vt', reset='v = vr',\n",
        "                      method='euler')\n",
        "  neurons.v = v_rest\n",
        "  neurons.ge=0\n",
        "  neurons.gi=0\n",
        "  s_mon_nrn = b2.SpikeMonitor(neurons)\n",
        "  return neurons, s_mon_nrn\n",
        "\n",
        "taupre=20*b2.ms\n",
        "taupost=20*b2.ms\n",
        "gmax=0.5\n",
        "gi_max = gmax\n",
        "max_delay_i = 10*b2.ms\n",
        "dApre=0.01\n",
        "dApost = -dApre * taupre / taupost * 1.05\n",
        "dApost *= gmax\n",
        "dApre *= gmax\n",
        "\n",
        "def create_stdp_synapses(pre_group, post_group):\n",
        "  S = b2.Synapses(pre_group, post_group,\n",
        "             '''w : 1\n",
        "                stdp_rate : 1 (shared)\n",
        "                dApre/dt = -Apre / taupre : 1 (event-driven)\n",
        "                dApost/dt = -Apost / taupost : 1 (event-driven)''',\n",
        "             on_pre='''ge += w\n",
        "                    Apre += dApre\n",
        "                    w = clip(w + stdp_rate*Apost, 0, gmax)''',\n",
        "             on_post='''Apost += dApost\n",
        "                     w = clip(w + stdp_rate*Apre, 0, gmax)''',\n",
        "             )\n",
        "  S.connect()\n",
        "  S.w = 'rand() * gmax'\n",
        "  S.stdp_rate = 1\n",
        "  mon = b2.StateMonitor(S, 'w', record=True)\n",
        "  return S, mon\n",
        "\n",
        "def create_inh_synapses(neuron_group):\n",
        "  S = b2.Synapses(neuron_group, neuron_group,\n",
        "             '''w : 1\n",
        "                ''',\n",
        "             on_pre='''gi += w''',\n",
        "             )\n",
        "  S.connect('i!=j')\n",
        "  S.delay = \"max_delay_i*rand()\"\n",
        "  S.w = gi_max  \n",
        "  return S\n"
      ],
      "metadata": {
        "id": "Zbnw3xJK9X1Y"
      },
      "id": "Zbnw3xJK9X1Y",
      "execution_count": null,
      "outputs": []
    },
    {
      "cell_type": "code",
      "source": [
        "b2.start_scope()\n",
        "input_layer, mon_input = create_input(patterns[0].size)\n",
        "exc_layer, mon_exc = create_exc_neurons(5*len(patterns))\n",
        "stdp_synapses, mon_stdp = create_stdp_synapses(input_layer, exc_layer)\n",
        "inh_synapses = create_inh_synapses(exc_layer)\n",
        "b2.run(0*b2.ms)\n",
        "b2.store() # store the initialized fresh network "
      ],
      "metadata": {
        "id": "T1rsam5usb9E"
      },
      "id": "T1rsam5usb9E",
      "execution_count": null,
      "outputs": []
    },
    {
      "cell_type": "code",
      "source": [
        "def plot_synapses(n_source, n_target, synapses, title=\"\"):\n",
        "  plt.figure(figsize=(3,3))\n",
        "  W = np.full((n_source, n_target), np.nan)\n",
        "  W[synapses.i[:], synapses.j[:]] = synapses.w[:]\n",
        "  plt.imshow(W)\n",
        "  plt.yticks(synapses.i)\n",
        "  plt.xticks(synapses.j)\n",
        "  plt.title(title)\n",
        "  plt.xlabel(\"Target\")\n",
        "  plt.ylabel(\"Source\")\n",
        "  plt.colorbar(format=\"%4.2f\")\n",
        "\n",
        "def plot_input_synapses(synapses):\n",
        "  #plt.figure(figsize=(16,5))\n",
        "  fig,ax = plt.subplots(nrows=1, ncols=len(synapses.target)+1, figsize=(12,3))\n",
        "  for j in range(len(synapses.target)):\n",
        "    #W = np.full((3, 3), np.nan)\n",
        "    #W[:, :] = \n",
        "    im = ax[j].imshow(np.reshape(synapses.w[:,j], (3,3)), vmin=0, vmax=1)\n",
        "    ax[j].set_xticks([])\n",
        "    ax[j].set_yticks([])\n",
        "    ax[j].set_title(f\"Neuron {j}\")\n",
        "  fig.colorbar(im, cax = ax[-1], format=\"%4.2f\")\n",
        "\n",
        "print(f\"Input layer: {len(input_layer)} neurons\")\n",
        "print(f\"Excitatory layer: {len(exc_layer)} neurons\")\n",
        "print(f\"{len(stdp_synapses)} STDP synapses\")\n",
        "print(f\"{len(inh_synapses)} inhibitory synapses\")\n",
        "#plot_synapses(input_layer.N, exc_layer.N, stdp_synapses, \"STDP weights\")\n",
        "#plot_synapses(exc_layer.N, exc_layer.N, inh_synapses, \"Inhibitory weights\")\n",
        "plot_input_synapses(stdp_synapses)\n"
      ],
      "metadata": {
        "colab": {
          "base_uri": "https://localhost:8080/",
          "height": 275
        },
        "id": "9dCpUmWq65SD",
        "outputId": "92d0a53a-c1e3-4ca6-c6ce-dec7474807cd"
      },
      "id": "9dCpUmWq65SD",
      "execution_count": null,
      "outputs": [
        {
          "output_type": "stream",
          "name": "stdout",
          "text": [
            "Input layer: 9 neurons\n",
            "Excitatory layer: 10 neurons\n",
            "90 STDP synapses\n",
            "90 inhibitory synapses\n"
          ]
        },
        {
          "output_type": "display_data",
          "data": {
            "text/plain": [
              "<Figure size 864x216 with 11 Axes>"
            ],
            "image/png": "[encoded data removed]"
          },
          "metadata": {
            "needs_background": "light"
          }
        }
      ]
    },
    {
      "cell_type": "markdown",
      "source": [
        "## Обучение сети\n",
        "Последовательно предъявляем все образы из обучающей выборки. Каждый образ предъявляется в течение T=150 мс. "
      ],
      "metadata": {
        "id": "cyGoJeQ9CQdo"
      },
      "id": "cyGoJeQ9CQdo"
    },
    {
      "cell_type": "code",
      "source": [
        "arr = np.ones((X_train[0].size,))/X_train[0].ravel()\n",
        "arr[arr==np.inf] = 0\n",
        "print(arr)"
      ],
      "metadata": {
        "colab": {
          "base_uri": "https://localhost:8080/"
        },
        "id": "4OwVSqHGJuOG",
        "outputId": "88b0cb39-bcf6-4ef2-cd26-059d96b6ef81"
      },
      "id": "4OwVSqHGJuOG",
      "execution_count": null,
      "outputs": [
        {
          "output_type": "stream",
          "name": "stderr",
          "text": [
            "WARNING    /usr/local/lib/python3.7/dist-packages/ipykernel_launcher.py:1: RuntimeWarning: divide by zero encountered in true_divide\n",
            "  \"\"\"Entry point for launching an IPython kernel.\n",
            " [py.warnings]\n",
            "WARNING:py.warnings:/usr/local/lib/python3.7/dist-packages/ipykernel_launcher.py:1: RuntimeWarning: divide by zero encountered in true_divide\n",
            "  \"\"\"Entry point for launching an IPython kernel.\n",
            "\n"
          ]
        },
        {
          "output_type": "stream",
          "name": "stdout",
          "text": [
            "[0.         1.         8.13142436 1.1164446  1.21679265 1.\n",
            " 0.         1.         0.        ]\n"
          ]
        }
      ]
    },
    {
      "cell_type": "code",
      "source": [
        "INF_TIME = 1000\n",
        "t_min = 0.01*b2.ms\n",
        "T_img = 50*b2.ms\n",
        "T_rest = 30*b2.ms\n",
        "\n",
        "indices = list(range(len(input_layer)))\n",
        "\n",
        "def encode_ttfs_inverse(img):\n",
        "  times = np.ones((img.size,))/img.ravel()\n",
        "  times[times==np.inf] = INF_TIME\n",
        "  return np.ones((img.size,))*t_min + times*b2.ms\n",
        "def encode_ttfs_linear(img):\n",
        "  #Your code here\n",
        "  pass\n",
        "\n",
        "def train(X):\n",
        "  total_time = 0*b2.ms\n",
        "  for img in X:\n",
        "    times = total_time + encode_ttfs_inverse(img)\n",
        "    input_layer.set_spikes(indices, times)\n",
        "    b2.run(T_img, report=None)\n",
        "    total_time += T_img\n",
        "    input_layer.set_spikes([], []*b2.ms)\n",
        "    b2.run(T_rest, report=None)\n",
        "    total_time += T_rest\n",
        "  return total_time\n",
        "\n",
        "b2.restore()\n",
        "stdp_synapses.stdp_rate = 1\n",
        "total_time = train(X)\n",
        "print(\"Training STDP weights has finished!\")\n",
        "plot_input_synapses(stdp_synapses)"
      ],
      "metadata": {
        "id": "zt0qRgzYCco7",
        "colab": {
          "base_uri": "https://localhost:8080/",
          "height": 328
        },
        "outputId": "e86befe6-0a6d-4435-a47c-b6cc0bb722e9"
      },
      "id": "zt0qRgzYCco7",
      "execution_count": null,
      "outputs": [
        {
          "output_type": "stream",
          "name": "stderr",
          "text": [
            "WARNING    /usr/local/lib/python3.7/dist-packages/ipykernel_launcher.py:9: RuntimeWarning: divide by zero encountered in true_divide\n",
            "  if __name__ == '__main__':\n",
            " [py.warnings]\n",
            "WARNING:py.warnings:/usr/local/lib/python3.7/dist-packages/ipykernel_launcher.py:9: RuntimeWarning: divide by zero encountered in true_divide\n",
            "  if __name__ == '__main__':\n",
            "\n"
          ]
        },
        {
          "output_type": "stream",
          "name": "stdout",
          "text": [
            "Training STDP weights has finished!\n"
          ]
        },
        {
          "output_type": "display_data",
          "data": {
            "text/plain": [
              "<Figure size 864x216 with 11 Axes>"
            ],
            "image/png": "[encoded data removed]"
          },
          "metadata": {
            "needs_background": "light"
          }
        }
      ]
    },
    {
      "cell_type": "code",
      "source": [
        "plt.figure(figsize=(12, 10))\n",
        "plt.subplot(411)\n",
        "plt.plot(mon_stdp.t/b2.ms, mon_stdp.w.T/gmax)\n",
        "plt.xlabel('Time (s)')\n",
        "plt.ylabel('Weight / gmax')\n",
        "plt.subplot(412)\n",
        "plt.plot(mon_input.t/b2.ms, mon_input.i, '.k')\n",
        "plt.xlabel('Time (ms)')\n",
        "plt.ylabel('Input neuron')\n",
        "#plt.yticks(range(0,len(input_rates)))\n",
        "plt.subplot(413)\n",
        "plt.plot(mon_exc.t/b2.ms, mon_exc.i, '.k')\n",
        "plt.xlabel('Time (ms)')\n",
        "plt.ylabel('Output neuron')\n",
        "#plt.tight_layout()\n",
        "plt.show()\n",
        "#plot_synapses(input_layer.N, exc_layer.N, stdp_synapses, \"STDP weights\")"
      ],
      "metadata": {
        "colab": {
          "base_uri": "https://localhost:8080/",
          "height": 464
        },
        "id": "ZNvXRPS5BAzO",
        "outputId": "74e291d6-be94-4244-da39-722c467ef607"
      },
      "id": "ZNvXRPS5BAzO",
      "execution_count": null,
      "outputs": [
        {
          "output_type": "display_data",
          "data": {
            "text/plain": [
              "<Figure size 864x720 with 3 Axes>"
            ],
            "image/png": "[encoded data removed]"
          },
          "metadata": {
            "needs_background": "light"
          }
        }
      ]
    },
    {
      "cell_type": "markdown",
      "source": [
        "## Назначаем классы нейронам\n",
        "Предъявляем сети по очереди изображения. Для каждого изображения подсчитываем количество спайков от каждого нейрона и сохраняем в массив.\n",
        "Затем каждому нейрону назначаем класс в зависимости от того, на какой класс изображений он был больше всего активен."
      ],
      "metadata": {
        "id": "XRYDl8jlPX-r"
      },
      "id": "XRYDl8jlPX-r"
    },
    {
      "cell_type": "code",
      "source": [
        "def evaluate(X, total_time):\n",
        "  img_spike_count = np.zeros((len(X), len(exc_layer)))\n",
        "  T_show = 50*b2.ms\n",
        "  rate_mon = b2.SpikeMonitor(exc_layer)\n",
        "  prev_count = np.zeros((len(exc_layer),))\n",
        "  for i_img, img in enumerate(X):\n",
        "    times = total_time + encode_ttfs_inverse(img)\n",
        "    input_layer.set_spikes(indices, times)\n",
        "    b2.run(T_show, report=None)\n",
        "    total_time += T_show\n",
        "    img_spike_count[i_img,:] = np.array(rate_mon.count-prev_count)\n",
        "    prev_count += img_spike_count[i_img,:]\n",
        "    input_layer.set_spikes([], []*b2.ms)\n",
        "    b2.run(T_rest, report=None)\n",
        "    total_time += T_rest\n",
        "    #del rate_mon\n",
        "  return img_spike_count, total_time\n",
        "  \n",
        "stdp_synapses.stdp_rate = 0\n",
        "train_rates, total_time = evaluate(X_train, total_time)\n",
        "nrn_class_count = np.zeros((len(patterns),len(exc_layer)))\n",
        "for i_class in range(len(patterns)):\n",
        "  nrn_class_count[i_class,:] = np.sum(train_rates[np.equal(y_train,i_class),:], axis=0)\n",
        "plt.imshow(nrn_class_count)  \n",
        "neuron_class = np.argmax(nrn_class_count, axis=0)\n",
        "print(neuron_class)\n",
        "print(train_rates)"
      ],
      "metadata": {
        "colab": {
          "base_uri": "https://localhost:8080/",
          "height": 1000
        },
        "id": "ORJ2QFWdP9h5",
        "outputId": "33c02116-dce7-46db-d5ff-6e516e5743dc"
      },
      "id": "ORJ2QFWdP9h5",
      "execution_count": null,
      "outputs": [
        {
          "output_type": "stream",
          "name": "stderr",
          "text": [
            "WARNING    /usr/local/lib/python3.7/dist-packages/ipykernel_launcher.py:9: RuntimeWarning: divide by zero encountered in true_divide\n",
            "  if __name__ == '__main__':\n",
            " [py.warnings]\n",
            "WARNING:py.warnings:/usr/local/lib/python3.7/dist-packages/ipykernel_launcher.py:9: RuntimeWarning: divide by zero encountered in true_divide\n",
            "  if __name__ == '__main__':\n",
            "\n"
          ]
        },
        {
          "output_type": "stream",
          "name": "stdout",
          "text": [
            "[1 1 0 0 0 1 0 0 0 1]\n",
            "[[0. 0. 3. 2. 3. 2. 0. 0. 2. 2.]\n",
            " [0. 0. 3. 2. 3. 2. 0. 0. 2. 2.]\n",
            " [0. 1. 3. 3. 4. 4. 0. 0. 3. 5.]\n",
            " [1. 2. 0. 2. 0. 6. 0. 0. 0. 5.]\n",
            " [0. 0. 4. 2. 4. 4. 0. 0. 2. 5.]\n",
            " [0. 1. 3. 3. 4. 4. 0. 0. 2. 5.]\n",
            " [1. 2. 0. 2. 0. 5. 0. 0. 0. 4.]\n",
            " [1. 2. 0. 2. 0. 5. 0. 0. 0. 5.]\n",
            " [0. 2. 0. 2. 0. 5. 0. 0. 0. 4.]\n",
            " [0. 0. 3. 2. 3. 2. 0. 0. 2. 3.]\n",
            " [0. 2. 0. 2. 0. 4. 0. 0. 0. 4.]\n",
            " [0. 0. 3. 2. 3. 2. 0. 0. 2. 2.]\n",
            " [0. 0. 3. 2. 3. 2. 0. 0. 2. 2.]\n",
            " [0. 0. 3. 2. 3. 2. 0. 0. 2. 3.]\n",
            " [0. 0. 3. 2. 3. 2. 0. 0. 2. 2.]\n",
            " [0. 0. 3. 2. 4. 3. 0. 0. 2. 3.]\n",
            " [0. 2. 0. 2. 0. 5. 0. 0. 0. 4.]\n",
            " [0. 0. 3. 2. 3. 2. 0. 0. 2. 2.]\n",
            " [0. 2. 0. 2. 0. 4. 0. 0. 0. 4.]\n",
            " [1. 2. 0. 2. 0. 5. 0. 0. 0. 4.]\n",
            " [0. 0. 3. 2. 3. 2. 0. 0. 2. 2.]\n",
            " [0. 2. 0. 2. 0. 4. 0. 0. 0. 4.]\n",
            " [0. 2. 0. 2. 0. 4. 0. 0. 0. 4.]\n",
            " [0. 0. 3. 2. 3. 2. 0. 0. 2. 2.]\n",
            " [0. 0. 3. 2. 3. 2. 0. 0. 2. 2.]\n",
            " [0. 0. 4. 3. 4. 4. 0. 0. 2. 4.]\n",
            " [0. 2. 0. 2. 0. 4. 0. 0. 0. 4.]\n",
            " [0. 0. 3. 2. 3. 2. 0. 0. 2. 2.]\n",
            " [0. 2. 0. 2. 0. 4. 0. 0. 0. 4.]\n",
            " [0. 0. 3. 2. 3. 2. 0. 0. 2. 2.]\n",
            " [0. 2. 0. 2. 0. 5. 0. 0. 0. 4.]\n",
            " [0. 2. 0. 2. 0. 5. 0. 0. 0. 5.]\n",
            " [0. 0. 3. 2. 3. 2. 0. 0. 2. 2.]\n",
            " [0. 2. 1. 2. 1. 5. 0. 0. 0. 5.]\n",
            " [0. 2. 0. 2. 0. 5. 0. 0. 0. 4.]\n",
            " [0. 2. 0. 2. 0. 5. 0. 0. 0. 4.]\n",
            " [0. 0. 3. 2. 4. 3. 0. 0. 2. 4.]\n",
            " [0. 0. 4. 3. 4. 4. 0. 0. 2. 4.]\n",
            " [0. 1. 3. 3. 4. 4. 0. 0. 2. 5.]\n",
            " [0. 2. 0. 2. 0. 4. 0. 0. 0. 4.]\n",
            " [0. 2. 0. 2. 0. 4. 0. 0. 0. 4.]\n",
            " [0. 2. 0. 2. 0. 5. 0. 0. 0. 4.]\n",
            " [0. 0. 3. 2. 3. 2. 0. 0. 2. 2.]\n",
            " [0. 0. 3. 2. 3. 2. 0. 0. 2. 3.]\n",
            " [0. 2. 1. 3. 0. 6. 0. 0. 0. 5.]\n",
            " [0. 0. 3. 2. 4. 2. 0. 0. 2. 3.]\n",
            " [0. 2. 0. 2. 0. 4. 0. 0. 0. 4.]\n",
            " [0. 0. 3. 2. 3. 2. 0. 0. 2. 3.]]\n"
          ]
        },
        {
          "output_type": "display_data",
          "data": {
            "text/plain": [
              "<Figure size 432x288 with 1 Axes>"
            ],
            "image/png": "[encoded data removed]"
          },
          "metadata": {
            "needs_background": "light"
          }
        }
      ]
    },
    {
      "cell_type": "markdown",
      "source": [
        "## Оценка точности классификации на тестовой выборке"
      ],
      "metadata": {
        "id": "S-BXAh9yiFt1"
      },
      "id": "S-BXAh9yiFt1"
    },
    {
      "cell_type": "code",
      "source": [
        "test_rates, total_time = evaluate(X_test, total_time)\n",
        "print(test_rates)"
      ],
      "metadata": {
        "id": "XOi92-fUb537",
        "colab": {
          "base_uri": "https://localhost:8080/"
        },
        "outputId": "b82be710-7a8c-49c5-b551-4c851774e17a"
      },
      "id": "XOi92-fUb537",
      "execution_count": null,
      "outputs": [
        {
          "output_type": "stream",
          "name": "stderr",
          "text": [
            "WARNING    /usr/local/lib/python3.7/dist-packages/ipykernel_launcher.py:9: RuntimeWarning: divide by zero encountered in true_divide\n",
            "  if __name__ == '__main__':\n",
            " [py.warnings]\n",
            "WARNING:py.warnings:/usr/local/lib/python3.7/dist-packages/ipykernel_launcher.py:9: RuntimeWarning: divide by zero encountered in true_divide\n",
            "  if __name__ == '__main__':\n",
            "\n"
          ]
        },
        {
          "output_type": "stream",
          "name": "stdout",
          "text": [
            "[[0. 2. 0. 2. 0. 4. 0. 0. 0. 4.]\n",
            " [0. 0. 3. 2. 4. 4. 0. 0. 2. 5.]\n",
            " [1. 2. 0. 2. 0. 5. 0. 0. 0. 4.]\n",
            " [0. 0. 3. 2. 3. 2. 0. 0. 2. 2.]\n",
            " [0. 0. 4. 2. 4. 3. 0. 0. 2. 4.]\n",
            " [0. 2. 0. 2. 0. 4. 0. 0. 0. 4.]\n",
            " [1. 2. 0. 2. 0. 6. 0. 0. 0. 4.]\n",
            " [0. 2. 1. 3. 1. 6. 0. 0. 1. 5.]\n",
            " [0. 2. 0. 2. 0. 5. 0. 0. 0. 4.]\n",
            " [1. 2. 0. 2. 0. 5. 0. 0. 0. 4.]\n",
            " [0. 2. 0. 2. 0. 4. 0. 0. 0. 4.]\n",
            " [0. 0. 3. 2. 3. 2. 0. 0. 2. 2.]]\n"
          ]
        }
      ]
    },
    {
      "cell_type": "code",
      "source": [
        "from sklearn.metrics import ConfusionMatrixDisplay\n",
        "from sklearn.metrics import accuracy_score, confusion_matrix\n",
        "\n",
        "def predict(rates, neuron_class):\n",
        "  y = np.ones(rates.shape[0])*np.nan\n",
        "  for i,x in enumerate(rates):\n",
        "    y[i] = neuron_class[np.argmax(x)]\n",
        "  return y\n",
        "\n",
        "test_prediction = predict(test_rates, neuron_class)\n",
        "\n",
        "print(test_prediction)\n",
        "print(y_test)\n",
        "acc = accuracy_score(y_test, test_prediction)\n",
        "cm = confusion_matrix(y_test, test_prediction)\n",
        "print(f\"Accuracy: {acc}\")\n",
        "cm_display = ConfusionMatrixDisplay(cm).plot()\n"
      ],
      "metadata": {
        "colab": {
          "base_uri": "https://localhost:8080/",
          "height": 336
        },
        "id": "zFzqz_SHmToH",
        "outputId": "7ff18e0c-a6d2-47ab-e325-32302e837df4"
      },
      "id": "zFzqz_SHmToH",
      "execution_count": null,
      "outputs": [
        {
          "output_type": "stream",
          "name": "stdout",
          "text": [
            "[1. 1. 1. 0. 0. 1. 1. 1. 1. 1. 1. 0.]\n",
            "[1, 0, 1, 0, 0, 1, 1, 1, 1, 1, 1, 0]\n",
            "Accuracy: 0.9166666666666666\n"
          ]
        },
        {
          "output_type": "display_data",
          "data": {
            "text/plain": [
              "<Figure size 432x288 with 2 Axes>"
            ],
            "image/png": "[encoded data removed]"
          },
          "metadata": {
            "needs_background": "light"
          }
        }
      ]
    }
  ],
  "metadata": {
    "kernelspec": {
      "display_name": "Python 3",
      "language": "python",
      "name": "python3"
    },
    "language_info": {
      "codemirror_mode": {
        "name": "ipython",
        "version": 3
      },
      "file_extension": ".py",
      "mimetype": "text/x-python",
      "name": "python",
      "nbconvert_exporter": "python",
      "pygments_lexer": "ipython3",
      "version": "3.6.13"
    },
    "colab": {
      "provenance": [],
      "collapsed_sections": []
    }
  },
  "nbformat": 4,
  "nbformat_minor": 5
}