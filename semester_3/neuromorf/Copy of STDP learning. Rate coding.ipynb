{
 "cells": [
  {
   "cell_type": "markdown",
   "id": "4hO_lNPZgiMB",
   "metadata": {
    "id": "4hO_lNPZgiMB"
   },
   "source": [
    "# Обучение без учителя с частотным кодированием\n",
    "Здесь на простом примере показано, как сеть обучается распознавать классы входных сигналов. \n",
    "* генерация обучающих примеров\n",
    "* создание сети\n",
    "* обучение сети по правилу STDP\n",
    "* назначение классов нейронам и оценка качества\n",
    "\n",
    "## Задание\n",
    "Дополнение в лабораторную работу №2:\n",
    "* Научить сеть различать минимум 4 класса входных изображений 3*3\n",
    "* Проверить эффективность нормализации весов после предъявления каждого изображения так, чтобы сумма всегда была равна $g_{max}$\n",
    "\n",
    "\n",
    "## References\n",
    "\n",
    "[1] Diehl, P. U., & Cook, M. (2015). Unsupervised learning of digit recognition using spike-timing-dependent plasticity. Frontiers in computational neuroscience, 9, 99 \n",
    "\n",
    "[2] https://www.kaggle.com/code/dlarionov/mnist-spiking-neural-network/notebook"
   ]
  },
  {
   "cell_type": "code",
   "execution_count": 1,
   "id": "xeArfJH-i5h4",
   "metadata": {
    "colab": {
     "base_uri": "https://localhost:8080/",
     "height": 798
    },
    "executionInfo": {
     "elapsed": 36095,
     "status": "ok",
     "timestamp": 1667299533787,
     "user": {
      "displayName": "Miky Miknich",
      "userId": "18242860223893070795"
     },
     "user_tz": -180
    },
    "id": "xeArfJH-i5h4",
    "outputId": "f99c3e83-0a6d-42a2-9464-281c860bc5c5"
   },
   "outputs": [
    {
     "name": "stdout",
     "output_type": "stream",
     "text": [
      "Looking in indexes: https://pypi.org/simple, https://us-python.pkg.dev/colab-wheels/public/simple/\n",
      "Collecting brian2\n",
      "  Downloading Brian2-2.5.1-cp37-cp37m-manylinux_2_17_x86_64.manylinux2014_x86_64.whl (1.5 MB)\n",
      "\u001b[K     |████████████████████████████████| 1.5 MB 5.0 MB/s \n",
      "\u001b[?25hRequirement already satisfied: numpy>=1.17 in /usr/local/lib/python3.7/dist-packages (from brian2) (1.21.6)\n",
      "Requirement already satisfied: sympy>=1.2 in /usr/local/lib/python3.7/dist-packages (from brian2) (1.7.1)\n",
      "Requirement already satisfied: cython>=0.29 in /usr/local/lib/python3.7/dist-packages (from brian2) (0.29.32)\n",
      "Requirement already satisfied: pyparsing in /usr/local/lib/python3.7/dist-packages (from brian2) (3.0.9)\n",
      "Requirement already satisfied: setuptools>=24.2 in /usr/local/lib/python3.7/dist-packages (from brian2) (57.4.0)\n",
      "Requirement already satisfied: jinja2>=2.7 in /usr/local/lib/python3.7/dist-packages (from brian2) (2.11.3)\n",
      "Requirement already satisfied: MarkupSafe>=0.23 in /usr/local/lib/python3.7/dist-packages (from jinja2>=2.7->brian2) (2.0.1)\n",
      "Requirement already satisfied: mpmath>=0.19 in /usr/local/lib/python3.7/dist-packages (from sympy>=1.2->brian2) (1.2.1)\n",
      "Installing collected packages: brian2\n",
      "Successfully installed brian2-2.5.1\n",
      "Looking in indexes: https://pypi.org/simple, https://us-python.pkg.dev/colab-wheels/public/simple/\n",
      "Requirement already satisfied: numpy in /usr/local/lib/python3.7/dist-packages (1.21.6)\n",
      "Looking in indexes: https://pypi.org/simple, https://us-python.pkg.dev/colab-wheels/public/simple/\n",
      "Requirement already satisfied: matplotlib in /usr/local/lib/python3.7/dist-packages (3.2.2)\n",
      "Collecting matplotlib\n",
      "  Downloading matplotlib-3.5.3-cp37-cp37m-manylinux_2_5_x86_64.manylinux1_x86_64.whl (11.2 MB)\n",
      "\u001b[K     |████████████████████████████████| 11.2 MB 5.1 MB/s \n",
      "\u001b[?25hRequirement already satisfied: pillow>=6.2.0 in /usr/local/lib/python3.7/dist-packages (from matplotlib) (7.1.2)\n",
      "Requirement already satisfied: pyparsing>=2.2.1 in /usr/local/lib/python3.7/dist-packages (from matplotlib) (3.0.9)\n",
      "Requirement already satisfied: cycler>=0.10 in /usr/local/lib/python3.7/dist-packages (from matplotlib) (0.11.0)\n",
      "Collecting fonttools>=4.22.0\n",
      "  Downloading fonttools-4.38.0-py3-none-any.whl (965 kB)\n",
      "\u001b[K     |████████████████████████████████| 965 kB 35.7 MB/s \n",
      "\u001b[?25hRequirement already satisfied: numpy>=1.17 in /usr/local/lib/python3.7/dist-packages (from matplotlib) (1.21.6)\n",
      "Requirement already satisfied: packaging>=20.0 in /usr/local/lib/python3.7/dist-packages (from matplotlib) (21.3)\n",
      "Requirement already satisfied: kiwisolver>=1.0.1 in /usr/local/lib/python3.7/dist-packages (from matplotlib) (1.4.4)\n",
      "Requirement already satisfied: python-dateutil>=2.7 in /usr/local/lib/python3.7/dist-packages (from matplotlib) (2.8.2)\n",
      "Requirement already satisfied: typing-extensions in /usr/local/lib/python3.7/dist-packages (from kiwisolver>=1.0.1->matplotlib) (4.1.1)\n",
      "Requirement already satisfied: six>=1.5 in /usr/local/lib/python3.7/dist-packages (from python-dateutil>=2.7->matplotlib) (1.15.0)\n",
      "Installing collected packages: fonttools, matplotlib\n",
      "  Attempting uninstall: matplotlib\n",
      "    Found existing installation: matplotlib 3.2.2\n",
      "    Uninstalling matplotlib-3.2.2:\n",
      "      Successfully uninstalled matplotlib-3.2.2\n",
      "Successfully installed fonttools-4.38.0 matplotlib-3.5.3\n"
     ]
    },
    {
     "data": {
      "application/vnd.colab-display-data+json": {
       "pip_warning": {
        "packages": [
         "matplotlib",
         "mpl_toolkits"
        ]
       }
      }
     },
     "metadata": {},
     "output_type": "display_data"
    }
   ],
   "source": [
    "!pip install brian2\n",
    "!pip install --upgrade numpy\n",
    "!pip install --upgrade matplotlib"
   ]
  },
  {
   "cell_type": "markdown",
   "id": "aCOWDKM-ggSk",
   "metadata": {
    "id": "aCOWDKM-ggSk"
   },
   "source": []
  },
  {
   "cell_type": "code",
   "execution_count": 1,
   "id": "-ODzR8R12ReT",
   "metadata": {
    "executionInfo": {
     "elapsed": 1493,
     "status": "ok",
     "timestamp": 1667299551302,
     "user": {
      "displayName": "Miky Miknich",
      "userId": "18242860223893070795"
     },
     "user_tz": -180
    },
    "id": "-ODzR8R12ReT"
   },
   "outputs": [],
   "source": [
    "import matplotlib.pyplot as plt\n",
    "import numpy as np\n",
    "import brian2 as b2"
   ]
  },
  {
   "cell_type": "markdown",
   "id": "zuT_V8H-Q5Np",
   "metadata": {
    "id": "zuT_V8H-Q5Np"
   },
   "source": [
    "## Генерация данных\n",
    "* Сгенерируем эталонные картинки - образцы классов\n",
    "* Сгенерируем набор зашумленных картинок\n",
    "* Разобьем на обучающую и тестовую выборки"
   ]
  },
  {
   "cell_type": "code",
   "execution_count": 2,
   "id": "yeVdd7ShQ4dX",
   "metadata": {
    "colab": {
     "base_uri": "https://localhost:8080/",
     "height": 183
    },
    "executionInfo": {
     "elapsed": 841,
     "status": "ok",
     "timestamp": 1667299553773,
     "user": {
      "displayName": "Miky Miknich",
      "userId": "18242860223893070795"
     },
     "user_tz": -180
    },
    "id": "yeVdd7ShQ4dX",
    "outputId": "089a3382-990e-4bce-90d6-574ad3415d04"
   },
   "outputs": [
    {
     "data": {
      "image/png": "[encoded data removed]",
      "text/plain": [
       "<Figure size 432x288 with 2 Axes>"
      ]
     },
     "metadata": {},
     "output_type": "display_data"
    }
   ],
   "source": [
    "def draw_patterns(patterns, figsize=(6,4)):\n",
    "  fig, ax = plt.subplots(nrows = 1, ncols = len(patterns), figsize=figsize)\n",
    "  for i,p in enumerate(patterns):\n",
    "    ax[i].imshow(patterns[i], cmap='Greys')\n",
    "    ax[i].tick_params(axis='both', labelbottom=False, labeltop=False, labelleft=False, labelright=False,\n",
    "                             bottom=False, top=False, left=False, right=False)\n",
    "\n",
    "#left_up = np.array([1, 0, 0,\n",
    "#                 0, 1, 0,\n",
    "#                 0, 0, 1]).reshape(3,3)\n",
    "#left_bottom = np.array([0, 0, 1,\n",
    "#                  0, 1, 0,\n",
    "#                  1, 0, 0]).reshape(3,3)\n",
    "plus = np.array([0, 1, 0,\n",
    "                 1, 1, 1,\n",
    "                 0, 1, 0]).reshape(3,3)\n",
    "cross = np.array([1, 0, 1,\n",
    "                  0, 1, 0,\n",
    "                  1, 0, 1]).reshape(3,3)\n",
    "patterns = [plus, cross]\n",
    "draw_patterns(patterns)"
   ]
  },
  {
   "cell_type": "code",
   "execution_count": 3,
   "id": "F0LXI7DNRxaV",
   "metadata": {
    "colab": {
     "base_uri": "https://localhost:8080/",
     "height": 78
    },
    "executionInfo": {
     "elapsed": 439,
     "status": "ok",
     "timestamp": 1667299554205,
     "user": {
      "displayName": "Miky Miknich",
      "userId": "18242860223893070795"
     },
     "user_tz": -180
    },
    "id": "F0LXI7DNRxaV",
    "outputId": "05dde423-87cc-4cc1-db31-85f733e5c005"
   },
   "outputs": [
    {
     "data": {
      "image/png": "[encoded data removed]",
      "text/plain": [
       "<Figure size 576x360 with 8 Axes>"
      ]
     },
     "metadata": {},
     "output_type": "display_data"
    }
   ],
   "source": [
    "from sklearn.model_selection import train_test_split\n",
    "N_SAMPLE_CLASS = 30\n",
    "rng = np.random.default_rng()\n",
    "X,y = [],[]\n",
    "sigma = 0.15\n",
    "for i_p,p in enumerate(patterns):\n",
    "  for _ in range(N_SAMPLE_CLASS):\n",
    "    X += [np.clip(p + sigma*rng.standard_normal(p.shape),0,1)]\n",
    "    y += [i_p]\n",
    "X_train, X_test, y_train, y_test = train_test_split(X, y, test_size=0.2, shuffle=True)\n",
    "draw_patterns(X_train[-8:], figsize=(8,5))"
   ]
  },
  {
   "cell_type": "markdown",
   "id": "98yXTS1gsGTQ",
   "metadata": {
    "id": "98yXTS1gsGTQ"
   },
   "source": [
    "# Частотное кодирование\n",
    "Яркость пикселя $r_i$ преобразуется в частоту спайков\n",
    "$$\n",
    "\\lambda_i=r_i\\lambda_{max}\n",
    "$$"
   ]
  },
  {
   "cell_type": "markdown",
   "id": "dziN35mnBxRP",
   "metadata": {
    "id": "dziN35mnBxRP"
   },
   "source": [
    "## Создаем сеть\n",
    "* Входной слой, кол-во нейронов равно кол-ву пикселей\n",
    "* Выходной слой, кол-во нейронов должно быть не меньше кол-ва классов\n",
    "* STDP синапсы\n",
    "* Синапсы латерального торможения"
   ]
  },
  {
   "cell_type": "code",
   "execution_count": 4,
   "id": "Zbnw3xJK9X1Y",
   "metadata": {
    "executionInfo": {
     "elapsed": 8,
     "status": "ok",
     "timestamp": 1667299554206,
     "user": {
      "displayName": "Miky Miknich",
      "userId": "18242860223893070795"
     },
     "user_tz": -180
    },
    "id": "Zbnw3xJK9X1Y"
   },
   "outputs": [],
   "source": [
    "#These parameters must be in the global namespace area\n",
    "taum = 10*b2.ms\n",
    "taue = 5*b2.ms\n",
    "taui = 10*b2.ms\n",
    "v_rest = -74*b2.mV\n",
    "vt = -54*b2.mV\n",
    "vr = -60*b2.mV\n",
    "Ee = 0*b2.mV\n",
    "Ei = -100*b2.mV\n",
    "\n",
    "def create_input(size):\n",
    "  input_group = b2.PoissonGroup(size, rates=np.zeros(size)*b2.Hz, \n",
    "                              name='PG')  \n",
    "  s_mon_inp = b2.SpikeMonitor(input_group)\n",
    "  return input_group, s_mon_inp\n",
    "\n",
    "def create_exc_neurons(size):\n",
    "  neuron_eq = '''\n",
    "            dv/dt = (v_rest - v + ge * (Ee - v) + gi * (Ei - v)) / taum : volt\n",
    "            dge/dt = -ge / taue : 1\n",
    "            dgi/dt = -gi / taui : 1\n",
    "            '''\n",
    "  neurons = b2.NeuronGroup(size, neuron_eq, threshold='v>vt', reset='v = vr',\n",
    "                      method='euler')\n",
    "  neurons.v = v_rest\n",
    "  neurons.ge=0\n",
    "  neurons.gi=0\n",
    "  s_mon_nrn = b2.SpikeMonitor(neurons)\n",
    "  return neurons, s_mon_nrn\n",
    "\n",
    "taupre=20*b2.ms\n",
    "taupost=20*b2.ms\n",
    "gmax=0.2\n",
    "gi_max = gmax\n",
    "max_delay_i = 10*b2.ms\n",
    "dApre=0.01\n",
    "dApost = -dApre * taupre / taupost * 1.05\n",
    "dApost *= gmax\n",
    "dApre *= gmax\n",
    "\n",
    "def create_stdp_synapses(pre_group, post_group):\n",
    "  S = b2.Synapses(pre_group, post_group,\n",
    "             '''w : 1\n",
    "                stdp_rate : 1 (shared)\n",
    "                dApre/dt = -Apre / taupre : 1 (event-driven)\n",
    "                dApost/dt = -Apost / taupost : 1 (event-driven)''',\n",
    "             on_pre='''ge += w\n",
    "                    Apre += dApre\n",
    "                    w = clip(w + stdp_rate*Apost, 0, gmax)''',\n",
    "             on_post='''Apost += dApost\n",
    "                     w = clip(w + stdp_rate*Apre, 0, gmax)''',\n",
    "             )\n",
    "  S.connect()\n",
    "  S.w = 'rand() * gmax'\n",
    "  S.stdp_rate = 1\n",
    "  mon = b2.StateMonitor(S, 'w', record=True)\n",
    "  return S, mon\n",
    "\n",
    "def create_inh_synapses(neuron_group):\n",
    "  S = b2.Synapses(neuron_group, neuron_group,\n",
    "             '''w : 1\n",
    "                ''',\n",
    "             on_pre='''gi += w''',\n",
    "             )\n",
    "  S.connect('i!=j')\n",
    "  S.delay = \"max_delay_i*rand()\"\n",
    "  S.w = gi_max  \n",
    "  return S\n"
   ]
  },
  {
   "cell_type": "code",
   "execution_count": 5,
   "id": "T1rsam5usb9E",
   "metadata": {
    "executionInfo": {
     "elapsed": 67298,
     "status": "ok",
     "timestamp": 1667299621497,
     "user": {
      "displayName": "Miky Miknich",
      "userId": "18242860223893070795"
     },
     "user_tz": -180
    },
    "id": "T1rsam5usb9E"
   },
   "outputs": [],
   "source": [
    "out = 2\n",
    "b2.start_scope()\n",
    "input_layer, mon_input = create_input(patterns[0].size)\n",
    "exc_layer, mon_exc = create_exc_neurons(out)\n",
    "stdp_synapses, mon_stdp = create_stdp_synapses(input_layer, exc_layer)\n",
    "inh_synapses = create_inh_synapses(exc_layer)\n",
    "b2.run(0*b2.ms)"
   ]
  },
  {
   "cell_type": "code",
   "execution_count": 6,
   "id": "rKFBF9xookya",
   "metadata": {
    "executionInfo": {
     "elapsed": 17,
     "status": "ok",
     "timestamp": 1667299621499,
     "user": {
      "displayName": "Miky Miknich",
      "userId": "18242860223893070795"
     },
     "user_tz": -180
    },
    "id": "rKFBF9xookya"
   },
   "outputs": [],
   "source": [
    "w2 = [stdp_synapses.w[i::out]/np.sqrt(sum(stdp_synapses.w[i::out]**2)) for i in range(out)]"
   ]
  },
  {
   "cell_type": "code",
   "execution_count": 7,
   "id": "r3nMPHD1tByW",
   "metadata": {
    "executionInfo": {
     "elapsed": 16,
     "status": "ok",
     "timestamp": 1667299621499,
     "user": {
      "displayName": "Miky Miknich",
      "userId": "18242860223893070795"
     },
     "user_tz": -180
    },
    "id": "r3nMPHD1tByW"
   },
   "outputs": [],
   "source": [
    "stdp_synapses.w = np.reshape(np.stack(w2).T, (9*out,))"
   ]
  },
  {
   "cell_type": "code",
   "execution_count": 8,
   "id": "9dCpUmWq65SD",
   "metadata": {
    "colab": {
     "base_uri": "https://localhost:8080/",
     "height": 287
    },
    "executionInfo": {
     "elapsed": 1004,
     "status": "ok",
     "timestamp": 1667299622488,
     "user": {
      "displayName": "Miky Miknich",
      "userId": "18242860223893070795"
     },
     "user_tz": -180
    },
    "id": "9dCpUmWq65SD",
    "outputId": "161699ef-bb60-42ae-810d-8e95093168e0"
   },
   "outputs": [
    {
     "name": "stdout",
     "output_type": "stream",
     "text": [
      "Input layer: 9 neurons\n",
      "Excitatory layer: 2 neurons\n",
      "18 STDP synapses\n",
      "2 inhibitory synapses\n"
     ]
    },
    {
     "data": {
      "image/png": "[encoded data removed]",
      "text/plain": [
       "<Figure size 864x216 with 3 Axes>"
      ]
     },
     "metadata": {
      "needs_background": "light"
     },
     "output_type": "display_data"
    }
   ],
   "source": [
    "def plot_synapses(n_source, n_target, synapses, title=\"\"):\n",
    "  plt.figure(figsize=(3,3))\n",
    "  W = np.full((n_source, n_target), np.nan)\n",
    "  W[synapses.i[:], synapses.j[:]] = synapses.w[:]\n",
    "  plt.imshow(W)\n",
    "  plt.yticks(synapses.i)\n",
    "  plt.xticks(synapses.j)\n",
    "  plt.title(title)\n",
    "  plt.xlabel(\"Target\")\n",
    "  plt.ylabel(\"Source\")\n",
    "  plt.colorbar(format=\"%4.2f\")\n",
    "\n",
    "def plot_input_synapses(synapses):\n",
    "  #plt.figure(figsize=(16,5))\n",
    "  fig,ax = plt.subplots(nrows=1, ncols=len(synapses.target)+1, figsize=(12,3))\n",
    "  for j in range(len(synapses.target)):\n",
    "    #W = np.full((3, 3), np.nan)\n",
    "    #W[:, :] = \n",
    "    im = ax[j].imshow(np.reshape(synapses.w[:,j], (3,3)), vmin=0, vmax=1)\n",
    "    ax[j].set_xticks([])\n",
    "    ax[j].set_yticks([])\n",
    "    ax[j].set_title(f\"Neuron {j}\")\n",
    "  fig.colorbar(im, cax = ax[-1], format=\"%4.2f\")\n",
    "\n",
    "print(f\"Input layer: {len(input_layer)} neurons\")\n",
    "print(f\"Excitatory layer: {len(exc_layer)} neurons\")\n",
    "print(f\"{len(stdp_synapses)} STDP synapses\")\n",
    "print(f\"{len(inh_synapses)} inhibitory synapses\")\n",
    "#plot_synapses(input_layer.N, exc_layer.N, stdp_synapses, \"STDP weights\")\n",
    "#plot_synapses(exc_layer.N, exc_layer.N, inh_synapses, \"Inhibitory weights\")\n",
    "plot_input_synapses(stdp_synapses)\n"
   ]
  },
  {
   "cell_type": "markdown",
   "id": "cyGoJeQ9CQdo",
   "metadata": {
    "id": "cyGoJeQ9CQdo"
   },
   "source": [
    "## Обучение сети\n",
    "Последовательно предъявляем все образы из обучающей выборки. Каждый образ предъявляется в течение T=150 мс. "
   ]
  },
  {
   "cell_type": "code",
   "execution_count": 9,
   "id": "zt0qRgzYCco7",
   "metadata": {
    "colab": {
     "base_uri": "https://localhost:8080/",
     "height": 234
    },
    "executionInfo": {
     "elapsed": 110763,
     "status": "ok",
     "timestamp": 1667299733245,
     "user": {
      "displayName": "Miky Miknich",
      "userId": "18242860223893070795"
     },
     "user_tz": -180
    },
    "id": "zt0qRgzYCco7",
    "outputId": "ecf2a201-5981-4d58-ef34-66d125fe96fb"
   },
   "outputs": [
    {
     "name": "stdout",
     "output_type": "stream",
     "text": [
      "Training STDP weights has finished!\n"
     ]
    },
    {
     "data": {
      "image/png": "[encoded data removed]",
      "text/plain": [
       "<Figure size 864x216 with 3 Axes>"
      ]
     },
     "metadata": {
      "needs_background": "light"
     },
     "output_type": "display_data"
    }
   ],
   "source": [
    "max_rate = 120 * b2.Hz\n",
    "T_img = 150*b2.ms\n",
    "T_rest = 50*b2.ms\n",
    "for img in X_train:\n",
    "  input_layer.rates = img.ravel()*max_rate\n",
    "  b2.run(T_img, report=None)\n",
    "  input_layer.rates = img.ravel()*0*b2.Hz\n",
    "  b2.run(T_rest, report=None)\n",
    "print(\"Training STDP weights has finished!\")\n",
    "plot_input_synapses(stdp_synapses)"
   ]
  },
  {
   "cell_type": "code",
   "execution_count": 10,
   "id": "ZNvXRPS5BAzO",
   "metadata": {
    "colab": {
     "base_uri": "https://localhost:8080/",
     "height": 464
    },
    "executionInfo": {
     "elapsed": 26,
     "status": "ok",
     "timestamp": 1667299733246,
     "user": {
      "displayName": "Miky Miknich",
      "userId": "18242860223893070795"
     },
     "user_tz": -180
    },
    "id": "ZNvXRPS5BAzO",
    "outputId": "042deaad-137a-43a6-9906-247ea66c6bd3"
   },
   "outputs": [
    {
     "data": {
      "image/png": "[encoded data removed]",
      "text/plain": [
       "<Figure size 864x720 with 3 Axes>"
      ]
     },
     "metadata": {
      "needs_background": "light"
     },
     "output_type": "display_data"
    }
   ],
   "source": [
    "plt.figure(figsize=(12, 10))\n",
    "plt.subplot(411)\n",
    "plt.plot(mon_stdp.t/b2.ms, mon_stdp.w.T/gmax)\n",
    "plt.xlabel('Time (s)')\n",
    "plt.ylabel('Weight / gmax')\n",
    "plt.subplot(412)\n",
    "plt.plot(mon_input.t/b2.ms, mon_input.i, '.k')\n",
    "plt.xlabel('Time (ms)')\n",
    "plt.ylabel('Input neuron')\n",
    "#plt.yticks(range(0,len(input_rates)))\n",
    "plt.subplot(413)\n",
    "plt.plot(mon_exc.t/b2.ms, mon_exc.i, '.k')\n",
    "plt.xlabel('Time (ms)')\n",
    "plt.ylabel('Output neuron')\n",
    "#plt.tight_layout()\n",
    "plt.show()\n",
    "#plot_synapses(input_layer.N, exc_layer.N, stdp_synapses, \"STDP weights\")"
   ]
  },
  {
   "cell_type": "markdown",
   "id": "XRYDl8jlPX-r",
   "metadata": {
    "id": "XRYDl8jlPX-r"
   },
   "source": [
    "## Назначаем классы нейронам\n",
    "Предъявляем сети по очереди изображения. Для каждого изображения подсчитываем количество спайков от каждого нейрона и сохраняем в массив.\n",
    "Затем каждому нейрону назначаем класс в зависимости от того, на какой класс изображений он был больше всего активен."
   ]
  },
  {
   "cell_type": "code",
   "execution_count": 11,
   "id": "ORJ2QFWdP9h5",
   "metadata": {
    "colab": {
     "base_uri": "https://localhost:8080/",
     "height": 1000
    },
    "executionInfo": {
     "elapsed": 100755,
     "status": "ok",
     "timestamp": 1667299833982,
     "user": {
      "displayName": "Miky Miknich",
      "userId": "18242860223893070795"
     },
     "user_tz": -180
    },
    "id": "ORJ2QFWdP9h5",
    "outputId": "14a1c48e-e90b-481a-b32f-dab8fd3a9bbc"
   },
   "outputs": [
    {
     "name": "stdout",
     "output_type": "stream",
     "text": [
      "[0 1]\n",
      "[[17.  4.]\n",
      " [20.  0.]\n",
      " [11. 21.]\n",
      " [ 1. 29.]\n",
      " [10.  2.]\n",
      " [30.  0.]\n",
      " [21.  4.]\n",
      " [25.  5.]\n",
      " [ 3. 17.]\n",
      " [ 4. 28.]\n",
      " [ 1. 16.]\n",
      " [17.  1.]\n",
      " [28.  1.]\n",
      " [17.  1.]\n",
      " [ 1. 38.]\n",
      " [14.  1.]\n",
      " [18.  4.]\n",
      " [ 4. 28.]\n",
      " [14.  5.]\n",
      " [ 2. 32.]\n",
      " [ 1. 33.]\n",
      " [20.  1.]\n",
      " [ 7. 13.]\n",
      " [ 5. 17.]\n",
      " [ 6. 21.]\n",
      " [20.  1.]\n",
      " [32.  5.]\n",
      " [12. 15.]\n",
      " [ 1. 16.]\n",
      " [25.  2.]\n",
      " [ 3. 33.]\n",
      " [ 2. 25.]\n",
      " [ 3. 34.]\n",
      " [ 4. 18.]\n",
      " [ 0. 31.]\n",
      " [ 0. 22.]\n",
      " [25.  1.]\n",
      " [ 6. 44.]\n",
      " [18.  1.]\n",
      " [25.  3.]\n",
      " [19.  0.]\n",
      " [13. 28.]\n",
      " [15.  1.]\n",
      " [ 3. 38.]\n",
      " [ 3. 28.]\n",
      " [ 2. 17.]\n",
      " [19.  1.]\n",
      " [ 6. 35.]]\n"
     ]
    },
    {
     "data": {
      "image/png": "[encoded data removed]",
      "text/plain": [
       "<Figure size 432x288 with 1 Axes>"
      ]
     },
     "metadata": {
      "needs_background": "light"
     },
     "output_type": "display_data"
    }
   ],
   "source": [
    "def evaluate(X):\n",
    "  img_rates = np.zeros((len(X), len(exc_layer)))\n",
    "  T_show = 150*b2.ms\n",
    "  rate_mon = b2.SpikeMonitor(exc_layer)\n",
    "  prev_count = np.zeros((len(exc_layer),))\n",
    "  for i_img, img in enumerate(X):\n",
    "    input_layer.rates = img.ravel()*max_rate\n",
    "    b2.run(T_show, report=None)\n",
    "    img_rates[i_img,:] = np.array(rate_mon.count-prev_count)\n",
    "    prev_count += img_rates[i_img,:]\n",
    "    input_layer.rates = img.ravel()*0*b2.Hz\n",
    "    b2.run(T_rest, report=None)\n",
    "    #del rate_mon\n",
    "  return img_rates\n",
    "  \n",
    "stdp_synapses.stdp_rate = 0\n",
    "train_rates = evaluate(X_train)\n",
    "nrn_class_count = np.zeros((len(patterns),len(exc_layer)))\n",
    "for i_class in range(len(patterns)):\n",
    "  nrn_class_count[i_class,:] = np.sum(train_rates[np.equal(y_train,i_class),:], axis=0)\n",
    "plt.imshow(nrn_class_count)  \n",
    "neuron_class = np.argmax(nrn_class_count, axis=0)\n",
    "print(neuron_class)\n",
    "print(train_rates)"
   ]
  },
  {
   "cell_type": "markdown",
   "id": "S-BXAh9yiFt1",
   "metadata": {
    "id": "S-BXAh9yiFt1"
   },
   "source": [
    "## Оценка точности классификации на тестовой выборке"
   ]
  },
  {
   "cell_type": "code",
   "execution_count": 12,
   "id": "XOi92-fUb537",
   "metadata": {
    "colab": {
     "base_uri": "https://localhost:8080/"
    },
    "executionInfo": {
     "elapsed": 25642,
     "status": "ok",
     "timestamp": 1667299859604,
     "user": {
      "displayName": "Miky Miknich",
      "userId": "18242860223893070795"
     },
     "user_tz": -180
    },
    "id": "XOi92-fUb537",
    "outputId": "82783a42-dcee-4cfa-fa12-d8eccebbc77f"
   },
   "outputs": [
    {
     "name": "stdout",
     "output_type": "stream",
     "text": [
      "[[ 2. 20.]\n",
      " [20.  5.]\n",
      " [ 6.  4.]\n",
      " [23.  1.]\n",
      " [ 6. 17.]\n",
      " [ 6.  1.]\n",
      " [20.  3.]\n",
      " [17.  0.]\n",
      " [17.  3.]\n",
      " [ 2. 19.]\n",
      " [27.  5.]\n",
      " [ 3. 26.]]\n"
     ]
    }
   ],
   "source": [
    "test_rates = evaluate(X_test)\n",
    "print(test_rates)"
   ]
  },
  {
   "cell_type": "code",
   "execution_count": 13,
   "id": "zFzqz_SHmToH",
   "metadata": {
    "colab": {
     "base_uri": "https://localhost:8080/",
     "height": 336
    },
    "executionInfo": {
     "elapsed": 28,
     "status": "ok",
     "timestamp": 1667299859605,
     "user": {
      "displayName": "Miky Miknich",
      "userId": "18242860223893070795"
     },
     "user_tz": -180
    },
    "id": "zFzqz_SHmToH",
    "outputId": "76f51811-42a4-496e-ff30-7b17eaf800e3"
   },
   "outputs": [
    {
     "name": "stdout",
     "output_type": "stream",
     "text": [
      "[1. 0. 0. 0. 1. 0. 0. 0. 0. 1. 0. 1.]\n",
      "[1, 0, 0, 0, 1, 0, 0, 0, 0, 1, 0, 1]\n",
      "Accuracy: 1.0\n"
     ]
    },
    {
     "data": {
      "image/png": "[encoded data removed]",
      "text/plain": [
       "<Figure size 432x288 with 2 Axes>"
      ]
     },
     "metadata": {
      "needs_background": "light"
     },
     "output_type": "display_data"
    }
   ],
   "source": [
    "from sklearn.metrics import ConfusionMatrixDisplay\n",
    "from sklearn.metrics import accuracy_score, confusion_matrix\n",
    "\n",
    "def predict(rates, neuron_class):\n",
    "  y = np.ones(rates.shape[0])*np.nan\n",
    "  for i,x in enumerate(rates):\n",
    "    y[i] = neuron_class[np.argmax(x)]\n",
    "  return y\n",
    "\n",
    "test_prediction = predict(test_rates, neuron_class)\n",
    "\n",
    "print(test_prediction)\n",
    "print(y_test)\n",
    "acc = accuracy_score(y_test, test_prediction)\n",
    "cm = confusion_matrix(y_test, test_prediction)\n",
    "print(f\"Accuracy: {acc}\")\n",
    "cm_display = ConfusionMatrixDisplay(cm).plot()\n"
   ]
  },
  {
   "cell_type": "code",
   "execution_count": 14,
   "id": "-jf-NNtUiMlj",
   "metadata": {
    "colab": {
     "base_uri": "https://localhost:8080/",
     "height": 442
    },
    "executionInfo": {
     "elapsed": 25,
     "status": "ok",
     "timestamp": 1667299859605,
     "user": {
      "displayName": "Miky Miknich",
      "userId": "18242860223893070795"
     },
     "user_tz": -180
    },
    "id": "-jf-NNtUiMlj",
    "outputId": "eb67cd9f-59e9-4cf2-fa03-88fd2bfc87cb"
   },
   "outputs": [
    {
     "name": "stderr",
     "output_type": "stream",
     "text": [
      "WARNING    /usr/local/lib/python3.7/dist-packages/IPython/core/display.py:701: UserWarning: Consider using IPython.display.IFrame instead\n",
      "  warnings.warn(\"Consider using IPython.display.IFrame instead\")\n",
      " [py.warnings]\n",
      "WARNING:py.warnings:/usr/local/lib/python3.7/dist-packages/IPython/core/display.py:701: UserWarning: Consider using IPython.display.IFrame instead\n",
      "  warnings.warn(\"Consider using IPython.display.IFrame instead\")\n",
      "\n"
     ]
    },
    {
     "data": {
      "text/html": [
       "<iframe width=\"560\" height=\"315\" src=\"https://www.youtube.com/embed/4SCrZ6bEqAc?rel=0&amp;controls=0&amp;showinfo=0\" frameborder=\"0\" allowfullscreen></iframe>"
      ],
      "text/plain": [
       "<IPython.core.display.HTML object>"
      ]
     },
     "execution_count": 14,
     "metadata": {},
     "output_type": "execute_result"
    }
   ],
   "source": [
    "from IPython.display import HTML\n",
    "\n",
    "# Youtube\n",
    "HTML('<iframe width=\"560\" height=\"315\" src=\"https://www.youtube.com/embed/4SCrZ6bEqAc?rel=0&amp;controls=0&amp;showinfo=0\" frameborder=\"0\" allowfullscreen></iframe>')\n"
   ]
  },
  {
   "cell_type": "code",
   "execution_count": null,
   "id": "pXTafLKHiYSP",
   "metadata": {
    "executionInfo": {
     "elapsed": 4,
     "status": "aborted",
     "timestamp": 1667299542384,
     "user": {
      "displayName": "Miky Miknich",
      "userId": "18242860223893070795"
     },
     "user_tz": -180
    },
    "id": "pXTafLKHiYSP"
   },
   "outputs": [],
   "source": []
  }
 ],
 "metadata": {
  "colab": {
   "collapsed_sections": [],
   "provenance": [
    {
     "file_id": "1RGhZ0SXqKFo0HLBBsAr3XPzysdsKf59S",
     "timestamp": 1667299258682
    },
    {
     "file_id": "1yrC6fRLtuhyoADVkNsxdTUo9CO_2Gm22",
     "timestamp": 1666350980548
    },
    {
     "file_id": "1obHf8qGTZJ3b5R7T89-U-ROvOdd78LMQ",
     "timestamp": 1664549674819
    },
    {
     "file_id": "1mRK4Q6l7SdSe4ew-e0puV7PMjaFbQdHr",
     "timestamp": 1664543193856
    }
   ]
  },
  "kernelspec": {
   "display_name": "Python 3 (ipykernel)",
   "language": "python",
   "name": "python3"
  },
  "language_info": {
   "codemirror_mode": {
    "name": "ipython",
    "version": 3
   },
   "file_extension": ".py",
   "mimetype": "text/x-python",
   "name": "python",
   "nbconvert_exporter": "python",
   "pygments_lexer": "ipython3",
   "version": "3.9.13"
  }
 },
 "nbformat": 4,
 "nbformat_minor": 5
}
