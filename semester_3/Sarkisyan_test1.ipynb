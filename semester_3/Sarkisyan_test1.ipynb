{
 "cells": [
  {
   "cell_type": "code",
   "execution_count": 1,
   "metadata": {
    "colab": {
     "base_uri": "https://localhost:8080/",
     "height": 797
    },
    "id": "zP2fMo-dlJ0g",
    "outputId": "4997a213-280f-4f91-97ab-2c5dc5bbcf8e"
   },
   "outputs": [
    {
     "name": "stdout",
     "output_type": "stream",
     "text": [
      "Requirement already satisfied: brian2 in /Users/mac-julia/opt/anaconda3/lib/python3.9/site-packages (2.5.1)\n",
      "Requirement already satisfied: sympy>=1.2 in /Users/mac-julia/opt/anaconda3/lib/python3.9/site-packages (from brian2) (1.10.1)\n",
      "Requirement already satisfied: cython>=0.29 in /Users/mac-julia/opt/anaconda3/lib/python3.9/site-packages (from brian2) (0.29.32)\n",
      "Requirement already satisfied: setuptools>=24.2 in /Users/mac-julia/opt/anaconda3/lib/python3.9/site-packages (from brian2) (63.4.1)\n",
      "Requirement already satisfied: jinja2>=2.7 in /Users/mac-julia/opt/anaconda3/lib/python3.9/site-packages (from brian2) (2.11.3)\n",
      "Requirement already satisfied: pyparsing in /Users/mac-julia/opt/anaconda3/lib/python3.9/site-packages (from brian2) (3.0.9)\n",
      "Requirement already satisfied: numpy>=1.17 in /Users/mac-julia/opt/anaconda3/lib/python3.9/site-packages (from brian2) (1.23.4)\n",
      "Requirement already satisfied: MarkupSafe>=0.23 in /Users/mac-julia/opt/anaconda3/lib/python3.9/site-packages (from jinja2>=2.7->brian2) (2.0.1)\n",
      "Requirement already satisfied: mpmath>=0.19 in /Users/mac-julia/opt/anaconda3/lib/python3.9/site-packages (from sympy>=1.2->brian2) (1.2.1)\n",
      "Requirement already satisfied: numpy in /Users/mac-julia/opt/anaconda3/lib/python3.9/site-packages (1.23.4)\n",
      "Requirement already satisfied: matplotlib in /Users/mac-julia/opt/anaconda3/lib/python3.9/site-packages (3.6.1)\n",
      "Requirement already satisfied: pyparsing>=2.2.1 in /Users/mac-julia/opt/anaconda3/lib/python3.9/site-packages (from matplotlib) (3.0.9)\n",
      "Requirement already satisfied: packaging>=20.0 in /Users/mac-julia/opt/anaconda3/lib/python3.9/site-packages (from matplotlib) (21.3)\n",
      "Requirement already satisfied: pillow>=6.2.0 in /Users/mac-julia/opt/anaconda3/lib/python3.9/site-packages (from matplotlib) (9.2.0)\n",
      "Requirement already satisfied: fonttools>=4.22.0 in /Users/mac-julia/opt/anaconda3/lib/python3.9/site-packages (from matplotlib) (4.25.0)\n",
      "Requirement already satisfied: kiwisolver>=1.0.1 in /Users/mac-julia/opt/anaconda3/lib/python3.9/site-packages (from matplotlib) (1.4.2)\n",
      "Requirement already satisfied: python-dateutil>=2.7 in /Users/mac-julia/opt/anaconda3/lib/python3.9/site-packages (from matplotlib) (2.8.2)\n",
      "Requirement already satisfied: numpy>=1.19 in /Users/mac-julia/opt/anaconda3/lib/python3.9/site-packages (from matplotlib) (1.23.4)\n",
      "Requirement already satisfied: contourpy>=1.0.1 in /Users/mac-julia/opt/anaconda3/lib/python3.9/site-packages (from matplotlib) (1.0.5)\n",
      "Requirement already satisfied: cycler>=0.10 in /Users/mac-julia/opt/anaconda3/lib/python3.9/site-packages (from matplotlib) (0.11.0)\n",
      "Requirement already satisfied: six>=1.5 in /Users/mac-julia/opt/anaconda3/lib/python3.9/site-packages (from python-dateutil>=2.7->matplotlib) (1.16.0)\n"
     ]
    }
   ],
   "source": [
    "!pip install brian2\n",
    "!pip install --upgrade numpy\n",
    "!pip install --upgrade matplotlib"
   ]
  },
  {
   "cell_type": "code",
   "execution_count": 2,
   "metadata": {
    "id": "46ee7UoDlRL2"
   },
   "outputs": [],
   "source": [
    "import random\n",
    "import numpy as np\n",
    "import brian2 as b2\n",
    "from matplotlib import pyplot as plt\n",
    "%matplotlib inline"
   ]
  },
  {
   "cell_type": "markdown",
   "metadata": {
    "id": "51vDGzx5k8Pw"
   },
   "source": [
    "#Patterns generation"
   ]
  },
  {
   "cell_type": "code",
   "execution_count": 3,
   "metadata": {
    "colab": {
     "base_uri": "https://localhost:8080/",
     "height": 285
    },
    "id": "6rxTXk-UjJf6",
    "outputId": "3f47e191-4a7c-4a08-c350-0669af3ccb4c"
   },
   "outputs": [
    {
     "data": {
      "image/png": "[encoded data removed]",
      "text/plain": [
       "<Figure size 1000x500 with 2 Axes>"
      ]
     },
     "metadata": {},
     "output_type": "display_data"
    }
   ],
   "source": [
    "def draw_patterns(patterns):\n",
    "  fig, ax = plt.subplots(nrows = 1, ncols = len(patterns), figsize=(10,5))\n",
    "  for i,p in enumerate(patterns):\n",
    "    ax[i].imshow(patterns[i], cmap='Greys')\n",
    "    ax[i].tick_params(axis='both', labelbottom=False, labeltop=False, labelleft=False, labelright=False,\n",
    "                             bottom=False, top=False, left=False, right=False)\n",
    "\n",
    "plus = np.array([0, 1, 0,\n",
    "                 1, 1, 1,\n",
    "                 0, 1, 0]).reshape(3,3)\n",
    "cross = np.array([1, 0, 1,\n",
    "                  0, 1, 0,\n",
    "                  1, 0, 1]).reshape(3,3)\n",
    "patterns = [plus, cross]\n",
    "draw_patterns(patterns)"
   ]
  },
  {
   "cell_type": "markdown",
   "metadata": {
    "id": "7r5iskyWllll"
   },
   "source": [
    "Gaussian noise"
   ]
  },
  {
   "cell_type": "code",
   "execution_count": 4,
   "metadata": {
    "colab": {
     "base_uri": "https://localhost:8080/",
     "height": 207
    },
    "id": "Ivq4hQbflkof",
    "outputId": "871f440c-4d3c-4a44-871d-563a5e3dedaa"
   },
   "outputs": [
    {
     "data": {
      "image/png": "[encoded data removed]",
      "text/plain": [
       "<Figure size 640x480 with 10 Axes>"
      ]
     },
     "metadata": {},
     "output_type": "display_data"
    }
   ],
   "source": [
    "N_SAMPLE_CLASS = 20\n",
    "rng = np.random.default_rng()\n",
    "sample = []\n",
    "sigma = 0.2\n",
    "for _,p in enumerate(patterns):\n",
    "  for i in range(N_SAMPLE_CLASS):\n",
    "    sample += [np.clip(p + sigma*rng.standard_normal(p.shape),0,1)]\n",
    "fig,axes = plt.subplots(len(patterns),5)\n",
    "#plt.tick_params(axis='both', bottom=False, top=False, left=False, right=False)\n",
    "for ip in range(len(patterns)):\n",
    "  for ix in range(5):\n",
    "    axes[ip][ix].imshow(sample[ix+ip*N_SAMPLE_CLASS], cmap=\"Greys\")\n",
    "    axes[ip][ix].tick_params(axis='both', labelbottom=False, labeltop=False, labelleft=False, labelright=False,\n",
    "                             bottom=False, top=False, left=False, right=False)"
   ]
  },
  {
   "cell_type": "code",
   "execution_count": 5,
   "metadata": {
    "colab": {
     "base_uri": "https://localhost:8080/"
    },
    "id": "b5cY_1gSuEVK",
    "outputId": "f3b72a5d-e191-4017-e111-beb756770b5a"
   },
   "outputs": [
    {
     "data": {
      "text/plain": [
       "40"
      ]
     },
     "execution_count": 5,
     "metadata": {},
     "output_type": "execute_result"
    }
   ],
   "source": [
    "len(sample)"
   ]
  },
  {
   "cell_type": "markdown",
   "metadata": {
    "id": "yIwoS_IynRZ7"
   },
   "source": [
    "#Model"
   ]
  },
  {
   "cell_type": "code",
   "execution_count": 6,
   "metadata": {
    "id": "lTJaYfZ4nQqD"
   },
   "outputs": [],
   "source": [
    "num_input = patterns[0].size # input layer\n",
    "input_group = b2.PoissonGroup(num_input, rates=np.zeros(num_input)*b2.Hz)\n",
    "n_e = 100 # e - excitatory\n",
    "n_i = n_e # i - inhibitory\n",
    "\n",
    "v_rest_e = -60.*b2.mV # v - membrane potential\n",
    "v_reset_e = -65.*b2.mV\n",
    "v_thresh_e = -52.*b2.mV\n",
    "\n",
    "v_rest_i = -60.*b2.mV\n",
    "v_reset_i = -45.*b2.mV\n",
    "v_thresh_i = -40.*b2.mV\n",
    "\n",
    "taupre = 20*b2.ms\n",
    "taupost = taupre\n",
    "gmax = .05 #.01\n",
    "dApre = .01\n",
    "dApost = -dApre * taupre / taupost * 1.05\n",
    "dApost *= gmax \n",
    "dApre *= gmax "
   ]
  },
  {
   "cell_type": "code",
   "execution_count": 7,
   "metadata": {
    "id": "PB_oRs5mnikh"
   },
   "outputs": [],
   "source": [
    "# Apre and Apost - presynaptic and postsynaptic traces, lr - learning rate\n",
    "stdp='''w : 1\n",
    "    lr : 1 (shared)\n",
    "    dApre/dt = -Apre / taupre : 1 (event-driven)\n",
    "    dApost/dt = -Apost / taupost : 1 (event-driven)'''\n",
    "pre='''ge += w\n",
    "    Apre += dApre\n",
    "    w = clip(w + lr*Apost, 0, gmax)'''\n",
    "post='''Apost += dApost\n",
    "    w = clip(w + lr*Apre, 0, gmax)'''"
   ]
  },
  {
   "cell_type": "code",
   "execution_count": 8,
   "metadata": {
    "colab": {
     "base_uri": "https://localhost:8080/"
    },
    "id": "tfYpnK-vnmSZ",
    "outputId": "cb6e19a1-0e0b-4dcb-c8d8-ab1d8827af3b"
   },
   "outputs": [
    {
     "name": "stderr",
     "output_type": "stream",
     "text": [
      "WARNING    'i' is an internal variable of group 'S2', but also exists in the run namespace with the value 19. The internal variable will be used. [brian2.groups.group.Group.resolve.resolution_conflict]\n",
      "WARNING    'i' is an internal variable of group 'S3', but also exists in the run namespace with the value 19. The internal variable will be used. [brian2.groups.group.Group.resolve.resolution_conflict]\n"
     ]
    }
   ],
   "source": [
    "app = {}\n",
    "        \n",
    "\n",
    "app['PG'] = b2.PoissonGroup(num_input, rates=np.zeros(num_input)*b2.Hz, name='PG')\n",
    "\n",
    "# excitatory group\n",
    "neuron_e = '''\n",
    "    dv/dt = (ge*(0*mV-v) + gi*(-100*mV-v) + (v_rest_e-v)) / (100*ms) : volt\n",
    "    dge/dt = -ge / (5*ms) : 1\n",
    "    dgi/dt = -gi / (10*ms) : 1\n",
    "    '''\n",
    "app['EG'] = b2.NeuronGroup(n_e, neuron_e, threshold='v>v_thresh_e', refractory=5*b2.ms, reset='v=v_reset_e', method='euler', name='EG')\n",
    "app['EG'].v = v_rest_e - 20.*b2.mV\n",
    "\n",
    "# ibhibitory group\n",
    "neuron_i = '''\n",
    "    dv/dt = (ge*(0*mV-v) + (v_rest_i-v)) / (10*ms) : volt\n",
    "    dge/dt = -ge / (5*ms) : 1\n",
    "    '''\n",
    "app['IG'] = b2.NeuronGroup(n_i, neuron_i, threshold='v>v_thresh_i', refractory=2*b2.ms, reset='v=v_reset_i', method='euler', name='IG')\n",
    "app['IG'].v = v_rest_i - 20.*b2.mV\n",
    "\n",
    "# poisson generators one-to-all excitatory neurons with plastic connections \n",
    "app['S1'] = b2.Synapses(app['PG'], app['EG'], stdp, on_pre=pre, on_post=post, method='euler', name='S1')\n",
    "app['S1'].connect()\n",
    "app['S1'].w = 'rand()*gmax' # random weights initialisation\n",
    "app['S1'].lr = 1 # enable stdp        \n",
    "\n",
    "# excitatory neurons one-to-one inhibitory neurons\n",
    "app['S2'] = b2.Synapses(app['EG'], app['IG'], 'w : 1', on_pre='ge += w', name='S2')\n",
    "app['S2'].connect(j='i')\n",
    "app['S2'].delay = 'rand()*10*ms'\n",
    "app['S2'].w = 3 # very strong fixed weights to ensure corresponding inhibitory neuron will always fire\n",
    "\n",
    "# inhibitory neurons one-to-all-except-one excitatory neurons\n",
    "app['S3'] = b2.Synapses(app['IG'], app['EG'], 'w : 1', on_pre='gi += w', name='S3')\n",
    "app['S3'].connect(condition='i!=j')\n",
    "app['S3'].delay = 'rand()*5*ms'\n",
    "app['S3'].w = .03 # weights are selected in such a way as to maintain a balance between excitation and ibhibition\n",
    "\n",
    "net = b2.Network(app.values())\n",
    "net.run(0*b2.second)"
   ]
  },
  {
   "cell_type": "code",
   "execution_count": 9,
   "metadata": {
    "id": "7cOxSTn7pHo7"
   },
   "outputs": [],
   "source": [
    "def train(net, samples, epoch=1):        \n",
    "    net['S1'].lr = 1 # stdp on\n",
    "\n",
    "    for ep in range(epoch):\n",
    "      for idx in range(len(samples)):\n",
    "          # active mode\n",
    "          net['PG'].rates = samples[idx].flatten()*b2.Hz\n",
    "          net.run(0.35*b2.second)\n",
    "\n",
    "          # passive mode\n",
    "          net['PG'].rates = np.zeros(num_input)*b2.Hz\n",
    "          net.run(0.15*b2.second)"
   ]
  },
  {
   "cell_type": "markdown",
   "metadata": {
    "id": "RCEpMDARq9qK"
   },
   "source": [
    "##Обучение запустилось без ошибок"
   ]
  },
  {
   "cell_type": "code",
   "execution_count": 10,
   "metadata": {
    "id": "j5x9v71Hqlvf"
   },
   "outputs": [],
   "source": [
    "train(net, sample)"
   ]
  },
  {
   "cell_type": "markdown",
   "metadata": {
    "id": "vJhnYX8BrJuc"
   },
   "source": [
    "#Evaluation"
   ]
  },
  {
   "cell_type": "code",
   "execution_count": 11,
   "metadata": {
    "id": "vWDelitHrMJ4"
   },
   "outputs": [],
   "source": [
    "def evaluate(net, X):       \n",
    "    net['S1'].lr = 0  # stdp off\n",
    "\n",
    "    features = []\n",
    "    for idx in range(len(X)):\n",
    "        # rate monitor to count spikes\n",
    "        mon = b2.SpikeMonitor(net['EG'], name='RM')\n",
    "        net.add(mon)\n",
    "        \n",
    "        # active mode\n",
    "        net['PG'].rates = X[idx].ravel()*b2.Hz\n",
    "        net.run(0.35*b2.second)\n",
    "        \n",
    "        # spikes per neuron foreach image\n",
    "        features.append(np.array(mon.count, dtype=np.int8))\n",
    "        \n",
    "        # passive mode\n",
    "        net['PG'].rates = np.zeros(num_input)*b2.Hz\n",
    "        net.run(0.15*b2.second)\n",
    "        \n",
    "        net.remove(net['RM'])\n",
    "        \n",
    "    return features"
   ]
  },
  {
   "cell_type": "code",
   "execution_count": 12,
   "metadata": {
    "id": "ZnbAIXwWr-8o"
   },
   "outputs": [],
   "source": [
    "from sklearn.ensemble import RandomForestClassifier\n",
    "from sklearn.metrics import accuracy_score, confusion_matrix"
   ]
  },
  {
   "cell_type": "code",
   "execution_count": 13,
   "metadata": {
    "id": "q7ZB0gV1sBGR"
   },
   "outputs": [],
   "source": [
    "features = evaluate(net, sample)"
   ]
  },
  {
   "cell_type": "code",
   "execution_count": 14,
   "metadata": {
    "id": "HPSZQHBFtoPy"
   },
   "outputs": [],
   "source": [
    "labels = np.concatenate([np.zeros(20),np.ones(20)])"
   ]
  },
  {
   "cell_type": "markdown",
   "metadata": {
    "id": "Xnh3bbnLvtWW"
   },
   "source": [
    "## Metrics"
   ]
  },
  {
   "cell_type": "code",
   "execution_count": 15,
   "metadata": {
    "colab": {
     "base_uri": "https://localhost:8080/"
    },
    "id": "UTKrTI7OtZ4W",
    "outputId": "a0f288db-397c-4821-94eb-381426e21e3e"
   },
   "outputs": [
    {
     "name": "stdout",
     "output_type": "stream",
     "text": [
      "0.5\n"
     ]
    }
   ],
   "source": [
    "clf = RandomForestClassifier(max_depth=4, random_state=0)\n",
    "clf.fit(features, labels)\n",
    "print(clf.score(features, labels))"
   ]
  }
 ],
 "metadata": {
  "colab": {
   "collapsed_sections": [],
   "provenance": []
  },
  "kernelspec": {
   "display_name": "Python 3 (ipykernel)",
   "language": "python",
   "name": "python3"
  },
  "language_info": {
   "codemirror_mode": {
    "name": "ipython",
    "version": 3
   },
   "file_extension": ".py",
   "mimetype": "text/x-python",
   "name": "python",
   "nbconvert_exporter": "python",
   "pygments_lexer": "ipython3",
   "version": "3.9.13"
  }
 },
 "nbformat": 4,
 "nbformat_minor": 1
}
