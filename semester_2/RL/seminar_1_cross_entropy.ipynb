{
  "cells": [
    {
      "cell_type": "code",
      "source": [
        "try:\n",
        "    import colab\n",
        "    COLAB = True\n",
        "except ModuleNotFoundError:\n",
        "    COLAB = False\n",
        "    pass\n",
        "\n",
        "if COLAB:\n",
        "    !wget https://gist.githubusercontent.com/Tviskaron/4d35eabce2e057dd2ea49a00b00aaa41/raw/f1e25fc6ac6d8f11cb585559ce8b2ab9ffefd67b/colab_render.sh -O colab_render.sh -q\n",
        "    !sh colab_render.sh\n",
        "    !wget https://gist.githubusercontent.com/Tviskaron/d91decc1ca5f1b09af2f9f080011a925/raw/0d3474f65b4aea533996ee00edf99a37e4da5561/colab_render.py -O colab_render.py -q \n",
        "    import colab_render"
      ],
      "metadata": {
        "id": "lMEPmTa7MZqd"
      },
      "execution_count": null,
      "outputs": []
    },
    {
      "cell_type": "code",
      "source": [
        "import glob\n",
        "import io\n",
        "import base64\n",
        "from IPython import display as ipythondisplay\n",
        "from IPython.display import HTML\n",
        "from gym.envs.classic_control import rendering\n",
        "import matplotlib.pyplot as plt\n",
        "%matplotlib inline\n",
        "\n",
        "def show_video(folder=\"./video\"):\n",
        "    mp4list = glob.glob(folder + '/*.mp4')\n",
        "    if len(mp4list) > 0:\n",
        "        mp4 = sorted(mp4list, key=lambda x: x[-15:], reverse=True)[0]\n",
        "        video = io.open(mp4, 'r+b').read()\n",
        "        encoded = base64.b64encode(video)\n",
        "        ipythondisplay.display(HTML(data='''<video alt=\"test\" autoplay \n",
        "                loop controls style=\"height: 400px;\">\n",
        "                <source src=\"data:video/mp4;base64,{0}\" type=\"video/mp4\" />\n",
        "             </video>'''.format(encoded.decode('ascii'))))\n",
        "    else:\n",
        "        print(\"Could not find video\")"
      ],
      "metadata": {
        "id": "TiLrIDr7MagV"
      },
      "execution_count": null,
      "outputs": []
    },
    {
      "cell_type": "markdown",
      "metadata": {
        "id": "UM7vcYORuQJ1"
      },
      "source": [
        "## Crossentropy Method\n",
        "\n",
        "В этой пункте мы посмотрим на то, как решить задачи RL с помощью метода crossentropy.\n",
        "\n",
        "Рассмотрим пример с задачей Taxi [Dietterich, 2000](https://arxiv.org/pdf/cs/9905014.pdf). "
      ]
    },
    {
      "cell_type": "code",
      "execution_count": null,
      "metadata": {
        "id": "i5yU3RZuuQJ2",
        "colab": {
          "base_uri": "https://localhost:8080/"
        },
        "outputId": "e28eec9a-aeed-4fbe-cce7-6051e302b7ec"
      },
      "outputs": [
        {
          "output_type": "stream",
          "name": "stdout",
          "text": [
            "+---------+\n",
            "|\u001b[35mR\u001b[0m: | : :\u001b[34;1mG\u001b[0m|\n",
            "| : | : : |\n",
            "| :\u001b[43m \u001b[0m: : : |\n",
            "| | : | : |\n",
            "|Y| : |B: |\n",
            "+---------+\n",
            "\n"
          ]
        }
      ],
      "source": [
        "import numpy as np\n",
        "import matplotlib.pyplot as plt\n",
        "%matplotlib inline\n",
        "import gym\n",
        "\n",
        "env = gym.make(\"Taxi-v3\")\n",
        "env.reset()\n",
        "env.render()"
      ]
    },
    {
      "cell_type": "code",
      "execution_count": null,
      "metadata": {
        "id": "Xyi1DDjQuQJ8",
        "colab": {
          "base_uri": "https://localhost:8080/"
        },
        "outputId": "093be6af-e79a-4393-ff2e-2565b528d096"
      },
      "outputs": [
        {
          "output_type": "stream",
          "name": "stdout",
          "text": [
            "состояний: 500 действий: 6\n"
          ]
        }
      ],
      "source": [
        "n_states  = env.observation_space.n\n",
        "n_actions = env.action_space.n  \n",
        "\n",
        "print(f\"состояний: {n_states} действий: {n_actions}\")"
      ]
    },
    {
      "cell_type": "markdown",
      "metadata": {
        "id": "hR-L-rHquQKA"
      },
      "source": [
        "В этот раз нашей стратегией будет вероятностной распределение. \n",
        "\n",
        "$\\pi(s,a) = P(a|s)$\n",
        "\n",
        "Для задачи такси мы можем использовать таблицу: \n",
        "\n",
        "policy[s,a] = P(выбрать действие a | в состоянии s)\n",
        "\n",
        "Создадим \"равномерную\" стратегию в виде двумерного массива с \n",
        "равномерным распределением по действиям и сгенерируем игровую сессию с такой стратегией"
      ]
    },
    {
      "cell_type": "code",
      "execution_count": null,
      "metadata": {
        "id": "sVBlXo-huQKB"
      },
      "outputs": [],
      "source": [
        "def initialize_policy(n_states, n_actions):\n",
        "    ####### Здесь ваш код ########\n",
        "    policy = np.full((n_states, n_actions), 1. / n_actions)\n",
        "    ##############################\n",
        "    return policy\n",
        "\n",
        "policy = initialize_policy(n_states, n_actions)"
      ]
    },
    {
      "cell_type": "code",
      "execution_count": null,
      "metadata": {
        "id": "-xqVJHT4uQKE"
      },
      "outputs": [],
      "source": [
        "assert type(policy) in (np.ndarray, np.matrix)\n",
        "assert np.allclose(policy, 1./n_actions)\n",
        "assert np.allclose(np.sum(policy, axis=1), 1)"
      ]
    },
    {
      "cell_type": "markdown",
      "metadata": {
        "id": "iDx_ek7vuQKH"
      },
      "source": [
        "### Генерация сессий взаимодейтсвия со средой.\n",
        "\n",
        "Мы будем запоминать все состояния, действия и вознаграждения за эпизод."
      ]
    },
    {
      "cell_type": "code",
      "execution_count": null,
      "metadata": {
        "id": "QlsAeF7EuQKI"
      },
      "outputs": [],
      "source": [
        "def generate_session(env, policy, t_max=10**4):\n",
        "    \"\"\"\n",
        "    Игра идет до конца эпизода или до t_max шагов в окружении. \n",
        "    :param policy: [n_states,n_actions] \n",
        "    :returns: states - список состояний, actions - список действий, total_reward - итоговое вознаграждение\n",
        "    \"\"\"\n",
        "    states, actions = [], []\n",
        "    total_reward = 0.\n",
        "\n",
        "    s = env.reset()\n",
        "\n",
        "    for t in range(t_max):\n",
        "        # Подсказка: вы можете использовать np.random.choice для сэмплирования\n",
        "        # https://numpy.org/doc/stable/reference/random/generated/numpy.random.choice.html\n",
        "        # a = \n",
        "        ####### Здесь ваш код ########\n",
        "        a = np.random.choice(n_actions, p=policy[s])\n",
        "        ##############################\n",
        "        new_s, r, done, info = env.step(a)\n",
        "\n",
        "        # Записываем информацию, который мы получили от среды.\n",
        "        states.append(s)\n",
        "        actions.append(a)\n",
        "        total_reward += r\n",
        "\n",
        "        s = new_s\n",
        "        if done:\n",
        "            break\n",
        "\n",
        "    return states, actions, total_reward"
      ]
    },
    {
      "cell_type": "code",
      "execution_count": null,
      "metadata": {
        "id": "HM2-QI3UuQKL"
      },
      "outputs": [],
      "source": [
        "s, a, r = generate_session(env, policy)\n",
        "assert type(s) == type(a) == list\n",
        "assert len(s) == len(a)\n",
        "assert type(r) in [float, np.float]"
      ]
    },
    {
      "cell_type": "code",
      "execution_count": null,
      "metadata": {
        "id": "gWqyUSLJuQKP",
        "colab": {
          "base_uri": "https://localhost:8080/",
          "height": 282
        },
        "outputId": "481389ac-27c7-4f42-b83e-8b21a87f7a47"
      },
      "outputs": [
        {
          "output_type": "execute_result",
          "data": {
            "text/plain": [
              "<matplotlib.legend.Legend at 0x7f7704fa0850>"
            ]
          },
          "metadata": {},
          "execution_count": 9
        },
        {
          "output_type": "display_data",
          "data": {
            "image/png": "[encoded data removed]",
            "text/plain": [
              "<Figure size 432x288 with 1 Axes>"
            ]
          },
          "metadata": {
            "needs_background": "light"
          }
        }
      ],
      "source": [
        "# посмотрим на изначальное распределение вознаграждения\n",
        "import matplotlib.pyplot as plt\n",
        "%matplotlib inline\n",
        "\n",
        "sample_rewards = [generate_session(env, policy, t_max=1000)[-1] for _ in range(200)]\n",
        "\n",
        "plt.hist(sample_rewards, bins=20)\n",
        "plt.vlines([np.percentile(sample_rewards, 50)], [0], [100], label=\"50'th percentile\", color='green')\n",
        "plt.vlines([np.percentile(sample_rewards, 90)], [0], [100], label=\"90'th percentile\", color='red')\n",
        "plt.legend()"
      ]
    },
    {
      "cell_type": "markdown",
      "metadata": {
        "id": "hUDOpKxHuQKS"
      },
      "source": [
        "### Реализация метода crossentropy  \n",
        "\n",
        "Наша задача - выделить лучшие действия и состояния, т.е. такие, при которых было лучшее вознаграждение:"
      ]
    },
    {
      "cell_type": "code",
      "execution_count": null,
      "metadata": {
        "id": "FGIweAi5uQKT"
      },
      "outputs": [],
      "source": [
        "def select_elites(states_batch, actions_batch, \n",
        "                  rewards_batch, percentile=50):\n",
        "    \"\"\"\n",
        "    Выбирает состояния и действия с заданным перцентилем (rewards >= percentile)\n",
        "    :param states_batch: list of lists of states, states_batch[session_i][t]\n",
        "    :param actions_batch: list of lists of actions, actions_batch[session_i][t]\n",
        "    :param rewards_batch: list of rewards, rewards_batch[session_i]\n",
        "    \n",
        "    :returns: elite_states, elite_actions - одномерные \n",
        "    списки состояния и действия, выбранных сессий\n",
        "    \"\"\"\n",
        "    # нужно найти порог вознаграждения по процентилю\n",
        "    # reward_threshold =\n",
        "    ####### Здесь ваш код ########\n",
        "    reward_threshold = np.percentile(rewards_batch, percentile)\n",
        "    ##############################\n",
        "    \n",
        "    \n",
        "    # в соответствии с найденным порогом - заполнить списки \n",
        "    # elite_states и elite_actions, нужными состояниями и действиями\n",
        "    elite_states = []\n",
        "    elite_actions = []\n",
        "    ####### Здесь ваш код ########\n",
        "    for i in range(len(rewards_batch)):\n",
        "        if rewards_batch[i] >= reward_threshold:\n",
        "            elite_states += states_batch[i]\n",
        "            elite_actions += actions_batch[i]\n",
        "\n",
        "    ##############################\n",
        "    \n",
        "    return elite_states, elite_actions"
      ]
    },
    {
      "cell_type": "code",
      "execution_count": null,
      "metadata": {
        "id": "Q34NZBHHuQKW",
        "colab": {
          "base_uri": "https://localhost:8080/"
        },
        "outputId": "cb0922aa-57f3-4c28-b038-10973e069c2d"
      },
      "outputs": [
        {
          "output_type": "stream",
          "name": "stdout",
          "text": [
            "Тесты пройдены!\n"
          ]
        }
      ],
      "source": [
        "states_batch = [\n",
        "    [1, 2, 3],     # game1\n",
        "    [4, 2, 0, 2],  # game2\n",
        "    [3, 1],        # game3\n",
        "]\n",
        "\n",
        "actions_batch = [\n",
        "    [0, 2, 4],     # game1\n",
        "    [3, 2, 0, 1],  # game2\n",
        "    [3, 3],        # game3\n",
        "]\n",
        "rewards_batch = [\n",
        "    3,  # game1\n",
        "    4,  # game2\n",
        "    5,  # game3\n",
        "]\n",
        "\n",
        "test_result_0 = select_elites(states_batch, actions_batch, rewards_batch, percentile=0)\n",
        "test_result_30 = select_elites(states_batch, actions_batch, rewards_batch, percentile=30)\n",
        "test_result_90 = select_elites(states_batch, actions_batch, rewards_batch, percentile=90)\n",
        "test_result_100 = select_elites(states_batch, actions_batch, rewards_batch, percentile=100)\n",
        "\n",
        "assert np.all(\n",
        "    test_result_0[0] == [1, 2, 3, 4, 2, 0, 2, 3, 1]) \\\n",
        "       and np.all(\n",
        "    test_result_0[1] == [0, 2, 4, 3, 2, 0, 1, 3, 3]), \\\n",
        "    \"Для процентиля 0 необходимо выбрать все состояния \" \\\n",
        "    \"и действия в хронологическом порядке\"\n",
        "\n",
        "assert np.all(test_result_30[0] == [4, 2, 0, 2, 3, 1])\\\n",
        "   and np.all(test_result_30[1] == [3, 2, 0, 1, 3, 3]), \\\n",
        "    \"Для процентиля 30 необходимо выбрать \" \\\n",
        "    \"состояния/действия из [3:]\"\n",
        "assert np.all(test_result_90[0] == [3, 1]) and \\\n",
        "       np.all(test_result_90[1] == [3, 3]), \\\n",
        "    \"Для процентиля 90 необходимо выбрать состояния \" \\\n",
        "    \"действия одной игры\"\n",
        "assert np.all(test_result_100[0] == [3, 1]) and \\\n",
        "       np.all(test_result_100[1] == [3, 3]), \\\n",
        "    \"Проверьте использование знаков: >=,  >. \" \\\n",
        "    \"Также проверьте расчет процентиля\"\n",
        "print(\"Тесты пройдены!\")\n"
      ]
    },
    {
      "cell_type": "markdown",
      "metadata": {
        "id": "ZZzLzP7PuQKb"
      },
      "source": [
        "Теперь мы хотим написать обновляющуюся стратегию:"
      ]
    },
    {
      "cell_type": "code",
      "execution_count": null,
      "metadata": {
        "id": "PecfT_xEuQKc"
      },
      "outputs": [],
      "source": [
        "def update_policy(elite_states,elite_actions):\n",
        "    \"\"\"\n",
        "    Новой стратегией будет:\n",
        "    policy[s_i,a_i] ~ #[вхождения  si/ai в лучшие states/actions]\n",
        "    \n",
        "    Не забудьте про нормализацию состояний.\n",
        "    Если какое-то состояние не было посещено, \n",
        "    то используйте равномерное распределение 1./n_actions\n",
        "    \n",
        "    :param elite_states:  список состояний\n",
        "    :param elite_actions: список действий\n",
        "    \"\"\"\n",
        "    new_policy = np.zeros([n_states,n_actions])\n",
        "    \n",
        "    # обновляем стратегию - нормируем новые частоты\n",
        "    # действий и не забываем про непосещенные состояния     \n",
        "    ####### Здесь ваш код ########\n",
        "    for s, a in zip(elite_states, elite_actions):\n",
        "        new_policy[s, a] += 1\n",
        "    \n",
        "    for s in range(n_states):\n",
        "        norm = new_policy[s].sum()\n",
        "        if norm == 0:\n",
        "            new_policy[s] = 1. / n_actions\n",
        "        else:\n",
        "            new_policy[s] /= norm\n",
        "\n",
        "    ##############################\n",
        "    return new_policy"
      ]
    },
    {
      "cell_type": "code",
      "execution_count": null,
      "metadata": {
        "id": "DsCFXHMRuQKf",
        "colab": {
          "base_uri": "https://localhost:8080/"
        },
        "outputId": "27802f2b-94bb-49c3-b45f-1f576438bfbd"
      },
      "outputs": [
        {
          "output_type": "stream",
          "name": "stdout",
          "text": [
            "Тесты пройдены!\n"
          ]
        }
      ],
      "source": [
        "elite_states, elite_actions = (\n",
        "    [1, 2, 3, 4, 2, 0, 2, 3, 1],\n",
        "    [0, 2, 4, 3, 2, 0, 1, 3, 3])\n",
        "\n",
        "new_policy = update_policy(elite_states, elite_actions)\n",
        "\n",
        "assert np.isfinite(\n",
        "    new_policy).all(), \"Стратегия не должна содержать \" \\\n",
        "                       \"NaNs или +-inf. Проверьте \" \\\n",
        "                       \"деление на ноль. \"\n",
        "assert np.all(\n",
        "    new_policy >= 0), \"Стратегия не должна содержать \" \\\n",
        "                      \"отрицательных вероятностей \"\n",
        "assert np.allclose(new_policy.sum(axis=-1),\n",
        "                   1), \"Суммарная\\ вероятность действий\"\\\n",
        "                       \"для состояния должна равняться 1\"\n",
        "reference_answer = np.array([\n",
        "    [1., 0., 0., 0., 0.],\n",
        "    [0.5, 0., 0., 0.5, 0.],\n",
        "    [0., 0.33333333, 0.66666667, 0., 0.],\n",
        "    [0., 0., 0., 0.5, 0.5]])\n",
        "assert np.allclose(new_policy[:4, :5], reference_answer)\n",
        "print(\"Тесты пройдены!\")"
      ]
    },
    {
      "cell_type": "markdown",
      "metadata": {
        "id": "VYRLBwtvuQKi"
      },
      "source": [
        "### Цикл обучения\n",
        "\n",
        "Визуализириуем наш процесс обучения и также будем измерять распределение получаемых за сессию вознаграждений "
      ]
    },
    {
      "cell_type": "code",
      "execution_count": null,
      "metadata": {
        "id": "tmBnonZCuQKj"
      },
      "outputs": [],
      "source": [
        "from IPython.display import clear_output\n",
        "\n",
        "def show_progress(rewards_batch, log, percentile, reward_range=[-990, +10]):\n",
        "    \"\"\"\n",
        "    Удобная функция, для визуализации результатов.\n",
        "    \"\"\"\n",
        "\n",
        "    mean_reward = np.mean(rewards_batch)\n",
        "    threshold = np.percentile(rewards_batch, percentile)\n",
        "    log.append([mean_reward, threshold])\n",
        "    \n",
        "    plt.figure(figsize=[8, 4])\n",
        "    plt.subplot(1, 2, 1)\n",
        "    plt.plot(list(zip(*log))[0], label='Mean rewards')\n",
        "    plt.plot(list(zip(*log))[1], label='Reward thresholds')\n",
        "    plt.legend()\n",
        "    plt.grid()\n",
        "\n",
        "    plt.subplot(1, 2, 2)\n",
        "    plt.hist(rewards_batch, range=reward_range)\n",
        "    plt.vlines([np.percentile(rewards_batch, percentile)],\n",
        "               [0], [100], label=\"percentile\", color='red')\n",
        "    plt.legend()\n",
        "    plt.grid()\n",
        "    clear_output(True)\n",
        "    print(\"mean reward = %.3f, threshold=%.3f\" % (mean_reward, threshold))\n",
        "    plt.show()"
      ]
    },
    {
      "cell_type": "code",
      "execution_count": null,
      "metadata": {
        "id": "GXhGLvjPuQKm"
      },
      "outputs": [],
      "source": [
        "# инициализируем стратегию\n",
        "policy = initialize_policy(n_states, n_actions)"
      ]
    },
    {
      "cell_type": "code",
      "execution_count": null,
      "metadata": {
        "id": "vYncUOBfuQKo",
        "colab": {
          "base_uri": "https://localhost:8080/",
          "height": 282
        },
        "outputId": "1ad53f8d-a49a-41bb-c2ab-a6b5d4d70f0e"
      },
      "outputs": [
        {
          "output_type": "stream",
          "name": "stdout",
          "text": [
            "mean reward = -8.340, threshold=3.000\n"
          ]
        },
        {
          "output_type": "display_data",
          "data": {
            "image/png": "[encoded data removed]",
            "text/plain": [
              "<Figure size 576x288 with 2 Axes>"
            ]
          },
          "metadata": {
            "needs_background": "light"
          }
        }
      ],
      "source": [
        "n_sessions = 250  # количество сессий для сэмплирования\n",
        "percentile = 30  # перцентиль \n",
        "learning_rate = 0.5 # то как быстро стратегия будет обновляться \n",
        "\n",
        "log = []\n",
        "\n",
        "for i in range(100):\n",
        "    # генерируем n_sessions сессий\n",
        "    # sessions = []\n",
        "    ####### Здесь ваш код ########\n",
        "    sessions = [generate_session(env, policy) for _ in range(n_sessions)]\n",
        "    ##############################\n",
        "    \n",
        "    states_batch, actions_batch, rewards_batch = zip(*sessions)\n",
        "    # отбираем лучшие действия и состояния ###\n",
        "    # elite_states, elite_actions = \n",
        "    ####### Здесь ваш код ########\n",
        "    elite_states, elite_actions = select_elites(states_batch, actions_batch, rewards_batch, percentile)\n",
        "    ##############################\n",
        "    \n",
        "    # обновляем стратегию\n",
        "    # new_policy =\n",
        "    ####### Здесь ваш код ########\n",
        "    new_policy = update_policy(elite_states, elite_actions)\n",
        "    ##############################\n",
        "    \n",
        "    policy = learning_rate * new_policy + (1 - learning_rate) * policy\n",
        "\n",
        "    # выводим график с результатами\n",
        "    show_progress(rewards_batch, log, percentile)"
      ]
    },
    {
      "cell_type": "markdown",
      "metadata": {
        "id": "3xIsESNpuQKr"
      },
      "source": [
        "### Посмотрим на результаты\n",
        "Задача такси быстро сходится, начиная с вознаграждения -1000 к почти оптимальному значению, а потом опять падает до -50/-100. Это вызвано случайностью в самом окружении $-$ случайное начальное состояние пассажира и такси, в начале каждого эпизода. \n",
        "\n",
        "В случае если алгоритм CEM не сможет научиться тому, как решить задачу из какого-то стартового положения, он просто отбросит этот эпизод, т.к. не будет сессий, которые переведут этот эпизод в топ лучших. \n",
        "\n",
        "Для решения этой проблемы можно уменьшить threshold (порог лучших состояний) или изменить способ оценки стратегии, используя новую стратегию, полученную из каждого начального состояния и действия (теоретически правильный способ)."
      ]
    },
    {
      "cell_type": "markdown",
      "metadata": {
        "id": "_-nMGpEfuQKs"
      },
      "source": [
        "## Deep CEM. Закапываемся глубже.\n",
        "\n",
        "В данной части мы рассмотрим применение CEM вместе с нейронной сетью.\n",
        "Будем обучать многослойную нейронную сеть для решения простой задачи с непрерывным пространством действий.\n",
        "\n",
        "<img src=\"https://raw.githubusercontent.com/Tviskaron/mipt/master/2020/RL/figures/digging.svg\">"
      ]
    },
    {
      "cell_type": "markdown",
      "metadata": {
        "id": "sWFuA1hWuQKs"
      },
      "source": [
        "Будем тестировать нашего нового агента на известной задаче перевернутого маятника, с непрерывным пространством состояний.\n",
        "https://gym.openai.com/envs/CartPole-v0/"
      ]
    },
    {
      "cell_type": "code",
      "execution_count": null,
      "metadata": {
        "id": "-ZhZahUGuQKt",
        "colab": {
          "base_uri": "https://localhost:8080/"
        },
        "outputId": "25e67dac-276f-4f5f-ef67-1e7f828ef697"
      },
      "outputs": [
        {
          "output_type": "stream",
          "name": "stdout",
          "text": [
            "состояний: 4 действий: 2\n"
          ]
        }
      ],
      "source": [
        "env = gym.make(\"CartPole-v0\")\n",
        "\n",
        "env.reset()\n",
        "n_actions = env.action_space.n\n",
        "state_dim = env.observation_space.shape[0]\n",
        "                                        \n",
        "print(f\"состояний: {state_dim} действий: {n_actions}\")"
      ]
    },
    {
      "cell_type": "markdown",
      "metadata": {
        "id": "UgRpAtU-uQKw"
      },
      "source": [
        "### Стратегия с нейронной сетью\n",
        "\n",
        "Попробуем заменить метод обновления вероятностей на нейронную сеть. \n",
        "Будем пользоваться упрощенной реализацией нейронной сети из пакета Scikit-learn.\n",
        "Нам потребуется: \n",
        "* agent.partial_fit(states, actions) - делает один проход обучения по данным. Максимизирует вероятность :actions: из :states:\n",
        "* agent.predict_proba(states) - предсказыает вероятность каждого из действий, в виде матрицы размера [len(states), n_actions]"
      ]
    },
    {
      "cell_type": "code",
      "execution_count": null,
      "metadata": {
        "id": "5fOPMKcYuQKx",
        "colab": {
          "base_uri": "https://localhost:8080/"
        },
        "outputId": "1691c6ea-8bb0-4100-c7da-68d26aa078bc"
      },
      "outputs": [
        {
          "output_type": "execute_result",
          "data": {
            "text/plain": [
              "MLPClassifier(activation='tanh', hidden_layer_sizes=(20, 20))"
            ]
          },
          "metadata": {},
          "execution_count": 18
        }
      ],
      "source": [
        "from sklearn.neural_network import MLPClassifier\n",
        "\n",
        "agent = MLPClassifier(\n",
        "    hidden_layer_sizes=(20, 20),\n",
        "    activation='tanh',\n",
        ")\n",
        "\n",
        "# инициализируем агента под заданное пространство состояний и действий\n",
        "agent.partial_fit([env.reset()] * n_actions, range(n_actions), range(n_actions))"
      ]
    },
    {
      "cell_type": "code",
      "execution_count": null,
      "metadata": {
        "id": "R9W-5nV3uQK0"
      },
      "outputs": [],
      "source": [
        "def generate_session(env, agent, t_max=1000):\n",
        "    \n",
        "    states,actions = [],[]\n",
        "    total_reward = 0\n",
        "    \n",
        "    s = env.reset()\n",
        "    \n",
        "    for t in range(t_max):\n",
        "        # предсказываем вероятности действий по сети и \n",
        "        # выбираем одно действие\n",
        "        # probs = \n",
        "        # a = \n",
        "        ####### Здесь ваш код ########\n",
        "        probs = agent.predict_proba([s])[0] \n",
        "        a = np.random.choice(n_actions, p=probs)\n",
        "        ##############################\n",
        "        \n",
        "        new_s,r,done,info = env.step(a)\n",
        "        \n",
        "        states.append(s)\n",
        "        actions.append(a)\n",
        "        total_reward+=r\n",
        "        \n",
        "        s = new_s\n",
        "        if done: break\n",
        "    return states,actions,total_reward"
      ]
    },
    {
      "cell_type": "code",
      "execution_count": null,
      "metadata": {
        "id": "0pntOSnguQK2",
        "colab": {
          "base_uri": "https://localhost:8080/"
        },
        "outputId": "c46d6c44-9866-48ed-a16f-b4db28620187"
      },
      "outputs": [
        {
          "output_type": "stream",
          "name": "stdout",
          "text": [
            "состояния: [[ 2.06115247e-02  3.82195269e-02  1.20250615e-02 -4.10885677e-02]\n",
            " [ 2.13759153e-02 -1.57072779e-01  1.12032902e-02  2.55363994e-01]\n",
            " [ 1.82344597e-02 -3.52352882e-01  1.63105701e-02  5.51559465e-01]\n",
            " [ 1.11874020e-02 -5.47700066e-01  2.73417593e-02  8.49336360e-01]\n",
            " [ 2.33400725e-04 -7.43184012e-01  4.43284865e-02  1.15049016e+00]]\n",
            "действия: [0, 0, 0, 0, 0]\n",
            "вознаграждение: 5.0\n"
          ]
        }
      ],
      "source": [
        "dummy_states, dummy_actions, dummy_reward = generate_session(env, agent, t_max=5)\n",
        "print(\"состояния:\", np.stack(dummy_states))\n",
        "print(\"действия:\", dummy_actions)\n",
        "print(\"вознаграждение:\", dummy_reward)"
      ]
    },
    {
      "cell_type": "code",
      "execution_count": null,
      "metadata": {
        "id": "HVDwmDFAuQK4",
        "colab": {
          "base_uri": "https://localhost:8080/",
          "height": 300
        },
        "outputId": "7a208ea8-3842-448e-8d9e-06f0e72e5b4a"
      },
      "outputs": [
        {
          "output_type": "stream",
          "name": "stdout",
          "text": [
            "mean reward = 191.240, threshold=200.000\n"
          ]
        },
        {
          "output_type": "display_data",
          "data": {
            "image/png": "[encoded data removed]",
            "text/plain": [
              "<Figure size 576x288 with 2 Axes>"
            ]
          },
          "metadata": {
            "needs_background": "light"
          }
        },
        {
          "output_type": "stream",
          "name": "stdout",
          "text": [
            "Принято!\n"
          ]
        }
      ],
      "source": [
        "n_sessions = 200\n",
        "percentile = 50\n",
        "log = []\n",
        "\n",
        "for i in range(100):\n",
        "    sessions = [generate_session(env, agent) for _ in range(n_sessions)]\n",
        "    \n",
        "    states_batch, actions_batch, rewards_batch = map(np.array, zip(*sessions))\n",
        "    \n",
        "    elite_states, elite_actions = select_elites(states_batch,actions_batch,rewards_batch, percentile)\n",
        "    \n",
        "    # учим стратегию предсказывать в состояниях X=elite_states, \n",
        "    # действия y=elite_actions \n",
        "    ####### Здесь ваш код ########\n",
        "    agent.fit(elite_states, elite_actions)\n",
        "    ##############################\n",
        "    \n",
        "    show_progress(rewards_batch, log, percentile, reward_range=[0, np.max(rewards_batch)])\n",
        "\n",
        "    if np.mean(rewards_batch) > 190:\n",
        "        print(\"Принято!\")\n",
        "        break\n"
      ]
    },
    {
      "cell_type": "code",
      "execution_count": null,
      "metadata": {
        "id": "eSq22i7EMY1y"
      },
      "outputs": [],
      "source": [
        "env.close()"
      ]
    },
    {
      "cell_type": "code",
      "execution_count": null,
      "metadata": {
        "scrolled": true,
        "id": "yo60NfbPMY1y",
        "colab": {
          "base_uri": "https://localhost:8080/",
          "height": 421
        },
        "outputId": "16717db6-febd-4f0b-aa42-ec4f95db1d70"
      },
      "outputs": [
        {
          "output_type": "display_data",
          "data": {
            "text/html": [
              "<video alt=\"test\" autoplay \n",
              "                loop controls style=\"height: 400px;\">\n",
              "                <source src=\"data:video/mp4;base64,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\" type=\"video/mp4\" />\n",
              "             </video>"
            ],
            "text/plain": [
              "<IPython.core.display.HTML object>"
            ]
          },
          "metadata": {}
        }
      ],
      "source": [
        "env = gym.make(\"CartPole-v0\")\n",
        "env = gym.wrappers.Monitor(env, \"./video\", force=True)\n",
        "\n",
        "generate_session(env, agent)\n",
        "\n",
        "env.close()\n",
        "show_video()"
      ]
    }
  ],
  "metadata": {
    "colab": {
      "collapsed_sections": [],
      "name": "01.2-cross-entropy.ipynb",
      "provenance": []
    },
    "kernelspec": {
      "display_name": "Python 3 (ipykernel)",
      "language": "python",
      "name": "python3"
    },
    "language_info": {
      "codemirror_mode": {
        "name": "ipython",
        "version": 3
      },
      "file_extension": ".py",
      "mimetype": "text/x-python",
      "name": "python",
      "nbconvert_exporter": "python",
      "pygments_lexer": "ipython3",
      "version": "3.9.10"
    }
  },
  "nbformat": 4,
  "nbformat_minor": 0
}